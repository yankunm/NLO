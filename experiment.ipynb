{
 "cells": [
  {
   "cell_type": "code",
   "execution_count": 1,
   "id": "f1bfa0be",
   "metadata": {},
   "outputs": [],
   "source": [
    "import tidy3d as td"
   ]
  },
  {
   "cell_type": "code",
   "execution_count": 5,
   "id": "7ff4140c",
   "metadata": {},
   "outputs": [
    {
     "data": {
      "text/html": [
       "<pre style=\"white-space:pre;overflow-x:auto;line-height:normal;font-family:Menlo,'DejaVu Sans Mono',consolas,'Courier New',monospace\"><span style=\"color: #7fbfbf; text-decoration-color: #7fbfbf\">15:13:29 EDT </span>Authentication configured successfully!                            \n",
       "</pre>\n"
      ],
      "text/plain": [
       "\u001b[2;36m15:13:29 EDT\u001b[0m\u001b[2;36m \u001b[0mAuthentication configured successfully!                            \n"
      ]
     },
     "metadata": {},
     "output_type": "display_data"
    }
   ],
   "source": [
    "import tidy3d.web as web # if needed\n",
    "web.test()\n"
   ]
  },
  {
   "cell_type": "code",
   "execution_count": null,
   "id": "5bd305cf",
   "metadata": {},
   "outputs": [],
   "source": []
  }
 ],
 "metadata": {
  "kernelspec": {
   "display_name": "ai",
   "language": "python",
   "name": "python3"
  },
  "language_info": {
   "codemirror_mode": {
    "name": "ipython",
    "version": 3
   },
   "file_extension": ".py",
   "mimetype": "text/x-python",
   "name": "python",
   "nbconvert_exporter": "python",
   "pygments_lexer": "ipython3",
   "version": "3.10.18"
  }
 },
 "nbformat": 4,
 "nbformat_minor": 5
}
