{
 "cells": [
  {
   "cell_type": "markdown",
   "id": "74d16d6f",
   "metadata": {},
   "source": [
    "# Analysis of Mid-IR metalens based on silicon nanopillars"
   ]
  },
  {
   "cell_type": "markdown",
   "id": "843b3391",
   "metadata": {},
   "source": [
    "## Initialization"
   ]
  },
  {
   "cell_type": "code",
   "execution_count": 2,
   "id": "446ce1e7",
   "metadata": {},
   "outputs": [],
   "source": [
    "import matplotlib.pyplot as plt\n",
    "import numpy as np\n",
    "import tidy3d as td\n",
    "import tidy3d.web as web\n",
    "import scienceplots"
   ]
  },
  {
   "cell_type": "code",
   "execution_count": null,
   "id": "15f22806",
   "metadata": {},
   "outputs": [],
   "source": [
    "# 0 Define a FreqRange object with desired wavelengths\n",
    "lda0 = 10.6  # operation wavelength\n",
    "freq0 = td.C_0 / lda0  # operation frequency\n",
    "fwidth = # Define bandwidth\n",
    "fr = td.FreqRange(freq0=freq0, fwidth=freq0 / 10)"
   ]
  },
  {
   "cell_type": "markdown",
   "id": "c86a347a",
   "metadata": {},
   "source": [
    "- Note: Tidy3D currently don't support a single ``inf`` value in bounds for ``Box``. To construct a semi-infinite ``Box``, please supply a large enough number instead of ``inf``. For example, a location extending outside of the Simulation domain (including PML)"
   ]
  },
  {
   "cell_type": "code",
   "execution_count": 7,
   "id": "4590c297",
   "metadata": {},
   "outputs": [],
   "source": [
    "# 1 Computational Domain Size\n",
    "P = 6.2  # period of the unit cell\n",
    "h = 6.8  # height of the pillar\n",
    "Lz = h + 1.2 * lda0  # simulation domain size in z direction\n",
    "\n",
    "# 2 Grid Resolution\n",
    "min_steps_per_wvl = 12  # minimum steps per wavelength for the grid\n",
    "grid_spec = td.GridSpec.auto(\n",
    "    min_steps_per_wvl=min_steps_per_wvl, \n",
    "    wavelength=lda0\n",
    ")\n",
    "\n",
    "# 3 Structures\n",
    "n_si = 3.43  # refractive index of silicon\n",
    "si = td.Medium(permittivity=n_si**2)\n",
    "\n",
    "# define a function to create pillar given diameter\n",
    "def make_unit_cell(D):\n",
    "    pillar_geo = td.Cylinder(\n",
    "        center=(0, 0, h / 2), \n",
    "        radius=D / 2, \n",
    "        length=h\n",
    "    )\n",
    "    pillar = td.Structure(\n",
    "        geometry=pillar_geo, \n",
    "        medium=si\n",
    "    )\n",
    "\n",
    "    return pillar\n",
    "\n",
    "# Define substrate\n",
    "inf_eff = 1e5  # effective infinity\n",
    "substrate_geo = td.Box.from_bounds(\n",
    "    rmin=(-inf_eff, -inf_eff, -inf_eff), \n",
    "    rmax=(inf_eff, inf_eff, 0)\n",
    ")\n",
    "substrate = td.Structure(\n",
    "    geometry=substrate_geo, \n",
    "    medium=si\n",
    ")\n",
    "\n",
    "# 4 Sources\n",
    "plane_wave = td.PlaneWave(\n",
    "    source_time=fr.to_gaussian_pulse(),\n",
    "    size=(td.inf, td.inf, 0),\n",
    "    center=(0, 0, -0.1 * lda0),\n",
    "    direction=\"+\",\n",
    ")\n",
    "\n",
    "# 5 Monitors\n",
    "monitor_t = td.DiffractionMonitor(\n",
    "    center=[0, 0, h + 0.5 * lda0], \n",
    "    size=[td.inf, td.inf, 0], freqs=[freq0], \n",
    "    name=\"t\"\n",
    ")\n",
    "\n",
    "# 6 Run Time\n",
    "run_time = 5e-12\n",
    "\n",
    "# 7 Boundary Conditions\n",
    "boundary_spec = td.BoundarySpec(\n",
    "    x=td.Boundary.periodic(),\n",
    "    y=td.Boundary.periodic(),\n",
    "    z=td.Boundary(minus=td.PML(), plus=td.PML()),\n",
    ")"
   ]
  },
  {
   "cell_type": "markdown",
   "id": "e6e895a5",
   "metadata": {},
   "source": [
    "## Simulation"
   ]
  },
  {
   "cell_type": "code",
   "execution_count": 4,
   "id": "6d9d4d61",
   "metadata": {},
   "outputs": [],
   "source": [
    "# define a function to create unit cell simulation given pillar diameter\n",
    "def make_unit_cell_sim(D):\n",
    "    sim = td.Simulation(\n",
    "        center=(0, 0, h / 2),\n",
    "        size=(P, P, Lz),\n",
    "        grid_spec=td.GridSpec.auto(min_steps_per_wvl=min_steps_per_wvl, wavelength=lda0),\n",
    "        structures=[make_unit_cell(D), substrate],\n",
    "        sources=[plane_wave],\n",
    "        monitors=[monitor_t],\n",
    "        run_time=run_time,\n",
    "        boundary_spec=boundary_spec,  # pml is applied to z direction. x and y directions are periodic\n",
    "    )\n",
    "\n",
    "    return sim"
   ]
  },
  {
   "cell_type": "code",
   "execution_count": 12,
   "id": "2e25de0a",
   "metadata": {},
   "outputs": [
    {
     "data": {
      "image/png": "[encoded data removed]",
      "text/plain": [
       "<Figure size 640x480 with 1 Axes>"
      ]
     },
     "metadata": {},
     "output_type": "display_data"
    }
   ],
   "source": [
    "# create an example simulation and visualize the setup and grid\n",
    "sim = make_unit_cell_sim(2)\n",
    "ax = sim.plot(y=0) # plots the geometry\n",
    "sim.plot_grid(y=0, ax=ax) # plots the grid resolution\n",
    "ax.set_aspect(0.8)\n",
    "plt.show()\n"
   ]
  },
  {
   "cell_type": "code",
   "execution_count": 14,
   "id": "f49754bc",
   "metadata": {},
   "outputs": [
    {
     "name": "stdout",
     "output_type": "stream",
     "text": [
      "dict_keys(['D=1.500', 'D=1.611', 'D=1.721', 'D=1.832', 'D=1.942', 'D=2.053', 'D=2.163', 'D=2.274', 'D=2.384', 'D=2.495', 'D=2.605', 'D=2.716', 'D=2.826', 'D=2.937', 'D=3.047', 'D=3.158', 'D=3.268', 'D=3.379', 'D=3.489', 'D=3.600'])\n"
     ]
    }
   ],
   "source": [
    "# parameter sweep: D=[1.5, 3.6]\n",
    "D_list = np.linspace(1.5, 3.6, 20)  # values of pillar diameter to be simulated\n",
    "sims = {f\"D={D:.3f}\": make_unit_cell_sim(D) for D in D_list}  # construct simulation batch\n",
    "print(sims.keys())"
   ]
  },
  {
   "cell_type": "code",
   "execution_count": 15,
   "id": "d6b29b32",
   "metadata": {},
   "outputs": [
    {
     "data": {
      "application/vnd.jupyter.widget-view+json": {
       "model_id": "6bc36f79579d4967871d83970c7827ee",
       "version_major": 2,
       "version_minor": 0
      },
      "text/plain": [
       "Output()"
      ]
     },
     "metadata": {},
     "output_type": "display_data"
    },
    {
     "data": {
      "text/html": [
       "<pre style=\"white-space:pre;overflow-x:auto;line-height:normal;font-family:Menlo,'DejaVu Sans Mono',consolas,'Courier New',monospace\"></pre>\n"
      ],
      "text/plain": []
     },
     "metadata": {},
     "output_type": "display_data"
    },
    {
     "data": {
      "text/html": [
       "<pre style=\"white-space:pre;overflow-x:auto;line-height:normal;font-family:Menlo,'DejaVu Sans Mono',consolas,'Courier New',monospace\"><span style=\"color: #7fbfbf; text-decoration-color: #7fbfbf\">19:36:36 EDT </span>Started working on Batch containing <span style=\"color: #008080; text-decoration-color: #008080; font-weight: bold\">20</span> tasks.                      \n",
       "</pre>\n"
      ],
      "text/plain": [
       "\u001b[2;36m19:36:36 EDT\u001b[0m\u001b[2;36m \u001b[0mStarted working on Batch containing \u001b[1;36m20\u001b[0m tasks.                      \n"
      ]
     },
     "metadata": {},
     "output_type": "display_data"
    },
    {
     "data": {
      "text/html": [
       "<pre style=\"white-space:pre;overflow-x:auto;line-height:normal;font-family:Menlo,'DejaVu Sans Mono',consolas,'Courier New',monospace\"><span style=\"color: #7fbfbf; text-decoration-color: #7fbfbf\">19:36:52 EDT </span>Maximum FlexCredit cost: <span style=\"color: #008080; text-decoration-color: #008080; font-weight: bold\">0.500</span> for the whole batch.                \n",
       "</pre>\n"
      ],
      "text/plain": [
       "\u001b[2;36m19:36:52 EDT\u001b[0m\u001b[2;36m \u001b[0mMaximum FlexCredit cost: \u001b[1;36m0.500\u001b[0m for the whole batch.                \n"
      ]
     },
     "metadata": {},
     "output_type": "display_data"
    },
    {
     "data": {
      "text/html": [
       "<pre style=\"white-space:pre;overflow-x:auto;line-height:normal;font-family:Menlo,'DejaVu Sans Mono',consolas,'Courier New',monospace\"><span style=\"color: #7fbfbf; text-decoration-color: #7fbfbf\">             </span>Use <span style=\"color: #008000; text-decoration-color: #008000\">'Batch.real_cost()'</span> to get the billed FlexCredit cost after the\n",
       "<span style=\"color: #7fbfbf; text-decoration-color: #7fbfbf\">             </span>Batch has completed.                                               \n",
       "</pre>\n"
      ],
      "text/plain": [
       "\u001b[2;36m            \u001b[0m\u001b[2;36m \u001b[0mUse \u001b[32m'Batch.real_cost\u001b[0m\u001b[32m(\u001b[0m\u001b[32m)\u001b[0m\u001b[32m'\u001b[0m to get the billed FlexCredit cost after the\n",
       "\u001b[2;36m             \u001b[0mBatch has completed.                                               \n"
      ]
     },
     "metadata": {},
     "output_type": "display_data"
    },
    {
     "data": {
      "application/vnd.jupyter.widget-view+json": {
       "model_id": "7c61a7830d2244c89b17c9ee930f29d9",
       "version_major": 2,
       "version_minor": 0
      },
      "text/plain": [
       "Output()"
      ]
     },
     "metadata": {},
     "output_type": "display_data"
    },
    {
     "data": {
      "text/html": [
       "<pre style=\"white-space:pre;overflow-x:auto;line-height:normal;font-family:Menlo,'DejaVu Sans Mono',consolas,'Courier New',monospace\"><span style=\"color: #7fbfbf; text-decoration-color: #7fbfbf\">19:37:07 EDT </span>Batch complete.                                                    \n",
       "</pre>\n"
      ],
      "text/plain": [
       "\u001b[2;36m19:37:07 EDT\u001b[0m\u001b[2;36m \u001b[0mBatch complete.                                                    \n"
      ]
     },
     "metadata": {},
     "output_type": "display_data"
    },
    {
     "data": {
      "text/html": [
       "<pre style=\"white-space:pre;overflow-x:auto;line-height:normal;font-family:Menlo,'DejaVu Sans Mono',consolas,'Courier New',monospace\"></pre>\n"
      ],
      "text/plain": []
     },
     "metadata": {},
     "output_type": "display_data"
    },
    {
     "data": {
      "application/vnd.jupyter.widget-view+json": {
       "model_id": "d063ca5cb9514627aaf3dbc1691a590d",
       "version_major": 2,
       "version_minor": 0
      },
      "text/plain": [
       "Output()"
      ]
     },
     "metadata": {},
     "output_type": "display_data"
    },
    {
     "data": {
      "text/html": [
       "<pre style=\"white-space:pre;overflow-x:auto;line-height:normal;font-family:Menlo,'DejaVu Sans Mono',consolas,'Courier New',monospace\"></pre>\n"
      ],
      "text/plain": []
     },
     "metadata": {},
     "output_type": "display_data"
    }
   ],
   "source": [
    "# submit simulation batch to the server\n",
    "batch = web.Batch(simulations=sims, verbose=True)\n",
    "batch_results = batch.run(path_dir=\"data\")"
   ]
  },
  {
   "cell_type": "markdown",
   "id": "f633d7a3",
   "metadata": {},
   "source": [
    "## Postprocess"
   ]
  },
  {
   "cell_type": "code",
   "execution_count": 20,
   "id": "4af5dd43",
   "metadata": {},
   "outputs": [],
   "source": [
    "sim_data = batch_results[\"D=2.053\"]"
   ]
  },
  {
   "cell_type": "code",
   "execution_count": null,
   "id": "203cc1a2",
   "metadata": {},
   "outputs": [],
   "source": [
    "# extract the complex transmission coefficient\n",
    "t = np.zeros(len(D_list), dtype=\"complex\")\n",
    "for i, D in enumerate(D_list):\n",
    "    sim_data = batch_results[f\"D={D:.3f}\"] # go though each simulation result\n",
    "    t[i] = np.array(sim_data[\"t\"].amps.sel(f=freq0, polarization=\"p\"))[0][0] # extract complex transmission at freq0"
   ]
  },
  {
   "cell_type": "code",
   "execution_count": 39,
   "id": "3d50efd0",
   "metadata": {},
   "outputs": [
    {
     "data": {
      "image/png": "[encoded data removed]",
      "text/plain": [
       "<Figure size 1000x500 with 2 Axes>"
      ]
     },
     "metadata": {},
     "output_type": "display_data"
    }
   ],
   "source": [
    "# plot the transmission phase\n",
    "fig, (ax1, ax2) = plt.subplots(1, 2, figsize=(10, 5))\n",
    "theta = np.unwrap(np.angle(t))\n",
    "theta = theta - theta[0]\n",
    "ax1.plot(D_list, theta / (2 * np.pi), linewidth=3, c=\"blue\")\n",
    "ax1.set_xlim(np.min(D_list), np.max(D_list))\n",
    "ax1.set_ylim(-2, 1)\n",
    "ax1.set_xlabel(r\"D ($\\mu m$)\")\n",
    "ax1.set_ylabel(r\"Transmission phase ($2\\pi$)\")\n",
    "\n",
    "# plot the transmittance\n",
    "ax2.plot(D_list, np.abs(t), linewidth=3, c=\"red\")\n",
    "ax2.set_xlim(np.min(D_list), np.max(D_list))\n",
    "ax2.set_ylim(0, 1)\n",
    "ax2.set_xlabel(r\"D ($\\mu m$)\")\n",
    "ax2.set_ylabel(\"Transmittance\")\n",
    "plt.show()\n",
    "ax2.plot(D_list, np.abs(t), linewidth=3, c=\"red\")\n",
    "ax2.set_xlim(np.min(D_list), np.max(D_list))\n",
    "ax2.set_ylim(0, 1)\n",
    "ax2.set_xlabel(r\"D ($\\mu m$)\")\n",
    "ax2.set_ylabel(\"Transmittance\")\n",
    "plt.show()"
   ]
  },
  {
   "cell_type": "markdown",
   "id": "4a55415e",
   "metadata": {},
   "source": []
  }
 ],
 "metadata": {
  "kernelspec": {
   "display_name": "ai",
   "language": "python",
   "name": "python3"
  },
  "language_info": {
   "codemirror_mode": {
    "name": "ipython",
    "version": 3
   },
   "file_extension": ".py",
   "mimetype": "text/x-python",
   "name": "python",
   "nbconvert_exporter": "python",
   "pygments_lexer": "ipython3",
   "version": "3.11.13"
  }
 },
 "nbformat": 4,
 "nbformat_minor": 5
}
