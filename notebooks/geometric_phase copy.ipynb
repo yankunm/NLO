{
 "cells": [
  {
   "cell_type": "markdown",
   "id": "52002b39",
   "metadata": {},
   "source": [
    "[Paper Link](https://duke.box.com/s/owa6sdzf80y0u7xjp1qxia62md6z514q)"
   ]
  },
  {
   "cell_type": "code",
   "execution_count": 1,
   "id": "19425488",
   "metadata": {},
   "outputs": [],
   "source": [
    "# Import the necessary packages\n",
    "import matplotlib.pyplot as plt\n",
    "import numpy as np\n",
    "import tidy3d as td\n",
    "import tidy3d.web as web\n",
    "from tidy3d import material_library\n",
    "import scienceplots\n"
   ]
  },
  {
   "cell_type": "code",
   "execution_count": 2,
   "id": "a1d0ca84",
   "metadata": {},
   "outputs": [
    {
     "name": "stdout",
     "output_type": "stream",
     "text": [
      "190958357294709.5\n"
     ]
    }
   ],
   "source": [
    "# 0 Define a FreqRange object with desired wavelengths\n",
    "fr = td.FreqRange.from_wvl_interval(wvl_min=1.56, wvl_max=1.58)\n",
    "N = 301 # num_points\n",
    "fwidth = fr.fmax - fr.fmin\n",
    "freq0 = fr.freq0\n",
    "lda0 = td.C_0 / fr.freq0\n",
    "\n",
    "print(fr.freq0)"
   ]
  },
  {
   "cell_type": "code",
   "execution_count": 3,
   "id": "dfdd6445",
   "metadata": {},
   "outputs": [],
   "source": [
    "# 1 Computational Domain Size\n",
    "h = 0.210  # Height of cylinder\n",
    "spc = 8\n",
    "sh = 3  # height of the SiO2\n",
    "Lz = spc + h + spc + h\n",
    "\n",
    "Px = Py = P = 0.750 # periodicity\n",
    "sim_size = [Px, Py, Lz]"
   ]
  },
  {
   "cell_type": "code",
   "execution_count": 4,
   "id": "34c14ce2",
   "metadata": {},
   "outputs": [],
   "source": [
    "# 2 Grid Resolution\n",
    "dl = P / 32\n",
    "horizontal_grid = td.UniformGrid(dl=dl)\n",
    "vertical_grid = td.AutoGrid(min_steps_per_wvl=32)\n",
    "grid_spec=td.GridSpec(\n",
    "    grid_x=horizontal_grid,\n",
    "    grid_y=horizontal_grid,\n",
    "    grid_z=vertical_grid,\n",
    ")"
   ]
  },
  {
   "cell_type": "code",
   "execution_count": 10,
   "id": "c3867851",
   "metadata": {},
   "outputs": [],
   "source": [
    "# 3 Structures and Materials\n",
    "R = 0.235  # radius of the cylinder\n",
    "r = 0.030  # radius of the inner hole\n",
    "p = 0.080  # distance between hole to center of circle\n",
    "theta = np.deg2rad(0) # angle between x-axis and p vector\n",
    "\n",
    "Si = material_library['cSi']['Green2008']\n",
    "# Si = material_library['cSi']['Li1993_293K']\n",
    "SiO2 = material_library['SiO2']['Horiba']\n",
    "\n",
    "outer_cylinder = td.Cylinder(\n",
    "    center=[0, 0, h / 2], \n",
    "    radius=R, \n",
    "    length=h, \n",
    "    axis=2\n",
    ")\n",
    "\n",
    "inner_cylinder = td.Cylinder(\n",
    "    center=[p*np.cos(theta), -p*np.sin(theta), h / 2], \n",
    "    radius=r, \n",
    "    length=h, \n",
    "    axis=2\n",
    ")\n",
    "\n",
    "cylinder = td.ClipOperation(\n",
    "    operation=\"difference\",\n",
    "    geometry_a=outer_cylinder,\n",
    "    geometry_b=inner_cylinder\n",
    ")\n",
    "\n",
    "atom = td.Structure(\n",
    "    geometry=cylinder, \n",
    "    medium=Si,\n",
    "    name=\"metaatom\"\n",
    ")\n",
    "\n",
    "dioxide = td.Structure(\n",
    "    geometry=td.Box(\n",
    "        center=[0,0,-sh/2],\n",
    "        size=(td.inf,td.inf, sh)\n",
    "    ),\n",
    "    medium=SiO2, \n",
    "    name=\"silicon dioxide\"\n",
    ")\n",
    "\n",
    "substrate = td.Structure(\n",
    "    geometry=td.Box(\n",
    "        center=(0,0,-Lz/2),\n",
    "        size=(td.inf,td.inf,2 * (spc - (sh - h)))\n",
    "    ),\n",
    "    medium=Si,\n",
    "    name='substrate'\n",
    ")"
   ]
  },
  {
   "cell_type": "code",
   "execution_count": 11,
   "id": "d9da7a35",
   "metadata": {},
   "outputs": [],
   "source": [
    "plane_wave_y = td.PlaneWave(\n",
    "    source_time=td.GaussianPulse(freq0=fr.freq0, fwidth=fwidth),\n",
    "    size=(td.inf, td.inf, 0),\n",
    "    center=(0, 0, Lz/2 - spc + 1.5 * lda0),\n",
    "    direction=\"-\",\n",
    "    pol_angle=np.pi / 2,\n",
    ")"
   ]
  },
  {
   "cell_type": "code",
   "execution_count": 33,
   "id": "6c1331c9",
   "metadata": {},
   "outputs": [],
   "source": [
    "monitor = td.FluxMonitor(\n",
    "    center=(0, 0, -Lz/2 + spc - (sh - h) - 0.5 * lda0),\n",
    "    size=(td.inf, td.inf, 0),\n",
    "    freqs=fr.freqs(N),\n",
    "    name=\"flux_monitor\"\n",
    ")\n",
    "\n",
    "# add a field monitor to see the field profile at the absorption peak frequency\n",
    "monitor_field = td.FieldMonitor(\n",
    "    center=[0, 0, 0], size=[td.inf, 0, 2*lda0], freqs=[fr.freq0], name=\"field\"\n",
    ")\n"
   ]
  },
  {
   "cell_type": "code",
   "execution_count": 13,
   "id": "0a6d63c6",
   "metadata": {},
   "outputs": [],
   "source": [
    "bandwidth = fr.fmax - fr.fmin\n",
    "run_time = 50 / bandwidth # run_time for the transmittance simulation"
   ]
  },
  {
   "cell_type": "code",
   "execution_count": 14,
   "id": "d88b05be",
   "metadata": {},
   "outputs": [],
   "source": [
    "bc = td.BoundarySpec(\n",
    "    x=td.Boundary.periodic(), \n",
    "    y=td.Boundary.periodic(), \n",
    "    z=td.Boundary.pml()\n",
    ")"
   ]
  },
  {
   "cell_type": "code",
   "execution_count": 26,
   "id": "40629add",
   "metadata": {},
   "outputs": [
    {
     "data": {
      "text/html": [
       "<pre style=\"white-space:pre;overflow-x:auto;line-height:normal;font-family:Menlo,'DejaVu Sans Mono',consolas,'Courier New',monospace\"><span style=\"color: #7fbfbf; text-decoration-color: #7fbfbf\">13:20:31 EDT </span><span style=\"color: #800000; text-decoration-color: #800000\">WARNING: The medium associated with </span><span style=\"color: #008000; text-decoration-color: #008000\">'cSi_Green2008'</span><span style=\"color: #800000; text-decoration-color: #800000\">                </span>\n",
       "<span style=\"color: #7fbfbf; text-decoration-color: #7fbfbf\">             </span><span style=\"color: #800000; text-decoration-color: #800000; font-weight: bold\">(</span><span style=\"color: #800000; text-decoration-color: #800000\">simulation.mediums</span><span style=\"color: #800000; text-decoration-color: #800000; font-weight: bold\">[</span><span style=\"color: #008080; text-decoration-color: #008080; font-weight: bold\">1</span><span style=\"color: #800000; text-decoration-color: #800000; font-weight: bold\">])</span><span style=\"color: #800000; text-decoration-color: #800000\"> has a frequency range: </span><span style=\"color: #800000; text-decoration-color: #800000; font-weight: bold\">(</span><span style=\"color: #008080; text-decoration-color: #008080; font-weight: bold\">2.0675e14</span><span style=\"color: #800000; text-decoration-color: #800000\">,         </span>\n",
       "<span style=\"color: #7fbfbf; text-decoration-color: #7fbfbf\">             </span><span style=\"color: #008080; text-decoration-color: #008080; font-weight: bold\">11.9917e14</span><span style=\"color: #800000; text-decoration-color: #800000; font-weight: bold\">)</span><span style=\"color: #800000; text-decoration-color: #800000\"> </span><span style=\"color: #800000; text-decoration-color: #800000; font-weight: bold\">(</span><span style=\"color: #800000; text-decoration-color: #800000\">Hz</span><span style=\"color: #800000; text-decoration-color: #800000; font-weight: bold\">)</span><span style=\"color: #800000; text-decoration-color: #800000\"> that does not fully cover the frequencies         </span>\n",
       "<span style=\"color: #7fbfbf; text-decoration-color: #7fbfbf\">             </span><span style=\"color: #800000; text-decoration-color: #800000\">contained in </span><span style=\"color: #008000; text-decoration-color: #008000\">'diffraction_monitor'</span><span style=\"color: #800000; text-decoration-color: #800000\"> </span><span style=\"color: #800000; text-decoration-color: #800000; font-weight: bold\">(</span><span style=\"color: #800000; text-decoration-color: #800000\">simulation.monitors</span><span style=\"color: #800000; text-decoration-color: #800000; font-weight: bold\">[</span><span style=\"color: #008080; text-decoration-color: #008080; font-weight: bold\">0</span><span style=\"color: #800000; text-decoration-color: #800000; font-weight: bold\">])</span><span style=\"color: #800000; text-decoration-color: #800000\">.This   </span>\n",
       "<span style=\"color: #7fbfbf; text-decoration-color: #7fbfbf\">             </span><span style=\"color: #800000; text-decoration-color: #800000\">can cause inaccuracies in the recorded results.                    </span>\n",
       "</pre>\n"
      ],
      "text/plain": [
       "\u001b[2;36m13:20:31 EDT\u001b[0m\u001b[2;36m \u001b[0m\u001b[31mWARNING: The medium associated with \u001b[0m\u001b[32m'cSi_Green2008'\u001b[0m\u001b[31m                \u001b[0m\n",
       "\u001b[2;36m             \u001b[0m\u001b[1;31m(\u001b[0m\u001b[31msimulation.mediums\u001b[0m\u001b[1;31m[\u001b[0m\u001b[1;36m1\u001b[0m\u001b[1;31m]\u001b[0m\u001b[1;31m)\u001b[0m\u001b[31m has a frequency range: \u001b[0m\u001b[1;31m(\u001b[0m\u001b[1;36m2.0675e14\u001b[0m\u001b[31m,         \u001b[0m\n",
       "\u001b[2;36m             \u001b[0m\u001b[1;36m11.9917e14\u001b[0m\u001b[1;31m)\u001b[0m\u001b[31m \u001b[0m\u001b[1;31m(\u001b[0m\u001b[31mHz\u001b[0m\u001b[1;31m)\u001b[0m\u001b[31m that does not fully cover the frequencies         \u001b[0m\n",
       "\u001b[2;36m             \u001b[0m\u001b[31mcontained in \u001b[0m\u001b[32m'diffraction_monitor'\u001b[0m\u001b[31m \u001b[0m\u001b[1;31m(\u001b[0m\u001b[31msimulation.monitors\u001b[0m\u001b[1;31m[\u001b[0m\u001b[1;36m0\u001b[0m\u001b[1;31m]\u001b[0m\u001b[1;31m)\u001b[0m\u001b[31m.This   \u001b[0m\n",
       "\u001b[2;36m             \u001b[0m\u001b[31mcan cause inaccuracies in the recorded results.                    \u001b[0m\n"
      ]
     },
     "metadata": {},
     "output_type": "display_data"
    },
    {
     "data": {
      "text/html": [
       "<pre style=\"white-space:pre;overflow-x:auto;line-height:normal;font-family:Menlo,'DejaVu Sans Mono',consolas,'Courier New',monospace\"><span style=\"color: #7fbfbf; text-decoration-color: #7fbfbf\">             </span><span style=\"color: #800000; text-decoration-color: #800000\">WARNING: Suppressed </span><span style=\"color: #008080; text-decoration-color: #008080; font-weight: bold\">1</span><span style=\"color: #800000; text-decoration-color: #800000\"> WARNING message.                             </span>\n",
       "</pre>\n"
      ],
      "text/plain": [
       "\u001b[2;36m            \u001b[0m\u001b[2;36m \u001b[0m\u001b[31mWARNING: Suppressed \u001b[0m\u001b[1;36m1\u001b[0m\u001b[31m WARNING message.                             \u001b[0m\n"
      ]
     },
     "metadata": {},
     "output_type": "display_data"
    },
    {
     "data": {
      "text/html": [
       "<pre style=\"white-space:pre;overflow-x:auto;line-height:normal;font-family:Menlo,'DejaVu Sans Mono',consolas,'Courier New',monospace\"><span style=\"color: #7fbfbf; text-decoration-color: #7fbfbf\">             </span><span style=\"color: #800000; text-decoration-color: #800000\">WARNING: frequency passed to </span><span style=\"color: #008000; text-decoration-color: #008000\">'Medium.eps_model()'</span><span style=\"color: #800000; text-decoration-color: #800000\">is outside of     </span>\n",
       "<span style=\"color: #7fbfbf; text-decoration-color: #7fbfbf\">             </span><span style=\"color: #008000; text-decoration-color: #008000\">'Medium.frequency_range'</span><span style=\"color: #800000; text-decoration-color: #800000\"> = </span><span style=\"color: #800000; text-decoration-color: #800000; font-weight: bold\">(</span><span style=\"color: #008080; text-decoration-color: #008080; font-weight: bold\">206753419710997.8</span><span style=\"color: #800000; text-decoration-color: #800000\">, </span><span style=\"color: #008080; text-decoration-color: #008080; font-weight: bold\">1199169834323787.2</span><span style=\"color: #800000; text-decoration-color: #800000; font-weight: bold\">)</span><span style=\"color: #800000; text-decoration-color: #800000\"> </span>\n",
       "</pre>\n"
      ],
      "text/plain": [
       "\u001b[2;36m            \u001b[0m\u001b[2;36m \u001b[0m\u001b[31mWARNING: frequency passed to \u001b[0m\u001b[32m'Medium.eps_model\u001b[0m\u001b[32m(\u001b[0m\u001b[32m)\u001b[0m\u001b[32m'\u001b[0m\u001b[31mis outside of     \u001b[0m\n",
       "\u001b[2;36m             \u001b[0m\u001b[32m'Medium.frequency_range'\u001b[0m\u001b[31m = \u001b[0m\u001b[1;31m(\u001b[0m\u001b[1;36m206753419710997.8\u001b[0m\u001b[31m, \u001b[0m\u001b[1;36m1199169834323787.2\u001b[0m\u001b[1;31m)\u001b[0m\u001b[31m \u001b[0m\n"
      ]
     },
     "metadata": {},
     "output_type": "display_data"
    },
    {
     "data": {
      "text/html": [
       "<pre style=\"white-space:pre;overflow-x:auto;line-height:normal;font-family:Menlo,'DejaVu Sans Mono',consolas,'Courier New',monospace\"><span style=\"color: #7fbfbf; text-decoration-color: #7fbfbf\">13:20:32 EDT </span><span style=\"color: #800000; text-decoration-color: #800000; font-weight: bold\">ERROR: </span><span style=\"color: #008000; text-decoration-color: #008000\">'DiffractionMonitor'</span><span style=\"color: #800000; text-decoration-color: #800000; font-weight: bold\"> must not lie in a lossy medium.        </span>\n",
       "</pre>\n"
      ],
      "text/plain": [
       "\u001b[2;36m13:20:32 EDT\u001b[0m\u001b[2;36m \u001b[0m\u001b[1;31mERROR: \u001b[0m\u001b[32m'DiffractionMonitor'\u001b[0m\u001b[1;31m must not lie in a lossy medium.        \u001b[0m\n"
      ]
     },
     "metadata": {},
     "output_type": "display_data"
    },
    {
     "data": {
      "text/html": [
       "<pre style=\"white-space:pre;overflow-x:auto;line-height:normal;font-family:Menlo,'DejaVu Sans Mono',consolas,'Courier New',monospace\"><span style=\"color: #7fbfbf; text-decoration-color: #7fbfbf\">             </span><span style=\"color: #800000; text-decoration-color: #800000\">WARNING: frequency passed to </span><span style=\"color: #008000; text-decoration-color: #008000\">'Medium.eps_model()'</span><span style=\"color: #800000; text-decoration-color: #800000\">is outside of     </span>\n",
       "<span style=\"color: #7fbfbf; text-decoration-color: #7fbfbf\">             </span><span style=\"color: #008000; text-decoration-color: #008000\">'Medium.frequency_range'</span><span style=\"color: #800000; text-decoration-color: #800000\"> = </span><span style=\"color: #800000; text-decoration-color: #800000; font-weight: bold\">(</span><span style=\"color: #008080; text-decoration-color: #008080; font-weight: bold\">206753419710997.8</span><span style=\"color: #800000; text-decoration-color: #800000\">, </span><span style=\"color: #008080; text-decoration-color: #008080; font-weight: bold\">1199169834323787.2</span><span style=\"color: #800000; text-decoration-color: #800000; font-weight: bold\">)</span><span style=\"color: #800000; text-decoration-color: #800000\"> </span>\n",
       "</pre>\n"
      ],
      "text/plain": [
       "\u001b[2;36m            \u001b[0m\u001b[2;36m \u001b[0m\u001b[31mWARNING: frequency passed to \u001b[0m\u001b[32m'Medium.eps_model\u001b[0m\u001b[32m(\u001b[0m\u001b[32m)\u001b[0m\u001b[32m'\u001b[0m\u001b[31mis outside of     \u001b[0m\n",
       "\u001b[2;36m             \u001b[0m\u001b[32m'Medium.frequency_range'\u001b[0m\u001b[31m = \u001b[0m\u001b[1;31m(\u001b[0m\u001b[1;36m206753419710997.8\u001b[0m\u001b[31m, \u001b[0m\u001b[1;36m1199169834323787.2\u001b[0m\u001b[1;31m)\u001b[0m\u001b[31m \u001b[0m\n"
      ]
     },
     "metadata": {},
     "output_type": "display_data"
    },
    {
     "data": {
      "text/html": [
       "<pre style=\"white-space:pre;overflow-x:auto;line-height:normal;font-family:Menlo,'DejaVu Sans Mono',consolas,'Courier New',monospace\"><span style=\"color: #7fbfbf; text-decoration-color: #7fbfbf\">             </span><span style=\"color: #800000; text-decoration-color: #800000\">WARNING: Could not execute validator </span><span style=\"color: #008000; text-decoration-color: #008000\">'check_fixed_angle_components'</span>\n",
       "<span style=\"color: #7fbfbf; text-decoration-color: #7fbfbf\">             </span><span style=\"color: #800000; text-decoration-color: #800000\">because field </span><span style=\"color: #008000; text-decoration-color: #008000\">'monitors'</span><span style=\"color: #800000; text-decoration-color: #800000\"> failed validation.                        </span>\n",
       "</pre>\n"
      ],
      "text/plain": [
       "\u001b[2;36m            \u001b[0m\u001b[2;36m \u001b[0m\u001b[31mWARNING: Could not execute validator \u001b[0m\u001b[32m'check_fixed_angle_components'\u001b[0m\n",
       "\u001b[2;36m             \u001b[0m\u001b[31mbecause field \u001b[0m\u001b[32m'monitors'\u001b[0m\u001b[31m failed validation.                        \u001b[0m\n"
      ]
     },
     "metadata": {},
     "output_type": "display_data"
    },
    {
     "ename": "ValidationError",
     "evalue": "1 validation error for Simulation\nmonitors\n  'DiffractionMonitor' must not lie in a lossy medium. (type=value_error.setup)",
     "output_type": "error",
     "traceback": [
      "\u001b[31m---------------------------------------------------------------------------\u001b[39m",
      "\u001b[31mValidationError\u001b[39m                           Traceback (most recent call last)",
      "\u001b[36mCell\u001b[39m\u001b[36m \u001b[39m\u001b[32mIn[26]\u001b[39m\u001b[32m, line 1\u001b[39m\n\u001b[32m----> \u001b[39m\u001b[32m1\u001b[39m sim_empty = \u001b[43mtd\u001b[49m\u001b[43m.\u001b[49m\u001b[43mSimulation\u001b[49m\u001b[43m(\u001b[49m\n\u001b[32m      2\u001b[39m \u001b[43m    \u001b[49m\u001b[43msize\u001b[49m\u001b[43m=\u001b[49m\u001b[43msim_size\u001b[49m\u001b[43m,\u001b[49m\n\u001b[32m      3\u001b[39m \u001b[43m    \u001b[49m\u001b[43mgrid_spec\u001b[49m\u001b[43m=\u001b[49m\u001b[43mgrid_spec\u001b[49m\u001b[43m,\u001b[49m\n\u001b[32m      4\u001b[39m \u001b[43m    \u001b[49m\u001b[43mstructures\u001b[49m\u001b[43m=\u001b[49m\u001b[43m[\u001b[49m\u001b[43msubstrate\u001b[49m\u001b[43m,\u001b[49m\u001b[43m \u001b[49m\u001b[43mdioxide\u001b[49m\u001b[43m]\u001b[49m\u001b[43m,\u001b[49m\n\u001b[32m      5\u001b[39m \u001b[43m    \u001b[49m\u001b[43msources\u001b[49m\u001b[43m=\u001b[49m\u001b[43m[\u001b[49m\u001b[43mplane_wave_y\u001b[49m\u001b[43m]\u001b[49m\u001b[43m,\u001b[49m\n\u001b[32m      6\u001b[39m \u001b[43m    \u001b[49m\u001b[43mmonitors\u001b[49m\u001b[43m=\u001b[49m\u001b[43m[\u001b[49m\u001b[43mmonitor\u001b[49m\u001b[43m,\u001b[49m\u001b[43m \u001b[49m\u001b[43mmonitor_field\u001b[49m\u001b[43m]\u001b[49m\u001b[43m,\u001b[49m\n\u001b[32m      7\u001b[39m \u001b[43m    \u001b[49m\u001b[43mrun_time\u001b[49m\u001b[43m=\u001b[49m\u001b[43mrun_time\u001b[49m\u001b[43m,\u001b[49m\n\u001b[32m      8\u001b[39m \u001b[43m    \u001b[49m\u001b[43mboundary_spec\u001b[49m\u001b[43m=\u001b[49m\u001b[43mbc\u001b[49m\n\u001b[32m      9\u001b[39m \u001b[43m)\u001b[49m\n\u001b[32m     11\u001b[39m sim_actual = td.Simulation(\n\u001b[32m     12\u001b[39m     size=sim_size,\n\u001b[32m     13\u001b[39m     grid_spec=grid_spec,\n\u001b[32m   (...)\u001b[39m\u001b[32m     18\u001b[39m     boundary_spec=bc\n\u001b[32m     19\u001b[39m )\n",
      "\u001b[36mFile \u001b[39m\u001b[32m~/.local/lib/python3.11/site-packages/tidy3d/components/base.py:147\u001b[39m, in \u001b[36mTidy3dBaseModel.__init__\u001b[39m\u001b[34m(self, **kwargs)\u001b[39m\n\u001b[32m    145\u001b[39m \u001b[38;5;250m\u001b[39m\u001b[33;03m\"\"\"Init method, includes post-init validators.\"\"\"\u001b[39;00m\n\u001b[32m    146\u001b[39m log.begin_capture()\n\u001b[32m--> \u001b[39m\u001b[32m147\u001b[39m \u001b[38;5;28;43msuper\u001b[39;49m\u001b[43m(\u001b[49m\u001b[43m)\u001b[49m\u001b[43m.\u001b[49m\u001b[34;43m__init__\u001b[39;49m\u001b[43m(\u001b[49m\u001b[43m*\u001b[49m\u001b[43m*\u001b[49m\u001b[43mkwargs\u001b[49m\u001b[43m)\u001b[49m\n\u001b[32m    148\u001b[39m \u001b[38;5;28mself\u001b[39m._post_init_validators()\n\u001b[32m    149\u001b[39m log.end_capture(\u001b[38;5;28mself\u001b[39m)\n",
      "\u001b[36mFile \u001b[39m\u001b[32m~/miniconda3/envs/ai/lib/python3.11/site-packages/pydantic/v1/main.py:347\u001b[39m, in \u001b[36mBaseModel.__init__\u001b[39m\u001b[34m(__pydantic_self__, **data)\u001b[39m\n\u001b[32m    345\u001b[39m values, fields_set, validation_error = validate_model(__pydantic_self__.\u001b[34m__class__\u001b[39m, data)\n\u001b[32m    346\u001b[39m \u001b[38;5;28;01mif\u001b[39;00m validation_error:\n\u001b[32m--> \u001b[39m\u001b[32m347\u001b[39m     \u001b[38;5;28;01mraise\u001b[39;00m validation_error\n\u001b[32m    348\u001b[39m \u001b[38;5;28;01mtry\u001b[39;00m:\n\u001b[32m    349\u001b[39m     object_setattr(__pydantic_self__, \u001b[33m'\u001b[39m\u001b[33m__dict__\u001b[39m\u001b[33m'\u001b[39m, values)\n",
      "\u001b[31mValidationError\u001b[39m: 1 validation error for Simulation\nmonitors\n  'DiffractionMonitor' must not lie in a lossy medium. (type=value_error.setup)"
     ]
    }
   ],
   "source": [
    "sim_empty = td.Simulation(\n",
    "    size=sim_size,\n",
    "    grid_spec=grid_spec,\n",
    "    structures=[substrate, dioxide],\n",
    "    sources=[plane_wave_y],\n",
    "    monitors=[monitor, monitor_field],\n",
    "    run_time=run_time,\n",
    "    boundary_spec=bc\n",
    ")\n",
    "\n",
    "sim_actual = td.Simulation(\n",
    "    size=sim_size,\n",
    "    grid_spec=grid_spec,\n",
    "    structures=[substrate, dioxide, atom],\n",
    "    sources=[plane_wave_y],\n",
    "    monitors=[monitor, monitor_field],\n",
    "    run_time=run_time,\n",
    "    boundary_spec=bc\n",
    ")"
   ]
  },
  {
   "cell_type": "code",
   "execution_count": 19,
   "id": "79d4773c",
   "metadata": {},
   "outputs": [],
   "source": [
    "sims = {\n",
    "    \"actual\": sim_actual,\n",
    "    \"norm\": sim_empty\n",
    "}"
   ]
  },
  {
   "cell_type": "code",
   "execution_count": 21,
   "id": "24e33c89",
   "metadata": {},
   "outputs": [
    {
     "data": {
      "text/html": [
       "\n",
       "    <div class=\"simulation-viewer\" data-width=\"800\" data-height=\"800\" data-simulation=\"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\" ></div>\n",
       "    <script>\n",
       "        \n",
       "        /**\n",
       "        * Simulation Viewer Injector\n",
       "        *\n",
       "        * Monitors the document for elements being added in the form:\n",
       "        *\n",
       "        *    <div class=\"simulation-viewer\" data-width=\"800\" data-height=\"800\" data-simulation=\"{...}\" />\n",
       "        *\n",
       "        * This script will then inject an iframe to the viewer application, and pass it the simulation data\n",
       "        * via the postMessage API on request. The script may be safely included multiple times, with only the\n",
       "        * configuration of the first started script (e.g. viewer URL) applying.\n",
       "        *\n",
       "        */\n",
       "        (function() {\n",
       "            const TARGET_CLASS = \"simulation-viewer\";\n",
       "            const ACTIVE_CLASS = \"simulation-viewer-active\";\n",
       "            const VIEWER_URL = \"https://tidy3d.simulation.cloud/simulation-viewer\";\n",
       "\n",
       "            class SimulationViewerInjector {\n",
       "                constructor() {\n",
       "                    for (var node of document.getElementsByClassName(TARGET_CLASS)) {\n",
       "                        this.injectViewer(node);\n",
       "                    }\n",
       "\n",
       "                    // Monitor for newly added nodes to the DOM\n",
       "                    this.observer = new MutationObserver(this.onMutations.bind(this));\n",
       "                    this.observer.observe(document.body, {childList: true, subtree: true});\n",
       "                }\n",
       "\n",
       "                onMutations(mutations) {\n",
       "                    for (var mutation of mutations) {\n",
       "                        if (mutation.type === 'childList') {\n",
       "                            /**\n",
       "                            * Have found that adding the element does not reliably trigger the mutation observer.\n",
       "                            * It may be the case that setting content with innerHTML does not trigger.\n",
       "                            *\n",
       "                            * It seems to be sufficient to re-scan the document for un-activated viewers\n",
       "                            * whenever an event occurs, as Jupyter triggers multiple events on cell evaluation.\n",
       "                            */\n",
       "                            var viewers = document.getElementsByClassName(TARGET_CLASS);\n",
       "                            for (var node of viewers) {\n",
       "                                this.injectViewer(node);\n",
       "                            }\n",
       "                        }\n",
       "                    }\n",
       "                }\n",
       "\n",
       "                injectViewer(node) {\n",
       "                    // (re-)check that this is a valid simulation container and has not already been injected\n",
       "                    if (node.classList.contains(TARGET_CLASS) && !node.classList.contains(ACTIVE_CLASS)) {\n",
       "                        // Mark node as injected, to prevent re-runs\n",
       "                        node.classList.add(ACTIVE_CLASS);\n",
       "\n",
       "                        var uuid;\n",
       "                        if (window.crypto && window.crypto.randomUUID) {\n",
       "                            uuid = window.crypto.randomUUID();\n",
       "                        } else {\n",
       "                            uuid = \"\" + Math.random();\n",
       "                        }\n",
       "\n",
       "                        var frame = document.createElement(\"iframe\");\n",
       "                        frame.width = node.dataset.width || 800;\n",
       "                        frame.height = node.dataset.height || 800;\n",
       "                        frame.style.cssText = `width:${frame.width}px;height:${frame.height}px;max-width:none;border:0;display:block`\n",
       "                        frame.src = VIEWER_URL + \"?uuid=\" + uuid;\n",
       "\n",
       "                        var postMessageToViewer;\n",
       "                        postMessageToViewer = event => {\n",
       "                            if(event.data.type === 'viewer' && event.data.uuid===uuid){\n",
       "                                frame.contentWindow.postMessage({ type: 'jupyter', uuid, value: node.dataset.simulation, fileType: 'hdf5'}, '*');\n",
       "\n",
       "                                // Run once only\n",
       "                                window.removeEventListener('message', postMessageToViewer);\n",
       "                            }\n",
       "                        };\n",
       "                        window.addEventListener(\n",
       "                            'message',\n",
       "                            postMessageToViewer,\n",
       "                            false\n",
       "                        );\n",
       "\n",
       "                        node.appendChild(frame);\n",
       "                    }\n",
       "                }\n",
       "            }\n",
       "\n",
       "            if (!window.simulationViewerInjector) {\n",
       "                window.simulationViewerInjector = new SimulationViewerInjector();\n",
       "            }\n",
       "        })();\n",
       "    \n",
       "    </script>\n",
       "    "
      ],
      "text/plain": [
       "<IPython.core.display.HTML object>"
      ]
     },
     "metadata": {},
     "output_type": "display_data"
    }
   ],
   "source": [
    "sims[\"actual\"].plot_3d()"
   ]
  },
  {
   "cell_type": "code",
   "execution_count": 34,
   "id": "dc6fef35",
   "metadata": {},
   "outputs": [
    {
     "data": {
      "image/png": "[encoded data removed]",
      "text/plain": [
       "<Figure size 1200x600 with 3 Axes>"
      ]
     },
     "metadata": {},
     "output_type": "display_data"
    }
   ],
   "source": [
    "# Always visualize simulation before running\n",
    "fig, (ax1,ax2,ax3) = plt.subplots(1, 3, figsize=(12, 6))\n",
    "ax1.tick_params(axis='x', labelsize=7)\n",
    "ax2.tick_params(axis='x', labelsize=7)\n",
    "sims[\"actual\"].plot(x=0, ax=ax1)\n",
    "# sim_actal.plot_grid(x=0, ax=ax1)\n",
    "sims[\"actual\"].plot(y=0, ax=ax2)\n",
    "# sim_actual.plot_grid(y=0, ax=ax2)\n",
    "sims[\"actual\"].plot(z=0, ax=ax3)\n",
    "# sim_actual.plot_grid(z=0, ax=ax3)\n",
    "plt.savefig(f'geom_structure.png', dpi=300)\n",
    "plt.show()"
   ]
  },
  {
   "cell_type": "code",
   "execution_count": 22,
   "id": "93cf9347",
   "metadata": {},
   "outputs": [
    {
     "data": {
      "application/vnd.jupyter.widget-view+json": {
       "model_id": "309019cdd742430392241eb24b5d16e8",
       "version_major": 2,
       "version_minor": 0
      },
      "text/plain": [
       "Output()"
      ]
     },
     "metadata": {},
     "output_type": "display_data"
    },
    {
     "data": {
      "text/html": [
       "<pre style=\"white-space:pre;overflow-x:auto;line-height:normal;font-family:Menlo,'DejaVu Sans Mono',consolas,'Courier New',monospace\"></pre>\n"
      ],
      "text/plain": []
     },
     "metadata": {},
     "output_type": "display_data"
    },
    {
     "data": {
      "text/html": [
       "<pre style=\"white-space:pre;overflow-x:auto;line-height:normal;font-family:Menlo,'DejaVu Sans Mono',consolas,'Courier New',monospace\"><span style=\"color: #7fbfbf; text-decoration-color: #7fbfbf\">13:17:31 EDT </span><span style=\"color: #800000; text-decoration-color: #800000\">WARNING: The medium associated with </span><span style=\"color: #008000; text-decoration-color: #008000\">'cSi_Green2008'</span><span style=\"color: #800000; text-decoration-color: #800000\">                </span>\n",
       "<span style=\"color: #7fbfbf; text-decoration-color: #7fbfbf\">             </span><span style=\"color: #800000; text-decoration-color: #800000; font-weight: bold\">(</span><span style=\"color: #800000; text-decoration-color: #800000\">simulation.mediums</span><span style=\"color: #800000; text-decoration-color: #800000; font-weight: bold\">[</span><span style=\"color: #008080; text-decoration-color: #008080; font-weight: bold\">1</span><span style=\"color: #800000; text-decoration-color: #800000; font-weight: bold\">])</span><span style=\"color: #800000; text-decoration-color: #800000\"> has a frequency range: </span><span style=\"color: #800000; text-decoration-color: #800000; font-weight: bold\">(</span><span style=\"color: #008080; text-decoration-color: #008080; font-weight: bold\">2.0675e14</span><span style=\"color: #800000; text-decoration-color: #800000\">,         </span>\n",
       "<span style=\"color: #7fbfbf; text-decoration-color: #7fbfbf\">             </span><span style=\"color: #008080; text-decoration-color: #008080; font-weight: bold\">11.9917e14</span><span style=\"color: #800000; text-decoration-color: #800000; font-weight: bold\">)</span><span style=\"color: #800000; text-decoration-color: #800000\"> </span><span style=\"color: #800000; text-decoration-color: #800000; font-weight: bold\">(</span><span style=\"color: #800000; text-decoration-color: #800000\">Hz</span><span style=\"color: #800000; text-decoration-color: #800000; font-weight: bold\">)</span><span style=\"color: #800000; text-decoration-color: #800000\"> that does not fully cover the frequencies         </span>\n",
       "<span style=\"color: #7fbfbf; text-decoration-color: #7fbfbf\">             </span><span style=\"color: #800000; text-decoration-color: #800000\">contained in </span><span style=\"color: #008000; text-decoration-color: #008000\">'flux_monitor'</span><span style=\"color: #800000; text-decoration-color: #800000\"> </span><span style=\"color: #800000; text-decoration-color: #800000; font-weight: bold\">(</span><span style=\"color: #800000; text-decoration-color: #800000\">simulation.monitors</span><span style=\"color: #800000; text-decoration-color: #800000; font-weight: bold\">[</span><span style=\"color: #008080; text-decoration-color: #008080; font-weight: bold\">0</span><span style=\"color: #800000; text-decoration-color: #800000; font-weight: bold\">])</span><span style=\"color: #800000; text-decoration-color: #800000\">.This can cause</span>\n",
       "<span style=\"color: #7fbfbf; text-decoration-color: #7fbfbf\">             </span><span style=\"color: #800000; text-decoration-color: #800000\">inaccuracies in the recorded results.                              </span>\n",
       "</pre>\n"
      ],
      "text/plain": [
       "\u001b[2;36m13:17:31 EDT\u001b[0m\u001b[2;36m \u001b[0m\u001b[31mWARNING: The medium associated with \u001b[0m\u001b[32m'cSi_Green2008'\u001b[0m\u001b[31m                \u001b[0m\n",
       "\u001b[2;36m             \u001b[0m\u001b[1;31m(\u001b[0m\u001b[31msimulation.mediums\u001b[0m\u001b[1;31m[\u001b[0m\u001b[1;36m1\u001b[0m\u001b[1;31m]\u001b[0m\u001b[1;31m)\u001b[0m\u001b[31m has a frequency range: \u001b[0m\u001b[1;31m(\u001b[0m\u001b[1;36m2.0675e14\u001b[0m\u001b[31m,         \u001b[0m\n",
       "\u001b[2;36m             \u001b[0m\u001b[1;36m11.9917e14\u001b[0m\u001b[1;31m)\u001b[0m\u001b[31m \u001b[0m\u001b[1;31m(\u001b[0m\u001b[31mHz\u001b[0m\u001b[1;31m)\u001b[0m\u001b[31m that does not fully cover the frequencies         \u001b[0m\n",
       "\u001b[2;36m             \u001b[0m\u001b[31mcontained in \u001b[0m\u001b[32m'flux_monitor'\u001b[0m\u001b[31m \u001b[0m\u001b[1;31m(\u001b[0m\u001b[31msimulation.monitors\u001b[0m\u001b[1;31m[\u001b[0m\u001b[1;36m0\u001b[0m\u001b[1;31m]\u001b[0m\u001b[1;31m)\u001b[0m\u001b[31m.This can cause\u001b[0m\n",
       "\u001b[2;36m             \u001b[0m\u001b[31minaccuracies in the recorded results.                              \u001b[0m\n"
      ]
     },
     "metadata": {},
     "output_type": "display_data"
    },
    {
     "data": {
      "text/html": [
       "<pre style=\"white-space:pre;overflow-x:auto;line-height:normal;font-family:Menlo,'DejaVu Sans Mono',consolas,'Courier New',monospace\"><span style=\"color: #7fbfbf; text-decoration-color: #7fbfbf\">             </span><span style=\"color: #800000; text-decoration-color: #800000\">WARNING: Suppressed </span><span style=\"color: #008080; text-decoration-color: #008080; font-weight: bold\">3</span><span style=\"color: #800000; text-decoration-color: #800000\"> WARNING messages.                            </span>\n",
       "</pre>\n"
      ],
      "text/plain": [
       "\u001b[2;36m            \u001b[0m\u001b[2;36m \u001b[0m\u001b[31mWARNING: Suppressed \u001b[0m\u001b[1;36m3\u001b[0m\u001b[31m WARNING messages.                            \u001b[0m\n"
      ]
     },
     "metadata": {},
     "output_type": "display_data"
    },
    {
     "data": {
      "text/html": [
       "<pre style=\"white-space:pre;overflow-x:auto;line-height:normal;font-family:Menlo,'DejaVu Sans Mono',consolas,'Courier New',monospace\"><span style=\"color: #7fbfbf; text-decoration-color: #7fbfbf\">             </span><span style=\"color: #800000; text-decoration-color: #800000\">WARNING: frequency passed to </span><span style=\"color: #008000; text-decoration-color: #008000\">'Medium.eps_model()'</span><span style=\"color: #800000; text-decoration-color: #800000\">is outside of     </span>\n",
       "<span style=\"color: #7fbfbf; text-decoration-color: #7fbfbf\">             </span><span style=\"color: #008000; text-decoration-color: #008000\">'Medium.frequency_range'</span><span style=\"color: #800000; text-decoration-color: #800000\"> = </span><span style=\"color: #800000; text-decoration-color: #800000; font-weight: bold\">(</span><span style=\"color: #008080; text-decoration-color: #008080; font-weight: bold\">206753419710997.8</span><span style=\"color: #800000; text-decoration-color: #800000\">, </span><span style=\"color: #008080; text-decoration-color: #008080; font-weight: bold\">1199169834323787.2</span><span style=\"color: #800000; text-decoration-color: #800000; font-weight: bold\">)</span><span style=\"color: #800000; text-decoration-color: #800000\"> </span>\n",
       "</pre>\n"
      ],
      "text/plain": [
       "\u001b[2;36m            \u001b[0m\u001b[2;36m \u001b[0m\u001b[31mWARNING: frequency passed to \u001b[0m\u001b[32m'Medium.eps_model\u001b[0m\u001b[32m(\u001b[0m\u001b[32m)\u001b[0m\u001b[32m'\u001b[0m\u001b[31mis outside of     \u001b[0m\n",
       "\u001b[2;36m             \u001b[0m\u001b[32m'Medium.frequency_range'\u001b[0m\u001b[31m = \u001b[0m\u001b[1;31m(\u001b[0m\u001b[1;36m206753419710997.8\u001b[0m\u001b[31m, \u001b[0m\u001b[1;36m1199169834323787.2\u001b[0m\u001b[1;31m)\u001b[0m\u001b[31m \u001b[0m\n"
      ]
     },
     "metadata": {},
     "output_type": "display_data"
    },
    {
     "data": {
      "text/html": [
       "<pre style=\"white-space:pre;overflow-x:auto;line-height:normal;font-family:Menlo,'DejaVu Sans Mono',consolas,'Courier New',monospace\"><span style=\"color: #7fbfbf; text-decoration-color: #7fbfbf\">             </span><span style=\"color: #800000; text-decoration-color: #800000\">WARNING: Suppressed </span><span style=\"color: #008080; text-decoration-color: #008080; font-weight: bold\">1</span><span style=\"color: #800000; text-decoration-color: #800000\"> WARNING message.                             </span>\n",
       "</pre>\n"
      ],
      "text/plain": [
       "\u001b[2;36m            \u001b[0m\u001b[2;36m \u001b[0m\u001b[31mWARNING: Suppressed \u001b[0m\u001b[1;36m1\u001b[0m\u001b[31m WARNING message.                             \u001b[0m\n"
      ]
     },
     "metadata": {},
     "output_type": "display_data"
    },
    {
     "data": {
      "text/html": [
       "<pre style=\"white-space:pre;overflow-x:auto;line-height:normal;font-family:Menlo,'DejaVu Sans Mono',consolas,'Courier New',monospace\"><span style=\"color: #7fbfbf; text-decoration-color: #7fbfbf\">             </span><span style=\"color: #800000; text-decoration-color: #800000\">WARNING: frequency passed to </span><span style=\"color: #008000; text-decoration-color: #008000\">'Medium.eps_model()'</span><span style=\"color: #800000; text-decoration-color: #800000\">is outside of     </span>\n",
       "<span style=\"color: #7fbfbf; text-decoration-color: #7fbfbf\">             </span><span style=\"color: #008000; text-decoration-color: #008000\">'Medium.frequency_range'</span><span style=\"color: #800000; text-decoration-color: #800000\"> = </span><span style=\"color: #800000; text-decoration-color: #800000; font-weight: bold\">(</span><span style=\"color: #008080; text-decoration-color: #008080; font-weight: bold\">206753419710997.8</span><span style=\"color: #800000; text-decoration-color: #800000\">, </span><span style=\"color: #008080; text-decoration-color: #008080; font-weight: bold\">1199169834323787.2</span><span style=\"color: #800000; text-decoration-color: #800000; font-weight: bold\">)</span><span style=\"color: #800000; text-decoration-color: #800000\"> </span>\n",
       "</pre>\n"
      ],
      "text/plain": [
       "\u001b[2;36m            \u001b[0m\u001b[2;36m \u001b[0m\u001b[31mWARNING: frequency passed to \u001b[0m\u001b[32m'Medium.eps_model\u001b[0m\u001b[32m(\u001b[0m\u001b[32m)\u001b[0m\u001b[32m'\u001b[0m\u001b[31mis outside of     \u001b[0m\n",
       "\u001b[2;36m             \u001b[0m\u001b[32m'Medium.frequency_range'\u001b[0m\u001b[31m = \u001b[0m\u001b[1;31m(\u001b[0m\u001b[1;36m206753419710997.8\u001b[0m\u001b[31m, \u001b[0m\u001b[1;36m1199169834323787.2\u001b[0m\u001b[1;31m)\u001b[0m\u001b[31m \u001b[0m\n"
      ]
     },
     "metadata": {},
     "output_type": "display_data"
    },
    {
     "data": {
      "text/html": [
       "<pre style=\"white-space:pre;overflow-x:auto;line-height:normal;font-family:Menlo,'DejaVu Sans Mono',consolas,'Courier New',monospace\"><span style=\"color: #7fbfbf; text-decoration-color: #7fbfbf\">             </span><span style=\"color: #800000; text-decoration-color: #800000\">WARNING: frequency passed to </span><span style=\"color: #008000; text-decoration-color: #008000\">'Medium.eps_model()'</span><span style=\"color: #800000; text-decoration-color: #800000\">is outside of     </span>\n",
       "<span style=\"color: #7fbfbf; text-decoration-color: #7fbfbf\">             </span><span style=\"color: #008000; text-decoration-color: #008000\">'Medium.frequency_range'</span><span style=\"color: #800000; text-decoration-color: #800000\"> = </span><span style=\"color: #800000; text-decoration-color: #800000; font-weight: bold\">(</span><span style=\"color: #008080; text-decoration-color: #008080; font-weight: bold\">206753419710997.8</span><span style=\"color: #800000; text-decoration-color: #800000\">, </span><span style=\"color: #008080; text-decoration-color: #008080; font-weight: bold\">1199169834323787.2</span><span style=\"color: #800000; text-decoration-color: #800000; font-weight: bold\">)</span><span style=\"color: #800000; text-decoration-color: #800000\"> </span>\n",
       "</pre>\n"
      ],
      "text/plain": [
       "\u001b[2;36m            \u001b[0m\u001b[2;36m \u001b[0m\u001b[31mWARNING: frequency passed to \u001b[0m\u001b[32m'Medium.eps_model\u001b[0m\u001b[32m(\u001b[0m\u001b[32m)\u001b[0m\u001b[32m'\u001b[0m\u001b[31mis outside of     \u001b[0m\n",
       "\u001b[2;36m             \u001b[0m\u001b[32m'Medium.frequency_range'\u001b[0m\u001b[31m = \u001b[0m\u001b[1;31m(\u001b[0m\u001b[1;36m206753419710997.8\u001b[0m\u001b[31m, \u001b[0m\u001b[1;36m1199169834323787.2\u001b[0m\u001b[1;31m)\u001b[0m\u001b[31m \u001b[0m\n"
      ]
     },
     "metadata": {},
     "output_type": "display_data"
    },
    {
     "data": {
      "text/html": [
       "<pre style=\"white-space:pre;overflow-x:auto;line-height:normal;font-family:Menlo,'DejaVu Sans Mono',consolas,'Courier New',monospace\"><span style=\"color: #7fbfbf; text-decoration-color: #7fbfbf\">             </span><span style=\"color: #800000; text-decoration-color: #800000\">WARNING: frequency passed to </span><span style=\"color: #008000; text-decoration-color: #008000\">'Medium.eps_model()'</span><span style=\"color: #800000; text-decoration-color: #800000\">is outside of     </span>\n",
       "<span style=\"color: #7fbfbf; text-decoration-color: #7fbfbf\">             </span><span style=\"color: #008000; text-decoration-color: #008000\">'Medium.frequency_range'</span><span style=\"color: #800000; text-decoration-color: #800000\"> = </span><span style=\"color: #800000; text-decoration-color: #800000; font-weight: bold\">(</span><span style=\"color: #008080; text-decoration-color: #008080; font-weight: bold\">206753419710997.8</span><span style=\"color: #800000; text-decoration-color: #800000\">, </span><span style=\"color: #008080; text-decoration-color: #008080; font-weight: bold\">1199169834323787.2</span><span style=\"color: #800000; text-decoration-color: #800000; font-weight: bold\">)</span><span style=\"color: #800000; text-decoration-color: #800000\"> </span>\n",
       "</pre>\n"
      ],
      "text/plain": [
       "\u001b[2;36m            \u001b[0m\u001b[2;36m \u001b[0m\u001b[31mWARNING: frequency passed to \u001b[0m\u001b[32m'Medium.eps_model\u001b[0m\u001b[32m(\u001b[0m\u001b[32m)\u001b[0m\u001b[32m'\u001b[0m\u001b[31mis outside of     \u001b[0m\n",
       "\u001b[2;36m             \u001b[0m\u001b[32m'Medium.frequency_range'\u001b[0m\u001b[31m = \u001b[0m\u001b[1;31m(\u001b[0m\u001b[1;36m206753419710997.8\u001b[0m\u001b[31m, \u001b[0m\u001b[1;36m1199169834323787.2\u001b[0m\u001b[1;31m)\u001b[0m\u001b[31m \u001b[0m\n"
      ]
     },
     "metadata": {},
     "output_type": "display_data"
    },
    {
     "data": {
      "text/html": [
       "<pre style=\"white-space:pre;overflow-x:auto;line-height:normal;font-family:Menlo,'DejaVu Sans Mono',consolas,'Courier New',monospace\"><span style=\"color: #7fbfbf; text-decoration-color: #7fbfbf\">             </span><span style=\"color: #800000; text-decoration-color: #800000\">WARNING: frequency passed to </span><span style=\"color: #008000; text-decoration-color: #008000\">'Medium.eps_model()'</span><span style=\"color: #800000; text-decoration-color: #800000\">is outside of     </span>\n",
       "<span style=\"color: #7fbfbf; text-decoration-color: #7fbfbf\">             </span><span style=\"color: #008000; text-decoration-color: #008000\">'Medium.frequency_range'</span><span style=\"color: #800000; text-decoration-color: #800000\"> = </span><span style=\"color: #800000; text-decoration-color: #800000; font-weight: bold\">(</span><span style=\"color: #008080; text-decoration-color: #008080; font-weight: bold\">206753419710997.8</span><span style=\"color: #800000; text-decoration-color: #800000\">, </span><span style=\"color: #008080; text-decoration-color: #008080; font-weight: bold\">1199169834323787.2</span><span style=\"color: #800000; text-decoration-color: #800000; font-weight: bold\">)</span><span style=\"color: #800000; text-decoration-color: #800000\"> </span>\n",
       "</pre>\n"
      ],
      "text/plain": [
       "\u001b[2;36m            \u001b[0m\u001b[2;36m \u001b[0m\u001b[31mWARNING: frequency passed to \u001b[0m\u001b[32m'Medium.eps_model\u001b[0m\u001b[32m(\u001b[0m\u001b[32m)\u001b[0m\u001b[32m'\u001b[0m\u001b[31mis outside of     \u001b[0m\n",
       "\u001b[2;36m             \u001b[0m\u001b[32m'Medium.frequency_range'\u001b[0m\u001b[31m = \u001b[0m\u001b[1;31m(\u001b[0m\u001b[1;36m206753419710997.8\u001b[0m\u001b[31m, \u001b[0m\u001b[1;36m1199169834323787.2\u001b[0m\u001b[1;31m)\u001b[0m\u001b[31m \u001b[0m\n"
      ]
     },
     "metadata": {},
     "output_type": "display_data"
    },
    {
     "data": {
      "text/html": [
       "<pre style=\"white-space:pre;overflow-x:auto;line-height:normal;font-family:Menlo,'DejaVu Sans Mono',consolas,'Courier New',monospace\"><span style=\"color: #7fbfbf; text-decoration-color: #7fbfbf\">             </span><span style=\"color: #800000; text-decoration-color: #800000\">WARNING: frequency passed to </span><span style=\"color: #008000; text-decoration-color: #008000\">'Medium.eps_model()'</span><span style=\"color: #800000; text-decoration-color: #800000\">is outside of     </span>\n",
       "<span style=\"color: #7fbfbf; text-decoration-color: #7fbfbf\">             </span><span style=\"color: #008000; text-decoration-color: #008000\">'Medium.frequency_range'</span><span style=\"color: #800000; text-decoration-color: #800000\"> = </span><span style=\"color: #800000; text-decoration-color: #800000; font-weight: bold\">(</span><span style=\"color: #008080; text-decoration-color: #008080; font-weight: bold\">206753419710997.8</span><span style=\"color: #800000; text-decoration-color: #800000\">, </span><span style=\"color: #008080; text-decoration-color: #008080; font-weight: bold\">1199169834323787.2</span><span style=\"color: #800000; text-decoration-color: #800000; font-weight: bold\">)</span><span style=\"color: #800000; text-decoration-color: #800000\"> </span>\n",
       "</pre>\n"
      ],
      "text/plain": [
       "\u001b[2;36m            \u001b[0m\u001b[2;36m \u001b[0m\u001b[31mWARNING: frequency passed to \u001b[0m\u001b[32m'Medium.eps_model\u001b[0m\u001b[32m(\u001b[0m\u001b[32m)\u001b[0m\u001b[32m'\u001b[0m\u001b[31mis outside of     \u001b[0m\n",
       "\u001b[2;36m             \u001b[0m\u001b[32m'Medium.frequency_range'\u001b[0m\u001b[31m = \u001b[0m\u001b[1;31m(\u001b[0m\u001b[1;36m206753419710997.8\u001b[0m\u001b[31m, \u001b[0m\u001b[1;36m1199169834323787.2\u001b[0m\u001b[1;31m)\u001b[0m\u001b[31m \u001b[0m\n"
      ]
     },
     "metadata": {},
     "output_type": "display_data"
    },
    {
     "data": {
      "text/html": [
       "<pre style=\"white-space:pre;overflow-x:auto;line-height:normal;font-family:Menlo,'DejaVu Sans Mono',consolas,'Courier New',monospace\"><span style=\"color: #7fbfbf; text-decoration-color: #7fbfbf\">             </span><span style=\"color: #800000; text-decoration-color: #800000\">WARNING: frequency passed to </span><span style=\"color: #008000; text-decoration-color: #008000\">'Medium.eps_model()'</span><span style=\"color: #800000; text-decoration-color: #800000\">is outside of     </span>\n",
       "<span style=\"color: #7fbfbf; text-decoration-color: #7fbfbf\">             </span><span style=\"color: #008000; text-decoration-color: #008000\">'Medium.frequency_range'</span><span style=\"color: #800000; text-decoration-color: #800000\"> = </span><span style=\"color: #800000; text-decoration-color: #800000; font-weight: bold\">(</span><span style=\"color: #008080; text-decoration-color: #008080; font-weight: bold\">206753419710997.8</span><span style=\"color: #800000; text-decoration-color: #800000\">, </span><span style=\"color: #008080; text-decoration-color: #008080; font-weight: bold\">1199169834323787.2</span><span style=\"color: #800000; text-decoration-color: #800000; font-weight: bold\">)</span><span style=\"color: #800000; text-decoration-color: #800000\"> </span>\n",
       "</pre>\n"
      ],
      "text/plain": [
       "\u001b[2;36m            \u001b[0m\u001b[2;36m \u001b[0m\u001b[31mWARNING: frequency passed to \u001b[0m\u001b[32m'Medium.eps_model\u001b[0m\u001b[32m(\u001b[0m\u001b[32m)\u001b[0m\u001b[32m'\u001b[0m\u001b[31mis outside of     \u001b[0m\n",
       "\u001b[2;36m             \u001b[0m\u001b[32m'Medium.frequency_range'\u001b[0m\u001b[31m = \u001b[0m\u001b[1;31m(\u001b[0m\u001b[1;36m206753419710997.8\u001b[0m\u001b[31m, \u001b[0m\u001b[1;36m1199169834323787.2\u001b[0m\u001b[1;31m)\u001b[0m\u001b[31m \u001b[0m\n"
      ]
     },
     "metadata": {},
     "output_type": "display_data"
    },
    {
     "data": {
      "text/html": [
       "<pre style=\"white-space:pre;overflow-x:auto;line-height:normal;font-family:Menlo,'DejaVu Sans Mono',consolas,'Courier New',monospace\"><span style=\"color: #7fbfbf; text-decoration-color: #7fbfbf\">             </span><span style=\"color: #800000; text-decoration-color: #800000\">WARNING: frequency passed to </span><span style=\"color: #008000; text-decoration-color: #008000\">'Medium.eps_model()'</span><span style=\"color: #800000; text-decoration-color: #800000\">is outside of     </span>\n",
       "<span style=\"color: #7fbfbf; text-decoration-color: #7fbfbf\">             </span><span style=\"color: #008000; text-decoration-color: #008000\">'Medium.frequency_range'</span><span style=\"color: #800000; text-decoration-color: #800000\"> = </span><span style=\"color: #800000; text-decoration-color: #800000; font-weight: bold\">(</span><span style=\"color: #008080; text-decoration-color: #008080; font-weight: bold\">206753419710997.8</span><span style=\"color: #800000; text-decoration-color: #800000\">, </span><span style=\"color: #008080; text-decoration-color: #008080; font-weight: bold\">1199169834323787.2</span><span style=\"color: #800000; text-decoration-color: #800000; font-weight: bold\">)</span><span style=\"color: #800000; text-decoration-color: #800000\"> </span>\n",
       "</pre>\n"
      ],
      "text/plain": [
       "\u001b[2;36m            \u001b[0m\u001b[2;36m \u001b[0m\u001b[31mWARNING: frequency passed to \u001b[0m\u001b[32m'Medium.eps_model\u001b[0m\u001b[32m(\u001b[0m\u001b[32m)\u001b[0m\u001b[32m'\u001b[0m\u001b[31mis outside of     \u001b[0m\n",
       "\u001b[2;36m             \u001b[0m\u001b[32m'Medium.frequency_range'\u001b[0m\u001b[31m = \u001b[0m\u001b[1;31m(\u001b[0m\u001b[1;36m206753419710997.8\u001b[0m\u001b[31m, \u001b[0m\u001b[1;36m1199169834323787.2\u001b[0m\u001b[1;31m)\u001b[0m\u001b[31m \u001b[0m\n"
      ]
     },
     "metadata": {},
     "output_type": "display_data"
    },
    {
     "data": {
      "text/html": [
       "<pre style=\"white-space:pre;overflow-x:auto;line-height:normal;font-family:Menlo,'DejaVu Sans Mono',consolas,'Courier New',monospace\"><span style=\"color: #7fbfbf; text-decoration-color: #7fbfbf\">             </span><span style=\"color: #800000; text-decoration-color: #800000\">WARNING: frequency passed to </span><span style=\"color: #008000; text-decoration-color: #008000\">'Medium.eps_model()'</span><span style=\"color: #800000; text-decoration-color: #800000\">is outside of     </span>\n",
       "<span style=\"color: #7fbfbf; text-decoration-color: #7fbfbf\">             </span><span style=\"color: #008000; text-decoration-color: #008000\">'Medium.frequency_range'</span><span style=\"color: #800000; text-decoration-color: #800000\"> = </span><span style=\"color: #800000; text-decoration-color: #800000; font-weight: bold\">(</span><span style=\"color: #008080; text-decoration-color: #008080; font-weight: bold\">206753419710997.8</span><span style=\"color: #800000; text-decoration-color: #800000\">, </span><span style=\"color: #008080; text-decoration-color: #008080; font-weight: bold\">1199169834323787.2</span><span style=\"color: #800000; text-decoration-color: #800000; font-weight: bold\">)</span><span style=\"color: #800000; text-decoration-color: #800000\"> </span>\n",
       "</pre>\n"
      ],
      "text/plain": [
       "\u001b[2;36m            \u001b[0m\u001b[2;36m \u001b[0m\u001b[31mWARNING: frequency passed to \u001b[0m\u001b[32m'Medium.eps_model\u001b[0m\u001b[32m(\u001b[0m\u001b[32m)\u001b[0m\u001b[32m'\u001b[0m\u001b[31mis outside of     \u001b[0m\n",
       "\u001b[2;36m             \u001b[0m\u001b[32m'Medium.frequency_range'\u001b[0m\u001b[31m = \u001b[0m\u001b[1;31m(\u001b[0m\u001b[1;36m206753419710997.8\u001b[0m\u001b[31m, \u001b[0m\u001b[1;36m1199169834323787.2\u001b[0m\u001b[1;31m)\u001b[0m\u001b[31m \u001b[0m\n"
      ]
     },
     "metadata": {},
     "output_type": "display_data"
    },
    {
     "data": {
      "text/html": [
       "<pre style=\"white-space:pre;overflow-x:auto;line-height:normal;font-family:Menlo,'DejaVu Sans Mono',consolas,'Courier New',monospace\"><span style=\"color: #7fbfbf; text-decoration-color: #7fbfbf\">13:17:32 EDT </span><span style=\"color: #800000; text-decoration-color: #800000\">WARNING: The medium associated with </span><span style=\"color: #008000; text-decoration-color: #008000\">'cSi_Green2008'</span><span style=\"color: #800000; text-decoration-color: #800000\">                </span>\n",
       "<span style=\"color: #7fbfbf; text-decoration-color: #7fbfbf\">             </span><span style=\"color: #800000; text-decoration-color: #800000; font-weight: bold\">(</span><span style=\"color: #800000; text-decoration-color: #800000\">simulation.mediums</span><span style=\"color: #800000; text-decoration-color: #800000; font-weight: bold\">[</span><span style=\"color: #008080; text-decoration-color: #008080; font-weight: bold\">1</span><span style=\"color: #800000; text-decoration-color: #800000; font-weight: bold\">])</span><span style=\"color: #800000; text-decoration-color: #800000\"> has a frequency range: </span><span style=\"color: #800000; text-decoration-color: #800000; font-weight: bold\">(</span><span style=\"color: #008080; text-decoration-color: #008080; font-weight: bold\">2.0675e14</span><span style=\"color: #800000; text-decoration-color: #800000\">,         </span>\n",
       "<span style=\"color: #7fbfbf; text-decoration-color: #7fbfbf\">             </span><span style=\"color: #008080; text-decoration-color: #008080; font-weight: bold\">11.9917e14</span><span style=\"color: #800000; text-decoration-color: #800000; font-weight: bold\">)</span><span style=\"color: #800000; text-decoration-color: #800000\"> </span><span style=\"color: #800000; text-decoration-color: #800000; font-weight: bold\">(</span><span style=\"color: #800000; text-decoration-color: #800000\">Hz</span><span style=\"color: #800000; text-decoration-color: #800000; font-weight: bold\">)</span><span style=\"color: #800000; text-decoration-color: #800000\"> that does not fully cover the frequencies         </span>\n",
       "<span style=\"color: #7fbfbf; text-decoration-color: #7fbfbf\">             </span><span style=\"color: #800000; text-decoration-color: #800000\">contained in </span><span style=\"color: #008000; text-decoration-color: #008000\">'flux_monitor'</span><span style=\"color: #800000; text-decoration-color: #800000\"> </span><span style=\"color: #800000; text-decoration-color: #800000; font-weight: bold\">(</span><span style=\"color: #800000; text-decoration-color: #800000\">simulation.monitors</span><span style=\"color: #800000; text-decoration-color: #800000; font-weight: bold\">[</span><span style=\"color: #008080; text-decoration-color: #008080; font-weight: bold\">0</span><span style=\"color: #800000; text-decoration-color: #800000; font-weight: bold\">])</span><span style=\"color: #800000; text-decoration-color: #800000\">.This can cause</span>\n",
       "<span style=\"color: #7fbfbf; text-decoration-color: #7fbfbf\">             </span><span style=\"color: #800000; text-decoration-color: #800000\">inaccuracies in the recorded results.                              </span>\n",
       "</pre>\n"
      ],
      "text/plain": [
       "\u001b[2;36m13:17:32 EDT\u001b[0m\u001b[2;36m \u001b[0m\u001b[31mWARNING: The medium associated with \u001b[0m\u001b[32m'cSi_Green2008'\u001b[0m\u001b[31m                \u001b[0m\n",
       "\u001b[2;36m             \u001b[0m\u001b[1;31m(\u001b[0m\u001b[31msimulation.mediums\u001b[0m\u001b[1;31m[\u001b[0m\u001b[1;36m1\u001b[0m\u001b[1;31m]\u001b[0m\u001b[1;31m)\u001b[0m\u001b[31m has a frequency range: \u001b[0m\u001b[1;31m(\u001b[0m\u001b[1;36m2.0675e14\u001b[0m\u001b[31m,         \u001b[0m\n",
       "\u001b[2;36m             \u001b[0m\u001b[1;36m11.9917e14\u001b[0m\u001b[1;31m)\u001b[0m\u001b[31m \u001b[0m\u001b[1;31m(\u001b[0m\u001b[31mHz\u001b[0m\u001b[1;31m)\u001b[0m\u001b[31m that does not fully cover the frequencies         \u001b[0m\n",
       "\u001b[2;36m             \u001b[0m\u001b[31mcontained in \u001b[0m\u001b[32m'flux_monitor'\u001b[0m\u001b[31m \u001b[0m\u001b[1;31m(\u001b[0m\u001b[31msimulation.monitors\u001b[0m\u001b[1;31m[\u001b[0m\u001b[1;36m0\u001b[0m\u001b[1;31m]\u001b[0m\u001b[1;31m)\u001b[0m\u001b[31m.This can cause\u001b[0m\n",
       "\u001b[2;36m             \u001b[0m\u001b[31minaccuracies in the recorded results.                              \u001b[0m\n"
      ]
     },
     "metadata": {},
     "output_type": "display_data"
    },
    {
     "data": {
      "text/html": [
       "<pre style=\"white-space:pre;overflow-x:auto;line-height:normal;font-family:Menlo,'DejaVu Sans Mono',consolas,'Courier New',monospace\"><span style=\"color: #7fbfbf; text-decoration-color: #7fbfbf\">             </span><span style=\"color: #800000; text-decoration-color: #800000\">WARNING: Suppressed </span><span style=\"color: #008080; text-decoration-color: #008080; font-weight: bold\">1</span><span style=\"color: #800000; text-decoration-color: #800000\"> WARNING message.                             </span>\n",
       "</pre>\n"
      ],
      "text/plain": [
       "\u001b[2;36m            \u001b[0m\u001b[2;36m \u001b[0m\u001b[31mWARNING: Suppressed \u001b[0m\u001b[1;36m1\u001b[0m\u001b[31m WARNING message.                             \u001b[0m\n"
      ]
     },
     "metadata": {},
     "output_type": "display_data"
    },
    {
     "data": {
      "text/html": [
       "<pre style=\"white-space:pre;overflow-x:auto;line-height:normal;font-family:Menlo,'DejaVu Sans Mono',consolas,'Courier New',monospace\"><span style=\"color: #7fbfbf; text-decoration-color: #7fbfbf\">             </span><span style=\"color: #800000; text-decoration-color: #800000\">WARNING: frequency passed to </span><span style=\"color: #008000; text-decoration-color: #008000\">'Medium.eps_model()'</span><span style=\"color: #800000; text-decoration-color: #800000\">is outside of     </span>\n",
       "<span style=\"color: #7fbfbf; text-decoration-color: #7fbfbf\">             </span><span style=\"color: #008000; text-decoration-color: #008000\">'Medium.frequency_range'</span><span style=\"color: #800000; text-decoration-color: #800000\"> = </span><span style=\"color: #800000; text-decoration-color: #800000; font-weight: bold\">(</span><span style=\"color: #008080; text-decoration-color: #008080; font-weight: bold\">206753419710997.8</span><span style=\"color: #800000; text-decoration-color: #800000\">, </span><span style=\"color: #008080; text-decoration-color: #008080; font-weight: bold\">1199169834323787.2</span><span style=\"color: #800000; text-decoration-color: #800000; font-weight: bold\">)</span><span style=\"color: #800000; text-decoration-color: #800000\"> </span>\n",
       "</pre>\n"
      ],
      "text/plain": [
       "\u001b[2;36m            \u001b[0m\u001b[2;36m \u001b[0m\u001b[31mWARNING: frequency passed to \u001b[0m\u001b[32m'Medium.eps_model\u001b[0m\u001b[32m(\u001b[0m\u001b[32m)\u001b[0m\u001b[32m'\u001b[0m\u001b[31mis outside of     \u001b[0m\n",
       "\u001b[2;36m             \u001b[0m\u001b[32m'Medium.frequency_range'\u001b[0m\u001b[31m = \u001b[0m\u001b[1;31m(\u001b[0m\u001b[1;36m206753419710997.8\u001b[0m\u001b[31m, \u001b[0m\u001b[1;36m1199169834323787.2\u001b[0m\u001b[1;31m)\u001b[0m\u001b[31m \u001b[0m\n"
      ]
     },
     "metadata": {},
     "output_type": "display_data"
    },
    {
     "data": {
      "text/html": [
       "<pre style=\"white-space:pre;overflow-x:auto;line-height:normal;font-family:Menlo,'DejaVu Sans Mono',consolas,'Courier New',monospace\"><span style=\"color: #7fbfbf; text-decoration-color: #7fbfbf\">             </span><span style=\"color: #800000; text-decoration-color: #800000\">WARNING: frequency passed to </span><span style=\"color: #008000; text-decoration-color: #008000\">'Medium.eps_model()'</span><span style=\"color: #800000; text-decoration-color: #800000\">is outside of     </span>\n",
       "<span style=\"color: #7fbfbf; text-decoration-color: #7fbfbf\">             </span><span style=\"color: #008000; text-decoration-color: #008000\">'Medium.frequency_range'</span><span style=\"color: #800000; text-decoration-color: #800000\"> = </span><span style=\"color: #800000; text-decoration-color: #800000; font-weight: bold\">(</span><span style=\"color: #008080; text-decoration-color: #008080; font-weight: bold\">206753419710997.8</span><span style=\"color: #800000; text-decoration-color: #800000\">, </span><span style=\"color: #008080; text-decoration-color: #008080; font-weight: bold\">1199169834323787.2</span><span style=\"color: #800000; text-decoration-color: #800000; font-weight: bold\">)</span><span style=\"color: #800000; text-decoration-color: #800000\"> </span>\n",
       "</pre>\n"
      ],
      "text/plain": [
       "\u001b[2;36m            \u001b[0m\u001b[2;36m \u001b[0m\u001b[31mWARNING: frequency passed to \u001b[0m\u001b[32m'Medium.eps_model\u001b[0m\u001b[32m(\u001b[0m\u001b[32m)\u001b[0m\u001b[32m'\u001b[0m\u001b[31mis outside of     \u001b[0m\n",
       "\u001b[2;36m             \u001b[0m\u001b[32m'Medium.frequency_range'\u001b[0m\u001b[31m = \u001b[0m\u001b[1;31m(\u001b[0m\u001b[1;36m206753419710997.8\u001b[0m\u001b[31m, \u001b[0m\u001b[1;36m1199169834323787.2\u001b[0m\u001b[1;31m)\u001b[0m\u001b[31m \u001b[0m\n"
      ]
     },
     "metadata": {},
     "output_type": "display_data"
    },
    {
     "data": {
      "text/html": [
       "<pre style=\"white-space:pre;overflow-x:auto;line-height:normal;font-family:Menlo,'DejaVu Sans Mono',consolas,'Courier New',monospace\"><span style=\"color: #7fbfbf; text-decoration-color: #7fbfbf\">             </span><span style=\"color: #800000; text-decoration-color: #800000\">WARNING: frequency passed to </span><span style=\"color: #008000; text-decoration-color: #008000\">'Medium.eps_model()'</span><span style=\"color: #800000; text-decoration-color: #800000\">is outside of     </span>\n",
       "<span style=\"color: #7fbfbf; text-decoration-color: #7fbfbf\">             </span><span style=\"color: #008000; text-decoration-color: #008000\">'Medium.frequency_range'</span><span style=\"color: #800000; text-decoration-color: #800000\"> = </span><span style=\"color: #800000; text-decoration-color: #800000; font-weight: bold\">(</span><span style=\"color: #008080; text-decoration-color: #008080; font-weight: bold\">206753419710997.8</span><span style=\"color: #800000; text-decoration-color: #800000\">, </span><span style=\"color: #008080; text-decoration-color: #008080; font-weight: bold\">1199169834323787.2</span><span style=\"color: #800000; text-decoration-color: #800000; font-weight: bold\">)</span><span style=\"color: #800000; text-decoration-color: #800000\"> </span>\n",
       "</pre>\n"
      ],
      "text/plain": [
       "\u001b[2;36m            \u001b[0m\u001b[2;36m \u001b[0m\u001b[31mWARNING: frequency passed to \u001b[0m\u001b[32m'Medium.eps_model\u001b[0m\u001b[32m(\u001b[0m\u001b[32m)\u001b[0m\u001b[32m'\u001b[0m\u001b[31mis outside of     \u001b[0m\n",
       "\u001b[2;36m             \u001b[0m\u001b[32m'Medium.frequency_range'\u001b[0m\u001b[31m = \u001b[0m\u001b[1;31m(\u001b[0m\u001b[1;36m206753419710997.8\u001b[0m\u001b[31m, \u001b[0m\u001b[1;36m1199169834323787.2\u001b[0m\u001b[1;31m)\u001b[0m\u001b[31m \u001b[0m\n"
      ]
     },
     "metadata": {},
     "output_type": "display_data"
    },
    {
     "data": {
      "text/html": [
       "<pre style=\"white-space:pre;overflow-x:auto;line-height:normal;font-family:Menlo,'DejaVu Sans Mono',consolas,'Courier New',monospace\"><span style=\"color: #7fbfbf; text-decoration-color: #7fbfbf\">             </span><span style=\"color: #800000; text-decoration-color: #800000\">WARNING: frequency passed to </span><span style=\"color: #008000; text-decoration-color: #008000\">'Medium.eps_model()'</span><span style=\"color: #800000; text-decoration-color: #800000\">is outside of     </span>\n",
       "<span style=\"color: #7fbfbf; text-decoration-color: #7fbfbf\">             </span><span style=\"color: #008000; text-decoration-color: #008000\">'Medium.frequency_range'</span><span style=\"color: #800000; text-decoration-color: #800000\"> = </span><span style=\"color: #800000; text-decoration-color: #800000; font-weight: bold\">(</span><span style=\"color: #008080; text-decoration-color: #008080; font-weight: bold\">206753419710997.8</span><span style=\"color: #800000; text-decoration-color: #800000\">, </span><span style=\"color: #008080; text-decoration-color: #008080; font-weight: bold\">1199169834323787.2</span><span style=\"color: #800000; text-decoration-color: #800000; font-weight: bold\">)</span><span style=\"color: #800000; text-decoration-color: #800000\"> </span>\n",
       "</pre>\n"
      ],
      "text/plain": [
       "\u001b[2;36m            \u001b[0m\u001b[2;36m \u001b[0m\u001b[31mWARNING: frequency passed to \u001b[0m\u001b[32m'Medium.eps_model\u001b[0m\u001b[32m(\u001b[0m\u001b[32m)\u001b[0m\u001b[32m'\u001b[0m\u001b[31mis outside of     \u001b[0m\n",
       "\u001b[2;36m             \u001b[0m\u001b[32m'Medium.frequency_range'\u001b[0m\u001b[31m = \u001b[0m\u001b[1;31m(\u001b[0m\u001b[1;36m206753419710997.8\u001b[0m\u001b[31m, \u001b[0m\u001b[1;36m1199169834323787.2\u001b[0m\u001b[1;31m)\u001b[0m\u001b[31m \u001b[0m\n"
      ]
     },
     "metadata": {},
     "output_type": "display_data"
    },
    {
     "data": {
      "text/html": [
       "<pre style=\"white-space:pre;overflow-x:auto;line-height:normal;font-family:Menlo,'DejaVu Sans Mono',consolas,'Courier New',monospace\"><span style=\"color: #7fbfbf; text-decoration-color: #7fbfbf\">             </span><span style=\"color: #800000; text-decoration-color: #800000\">WARNING: frequency passed to </span><span style=\"color: #008000; text-decoration-color: #008000\">'Medium.eps_model()'</span><span style=\"color: #800000; text-decoration-color: #800000\">is outside of     </span>\n",
       "<span style=\"color: #7fbfbf; text-decoration-color: #7fbfbf\">             </span><span style=\"color: #008000; text-decoration-color: #008000\">'Medium.frequency_range'</span><span style=\"color: #800000; text-decoration-color: #800000\"> = </span><span style=\"color: #800000; text-decoration-color: #800000; font-weight: bold\">(</span><span style=\"color: #008080; text-decoration-color: #008080; font-weight: bold\">206753419710997.8</span><span style=\"color: #800000; text-decoration-color: #800000\">, </span><span style=\"color: #008080; text-decoration-color: #008080; font-weight: bold\">1199169834323787.2</span><span style=\"color: #800000; text-decoration-color: #800000; font-weight: bold\">)</span><span style=\"color: #800000; text-decoration-color: #800000\"> </span>\n",
       "</pre>\n"
      ],
      "text/plain": [
       "\u001b[2;36m            \u001b[0m\u001b[2;36m \u001b[0m\u001b[31mWARNING: frequency passed to \u001b[0m\u001b[32m'Medium.eps_model\u001b[0m\u001b[32m(\u001b[0m\u001b[32m)\u001b[0m\u001b[32m'\u001b[0m\u001b[31mis outside of     \u001b[0m\n",
       "\u001b[2;36m             \u001b[0m\u001b[32m'Medium.frequency_range'\u001b[0m\u001b[31m = \u001b[0m\u001b[1;31m(\u001b[0m\u001b[1;36m206753419710997.8\u001b[0m\u001b[31m, \u001b[0m\u001b[1;36m1199169834323787.2\u001b[0m\u001b[1;31m)\u001b[0m\u001b[31m \u001b[0m\n"
      ]
     },
     "metadata": {},
     "output_type": "display_data"
    },
    {
     "data": {
      "text/html": [
       "<pre style=\"white-space:pre;overflow-x:auto;line-height:normal;font-family:Menlo,'DejaVu Sans Mono',consolas,'Courier New',monospace\"><span style=\"color: #7fbfbf; text-decoration-color: #7fbfbf\">             </span><span style=\"color: #800000; text-decoration-color: #800000\">WARNING: The medium associated with </span><span style=\"color: #008000; text-decoration-color: #008000\">'cSi_Green2008'</span><span style=\"color: #800000; text-decoration-color: #800000\">                </span>\n",
       "<span style=\"color: #7fbfbf; text-decoration-color: #7fbfbf\">             </span><span style=\"color: #800000; text-decoration-color: #800000; font-weight: bold\">(</span><span style=\"color: #800000; text-decoration-color: #800000\">simulation.mediums</span><span style=\"color: #800000; text-decoration-color: #800000; font-weight: bold\">[</span><span style=\"color: #008080; text-decoration-color: #008080; font-weight: bold\">1</span><span style=\"color: #800000; text-decoration-color: #800000; font-weight: bold\">])</span><span style=\"color: #800000; text-decoration-color: #800000\"> has a frequency range: </span><span style=\"color: #800000; text-decoration-color: #800000; font-weight: bold\">(</span><span style=\"color: #008080; text-decoration-color: #008080; font-weight: bold\">2.0675e14</span><span style=\"color: #800000; text-decoration-color: #800000\">,         </span>\n",
       "<span style=\"color: #7fbfbf; text-decoration-color: #7fbfbf\">             </span><span style=\"color: #008080; text-decoration-color: #008080; font-weight: bold\">11.9917e14</span><span style=\"color: #800000; text-decoration-color: #800000; font-weight: bold\">)</span><span style=\"color: #800000; text-decoration-color: #800000\"> </span><span style=\"color: #800000; text-decoration-color: #800000; font-weight: bold\">(</span><span style=\"color: #800000; text-decoration-color: #800000\">Hz</span><span style=\"color: #800000; text-decoration-color: #800000; font-weight: bold\">)</span><span style=\"color: #800000; text-decoration-color: #800000\"> that does not fully cover the frequencies         </span>\n",
       "<span style=\"color: #7fbfbf; text-decoration-color: #7fbfbf\">             </span><span style=\"color: #800000; text-decoration-color: #800000\">contained in </span><span style=\"color: #008000; text-decoration-color: #008000\">'flux_monitor'</span><span style=\"color: #800000; text-decoration-color: #800000\"> </span><span style=\"color: #800000; text-decoration-color: #800000; font-weight: bold\">(</span><span style=\"color: #800000; text-decoration-color: #800000\">simulation.monitors</span><span style=\"color: #800000; text-decoration-color: #800000; font-weight: bold\">[</span><span style=\"color: #008080; text-decoration-color: #008080; font-weight: bold\">0</span><span style=\"color: #800000; text-decoration-color: #800000; font-weight: bold\">])</span><span style=\"color: #800000; text-decoration-color: #800000\">.This can cause</span>\n",
       "<span style=\"color: #7fbfbf; text-decoration-color: #7fbfbf\">             </span><span style=\"color: #800000; text-decoration-color: #800000\">inaccuracies in the recorded results.                              </span>\n",
       "</pre>\n"
      ],
      "text/plain": [
       "\u001b[2;36m            \u001b[0m\u001b[2;36m \u001b[0m\u001b[31mWARNING: The medium associated with \u001b[0m\u001b[32m'cSi_Green2008'\u001b[0m\u001b[31m                \u001b[0m\n",
       "\u001b[2;36m             \u001b[0m\u001b[1;31m(\u001b[0m\u001b[31msimulation.mediums\u001b[0m\u001b[1;31m[\u001b[0m\u001b[1;36m1\u001b[0m\u001b[1;31m]\u001b[0m\u001b[1;31m)\u001b[0m\u001b[31m has a frequency range: \u001b[0m\u001b[1;31m(\u001b[0m\u001b[1;36m2.0675e14\u001b[0m\u001b[31m,         \u001b[0m\n",
       "\u001b[2;36m             \u001b[0m\u001b[1;36m11.9917e14\u001b[0m\u001b[1;31m)\u001b[0m\u001b[31m \u001b[0m\u001b[1;31m(\u001b[0m\u001b[31mHz\u001b[0m\u001b[1;31m)\u001b[0m\u001b[31m that does not fully cover the frequencies         \u001b[0m\n",
       "\u001b[2;36m             \u001b[0m\u001b[31mcontained in \u001b[0m\u001b[32m'flux_monitor'\u001b[0m\u001b[31m \u001b[0m\u001b[1;31m(\u001b[0m\u001b[31msimulation.monitors\u001b[0m\u001b[1;31m[\u001b[0m\u001b[1;36m0\u001b[0m\u001b[1;31m]\u001b[0m\u001b[1;31m)\u001b[0m\u001b[31m.This can cause\u001b[0m\n",
       "\u001b[2;36m             \u001b[0m\u001b[31minaccuracies in the recorded results.                              \u001b[0m\n"
      ]
     },
     "metadata": {},
     "output_type": "display_data"
    },
    {
     "data": {
      "text/html": [
       "<pre style=\"white-space:pre;overflow-x:auto;line-height:normal;font-family:Menlo,'DejaVu Sans Mono',consolas,'Courier New',monospace\"><span style=\"color: #7fbfbf; text-decoration-color: #7fbfbf\">             </span><span style=\"color: #800000; text-decoration-color: #800000\">WARNING: Suppressed </span><span style=\"color: #008080; text-decoration-color: #008080; font-weight: bold\">3</span><span style=\"color: #800000; text-decoration-color: #800000\"> WARNING messages.                            </span>\n",
       "</pre>\n"
      ],
      "text/plain": [
       "\u001b[2;36m            \u001b[0m\u001b[2;36m \u001b[0m\u001b[31mWARNING: Suppressed \u001b[0m\u001b[1;36m3\u001b[0m\u001b[31m WARNING messages.                            \u001b[0m\n"
      ]
     },
     "metadata": {},
     "output_type": "display_data"
    },
    {
     "data": {
      "text/html": [
       "<pre style=\"white-space:pre;overflow-x:auto;line-height:normal;font-family:Menlo,'DejaVu Sans Mono',consolas,'Courier New',monospace\"><span style=\"color: #7fbfbf; text-decoration-color: #7fbfbf\">             </span><span style=\"color: #800000; text-decoration-color: #800000\">WARNING: frequency passed to </span><span style=\"color: #008000; text-decoration-color: #008000\">'Medium.eps_model()'</span><span style=\"color: #800000; text-decoration-color: #800000\">is outside of     </span>\n",
       "<span style=\"color: #7fbfbf; text-decoration-color: #7fbfbf\">             </span><span style=\"color: #008000; text-decoration-color: #008000\">'Medium.frequency_range'</span><span style=\"color: #800000; text-decoration-color: #800000\"> = </span><span style=\"color: #800000; text-decoration-color: #800000; font-weight: bold\">(</span><span style=\"color: #008080; text-decoration-color: #008080; font-weight: bold\">206753419710997.8</span><span style=\"color: #800000; text-decoration-color: #800000\">, </span><span style=\"color: #008080; text-decoration-color: #008080; font-weight: bold\">1199169834323787.2</span><span style=\"color: #800000; text-decoration-color: #800000; font-weight: bold\">)</span><span style=\"color: #800000; text-decoration-color: #800000\"> </span>\n",
       "</pre>\n"
      ],
      "text/plain": [
       "\u001b[2;36m            \u001b[0m\u001b[2;36m \u001b[0m\u001b[31mWARNING: frequency passed to \u001b[0m\u001b[32m'Medium.eps_model\u001b[0m\u001b[32m(\u001b[0m\u001b[32m)\u001b[0m\u001b[32m'\u001b[0m\u001b[31mis outside of     \u001b[0m\n",
       "\u001b[2;36m             \u001b[0m\u001b[32m'Medium.frequency_range'\u001b[0m\u001b[31m = \u001b[0m\u001b[1;31m(\u001b[0m\u001b[1;36m206753419710997.8\u001b[0m\u001b[31m, \u001b[0m\u001b[1;36m1199169834323787.2\u001b[0m\u001b[1;31m)\u001b[0m\u001b[31m \u001b[0m\n"
      ]
     },
     "metadata": {},
     "output_type": "display_data"
    },
    {
     "data": {
      "text/html": [
       "<pre style=\"white-space:pre;overflow-x:auto;line-height:normal;font-family:Menlo,'DejaVu Sans Mono',consolas,'Courier New',monospace\"><span style=\"color: #7fbfbf; text-decoration-color: #7fbfbf\">             </span><span style=\"color: #800000; text-decoration-color: #800000\">WARNING: Suppressed </span><span style=\"color: #008080; text-decoration-color: #008080; font-weight: bold\">1</span><span style=\"color: #800000; text-decoration-color: #800000\"> WARNING message.                             </span>\n",
       "</pre>\n"
      ],
      "text/plain": [
       "\u001b[2;36m            \u001b[0m\u001b[2;36m \u001b[0m\u001b[31mWARNING: Suppressed \u001b[0m\u001b[1;36m1\u001b[0m\u001b[31m WARNING message.                             \u001b[0m\n"
      ]
     },
     "metadata": {},
     "output_type": "display_data"
    },
    {
     "data": {
      "text/html": [
       "<pre style=\"white-space:pre;overflow-x:auto;line-height:normal;font-family:Menlo,'DejaVu Sans Mono',consolas,'Courier New',monospace\"><span style=\"color: #7fbfbf; text-decoration-color: #7fbfbf\">             </span><span style=\"color: #800000; text-decoration-color: #800000\">WARNING: frequency passed to </span><span style=\"color: #008000; text-decoration-color: #008000\">'Medium.eps_model()'</span><span style=\"color: #800000; text-decoration-color: #800000\">is outside of     </span>\n",
       "<span style=\"color: #7fbfbf; text-decoration-color: #7fbfbf\">             </span><span style=\"color: #008000; text-decoration-color: #008000\">'Medium.frequency_range'</span><span style=\"color: #800000; text-decoration-color: #800000\"> = </span><span style=\"color: #800000; text-decoration-color: #800000; font-weight: bold\">(</span><span style=\"color: #008080; text-decoration-color: #008080; font-weight: bold\">206753419710997.8</span><span style=\"color: #800000; text-decoration-color: #800000\">, </span><span style=\"color: #008080; text-decoration-color: #008080; font-weight: bold\">1199169834323787.2</span><span style=\"color: #800000; text-decoration-color: #800000; font-weight: bold\">)</span><span style=\"color: #800000; text-decoration-color: #800000\"> </span>\n",
       "</pre>\n"
      ],
      "text/plain": [
       "\u001b[2;36m            \u001b[0m\u001b[2;36m \u001b[0m\u001b[31mWARNING: frequency passed to \u001b[0m\u001b[32m'Medium.eps_model\u001b[0m\u001b[32m(\u001b[0m\u001b[32m)\u001b[0m\u001b[32m'\u001b[0m\u001b[31mis outside of     \u001b[0m\n",
       "\u001b[2;36m             \u001b[0m\u001b[32m'Medium.frequency_range'\u001b[0m\u001b[31m = \u001b[0m\u001b[1;31m(\u001b[0m\u001b[1;36m206753419710997.8\u001b[0m\u001b[31m, \u001b[0m\u001b[1;36m1199169834323787.2\u001b[0m\u001b[1;31m)\u001b[0m\u001b[31m \u001b[0m\n"
      ]
     },
     "metadata": {},
     "output_type": "display_data"
    },
    {
     "data": {
      "text/html": [
       "<pre style=\"white-space:pre;overflow-x:auto;line-height:normal;font-family:Menlo,'DejaVu Sans Mono',consolas,'Courier New',monospace\"><span style=\"color: #7fbfbf; text-decoration-color: #7fbfbf\">             </span><span style=\"color: #800000; text-decoration-color: #800000\">WARNING: frequency passed to </span><span style=\"color: #008000; text-decoration-color: #008000\">'Medium.eps_model()'</span><span style=\"color: #800000; text-decoration-color: #800000\">is outside of     </span>\n",
       "<span style=\"color: #7fbfbf; text-decoration-color: #7fbfbf\">             </span><span style=\"color: #008000; text-decoration-color: #008000\">'Medium.frequency_range'</span><span style=\"color: #800000; text-decoration-color: #800000\"> = </span><span style=\"color: #800000; text-decoration-color: #800000; font-weight: bold\">(</span><span style=\"color: #008080; text-decoration-color: #008080; font-weight: bold\">206753419710997.8</span><span style=\"color: #800000; text-decoration-color: #800000\">, </span><span style=\"color: #008080; text-decoration-color: #008080; font-weight: bold\">1199169834323787.2</span><span style=\"color: #800000; text-decoration-color: #800000; font-weight: bold\">)</span><span style=\"color: #800000; text-decoration-color: #800000\"> </span>\n",
       "</pre>\n"
      ],
      "text/plain": [
       "\u001b[2;36m            \u001b[0m\u001b[2;36m \u001b[0m\u001b[31mWARNING: frequency passed to \u001b[0m\u001b[32m'Medium.eps_model\u001b[0m\u001b[32m(\u001b[0m\u001b[32m)\u001b[0m\u001b[32m'\u001b[0m\u001b[31mis outside of     \u001b[0m\n",
       "\u001b[2;36m             \u001b[0m\u001b[32m'Medium.frequency_range'\u001b[0m\u001b[31m = \u001b[0m\u001b[1;31m(\u001b[0m\u001b[1;36m206753419710997.8\u001b[0m\u001b[31m, \u001b[0m\u001b[1;36m1199169834323787.2\u001b[0m\u001b[1;31m)\u001b[0m\u001b[31m \u001b[0m\n"
      ]
     },
     "metadata": {},
     "output_type": "display_data"
    },
    {
     "data": {
      "text/html": [
       "<pre style=\"white-space:pre;overflow-x:auto;line-height:normal;font-family:Menlo,'DejaVu Sans Mono',consolas,'Courier New',monospace\"><span style=\"color: #7fbfbf; text-decoration-color: #7fbfbf\">             </span><span style=\"color: #800000; text-decoration-color: #800000\">WARNING: frequency passed to </span><span style=\"color: #008000; text-decoration-color: #008000\">'Medium.eps_model()'</span><span style=\"color: #800000; text-decoration-color: #800000\">is outside of     </span>\n",
       "<span style=\"color: #7fbfbf; text-decoration-color: #7fbfbf\">             </span><span style=\"color: #008000; text-decoration-color: #008000\">'Medium.frequency_range'</span><span style=\"color: #800000; text-decoration-color: #800000\"> = </span><span style=\"color: #800000; text-decoration-color: #800000; font-weight: bold\">(</span><span style=\"color: #008080; text-decoration-color: #008080; font-weight: bold\">206753419710997.8</span><span style=\"color: #800000; text-decoration-color: #800000\">, </span><span style=\"color: #008080; text-decoration-color: #008080; font-weight: bold\">1199169834323787.2</span><span style=\"color: #800000; text-decoration-color: #800000; font-weight: bold\">)</span><span style=\"color: #800000; text-decoration-color: #800000\"> </span>\n",
       "</pre>\n"
      ],
      "text/plain": [
       "\u001b[2;36m            \u001b[0m\u001b[2;36m \u001b[0m\u001b[31mWARNING: frequency passed to \u001b[0m\u001b[32m'Medium.eps_model\u001b[0m\u001b[32m(\u001b[0m\u001b[32m)\u001b[0m\u001b[32m'\u001b[0m\u001b[31mis outside of     \u001b[0m\n",
       "\u001b[2;36m             \u001b[0m\u001b[32m'Medium.frequency_range'\u001b[0m\u001b[31m = \u001b[0m\u001b[1;31m(\u001b[0m\u001b[1;36m206753419710997.8\u001b[0m\u001b[31m, \u001b[0m\u001b[1;36m1199169834323787.2\u001b[0m\u001b[1;31m)\u001b[0m\u001b[31m \u001b[0m\n"
      ]
     },
     "metadata": {},
     "output_type": "display_data"
    },
    {
     "data": {
      "text/html": [
       "<pre style=\"white-space:pre;overflow-x:auto;line-height:normal;font-family:Menlo,'DejaVu Sans Mono',consolas,'Courier New',monospace\"><span style=\"color: #7fbfbf; text-decoration-color: #7fbfbf\">             </span><span style=\"color: #800000; text-decoration-color: #800000\">WARNING: frequency passed to </span><span style=\"color: #008000; text-decoration-color: #008000\">'Medium.eps_model()'</span><span style=\"color: #800000; text-decoration-color: #800000\">is outside of     </span>\n",
       "<span style=\"color: #7fbfbf; text-decoration-color: #7fbfbf\">             </span><span style=\"color: #008000; text-decoration-color: #008000\">'Medium.frequency_range'</span><span style=\"color: #800000; text-decoration-color: #800000\"> = </span><span style=\"color: #800000; text-decoration-color: #800000; font-weight: bold\">(</span><span style=\"color: #008080; text-decoration-color: #008080; font-weight: bold\">206753419710997.8</span><span style=\"color: #800000; text-decoration-color: #800000\">, </span><span style=\"color: #008080; text-decoration-color: #008080; font-weight: bold\">1199169834323787.2</span><span style=\"color: #800000; text-decoration-color: #800000; font-weight: bold\">)</span><span style=\"color: #800000; text-decoration-color: #800000\"> </span>\n",
       "</pre>\n"
      ],
      "text/plain": [
       "\u001b[2;36m            \u001b[0m\u001b[2;36m \u001b[0m\u001b[31mWARNING: frequency passed to \u001b[0m\u001b[32m'Medium.eps_model\u001b[0m\u001b[32m(\u001b[0m\u001b[32m)\u001b[0m\u001b[32m'\u001b[0m\u001b[31mis outside of     \u001b[0m\n",
       "\u001b[2;36m             \u001b[0m\u001b[32m'Medium.frequency_range'\u001b[0m\u001b[31m = \u001b[0m\u001b[1;31m(\u001b[0m\u001b[1;36m206753419710997.8\u001b[0m\u001b[31m, \u001b[0m\u001b[1;36m1199169834323787.2\u001b[0m\u001b[1;31m)\u001b[0m\u001b[31m \u001b[0m\n"
      ]
     },
     "metadata": {},
     "output_type": "display_data"
    },
    {
     "data": {
      "text/html": [
       "<pre style=\"white-space:pre;overflow-x:auto;line-height:normal;font-family:Menlo,'DejaVu Sans Mono',consolas,'Courier New',monospace\"><span style=\"color: #7fbfbf; text-decoration-color: #7fbfbf\">             </span><span style=\"color: #800000; text-decoration-color: #800000\">WARNING: frequency passed to </span><span style=\"color: #008000; text-decoration-color: #008000\">'Medium.eps_model()'</span><span style=\"color: #800000; text-decoration-color: #800000\">is outside of     </span>\n",
       "<span style=\"color: #7fbfbf; text-decoration-color: #7fbfbf\">             </span><span style=\"color: #008000; text-decoration-color: #008000\">'Medium.frequency_range'</span><span style=\"color: #800000; text-decoration-color: #800000\"> = </span><span style=\"color: #800000; text-decoration-color: #800000; font-weight: bold\">(</span><span style=\"color: #008080; text-decoration-color: #008080; font-weight: bold\">206753419710997.8</span><span style=\"color: #800000; text-decoration-color: #800000\">, </span><span style=\"color: #008080; text-decoration-color: #008080; font-weight: bold\">1199169834323787.2</span><span style=\"color: #800000; text-decoration-color: #800000; font-weight: bold\">)</span><span style=\"color: #800000; text-decoration-color: #800000\"> </span>\n",
       "</pre>\n"
      ],
      "text/plain": [
       "\u001b[2;36m            \u001b[0m\u001b[2;36m \u001b[0m\u001b[31mWARNING: frequency passed to \u001b[0m\u001b[32m'Medium.eps_model\u001b[0m\u001b[32m(\u001b[0m\u001b[32m)\u001b[0m\u001b[32m'\u001b[0m\u001b[31mis outside of     \u001b[0m\n",
       "\u001b[2;36m             \u001b[0m\u001b[32m'Medium.frequency_range'\u001b[0m\u001b[31m = \u001b[0m\u001b[1;31m(\u001b[0m\u001b[1;36m206753419710997.8\u001b[0m\u001b[31m, \u001b[0m\u001b[1;36m1199169834323787.2\u001b[0m\u001b[1;31m)\u001b[0m\u001b[31m \u001b[0m\n"
      ]
     },
     "metadata": {},
     "output_type": "display_data"
    },
    {
     "data": {
      "text/html": [
       "<pre style=\"white-space:pre;overflow-x:auto;line-height:normal;font-family:Menlo,'DejaVu Sans Mono',consolas,'Courier New',monospace\"><span style=\"color: #7fbfbf; text-decoration-color: #7fbfbf\">             </span><span style=\"color: #800000; text-decoration-color: #800000\">WARNING: frequency passed to </span><span style=\"color: #008000; text-decoration-color: #008000\">'Medium.eps_model()'</span><span style=\"color: #800000; text-decoration-color: #800000\">is outside of     </span>\n",
       "<span style=\"color: #7fbfbf; text-decoration-color: #7fbfbf\">             </span><span style=\"color: #008000; text-decoration-color: #008000\">'Medium.frequency_range'</span><span style=\"color: #800000; text-decoration-color: #800000\"> = </span><span style=\"color: #800000; text-decoration-color: #800000; font-weight: bold\">(</span><span style=\"color: #008080; text-decoration-color: #008080; font-weight: bold\">206753419710997.8</span><span style=\"color: #800000; text-decoration-color: #800000\">, </span><span style=\"color: #008080; text-decoration-color: #008080; font-weight: bold\">1199169834323787.2</span><span style=\"color: #800000; text-decoration-color: #800000; font-weight: bold\">)</span><span style=\"color: #800000; text-decoration-color: #800000\"> </span>\n",
       "</pre>\n"
      ],
      "text/plain": [
       "\u001b[2;36m            \u001b[0m\u001b[2;36m \u001b[0m\u001b[31mWARNING: frequency passed to \u001b[0m\u001b[32m'Medium.eps_model\u001b[0m\u001b[32m(\u001b[0m\u001b[32m)\u001b[0m\u001b[32m'\u001b[0m\u001b[31mis outside of     \u001b[0m\n",
       "\u001b[2;36m             \u001b[0m\u001b[32m'Medium.frequency_range'\u001b[0m\u001b[31m = \u001b[0m\u001b[1;31m(\u001b[0m\u001b[1;36m206753419710997.8\u001b[0m\u001b[31m, \u001b[0m\u001b[1;36m1199169834323787.2\u001b[0m\u001b[1;31m)\u001b[0m\u001b[31m \u001b[0m\n"
      ]
     },
     "metadata": {},
     "output_type": "display_data"
    },
    {
     "data": {
      "text/html": [
       "<pre style=\"white-space:pre;overflow-x:auto;line-height:normal;font-family:Menlo,'DejaVu Sans Mono',consolas,'Courier New',monospace\"><span style=\"color: #7fbfbf; text-decoration-color: #7fbfbf\">             </span><span style=\"color: #800000; text-decoration-color: #800000\">WARNING: frequency passed to </span><span style=\"color: #008000; text-decoration-color: #008000\">'Medium.eps_model()'</span><span style=\"color: #800000; text-decoration-color: #800000\">is outside of     </span>\n",
       "<span style=\"color: #7fbfbf; text-decoration-color: #7fbfbf\">             </span><span style=\"color: #008000; text-decoration-color: #008000\">'Medium.frequency_range'</span><span style=\"color: #800000; text-decoration-color: #800000\"> = </span><span style=\"color: #800000; text-decoration-color: #800000; font-weight: bold\">(</span><span style=\"color: #008080; text-decoration-color: #008080; font-weight: bold\">206753419710997.8</span><span style=\"color: #800000; text-decoration-color: #800000\">, </span><span style=\"color: #008080; text-decoration-color: #008080; font-weight: bold\">1199169834323787.2</span><span style=\"color: #800000; text-decoration-color: #800000; font-weight: bold\">)</span><span style=\"color: #800000; text-decoration-color: #800000\"> </span>\n",
       "</pre>\n"
      ],
      "text/plain": [
       "\u001b[2;36m            \u001b[0m\u001b[2;36m \u001b[0m\u001b[31mWARNING: frequency passed to \u001b[0m\u001b[32m'Medium.eps_model\u001b[0m\u001b[32m(\u001b[0m\u001b[32m)\u001b[0m\u001b[32m'\u001b[0m\u001b[31mis outside of     \u001b[0m\n",
       "\u001b[2;36m             \u001b[0m\u001b[32m'Medium.frequency_range'\u001b[0m\u001b[31m = \u001b[0m\u001b[1;31m(\u001b[0m\u001b[1;36m206753419710997.8\u001b[0m\u001b[31m, \u001b[0m\u001b[1;36m1199169834323787.2\u001b[0m\u001b[1;31m)\u001b[0m\u001b[31m \u001b[0m\n"
      ]
     },
     "metadata": {},
     "output_type": "display_data"
    },
    {
     "data": {
      "text/html": [
       "<pre style=\"white-space:pre;overflow-x:auto;line-height:normal;font-family:Menlo,'DejaVu Sans Mono',consolas,'Courier New',monospace\"><span style=\"color: #7fbfbf; text-decoration-color: #7fbfbf\">             </span><span style=\"color: #800000; text-decoration-color: #800000\">WARNING: frequency passed to </span><span style=\"color: #008000; text-decoration-color: #008000\">'Medium.eps_model()'</span><span style=\"color: #800000; text-decoration-color: #800000\">is outside of     </span>\n",
       "<span style=\"color: #7fbfbf; text-decoration-color: #7fbfbf\">             </span><span style=\"color: #008000; text-decoration-color: #008000\">'Medium.frequency_range'</span><span style=\"color: #800000; text-decoration-color: #800000\"> = </span><span style=\"color: #800000; text-decoration-color: #800000; font-weight: bold\">(</span><span style=\"color: #008080; text-decoration-color: #008080; font-weight: bold\">206753419710997.8</span><span style=\"color: #800000; text-decoration-color: #800000\">, </span><span style=\"color: #008080; text-decoration-color: #008080; font-weight: bold\">1199169834323787.2</span><span style=\"color: #800000; text-decoration-color: #800000; font-weight: bold\">)</span><span style=\"color: #800000; text-decoration-color: #800000\"> </span>\n",
       "</pre>\n"
      ],
      "text/plain": [
       "\u001b[2;36m            \u001b[0m\u001b[2;36m \u001b[0m\u001b[31mWARNING: frequency passed to \u001b[0m\u001b[32m'Medium.eps_model\u001b[0m\u001b[32m(\u001b[0m\u001b[32m)\u001b[0m\u001b[32m'\u001b[0m\u001b[31mis outside of     \u001b[0m\n",
       "\u001b[2;36m             \u001b[0m\u001b[32m'Medium.frequency_range'\u001b[0m\u001b[31m = \u001b[0m\u001b[1;31m(\u001b[0m\u001b[1;36m206753419710997.8\u001b[0m\u001b[31m, \u001b[0m\u001b[1;36m1199169834323787.2\u001b[0m\u001b[1;31m)\u001b[0m\u001b[31m \u001b[0m\n"
      ]
     },
     "metadata": {},
     "output_type": "display_data"
    },
    {
     "data": {
      "text/html": [
       "<pre style=\"white-space:pre;overflow-x:auto;line-height:normal;font-family:Menlo,'DejaVu Sans Mono',consolas,'Courier New',monospace\"><span style=\"color: #7fbfbf; text-decoration-color: #7fbfbf\">             </span><span style=\"color: #800000; text-decoration-color: #800000\">WARNING: The medium associated with </span><span style=\"color: #008000; text-decoration-color: #008000\">'cSi_Green2008'</span><span style=\"color: #800000; text-decoration-color: #800000\">                </span>\n",
       "<span style=\"color: #7fbfbf; text-decoration-color: #7fbfbf\">             </span><span style=\"color: #800000; text-decoration-color: #800000; font-weight: bold\">(</span><span style=\"color: #800000; text-decoration-color: #800000\">simulation.mediums</span><span style=\"color: #800000; text-decoration-color: #800000; font-weight: bold\">[</span><span style=\"color: #008080; text-decoration-color: #008080; font-weight: bold\">1</span><span style=\"color: #800000; text-decoration-color: #800000; font-weight: bold\">])</span><span style=\"color: #800000; text-decoration-color: #800000\"> has a frequency range: </span><span style=\"color: #800000; text-decoration-color: #800000; font-weight: bold\">(</span><span style=\"color: #008080; text-decoration-color: #008080; font-weight: bold\">2.0675e14</span><span style=\"color: #800000; text-decoration-color: #800000\">,         </span>\n",
       "<span style=\"color: #7fbfbf; text-decoration-color: #7fbfbf\">             </span><span style=\"color: #008080; text-decoration-color: #008080; font-weight: bold\">11.9917e14</span><span style=\"color: #800000; text-decoration-color: #800000; font-weight: bold\">)</span><span style=\"color: #800000; text-decoration-color: #800000\"> </span><span style=\"color: #800000; text-decoration-color: #800000; font-weight: bold\">(</span><span style=\"color: #800000; text-decoration-color: #800000\">Hz</span><span style=\"color: #800000; text-decoration-color: #800000; font-weight: bold\">)</span><span style=\"color: #800000; text-decoration-color: #800000\"> that does not fully cover the frequencies         </span>\n",
       "<span style=\"color: #7fbfbf; text-decoration-color: #7fbfbf\">             </span><span style=\"color: #800000; text-decoration-color: #800000\">contained in </span><span style=\"color: #008000; text-decoration-color: #008000\">'flux_monitor'</span><span style=\"color: #800000; text-decoration-color: #800000\"> </span><span style=\"color: #800000; text-decoration-color: #800000; font-weight: bold\">(</span><span style=\"color: #800000; text-decoration-color: #800000\">simulation.monitors</span><span style=\"color: #800000; text-decoration-color: #800000; font-weight: bold\">[</span><span style=\"color: #008080; text-decoration-color: #008080; font-weight: bold\">0</span><span style=\"color: #800000; text-decoration-color: #800000; font-weight: bold\">])</span><span style=\"color: #800000; text-decoration-color: #800000\">.This can cause</span>\n",
       "<span style=\"color: #7fbfbf; text-decoration-color: #7fbfbf\">             </span><span style=\"color: #800000; text-decoration-color: #800000\">inaccuracies in the recorded results.                              </span>\n",
       "</pre>\n"
      ],
      "text/plain": [
       "\u001b[2;36m            \u001b[0m\u001b[2;36m \u001b[0m\u001b[31mWARNING: The medium associated with \u001b[0m\u001b[32m'cSi_Green2008'\u001b[0m\u001b[31m                \u001b[0m\n",
       "\u001b[2;36m             \u001b[0m\u001b[1;31m(\u001b[0m\u001b[31msimulation.mediums\u001b[0m\u001b[1;31m[\u001b[0m\u001b[1;36m1\u001b[0m\u001b[1;31m]\u001b[0m\u001b[1;31m)\u001b[0m\u001b[31m has a frequency range: \u001b[0m\u001b[1;31m(\u001b[0m\u001b[1;36m2.0675e14\u001b[0m\u001b[31m,         \u001b[0m\n",
       "\u001b[2;36m             \u001b[0m\u001b[1;36m11.9917e14\u001b[0m\u001b[1;31m)\u001b[0m\u001b[31m \u001b[0m\u001b[1;31m(\u001b[0m\u001b[31mHz\u001b[0m\u001b[1;31m)\u001b[0m\u001b[31m that does not fully cover the frequencies         \u001b[0m\n",
       "\u001b[2;36m             \u001b[0m\u001b[31mcontained in \u001b[0m\u001b[32m'flux_monitor'\u001b[0m\u001b[31m \u001b[0m\u001b[1;31m(\u001b[0m\u001b[31msimulation.monitors\u001b[0m\u001b[1;31m[\u001b[0m\u001b[1;36m0\u001b[0m\u001b[1;31m]\u001b[0m\u001b[1;31m)\u001b[0m\u001b[31m.This can cause\u001b[0m\n",
       "\u001b[2;36m             \u001b[0m\u001b[31minaccuracies in the recorded results.                              \u001b[0m\n"
      ]
     },
     "metadata": {},
     "output_type": "display_data"
    },
    {
     "data": {
      "text/html": [
       "<pre style=\"white-space:pre;overflow-x:auto;line-height:normal;font-family:Menlo,'DejaVu Sans Mono',consolas,'Courier New',monospace\"><span style=\"color: #7fbfbf; text-decoration-color: #7fbfbf\">             </span><span style=\"color: #800000; text-decoration-color: #800000\">WARNING: Suppressed </span><span style=\"color: #008080; text-decoration-color: #008080; font-weight: bold\">1</span><span style=\"color: #800000; text-decoration-color: #800000\"> WARNING message.                             </span>\n",
       "</pre>\n"
      ],
      "text/plain": [
       "\u001b[2;36m            \u001b[0m\u001b[2;36m \u001b[0m\u001b[31mWARNING: Suppressed \u001b[0m\u001b[1;36m1\u001b[0m\u001b[31m WARNING message.                             \u001b[0m\n"
      ]
     },
     "metadata": {},
     "output_type": "display_data"
    },
    {
     "data": {
      "text/html": [
       "<pre style=\"white-space:pre;overflow-x:auto;line-height:normal;font-family:Menlo,'DejaVu Sans Mono',consolas,'Courier New',monospace\"><span style=\"color: #7fbfbf; text-decoration-color: #7fbfbf\">             </span><span style=\"color: #800000; text-decoration-color: #800000\">WARNING: frequency passed to </span><span style=\"color: #008000; text-decoration-color: #008000\">'Medium.eps_model()'</span><span style=\"color: #800000; text-decoration-color: #800000\">is outside of     </span>\n",
       "<span style=\"color: #7fbfbf; text-decoration-color: #7fbfbf\">             </span><span style=\"color: #008000; text-decoration-color: #008000\">'Medium.frequency_range'</span><span style=\"color: #800000; text-decoration-color: #800000\"> = </span><span style=\"color: #800000; text-decoration-color: #800000; font-weight: bold\">(</span><span style=\"color: #008080; text-decoration-color: #008080; font-weight: bold\">206753419710997.8</span><span style=\"color: #800000; text-decoration-color: #800000\">, </span><span style=\"color: #008080; text-decoration-color: #008080; font-weight: bold\">1199169834323787.2</span><span style=\"color: #800000; text-decoration-color: #800000; font-weight: bold\">)</span><span style=\"color: #800000; text-decoration-color: #800000\"> </span>\n",
       "</pre>\n"
      ],
      "text/plain": [
       "\u001b[2;36m            \u001b[0m\u001b[2;36m \u001b[0m\u001b[31mWARNING: frequency passed to \u001b[0m\u001b[32m'Medium.eps_model\u001b[0m\u001b[32m(\u001b[0m\u001b[32m)\u001b[0m\u001b[32m'\u001b[0m\u001b[31mis outside of     \u001b[0m\n",
       "\u001b[2;36m             \u001b[0m\u001b[32m'Medium.frequency_range'\u001b[0m\u001b[31m = \u001b[0m\u001b[1;31m(\u001b[0m\u001b[1;36m206753419710997.8\u001b[0m\u001b[31m, \u001b[0m\u001b[1;36m1199169834323787.2\u001b[0m\u001b[1;31m)\u001b[0m\u001b[31m \u001b[0m\n"
      ]
     },
     "metadata": {},
     "output_type": "display_data"
    },
    {
     "data": {
      "text/html": [
       "<pre style=\"white-space:pre;overflow-x:auto;line-height:normal;font-family:Menlo,'DejaVu Sans Mono',consolas,'Courier New',monospace\"><span style=\"color: #7fbfbf; text-decoration-color: #7fbfbf\">13:17:33 EDT </span><span style=\"color: #800000; text-decoration-color: #800000\">WARNING: frequency passed to </span><span style=\"color: #008000; text-decoration-color: #008000\">'Medium.eps_model()'</span><span style=\"color: #800000; text-decoration-color: #800000\">is outside of     </span>\n",
       "<span style=\"color: #7fbfbf; text-decoration-color: #7fbfbf\">             </span><span style=\"color: #008000; text-decoration-color: #008000\">'Medium.frequency_range'</span><span style=\"color: #800000; text-decoration-color: #800000\"> = </span><span style=\"color: #800000; text-decoration-color: #800000; font-weight: bold\">(</span><span style=\"color: #008080; text-decoration-color: #008080; font-weight: bold\">206753419710997.8</span><span style=\"color: #800000; text-decoration-color: #800000\">, </span><span style=\"color: #008080; text-decoration-color: #008080; font-weight: bold\">1199169834323787.2</span><span style=\"color: #800000; text-decoration-color: #800000; font-weight: bold\">)</span><span style=\"color: #800000; text-decoration-color: #800000\"> </span>\n",
       "</pre>\n"
      ],
      "text/plain": [
       "\u001b[2;36m13:17:33 EDT\u001b[0m\u001b[2;36m \u001b[0m\u001b[31mWARNING: frequency passed to \u001b[0m\u001b[32m'Medium.eps_model\u001b[0m\u001b[32m(\u001b[0m\u001b[32m)\u001b[0m\u001b[32m'\u001b[0m\u001b[31mis outside of     \u001b[0m\n",
       "\u001b[2;36m             \u001b[0m\u001b[32m'Medium.frequency_range'\u001b[0m\u001b[31m = \u001b[0m\u001b[1;31m(\u001b[0m\u001b[1;36m206753419710997.8\u001b[0m\u001b[31m, \u001b[0m\u001b[1;36m1199169834323787.2\u001b[0m\u001b[1;31m)\u001b[0m\u001b[31m \u001b[0m\n"
      ]
     },
     "metadata": {},
     "output_type": "display_data"
    },
    {
     "data": {
      "text/html": [
       "<pre style=\"white-space:pre;overflow-x:auto;line-height:normal;font-family:Menlo,'DejaVu Sans Mono',consolas,'Courier New',monospace\"><span style=\"color: #7fbfbf; text-decoration-color: #7fbfbf\">             </span><span style=\"color: #800000; text-decoration-color: #800000\">WARNING: frequency passed to </span><span style=\"color: #008000; text-decoration-color: #008000\">'Medium.eps_model()'</span><span style=\"color: #800000; text-decoration-color: #800000\">is outside of     </span>\n",
       "<span style=\"color: #7fbfbf; text-decoration-color: #7fbfbf\">             </span><span style=\"color: #008000; text-decoration-color: #008000\">'Medium.frequency_range'</span><span style=\"color: #800000; text-decoration-color: #800000\"> = </span><span style=\"color: #800000; text-decoration-color: #800000; font-weight: bold\">(</span><span style=\"color: #008080; text-decoration-color: #008080; font-weight: bold\">206753419710997.8</span><span style=\"color: #800000; text-decoration-color: #800000\">, </span><span style=\"color: #008080; text-decoration-color: #008080; font-weight: bold\">1199169834323787.2</span><span style=\"color: #800000; text-decoration-color: #800000; font-weight: bold\">)</span><span style=\"color: #800000; text-decoration-color: #800000\"> </span>\n",
       "</pre>\n"
      ],
      "text/plain": [
       "\u001b[2;36m            \u001b[0m\u001b[2;36m \u001b[0m\u001b[31mWARNING: frequency passed to \u001b[0m\u001b[32m'Medium.eps_model\u001b[0m\u001b[32m(\u001b[0m\u001b[32m)\u001b[0m\u001b[32m'\u001b[0m\u001b[31mis outside of     \u001b[0m\n",
       "\u001b[2;36m             \u001b[0m\u001b[32m'Medium.frequency_range'\u001b[0m\u001b[31m = \u001b[0m\u001b[1;31m(\u001b[0m\u001b[1;36m206753419710997.8\u001b[0m\u001b[31m, \u001b[0m\u001b[1;36m1199169834323787.2\u001b[0m\u001b[1;31m)\u001b[0m\u001b[31m \u001b[0m\n"
      ]
     },
     "metadata": {},
     "output_type": "display_data"
    },
    {
     "data": {
      "text/html": [
       "<pre style=\"white-space:pre;overflow-x:auto;line-height:normal;font-family:Menlo,'DejaVu Sans Mono',consolas,'Courier New',monospace\"><span style=\"color: #7fbfbf; text-decoration-color: #7fbfbf\">             </span><span style=\"color: #800000; text-decoration-color: #800000\">WARNING: frequency passed to </span><span style=\"color: #008000; text-decoration-color: #008000\">'Medium.eps_model()'</span><span style=\"color: #800000; text-decoration-color: #800000\">is outside of     </span>\n",
       "<span style=\"color: #7fbfbf; text-decoration-color: #7fbfbf\">             </span><span style=\"color: #008000; text-decoration-color: #008000\">'Medium.frequency_range'</span><span style=\"color: #800000; text-decoration-color: #800000\"> = </span><span style=\"color: #800000; text-decoration-color: #800000; font-weight: bold\">(</span><span style=\"color: #008080; text-decoration-color: #008080; font-weight: bold\">206753419710997.8</span><span style=\"color: #800000; text-decoration-color: #800000\">, </span><span style=\"color: #008080; text-decoration-color: #008080; font-weight: bold\">1199169834323787.2</span><span style=\"color: #800000; text-decoration-color: #800000; font-weight: bold\">)</span><span style=\"color: #800000; text-decoration-color: #800000\"> </span>\n",
       "</pre>\n"
      ],
      "text/plain": [
       "\u001b[2;36m            \u001b[0m\u001b[2;36m \u001b[0m\u001b[31mWARNING: frequency passed to \u001b[0m\u001b[32m'Medium.eps_model\u001b[0m\u001b[32m(\u001b[0m\u001b[32m)\u001b[0m\u001b[32m'\u001b[0m\u001b[31mis outside of     \u001b[0m\n",
       "\u001b[2;36m             \u001b[0m\u001b[32m'Medium.frequency_range'\u001b[0m\u001b[31m = \u001b[0m\u001b[1;31m(\u001b[0m\u001b[1;36m206753419710997.8\u001b[0m\u001b[31m, \u001b[0m\u001b[1;36m1199169834323787.2\u001b[0m\u001b[1;31m)\u001b[0m\u001b[31m \u001b[0m\n"
      ]
     },
     "metadata": {},
     "output_type": "display_data"
    },
    {
     "data": {
      "text/html": [
       "<pre style=\"white-space:pre;overflow-x:auto;line-height:normal;font-family:Menlo,'DejaVu Sans Mono',consolas,'Courier New',monospace\"><span style=\"color: #7fbfbf; text-decoration-color: #7fbfbf\">             </span><span style=\"color: #800000; text-decoration-color: #800000\">WARNING: frequency passed to </span><span style=\"color: #008000; text-decoration-color: #008000\">'Medium.eps_model()'</span><span style=\"color: #800000; text-decoration-color: #800000\">is outside of     </span>\n",
       "<span style=\"color: #7fbfbf; text-decoration-color: #7fbfbf\">             </span><span style=\"color: #008000; text-decoration-color: #008000\">'Medium.frequency_range'</span><span style=\"color: #800000; text-decoration-color: #800000\"> = </span><span style=\"color: #800000; text-decoration-color: #800000; font-weight: bold\">(</span><span style=\"color: #008080; text-decoration-color: #008080; font-weight: bold\">206753419710997.8</span><span style=\"color: #800000; text-decoration-color: #800000\">, </span><span style=\"color: #008080; text-decoration-color: #008080; font-weight: bold\">1199169834323787.2</span><span style=\"color: #800000; text-decoration-color: #800000; font-weight: bold\">)</span><span style=\"color: #800000; text-decoration-color: #800000\"> </span>\n",
       "</pre>\n"
      ],
      "text/plain": [
       "\u001b[2;36m            \u001b[0m\u001b[2;36m \u001b[0m\u001b[31mWARNING: frequency passed to \u001b[0m\u001b[32m'Medium.eps_model\u001b[0m\u001b[32m(\u001b[0m\u001b[32m)\u001b[0m\u001b[32m'\u001b[0m\u001b[31mis outside of     \u001b[0m\n",
       "\u001b[2;36m             \u001b[0m\u001b[32m'Medium.frequency_range'\u001b[0m\u001b[31m = \u001b[0m\u001b[1;31m(\u001b[0m\u001b[1;36m206753419710997.8\u001b[0m\u001b[31m, \u001b[0m\u001b[1;36m1199169834323787.2\u001b[0m\u001b[1;31m)\u001b[0m\u001b[31m \u001b[0m\n"
      ]
     },
     "metadata": {},
     "output_type": "display_data"
    },
    {
     "data": {
      "text/html": [
       "<pre style=\"white-space:pre;overflow-x:auto;line-height:normal;font-family:Menlo,'DejaVu Sans Mono',consolas,'Courier New',monospace\"><span style=\"color: #7fbfbf; text-decoration-color: #7fbfbf\">             </span><span style=\"color: #800000; text-decoration-color: #800000\">WARNING: The medium associated with </span><span style=\"color: #008000; text-decoration-color: #008000\">'cSi_Green2008'</span><span style=\"color: #800000; text-decoration-color: #800000\">                </span>\n",
       "<span style=\"color: #7fbfbf; text-decoration-color: #7fbfbf\">             </span><span style=\"color: #800000; text-decoration-color: #800000; font-weight: bold\">(</span><span style=\"color: #800000; text-decoration-color: #800000\">simulation.mediums</span><span style=\"color: #800000; text-decoration-color: #800000; font-weight: bold\">[</span><span style=\"color: #008080; text-decoration-color: #008080; font-weight: bold\">1</span><span style=\"color: #800000; text-decoration-color: #800000; font-weight: bold\">])</span><span style=\"color: #800000; text-decoration-color: #800000\"> has a frequency range: </span><span style=\"color: #800000; text-decoration-color: #800000; font-weight: bold\">(</span><span style=\"color: #008080; text-decoration-color: #008080; font-weight: bold\">2.0675e14</span><span style=\"color: #800000; text-decoration-color: #800000\">,         </span>\n",
       "<span style=\"color: #7fbfbf; text-decoration-color: #7fbfbf\">             </span><span style=\"color: #008080; text-decoration-color: #008080; font-weight: bold\">11.9917e14</span><span style=\"color: #800000; text-decoration-color: #800000; font-weight: bold\">)</span><span style=\"color: #800000; text-decoration-color: #800000\"> </span><span style=\"color: #800000; text-decoration-color: #800000; font-weight: bold\">(</span><span style=\"color: #800000; text-decoration-color: #800000\">Hz</span><span style=\"color: #800000; text-decoration-color: #800000; font-weight: bold\">)</span><span style=\"color: #800000; text-decoration-color: #800000\"> that does not fully cover the frequencies         </span>\n",
       "<span style=\"color: #7fbfbf; text-decoration-color: #7fbfbf\">             </span><span style=\"color: #800000; text-decoration-color: #800000\">contained in </span><span style=\"color: #008000; text-decoration-color: #008000\">'flux_monitor'</span><span style=\"color: #800000; text-decoration-color: #800000\"> </span><span style=\"color: #800000; text-decoration-color: #800000; font-weight: bold\">(</span><span style=\"color: #800000; text-decoration-color: #800000\">simulation.monitors</span><span style=\"color: #800000; text-decoration-color: #800000; font-weight: bold\">[</span><span style=\"color: #008080; text-decoration-color: #008080; font-weight: bold\">0</span><span style=\"color: #800000; text-decoration-color: #800000; font-weight: bold\">])</span><span style=\"color: #800000; text-decoration-color: #800000\">.This can cause</span>\n",
       "<span style=\"color: #7fbfbf; text-decoration-color: #7fbfbf\">             </span><span style=\"color: #800000; text-decoration-color: #800000\">inaccuracies in the recorded results.                              </span>\n",
       "</pre>\n"
      ],
      "text/plain": [
       "\u001b[2;36m            \u001b[0m\u001b[2;36m \u001b[0m\u001b[31mWARNING: The medium associated with \u001b[0m\u001b[32m'cSi_Green2008'\u001b[0m\u001b[31m                \u001b[0m\n",
       "\u001b[2;36m             \u001b[0m\u001b[1;31m(\u001b[0m\u001b[31msimulation.mediums\u001b[0m\u001b[1;31m[\u001b[0m\u001b[1;36m1\u001b[0m\u001b[1;31m]\u001b[0m\u001b[1;31m)\u001b[0m\u001b[31m has a frequency range: \u001b[0m\u001b[1;31m(\u001b[0m\u001b[1;36m2.0675e14\u001b[0m\u001b[31m,         \u001b[0m\n",
       "\u001b[2;36m             \u001b[0m\u001b[1;36m11.9917e14\u001b[0m\u001b[1;31m)\u001b[0m\u001b[31m \u001b[0m\u001b[1;31m(\u001b[0m\u001b[31mHz\u001b[0m\u001b[1;31m)\u001b[0m\u001b[31m that does not fully cover the frequencies         \u001b[0m\n",
       "\u001b[2;36m             \u001b[0m\u001b[31mcontained in \u001b[0m\u001b[32m'flux_monitor'\u001b[0m\u001b[31m \u001b[0m\u001b[1;31m(\u001b[0m\u001b[31msimulation.monitors\u001b[0m\u001b[1;31m[\u001b[0m\u001b[1;36m0\u001b[0m\u001b[1;31m]\u001b[0m\u001b[1;31m)\u001b[0m\u001b[31m.This can cause\u001b[0m\n",
       "\u001b[2;36m             \u001b[0m\u001b[31minaccuracies in the recorded results.                              \u001b[0m\n"
      ]
     },
     "metadata": {},
     "output_type": "display_data"
    },
    {
     "data": {
      "text/html": [
       "<pre style=\"white-space:pre;overflow-x:auto;line-height:normal;font-family:Menlo,'DejaVu Sans Mono',consolas,'Courier New',monospace\"><span style=\"color: #7fbfbf; text-decoration-color: #7fbfbf\">             </span><span style=\"color: #800000; text-decoration-color: #800000\">WARNING: Suppressed </span><span style=\"color: #008080; text-decoration-color: #008080; font-weight: bold\">3</span><span style=\"color: #800000; text-decoration-color: #800000\"> WARNING messages.                            </span>\n",
       "</pre>\n"
      ],
      "text/plain": [
       "\u001b[2;36m            \u001b[0m\u001b[2;36m \u001b[0m\u001b[31mWARNING: Suppressed \u001b[0m\u001b[1;36m3\u001b[0m\u001b[31m WARNING messages.                            \u001b[0m\n"
      ]
     },
     "metadata": {},
     "output_type": "display_data"
    },
    {
     "data": {
      "text/html": [
       "<pre style=\"white-space:pre;overflow-x:auto;line-height:normal;font-family:Menlo,'DejaVu Sans Mono',consolas,'Courier New',monospace\"><span style=\"color: #7fbfbf; text-decoration-color: #7fbfbf\">             </span><span style=\"color: #800000; text-decoration-color: #800000\">WARNING: frequency passed to </span><span style=\"color: #008000; text-decoration-color: #008000\">'Medium.eps_model()'</span><span style=\"color: #800000; text-decoration-color: #800000\">is outside of     </span>\n",
       "<span style=\"color: #7fbfbf; text-decoration-color: #7fbfbf\">             </span><span style=\"color: #008000; text-decoration-color: #008000\">'Medium.frequency_range'</span><span style=\"color: #800000; text-decoration-color: #800000\"> = </span><span style=\"color: #800000; text-decoration-color: #800000; font-weight: bold\">(</span><span style=\"color: #008080; text-decoration-color: #008080; font-weight: bold\">206753419710997.8</span><span style=\"color: #800000; text-decoration-color: #800000\">, </span><span style=\"color: #008080; text-decoration-color: #008080; font-weight: bold\">1199169834323787.2</span><span style=\"color: #800000; text-decoration-color: #800000; font-weight: bold\">)</span><span style=\"color: #800000; text-decoration-color: #800000\"> </span>\n",
       "</pre>\n"
      ],
      "text/plain": [
       "\u001b[2;36m            \u001b[0m\u001b[2;36m \u001b[0m\u001b[31mWARNING: frequency passed to \u001b[0m\u001b[32m'Medium.eps_model\u001b[0m\u001b[32m(\u001b[0m\u001b[32m)\u001b[0m\u001b[32m'\u001b[0m\u001b[31mis outside of     \u001b[0m\n",
       "\u001b[2;36m             \u001b[0m\u001b[32m'Medium.frequency_range'\u001b[0m\u001b[31m = \u001b[0m\u001b[1;31m(\u001b[0m\u001b[1;36m206753419710997.8\u001b[0m\u001b[31m, \u001b[0m\u001b[1;36m1199169834323787.2\u001b[0m\u001b[1;31m)\u001b[0m\u001b[31m \u001b[0m\n"
      ]
     },
     "metadata": {},
     "output_type": "display_data"
    },
    {
     "data": {
      "text/html": [
       "<pre style=\"white-space:pre;overflow-x:auto;line-height:normal;font-family:Menlo,'DejaVu Sans Mono',consolas,'Courier New',monospace\"><span style=\"color: #7fbfbf; text-decoration-color: #7fbfbf\">             </span><span style=\"color: #800000; text-decoration-color: #800000\">WARNING: Suppressed </span><span style=\"color: #008080; text-decoration-color: #008080; font-weight: bold\">1</span><span style=\"color: #800000; text-decoration-color: #800000\"> WARNING message.                             </span>\n",
       "</pre>\n"
      ],
      "text/plain": [
       "\u001b[2;36m            \u001b[0m\u001b[2;36m \u001b[0m\u001b[31mWARNING: Suppressed \u001b[0m\u001b[1;36m1\u001b[0m\u001b[31m WARNING message.                             \u001b[0m\n"
      ]
     },
     "metadata": {},
     "output_type": "display_data"
    },
    {
     "data": {
      "text/html": [
       "<pre style=\"white-space:pre;overflow-x:auto;line-height:normal;font-family:Menlo,'DejaVu Sans Mono',consolas,'Courier New',monospace\"><span style=\"color: #7fbfbf; text-decoration-color: #7fbfbf\">             </span><span style=\"color: #800000; text-decoration-color: #800000\">WARNING: frequency passed to </span><span style=\"color: #008000; text-decoration-color: #008000\">'Medium.eps_model()'</span><span style=\"color: #800000; text-decoration-color: #800000\">is outside of     </span>\n",
       "<span style=\"color: #7fbfbf; text-decoration-color: #7fbfbf\">             </span><span style=\"color: #008000; text-decoration-color: #008000\">'Medium.frequency_range'</span><span style=\"color: #800000; text-decoration-color: #800000\"> = </span><span style=\"color: #800000; text-decoration-color: #800000; font-weight: bold\">(</span><span style=\"color: #008080; text-decoration-color: #008080; font-weight: bold\">206753419710997.8</span><span style=\"color: #800000; text-decoration-color: #800000\">, </span><span style=\"color: #008080; text-decoration-color: #008080; font-weight: bold\">1199169834323787.2</span><span style=\"color: #800000; text-decoration-color: #800000; font-weight: bold\">)</span><span style=\"color: #800000; text-decoration-color: #800000\"> </span>\n",
       "</pre>\n"
      ],
      "text/plain": [
       "\u001b[2;36m            \u001b[0m\u001b[2;36m \u001b[0m\u001b[31mWARNING: frequency passed to \u001b[0m\u001b[32m'Medium.eps_model\u001b[0m\u001b[32m(\u001b[0m\u001b[32m)\u001b[0m\u001b[32m'\u001b[0m\u001b[31mis outside of     \u001b[0m\n",
       "\u001b[2;36m             \u001b[0m\u001b[32m'Medium.frequency_range'\u001b[0m\u001b[31m = \u001b[0m\u001b[1;31m(\u001b[0m\u001b[1;36m206753419710997.8\u001b[0m\u001b[31m, \u001b[0m\u001b[1;36m1199169834323787.2\u001b[0m\u001b[1;31m)\u001b[0m\u001b[31m \u001b[0m\n"
      ]
     },
     "metadata": {},
     "output_type": "display_data"
    },
    {
     "data": {
      "text/html": [
       "<pre style=\"white-space:pre;overflow-x:auto;line-height:normal;font-family:Menlo,'DejaVu Sans Mono',consolas,'Courier New',monospace\"><span style=\"color: #7fbfbf; text-decoration-color: #7fbfbf\">             </span><span style=\"color: #800000; text-decoration-color: #800000\">WARNING: frequency passed to </span><span style=\"color: #008000; text-decoration-color: #008000\">'Medium.eps_model()'</span><span style=\"color: #800000; text-decoration-color: #800000\">is outside of     </span>\n",
       "<span style=\"color: #7fbfbf; text-decoration-color: #7fbfbf\">             </span><span style=\"color: #008000; text-decoration-color: #008000\">'Medium.frequency_range'</span><span style=\"color: #800000; text-decoration-color: #800000\"> = </span><span style=\"color: #800000; text-decoration-color: #800000; font-weight: bold\">(</span><span style=\"color: #008080; text-decoration-color: #008080; font-weight: bold\">206753419710997.8</span><span style=\"color: #800000; text-decoration-color: #800000\">, </span><span style=\"color: #008080; text-decoration-color: #008080; font-weight: bold\">1199169834323787.2</span><span style=\"color: #800000; text-decoration-color: #800000; font-weight: bold\">)</span><span style=\"color: #800000; text-decoration-color: #800000\"> </span>\n",
       "</pre>\n"
      ],
      "text/plain": [
       "\u001b[2;36m            \u001b[0m\u001b[2;36m \u001b[0m\u001b[31mWARNING: frequency passed to \u001b[0m\u001b[32m'Medium.eps_model\u001b[0m\u001b[32m(\u001b[0m\u001b[32m)\u001b[0m\u001b[32m'\u001b[0m\u001b[31mis outside of     \u001b[0m\n",
       "\u001b[2;36m             \u001b[0m\u001b[32m'Medium.frequency_range'\u001b[0m\u001b[31m = \u001b[0m\u001b[1;31m(\u001b[0m\u001b[1;36m206753419710997.8\u001b[0m\u001b[31m, \u001b[0m\u001b[1;36m1199169834323787.2\u001b[0m\u001b[1;31m)\u001b[0m\u001b[31m \u001b[0m\n"
      ]
     },
     "metadata": {},
     "output_type": "display_data"
    },
    {
     "data": {
      "text/html": [
       "<pre style=\"white-space:pre;overflow-x:auto;line-height:normal;font-family:Menlo,'DejaVu Sans Mono',consolas,'Courier New',monospace\"><span style=\"color: #7fbfbf; text-decoration-color: #7fbfbf\">             </span><span style=\"color: #800000; text-decoration-color: #800000\">WARNING: frequency passed to </span><span style=\"color: #008000; text-decoration-color: #008000\">'Medium.eps_model()'</span><span style=\"color: #800000; text-decoration-color: #800000\">is outside of     </span>\n",
       "<span style=\"color: #7fbfbf; text-decoration-color: #7fbfbf\">             </span><span style=\"color: #008000; text-decoration-color: #008000\">'Medium.frequency_range'</span><span style=\"color: #800000; text-decoration-color: #800000\"> = </span><span style=\"color: #800000; text-decoration-color: #800000; font-weight: bold\">(</span><span style=\"color: #008080; text-decoration-color: #008080; font-weight: bold\">206753419710997.8</span><span style=\"color: #800000; text-decoration-color: #800000\">, </span><span style=\"color: #008080; text-decoration-color: #008080; font-weight: bold\">1199169834323787.2</span><span style=\"color: #800000; text-decoration-color: #800000; font-weight: bold\">)</span><span style=\"color: #800000; text-decoration-color: #800000\"> </span>\n",
       "</pre>\n"
      ],
      "text/plain": [
       "\u001b[2;36m            \u001b[0m\u001b[2;36m \u001b[0m\u001b[31mWARNING: frequency passed to \u001b[0m\u001b[32m'Medium.eps_model\u001b[0m\u001b[32m(\u001b[0m\u001b[32m)\u001b[0m\u001b[32m'\u001b[0m\u001b[31mis outside of     \u001b[0m\n",
       "\u001b[2;36m             \u001b[0m\u001b[32m'Medium.frequency_range'\u001b[0m\u001b[31m = \u001b[0m\u001b[1;31m(\u001b[0m\u001b[1;36m206753419710997.8\u001b[0m\u001b[31m, \u001b[0m\u001b[1;36m1199169834323787.2\u001b[0m\u001b[1;31m)\u001b[0m\u001b[31m \u001b[0m\n"
      ]
     },
     "metadata": {},
     "output_type": "display_data"
    },
    {
     "data": {
      "text/html": [
       "<pre style=\"white-space:pre;overflow-x:auto;line-height:normal;font-family:Menlo,'DejaVu Sans Mono',consolas,'Courier New',monospace\"><span style=\"color: #7fbfbf; text-decoration-color: #7fbfbf\">             </span><span style=\"color: #800000; text-decoration-color: #800000\">WARNING: frequency passed to </span><span style=\"color: #008000; text-decoration-color: #008000\">'Medium.eps_model()'</span><span style=\"color: #800000; text-decoration-color: #800000\">is outside of     </span>\n",
       "<span style=\"color: #7fbfbf; text-decoration-color: #7fbfbf\">             </span><span style=\"color: #008000; text-decoration-color: #008000\">'Medium.frequency_range'</span><span style=\"color: #800000; text-decoration-color: #800000\"> = </span><span style=\"color: #800000; text-decoration-color: #800000; font-weight: bold\">(</span><span style=\"color: #008080; text-decoration-color: #008080; font-weight: bold\">206753419710997.8</span><span style=\"color: #800000; text-decoration-color: #800000\">, </span><span style=\"color: #008080; text-decoration-color: #008080; font-weight: bold\">1199169834323787.2</span><span style=\"color: #800000; text-decoration-color: #800000; font-weight: bold\">)</span><span style=\"color: #800000; text-decoration-color: #800000\"> </span>\n",
       "</pre>\n"
      ],
      "text/plain": [
       "\u001b[2;36m            \u001b[0m\u001b[2;36m \u001b[0m\u001b[31mWARNING: frequency passed to \u001b[0m\u001b[32m'Medium.eps_model\u001b[0m\u001b[32m(\u001b[0m\u001b[32m)\u001b[0m\u001b[32m'\u001b[0m\u001b[31mis outside of     \u001b[0m\n",
       "\u001b[2;36m             \u001b[0m\u001b[32m'Medium.frequency_range'\u001b[0m\u001b[31m = \u001b[0m\u001b[1;31m(\u001b[0m\u001b[1;36m206753419710997.8\u001b[0m\u001b[31m, \u001b[0m\u001b[1;36m1199169834323787.2\u001b[0m\u001b[1;31m)\u001b[0m\u001b[31m \u001b[0m\n"
      ]
     },
     "metadata": {},
     "output_type": "display_data"
    },
    {
     "data": {
      "text/html": [
       "<pre style=\"white-space:pre;overflow-x:auto;line-height:normal;font-family:Menlo,'DejaVu Sans Mono',consolas,'Courier New',monospace\"><span style=\"color: #7fbfbf; text-decoration-color: #7fbfbf\">             </span><span style=\"color: #800000; text-decoration-color: #800000\">WARNING: frequency passed to </span><span style=\"color: #008000; text-decoration-color: #008000\">'Medium.eps_model()'</span><span style=\"color: #800000; text-decoration-color: #800000\">is outside of     </span>\n",
       "<span style=\"color: #7fbfbf; text-decoration-color: #7fbfbf\">             </span><span style=\"color: #008000; text-decoration-color: #008000\">'Medium.frequency_range'</span><span style=\"color: #800000; text-decoration-color: #800000\"> = </span><span style=\"color: #800000; text-decoration-color: #800000; font-weight: bold\">(</span><span style=\"color: #008080; text-decoration-color: #008080; font-weight: bold\">206753419710997.8</span><span style=\"color: #800000; text-decoration-color: #800000\">, </span><span style=\"color: #008080; text-decoration-color: #008080; font-weight: bold\">1199169834323787.2</span><span style=\"color: #800000; text-decoration-color: #800000; font-weight: bold\">)</span><span style=\"color: #800000; text-decoration-color: #800000\"> </span>\n",
       "</pre>\n"
      ],
      "text/plain": [
       "\u001b[2;36m            \u001b[0m\u001b[2;36m \u001b[0m\u001b[31mWARNING: frequency passed to \u001b[0m\u001b[32m'Medium.eps_model\u001b[0m\u001b[32m(\u001b[0m\u001b[32m)\u001b[0m\u001b[32m'\u001b[0m\u001b[31mis outside of     \u001b[0m\n",
       "\u001b[2;36m             \u001b[0m\u001b[32m'Medium.frequency_range'\u001b[0m\u001b[31m = \u001b[0m\u001b[1;31m(\u001b[0m\u001b[1;36m206753419710997.8\u001b[0m\u001b[31m, \u001b[0m\u001b[1;36m1199169834323787.2\u001b[0m\u001b[1;31m)\u001b[0m\u001b[31m \u001b[0m\n"
      ]
     },
     "metadata": {},
     "output_type": "display_data"
    },
    {
     "data": {
      "text/html": [
       "<pre style=\"white-space:pre;overflow-x:auto;line-height:normal;font-family:Menlo,'DejaVu Sans Mono',consolas,'Courier New',monospace\"><span style=\"color: #7fbfbf; text-decoration-color: #7fbfbf\">             </span><span style=\"color: #800000; text-decoration-color: #800000\">WARNING: frequency passed to </span><span style=\"color: #008000; text-decoration-color: #008000\">'Medium.eps_model()'</span><span style=\"color: #800000; text-decoration-color: #800000\">is outside of     </span>\n",
       "<span style=\"color: #7fbfbf; text-decoration-color: #7fbfbf\">             </span><span style=\"color: #008000; text-decoration-color: #008000\">'Medium.frequency_range'</span><span style=\"color: #800000; text-decoration-color: #800000\"> = </span><span style=\"color: #800000; text-decoration-color: #800000; font-weight: bold\">(</span><span style=\"color: #008080; text-decoration-color: #008080; font-weight: bold\">206753419710997.8</span><span style=\"color: #800000; text-decoration-color: #800000\">, </span><span style=\"color: #008080; text-decoration-color: #008080; font-weight: bold\">1199169834323787.2</span><span style=\"color: #800000; text-decoration-color: #800000; font-weight: bold\">)</span><span style=\"color: #800000; text-decoration-color: #800000\"> </span>\n",
       "</pre>\n"
      ],
      "text/plain": [
       "\u001b[2;36m            \u001b[0m\u001b[2;36m \u001b[0m\u001b[31mWARNING: frequency passed to \u001b[0m\u001b[32m'Medium.eps_model\u001b[0m\u001b[32m(\u001b[0m\u001b[32m)\u001b[0m\u001b[32m'\u001b[0m\u001b[31mis outside of     \u001b[0m\n",
       "\u001b[2;36m             \u001b[0m\u001b[32m'Medium.frequency_range'\u001b[0m\u001b[31m = \u001b[0m\u001b[1;31m(\u001b[0m\u001b[1;36m206753419710997.8\u001b[0m\u001b[31m, \u001b[0m\u001b[1;36m1199169834323787.2\u001b[0m\u001b[1;31m)\u001b[0m\u001b[31m \u001b[0m\n"
      ]
     },
     "metadata": {},
     "output_type": "display_data"
    },
    {
     "data": {
      "text/html": [
       "<pre style=\"white-space:pre;overflow-x:auto;line-height:normal;font-family:Menlo,'DejaVu Sans Mono',consolas,'Courier New',monospace\"><span style=\"color: #7fbfbf; text-decoration-color: #7fbfbf\">             </span><span style=\"color: #800000; text-decoration-color: #800000\">WARNING: frequency passed to </span><span style=\"color: #008000; text-decoration-color: #008000\">'Medium.eps_model()'</span><span style=\"color: #800000; text-decoration-color: #800000\">is outside of     </span>\n",
       "<span style=\"color: #7fbfbf; text-decoration-color: #7fbfbf\">             </span><span style=\"color: #008000; text-decoration-color: #008000\">'Medium.frequency_range'</span><span style=\"color: #800000; text-decoration-color: #800000\"> = </span><span style=\"color: #800000; text-decoration-color: #800000; font-weight: bold\">(</span><span style=\"color: #008080; text-decoration-color: #008080; font-weight: bold\">206753419710997.8</span><span style=\"color: #800000; text-decoration-color: #800000\">, </span><span style=\"color: #008080; text-decoration-color: #008080; font-weight: bold\">1199169834323787.2</span><span style=\"color: #800000; text-decoration-color: #800000; font-weight: bold\">)</span><span style=\"color: #800000; text-decoration-color: #800000\"> </span>\n",
       "</pre>\n"
      ],
      "text/plain": [
       "\u001b[2;36m            \u001b[0m\u001b[2;36m \u001b[0m\u001b[31mWARNING: frequency passed to \u001b[0m\u001b[32m'Medium.eps_model\u001b[0m\u001b[32m(\u001b[0m\u001b[32m)\u001b[0m\u001b[32m'\u001b[0m\u001b[31mis outside of     \u001b[0m\n",
       "\u001b[2;36m             \u001b[0m\u001b[32m'Medium.frequency_range'\u001b[0m\u001b[31m = \u001b[0m\u001b[1;31m(\u001b[0m\u001b[1;36m206753419710997.8\u001b[0m\u001b[31m, \u001b[0m\u001b[1;36m1199169834323787.2\u001b[0m\u001b[1;31m)\u001b[0m\u001b[31m \u001b[0m\n"
      ]
     },
     "metadata": {},
     "output_type": "display_data"
    },
    {
     "data": {
      "text/html": [
       "<pre style=\"white-space:pre;overflow-x:auto;line-height:normal;font-family:Menlo,'DejaVu Sans Mono',consolas,'Courier New',monospace\"><span style=\"color: #7fbfbf; text-decoration-color: #7fbfbf\">             </span><span style=\"color: #800000; text-decoration-color: #800000\">WARNING: frequency passed to </span><span style=\"color: #008000; text-decoration-color: #008000\">'Medium.eps_model()'</span><span style=\"color: #800000; text-decoration-color: #800000\">is outside of     </span>\n",
       "<span style=\"color: #7fbfbf; text-decoration-color: #7fbfbf\">             </span><span style=\"color: #008000; text-decoration-color: #008000\">'Medium.frequency_range'</span><span style=\"color: #800000; text-decoration-color: #800000\"> = </span><span style=\"color: #800000; text-decoration-color: #800000; font-weight: bold\">(</span><span style=\"color: #008080; text-decoration-color: #008080; font-weight: bold\">206753419710997.8</span><span style=\"color: #800000; text-decoration-color: #800000\">, </span><span style=\"color: #008080; text-decoration-color: #008080; font-weight: bold\">1199169834323787.2</span><span style=\"color: #800000; text-decoration-color: #800000; font-weight: bold\">)</span><span style=\"color: #800000; text-decoration-color: #800000\"> </span>\n",
       "</pre>\n"
      ],
      "text/plain": [
       "\u001b[2;36m            \u001b[0m\u001b[2;36m \u001b[0m\u001b[31mWARNING: frequency passed to \u001b[0m\u001b[32m'Medium.eps_model\u001b[0m\u001b[32m(\u001b[0m\u001b[32m)\u001b[0m\u001b[32m'\u001b[0m\u001b[31mis outside of     \u001b[0m\n",
       "\u001b[2;36m             \u001b[0m\u001b[32m'Medium.frequency_range'\u001b[0m\u001b[31m = \u001b[0m\u001b[1;31m(\u001b[0m\u001b[1;36m206753419710997.8\u001b[0m\u001b[31m, \u001b[0m\u001b[1;36m1199169834323787.2\u001b[0m\u001b[1;31m)\u001b[0m\u001b[31m \u001b[0m\n"
      ]
     },
     "metadata": {},
     "output_type": "display_data"
    },
    {
     "data": {
      "text/html": [
       "<pre style=\"white-space:pre;overflow-x:auto;line-height:normal;font-family:Menlo,'DejaVu Sans Mono',consolas,'Courier New',monospace\"><span style=\"color: #7fbfbf; text-decoration-color: #7fbfbf\">             </span><span style=\"color: #800000; text-decoration-color: #800000\">WARNING: The medium associated with </span><span style=\"color: #008000; text-decoration-color: #008000\">'cSi_Green2008'</span><span style=\"color: #800000; text-decoration-color: #800000\">                </span>\n",
       "<span style=\"color: #7fbfbf; text-decoration-color: #7fbfbf\">             </span><span style=\"color: #800000; text-decoration-color: #800000; font-weight: bold\">(</span><span style=\"color: #800000; text-decoration-color: #800000\">simulation.mediums</span><span style=\"color: #800000; text-decoration-color: #800000; font-weight: bold\">[</span><span style=\"color: #008080; text-decoration-color: #008080; font-weight: bold\">1</span><span style=\"color: #800000; text-decoration-color: #800000; font-weight: bold\">])</span><span style=\"color: #800000; text-decoration-color: #800000\"> has a frequency range: </span><span style=\"color: #800000; text-decoration-color: #800000; font-weight: bold\">(</span><span style=\"color: #008080; text-decoration-color: #008080; font-weight: bold\">2.0675e14</span><span style=\"color: #800000; text-decoration-color: #800000\">,         </span>\n",
       "<span style=\"color: #7fbfbf; text-decoration-color: #7fbfbf\">             </span><span style=\"color: #008080; text-decoration-color: #008080; font-weight: bold\">11.9917e14</span><span style=\"color: #800000; text-decoration-color: #800000; font-weight: bold\">)</span><span style=\"color: #800000; text-decoration-color: #800000\"> </span><span style=\"color: #800000; text-decoration-color: #800000; font-weight: bold\">(</span><span style=\"color: #800000; text-decoration-color: #800000\">Hz</span><span style=\"color: #800000; text-decoration-color: #800000; font-weight: bold\">)</span><span style=\"color: #800000; text-decoration-color: #800000\"> that does not fully cover the frequencies         </span>\n",
       "<span style=\"color: #7fbfbf; text-decoration-color: #7fbfbf\">             </span><span style=\"color: #800000; text-decoration-color: #800000\">contained in </span><span style=\"color: #008000; text-decoration-color: #008000\">'flux_monitor'</span><span style=\"color: #800000; text-decoration-color: #800000\"> </span><span style=\"color: #800000; text-decoration-color: #800000; font-weight: bold\">(</span><span style=\"color: #800000; text-decoration-color: #800000\">simulation.monitors</span><span style=\"color: #800000; text-decoration-color: #800000; font-weight: bold\">[</span><span style=\"color: #008080; text-decoration-color: #008080; font-weight: bold\">0</span><span style=\"color: #800000; text-decoration-color: #800000; font-weight: bold\">])</span><span style=\"color: #800000; text-decoration-color: #800000\">.This can cause</span>\n",
       "<span style=\"color: #7fbfbf; text-decoration-color: #7fbfbf\">             </span><span style=\"color: #800000; text-decoration-color: #800000\">inaccuracies in the recorded results.                              </span>\n",
       "</pre>\n"
      ],
      "text/plain": [
       "\u001b[2;36m            \u001b[0m\u001b[2;36m \u001b[0m\u001b[31mWARNING: The medium associated with \u001b[0m\u001b[32m'cSi_Green2008'\u001b[0m\u001b[31m                \u001b[0m\n",
       "\u001b[2;36m             \u001b[0m\u001b[1;31m(\u001b[0m\u001b[31msimulation.mediums\u001b[0m\u001b[1;31m[\u001b[0m\u001b[1;36m1\u001b[0m\u001b[1;31m]\u001b[0m\u001b[1;31m)\u001b[0m\u001b[31m has a frequency range: \u001b[0m\u001b[1;31m(\u001b[0m\u001b[1;36m2.0675e14\u001b[0m\u001b[31m,         \u001b[0m\n",
       "\u001b[2;36m             \u001b[0m\u001b[1;36m11.9917e14\u001b[0m\u001b[1;31m)\u001b[0m\u001b[31m \u001b[0m\u001b[1;31m(\u001b[0m\u001b[31mHz\u001b[0m\u001b[1;31m)\u001b[0m\u001b[31m that does not fully cover the frequencies         \u001b[0m\n",
       "\u001b[2;36m             \u001b[0m\u001b[31mcontained in \u001b[0m\u001b[32m'flux_monitor'\u001b[0m\u001b[31m \u001b[0m\u001b[1;31m(\u001b[0m\u001b[31msimulation.monitors\u001b[0m\u001b[1;31m[\u001b[0m\u001b[1;36m0\u001b[0m\u001b[1;31m]\u001b[0m\u001b[1;31m)\u001b[0m\u001b[31m.This can cause\u001b[0m\n",
       "\u001b[2;36m             \u001b[0m\u001b[31minaccuracies in the recorded results.                              \u001b[0m\n"
      ]
     },
     "metadata": {},
     "output_type": "display_data"
    },
    {
     "data": {
      "text/html": [
       "<pre style=\"white-space:pre;overflow-x:auto;line-height:normal;font-family:Menlo,'DejaVu Sans Mono',consolas,'Courier New',monospace\"><span style=\"color: #7fbfbf; text-decoration-color: #7fbfbf\">             </span><span style=\"color: #800000; text-decoration-color: #800000\">WARNING: Suppressed </span><span style=\"color: #008080; text-decoration-color: #008080; font-weight: bold\">1</span><span style=\"color: #800000; text-decoration-color: #800000\"> WARNING message.                             </span>\n",
       "</pre>\n"
      ],
      "text/plain": [
       "\u001b[2;36m            \u001b[0m\u001b[2;36m \u001b[0m\u001b[31mWARNING: Suppressed \u001b[0m\u001b[1;36m1\u001b[0m\u001b[31m WARNING message.                             \u001b[0m\n"
      ]
     },
     "metadata": {},
     "output_type": "display_data"
    },
    {
     "data": {
      "text/html": [
       "<pre style=\"white-space:pre;overflow-x:auto;line-height:normal;font-family:Menlo,'DejaVu Sans Mono',consolas,'Courier New',monospace\"><span style=\"color: #7fbfbf; text-decoration-color: #7fbfbf\">             </span><span style=\"color: #800000; text-decoration-color: #800000\">WARNING: frequency passed to </span><span style=\"color: #008000; text-decoration-color: #008000\">'Medium.eps_model()'</span><span style=\"color: #800000; text-decoration-color: #800000\">is outside of     </span>\n",
       "<span style=\"color: #7fbfbf; text-decoration-color: #7fbfbf\">             </span><span style=\"color: #008000; text-decoration-color: #008000\">'Medium.frequency_range'</span><span style=\"color: #800000; text-decoration-color: #800000\"> = </span><span style=\"color: #800000; text-decoration-color: #800000; font-weight: bold\">(</span><span style=\"color: #008080; text-decoration-color: #008080; font-weight: bold\">206753419710997.8</span><span style=\"color: #800000; text-decoration-color: #800000\">, </span><span style=\"color: #008080; text-decoration-color: #008080; font-weight: bold\">1199169834323787.2</span><span style=\"color: #800000; text-decoration-color: #800000; font-weight: bold\">)</span><span style=\"color: #800000; text-decoration-color: #800000\"> </span>\n",
       "</pre>\n"
      ],
      "text/plain": [
       "\u001b[2;36m            \u001b[0m\u001b[2;36m \u001b[0m\u001b[31mWARNING: frequency passed to \u001b[0m\u001b[32m'Medium.eps_model\u001b[0m\u001b[32m(\u001b[0m\u001b[32m)\u001b[0m\u001b[32m'\u001b[0m\u001b[31mis outside of     \u001b[0m\n",
       "\u001b[2;36m             \u001b[0m\u001b[32m'Medium.frequency_range'\u001b[0m\u001b[31m = \u001b[0m\u001b[1;31m(\u001b[0m\u001b[1;36m206753419710997.8\u001b[0m\u001b[31m, \u001b[0m\u001b[1;36m1199169834323787.2\u001b[0m\u001b[1;31m)\u001b[0m\u001b[31m \u001b[0m\n"
      ]
     },
     "metadata": {},
     "output_type": "display_data"
    },
    {
     "data": {
      "text/html": [
       "<pre style=\"white-space:pre;overflow-x:auto;line-height:normal;font-family:Menlo,'DejaVu Sans Mono',consolas,'Courier New',monospace\"><span style=\"color: #7fbfbf; text-decoration-color: #7fbfbf\">             </span><span style=\"color: #800000; text-decoration-color: #800000\">WARNING: frequency passed to </span><span style=\"color: #008000; text-decoration-color: #008000\">'Medium.eps_model()'</span><span style=\"color: #800000; text-decoration-color: #800000\">is outside of     </span>\n",
       "<span style=\"color: #7fbfbf; text-decoration-color: #7fbfbf\">             </span><span style=\"color: #008000; text-decoration-color: #008000\">'Medium.frequency_range'</span><span style=\"color: #800000; text-decoration-color: #800000\"> = </span><span style=\"color: #800000; text-decoration-color: #800000; font-weight: bold\">(</span><span style=\"color: #008080; text-decoration-color: #008080; font-weight: bold\">206753419710997.8</span><span style=\"color: #800000; text-decoration-color: #800000\">, </span><span style=\"color: #008080; text-decoration-color: #008080; font-weight: bold\">1199169834323787.2</span><span style=\"color: #800000; text-decoration-color: #800000; font-weight: bold\">)</span><span style=\"color: #800000; text-decoration-color: #800000\"> </span>\n",
       "</pre>\n"
      ],
      "text/plain": [
       "\u001b[2;36m            \u001b[0m\u001b[2;36m \u001b[0m\u001b[31mWARNING: frequency passed to \u001b[0m\u001b[32m'Medium.eps_model\u001b[0m\u001b[32m(\u001b[0m\u001b[32m)\u001b[0m\u001b[32m'\u001b[0m\u001b[31mis outside of     \u001b[0m\n",
       "\u001b[2;36m             \u001b[0m\u001b[32m'Medium.frequency_range'\u001b[0m\u001b[31m = \u001b[0m\u001b[1;31m(\u001b[0m\u001b[1;36m206753419710997.8\u001b[0m\u001b[31m, \u001b[0m\u001b[1;36m1199169834323787.2\u001b[0m\u001b[1;31m)\u001b[0m\u001b[31m \u001b[0m\n"
      ]
     },
     "metadata": {},
     "output_type": "display_data"
    },
    {
     "data": {
      "text/html": [
       "<pre style=\"white-space:pre;overflow-x:auto;line-height:normal;font-family:Menlo,'DejaVu Sans Mono',consolas,'Courier New',monospace\"><span style=\"color: #7fbfbf; text-decoration-color: #7fbfbf\">             </span><span style=\"color: #800000; text-decoration-color: #800000\">WARNING: frequency passed to </span><span style=\"color: #008000; text-decoration-color: #008000\">'Medium.eps_model()'</span><span style=\"color: #800000; text-decoration-color: #800000\">is outside of     </span>\n",
       "<span style=\"color: #7fbfbf; text-decoration-color: #7fbfbf\">             </span><span style=\"color: #008000; text-decoration-color: #008000\">'Medium.frequency_range'</span><span style=\"color: #800000; text-decoration-color: #800000\"> = </span><span style=\"color: #800000; text-decoration-color: #800000; font-weight: bold\">(</span><span style=\"color: #008080; text-decoration-color: #008080; font-weight: bold\">206753419710997.8</span><span style=\"color: #800000; text-decoration-color: #800000\">, </span><span style=\"color: #008080; text-decoration-color: #008080; font-weight: bold\">1199169834323787.2</span><span style=\"color: #800000; text-decoration-color: #800000; font-weight: bold\">)</span><span style=\"color: #800000; text-decoration-color: #800000\"> </span>\n",
       "</pre>\n"
      ],
      "text/plain": [
       "\u001b[2;36m            \u001b[0m\u001b[2;36m \u001b[0m\u001b[31mWARNING: frequency passed to \u001b[0m\u001b[32m'Medium.eps_model\u001b[0m\u001b[32m(\u001b[0m\u001b[32m)\u001b[0m\u001b[32m'\u001b[0m\u001b[31mis outside of     \u001b[0m\n",
       "\u001b[2;36m             \u001b[0m\u001b[32m'Medium.frequency_range'\u001b[0m\u001b[31m = \u001b[0m\u001b[1;31m(\u001b[0m\u001b[1;36m206753419710997.8\u001b[0m\u001b[31m, \u001b[0m\u001b[1;36m1199169834323787.2\u001b[0m\u001b[1;31m)\u001b[0m\u001b[31m \u001b[0m\n"
      ]
     },
     "metadata": {},
     "output_type": "display_data"
    },
    {
     "data": {
      "text/html": [
       "<pre style=\"white-space:pre;overflow-x:auto;line-height:normal;font-family:Menlo,'DejaVu Sans Mono',consolas,'Courier New',monospace\"><span style=\"color: #7fbfbf; text-decoration-color: #7fbfbf\">             </span><span style=\"color: #800000; text-decoration-color: #800000\">WARNING: frequency passed to </span><span style=\"color: #008000; text-decoration-color: #008000\">'Medium.eps_model()'</span><span style=\"color: #800000; text-decoration-color: #800000\">is outside of     </span>\n",
       "<span style=\"color: #7fbfbf; text-decoration-color: #7fbfbf\">             </span><span style=\"color: #008000; text-decoration-color: #008000\">'Medium.frequency_range'</span><span style=\"color: #800000; text-decoration-color: #800000\"> = </span><span style=\"color: #800000; text-decoration-color: #800000; font-weight: bold\">(</span><span style=\"color: #008080; text-decoration-color: #008080; font-weight: bold\">206753419710997.8</span><span style=\"color: #800000; text-decoration-color: #800000\">, </span><span style=\"color: #008080; text-decoration-color: #008080; font-weight: bold\">1199169834323787.2</span><span style=\"color: #800000; text-decoration-color: #800000; font-weight: bold\">)</span><span style=\"color: #800000; text-decoration-color: #800000\"> </span>\n",
       "</pre>\n"
      ],
      "text/plain": [
       "\u001b[2;36m            \u001b[0m\u001b[2;36m \u001b[0m\u001b[31mWARNING: frequency passed to \u001b[0m\u001b[32m'Medium.eps_model\u001b[0m\u001b[32m(\u001b[0m\u001b[32m)\u001b[0m\u001b[32m'\u001b[0m\u001b[31mis outside of     \u001b[0m\n",
       "\u001b[2;36m             \u001b[0m\u001b[32m'Medium.frequency_range'\u001b[0m\u001b[31m = \u001b[0m\u001b[1;31m(\u001b[0m\u001b[1;36m206753419710997.8\u001b[0m\u001b[31m, \u001b[0m\u001b[1;36m1199169834323787.2\u001b[0m\u001b[1;31m)\u001b[0m\u001b[31m \u001b[0m\n"
      ]
     },
     "metadata": {},
     "output_type": "display_data"
    },
    {
     "data": {
      "text/html": [
       "<pre style=\"white-space:pre;overflow-x:auto;line-height:normal;font-family:Menlo,'DejaVu Sans Mono',consolas,'Courier New',monospace\"><span style=\"color: #7fbfbf; text-decoration-color: #7fbfbf\">             </span><span style=\"color: #800000; text-decoration-color: #800000\">WARNING: frequency passed to </span><span style=\"color: #008000; text-decoration-color: #008000\">'Medium.eps_model()'</span><span style=\"color: #800000; text-decoration-color: #800000\">is outside of     </span>\n",
       "<span style=\"color: #7fbfbf; text-decoration-color: #7fbfbf\">             </span><span style=\"color: #008000; text-decoration-color: #008000\">'Medium.frequency_range'</span><span style=\"color: #800000; text-decoration-color: #800000\"> = </span><span style=\"color: #800000; text-decoration-color: #800000; font-weight: bold\">(</span><span style=\"color: #008080; text-decoration-color: #008080; font-weight: bold\">206753419710997.8</span><span style=\"color: #800000; text-decoration-color: #800000\">, </span><span style=\"color: #008080; text-decoration-color: #008080; font-weight: bold\">1199169834323787.2</span><span style=\"color: #800000; text-decoration-color: #800000; font-weight: bold\">)</span><span style=\"color: #800000; text-decoration-color: #800000\"> </span>\n",
       "</pre>\n"
      ],
      "text/plain": [
       "\u001b[2;36m            \u001b[0m\u001b[2;36m \u001b[0m\u001b[31mWARNING: frequency passed to \u001b[0m\u001b[32m'Medium.eps_model\u001b[0m\u001b[32m(\u001b[0m\u001b[32m)\u001b[0m\u001b[32m'\u001b[0m\u001b[31mis outside of     \u001b[0m\n",
       "\u001b[2;36m             \u001b[0m\u001b[32m'Medium.frequency_range'\u001b[0m\u001b[31m = \u001b[0m\u001b[1;31m(\u001b[0m\u001b[1;36m206753419710997.8\u001b[0m\u001b[31m, \u001b[0m\u001b[1;36m1199169834323787.2\u001b[0m\u001b[1;31m)\u001b[0m\u001b[31m \u001b[0m\n"
      ]
     },
     "metadata": {},
     "output_type": "display_data"
    },
    {
     "data": {
      "text/html": [
       "<pre style=\"white-space:pre;overflow-x:auto;line-height:normal;font-family:Menlo,'DejaVu Sans Mono',consolas,'Courier New',monospace\"><span style=\"color: #7fbfbf; text-decoration-color: #7fbfbf\">             </span>Started working on Batch containing <span style=\"color: #008080; text-decoration-color: #008080; font-weight: bold\">2</span> tasks.                       \n",
       "</pre>\n"
      ],
      "text/plain": [
       "\u001b[2;36m            \u001b[0m\u001b[2;36m \u001b[0mStarted working on Batch containing \u001b[1;36m2\u001b[0m tasks.                       \n"
      ]
     },
     "metadata": {},
     "output_type": "display_data"
    },
    {
     "data": {
      "text/html": [
       "<pre style=\"white-space:pre;overflow-x:auto;line-height:normal;font-family:Menlo,'DejaVu Sans Mono',consolas,'Courier New',monospace\"><span style=\"color: #7fbfbf; text-decoration-color: #7fbfbf\">13:17:36 EDT </span>Maximum FlexCredit cost: <span style=\"color: #008080; text-decoration-color: #008080; font-weight: bold\">0.744</span> for the whole batch.                \n",
       "</pre>\n"
      ],
      "text/plain": [
       "\u001b[2;36m13:17:36 EDT\u001b[0m\u001b[2;36m \u001b[0mMaximum FlexCredit cost: \u001b[1;36m0.744\u001b[0m for the whole batch.                \n"
      ]
     },
     "metadata": {},
     "output_type": "display_data"
    },
    {
     "data": {
      "text/html": [
       "<pre style=\"white-space:pre;overflow-x:auto;line-height:normal;font-family:Menlo,'DejaVu Sans Mono',consolas,'Courier New',monospace\"><span style=\"color: #7fbfbf; text-decoration-color: #7fbfbf\">             </span>Use <span style=\"color: #008000; text-decoration-color: #008000\">'Batch.real_cost()'</span> to get the billed FlexCredit cost after the\n",
       "<span style=\"color: #7fbfbf; text-decoration-color: #7fbfbf\">             </span>Batch has completed.                                               \n",
       "</pre>\n"
      ],
      "text/plain": [
       "\u001b[2;36m            \u001b[0m\u001b[2;36m \u001b[0mUse \u001b[32m'Batch.real_cost\u001b[0m\u001b[32m(\u001b[0m\u001b[32m)\u001b[0m\u001b[32m'\u001b[0m to get the billed FlexCredit cost after the\n",
       "\u001b[2;36m             \u001b[0mBatch has completed.                                               \n"
      ]
     },
     "metadata": {},
     "output_type": "display_data"
    },
    {
     "data": {
      "application/vnd.jupyter.widget-view+json": {
       "model_id": "6bcbcc927b644efa8e855bfcfb948a35",
       "version_major": 2,
       "version_minor": 0
      },
      "text/plain": [
       "Output()"
      ]
     },
     "metadata": {},
     "output_type": "display_data"
    },
    {
     "data": {
      "text/html": [
       "<pre style=\"white-space:pre;overflow-x:auto;line-height:normal;font-family:Menlo,'DejaVu Sans Mono',consolas,'Courier New',monospace\"><span style=\"color: #7fbfbf; text-decoration-color: #7fbfbf\">13:18:04 EDT </span>Batch complete.                                                    \n",
       "</pre>\n"
      ],
      "text/plain": [
       "\u001b[2;36m13:18:04 EDT\u001b[0m\u001b[2;36m \u001b[0mBatch complete.                                                    \n"
      ]
     },
     "metadata": {},
     "output_type": "display_data"
    },
    {
     "data": {
      "text/html": [
       "<pre style=\"white-space:pre;overflow-x:auto;line-height:normal;font-family:Menlo,'DejaVu Sans Mono',consolas,'Courier New',monospace\"></pre>\n"
      ],
      "text/plain": []
     },
     "metadata": {},
     "output_type": "display_data"
    },
    {
     "data": {
      "text/html": [
       "<pre style=\"white-space:pre;overflow-x:auto;line-height:normal;font-family:Menlo,'DejaVu Sans Mono',consolas,'Courier New',monospace\"><span style=\"color: #7fbfbf; text-decoration-color: #7fbfbf\">13:18:05 EDT </span><span style=\"color: #800000; text-decoration-color: #800000\">WARNING: The medium associated with </span><span style=\"color: #008000; text-decoration-color: #008000\">'cSi_Green2008'</span><span style=\"color: #800000; text-decoration-color: #800000\">                </span>\n",
       "<span style=\"color: #7fbfbf; text-decoration-color: #7fbfbf\">             </span><span style=\"color: #800000; text-decoration-color: #800000; font-weight: bold\">(</span><span style=\"color: #800000; text-decoration-color: #800000\">simulation.mediums</span><span style=\"color: #800000; text-decoration-color: #800000; font-weight: bold\">[</span><span style=\"color: #008080; text-decoration-color: #008080; font-weight: bold\">1</span><span style=\"color: #800000; text-decoration-color: #800000; font-weight: bold\">])</span><span style=\"color: #800000; text-decoration-color: #800000\"> has a frequency range: </span><span style=\"color: #800000; text-decoration-color: #800000; font-weight: bold\">(</span><span style=\"color: #008080; text-decoration-color: #008080; font-weight: bold\">2.0675e14</span><span style=\"color: #800000; text-decoration-color: #800000\">,         </span>\n",
       "<span style=\"color: #7fbfbf; text-decoration-color: #7fbfbf\">             </span><span style=\"color: #008080; text-decoration-color: #008080; font-weight: bold\">11.9917e14</span><span style=\"color: #800000; text-decoration-color: #800000; font-weight: bold\">)</span><span style=\"color: #800000; text-decoration-color: #800000\"> </span><span style=\"color: #800000; text-decoration-color: #800000; font-weight: bold\">(</span><span style=\"color: #800000; text-decoration-color: #800000\">Hz</span><span style=\"color: #800000; text-decoration-color: #800000; font-weight: bold\">)</span><span style=\"color: #800000; text-decoration-color: #800000\"> that does not fully cover the frequencies         </span>\n",
       "<span style=\"color: #7fbfbf; text-decoration-color: #7fbfbf\">             </span><span style=\"color: #800000; text-decoration-color: #800000\">contained in </span><span style=\"color: #008000; text-decoration-color: #008000\">'flux_monitor'</span><span style=\"color: #800000; text-decoration-color: #800000\"> </span><span style=\"color: #800000; text-decoration-color: #800000; font-weight: bold\">(</span><span style=\"color: #800000; text-decoration-color: #800000\">simulation.monitors</span><span style=\"color: #800000; text-decoration-color: #800000; font-weight: bold\">[</span><span style=\"color: #008080; text-decoration-color: #008080; font-weight: bold\">0</span><span style=\"color: #800000; text-decoration-color: #800000; font-weight: bold\">])</span><span style=\"color: #800000; text-decoration-color: #800000\">.This can cause</span>\n",
       "<span style=\"color: #7fbfbf; text-decoration-color: #7fbfbf\">             </span><span style=\"color: #800000; text-decoration-color: #800000\">inaccuracies in the recorded results.                              </span>\n",
       "</pre>\n"
      ],
      "text/plain": [
       "\u001b[2;36m13:18:05 EDT\u001b[0m\u001b[2;36m \u001b[0m\u001b[31mWARNING: The medium associated with \u001b[0m\u001b[32m'cSi_Green2008'\u001b[0m\u001b[31m                \u001b[0m\n",
       "\u001b[2;36m             \u001b[0m\u001b[1;31m(\u001b[0m\u001b[31msimulation.mediums\u001b[0m\u001b[1;31m[\u001b[0m\u001b[1;36m1\u001b[0m\u001b[1;31m]\u001b[0m\u001b[1;31m)\u001b[0m\u001b[31m has a frequency range: \u001b[0m\u001b[1;31m(\u001b[0m\u001b[1;36m2.0675e14\u001b[0m\u001b[31m,         \u001b[0m\n",
       "\u001b[2;36m             \u001b[0m\u001b[1;36m11.9917e14\u001b[0m\u001b[1;31m)\u001b[0m\u001b[31m \u001b[0m\u001b[1;31m(\u001b[0m\u001b[31mHz\u001b[0m\u001b[1;31m)\u001b[0m\u001b[31m that does not fully cover the frequencies         \u001b[0m\n",
       "\u001b[2;36m             \u001b[0m\u001b[31mcontained in \u001b[0m\u001b[32m'flux_monitor'\u001b[0m\u001b[31m \u001b[0m\u001b[1;31m(\u001b[0m\u001b[31msimulation.monitors\u001b[0m\u001b[1;31m[\u001b[0m\u001b[1;36m0\u001b[0m\u001b[1;31m]\u001b[0m\u001b[1;31m)\u001b[0m\u001b[31m.This can cause\u001b[0m\n",
       "\u001b[2;36m             \u001b[0m\u001b[31minaccuracies in the recorded results.                              \u001b[0m\n"
      ]
     },
     "metadata": {},
     "output_type": "display_data"
    },
    {
     "data": {
      "text/html": [
       "<pre style=\"white-space:pre;overflow-x:auto;line-height:normal;font-family:Menlo,'DejaVu Sans Mono',consolas,'Courier New',monospace\"><span style=\"color: #7fbfbf; text-decoration-color: #7fbfbf\">             </span><span style=\"color: #800000; text-decoration-color: #800000\">WARNING: Suppressed </span><span style=\"color: #008080; text-decoration-color: #008080; font-weight: bold\">3</span><span style=\"color: #800000; text-decoration-color: #800000\"> WARNING messages.                            </span>\n",
       "</pre>\n"
      ],
      "text/plain": [
       "\u001b[2;36m            \u001b[0m\u001b[2;36m \u001b[0m\u001b[31mWARNING: Suppressed \u001b[0m\u001b[1;36m3\u001b[0m\u001b[31m WARNING messages.                            \u001b[0m\n"
      ]
     },
     "metadata": {},
     "output_type": "display_data"
    },
    {
     "data": {
      "text/html": [
       "<pre style=\"white-space:pre;overflow-x:auto;line-height:normal;font-family:Menlo,'DejaVu Sans Mono',consolas,'Courier New',monospace\"><span style=\"color: #7fbfbf; text-decoration-color: #7fbfbf\">             </span><span style=\"color: #800000; text-decoration-color: #800000\">WARNING: frequency passed to </span><span style=\"color: #008000; text-decoration-color: #008000\">'Medium.eps_model()'</span><span style=\"color: #800000; text-decoration-color: #800000\">is outside of     </span>\n",
       "<span style=\"color: #7fbfbf; text-decoration-color: #7fbfbf\">             </span><span style=\"color: #008000; text-decoration-color: #008000\">'Medium.frequency_range'</span><span style=\"color: #800000; text-decoration-color: #800000\"> = </span><span style=\"color: #800000; text-decoration-color: #800000; font-weight: bold\">(</span><span style=\"color: #008080; text-decoration-color: #008080; font-weight: bold\">206753419710997.8</span><span style=\"color: #800000; text-decoration-color: #800000\">, </span><span style=\"color: #008080; text-decoration-color: #008080; font-weight: bold\">1199169834323787.2</span><span style=\"color: #800000; text-decoration-color: #800000; font-weight: bold\">)</span><span style=\"color: #800000; text-decoration-color: #800000\"> </span>\n",
       "</pre>\n"
      ],
      "text/plain": [
       "\u001b[2;36m            \u001b[0m\u001b[2;36m \u001b[0m\u001b[31mWARNING: frequency passed to \u001b[0m\u001b[32m'Medium.eps_model\u001b[0m\u001b[32m(\u001b[0m\u001b[32m)\u001b[0m\u001b[32m'\u001b[0m\u001b[31mis outside of     \u001b[0m\n",
       "\u001b[2;36m             \u001b[0m\u001b[32m'Medium.frequency_range'\u001b[0m\u001b[31m = \u001b[0m\u001b[1;31m(\u001b[0m\u001b[1;36m206753419710997.8\u001b[0m\u001b[31m, \u001b[0m\u001b[1;36m1199169834323787.2\u001b[0m\u001b[1;31m)\u001b[0m\u001b[31m \u001b[0m\n"
      ]
     },
     "metadata": {},
     "output_type": "display_data"
    },
    {
     "data": {
      "text/html": [
       "<pre style=\"white-space:pre;overflow-x:auto;line-height:normal;font-family:Menlo,'DejaVu Sans Mono',consolas,'Courier New',monospace\"><span style=\"color: #7fbfbf; text-decoration-color: #7fbfbf\">             </span><span style=\"color: #800000; text-decoration-color: #800000\">WARNING: Suppressed </span><span style=\"color: #008080; text-decoration-color: #008080; font-weight: bold\">1</span><span style=\"color: #800000; text-decoration-color: #800000\"> WARNING message.                             </span>\n",
       "</pre>\n"
      ],
      "text/plain": [
       "\u001b[2;36m            \u001b[0m\u001b[2;36m \u001b[0m\u001b[31mWARNING: Suppressed \u001b[0m\u001b[1;36m1\u001b[0m\u001b[31m WARNING message.                             \u001b[0m\n"
      ]
     },
     "metadata": {},
     "output_type": "display_data"
    },
    {
     "data": {
      "text/html": [
       "<pre style=\"white-space:pre;overflow-x:auto;line-height:normal;font-family:Menlo,'DejaVu Sans Mono',consolas,'Courier New',monospace\"><span style=\"color: #7fbfbf; text-decoration-color: #7fbfbf\">             </span><span style=\"color: #800000; text-decoration-color: #800000\">WARNING: frequency passed to </span><span style=\"color: #008000; text-decoration-color: #008000\">'Medium.eps_model()'</span><span style=\"color: #800000; text-decoration-color: #800000\">is outside of     </span>\n",
       "<span style=\"color: #7fbfbf; text-decoration-color: #7fbfbf\">             </span><span style=\"color: #008000; text-decoration-color: #008000\">'Medium.frequency_range'</span><span style=\"color: #800000; text-decoration-color: #800000\"> = </span><span style=\"color: #800000; text-decoration-color: #800000; font-weight: bold\">(</span><span style=\"color: #008080; text-decoration-color: #008080; font-weight: bold\">206753419710997.8</span><span style=\"color: #800000; text-decoration-color: #800000\">, </span><span style=\"color: #008080; text-decoration-color: #008080; font-weight: bold\">1199169834323787.2</span><span style=\"color: #800000; text-decoration-color: #800000; font-weight: bold\">)</span><span style=\"color: #800000; text-decoration-color: #800000\"> </span>\n",
       "</pre>\n"
      ],
      "text/plain": [
       "\u001b[2;36m            \u001b[0m\u001b[2;36m \u001b[0m\u001b[31mWARNING: frequency passed to \u001b[0m\u001b[32m'Medium.eps_model\u001b[0m\u001b[32m(\u001b[0m\u001b[32m)\u001b[0m\u001b[32m'\u001b[0m\u001b[31mis outside of     \u001b[0m\n",
       "\u001b[2;36m             \u001b[0m\u001b[32m'Medium.frequency_range'\u001b[0m\u001b[31m = \u001b[0m\u001b[1;31m(\u001b[0m\u001b[1;36m206753419710997.8\u001b[0m\u001b[31m, \u001b[0m\u001b[1;36m1199169834323787.2\u001b[0m\u001b[1;31m)\u001b[0m\u001b[31m \u001b[0m\n"
      ]
     },
     "metadata": {},
     "output_type": "display_data"
    },
    {
     "data": {
      "text/html": [
       "<pre style=\"white-space:pre;overflow-x:auto;line-height:normal;font-family:Menlo,'DejaVu Sans Mono',consolas,'Courier New',monospace\"><span style=\"color: #7fbfbf; text-decoration-color: #7fbfbf\">             </span><span style=\"color: #800000; text-decoration-color: #800000\">WARNING: frequency passed to </span><span style=\"color: #008000; text-decoration-color: #008000\">'Medium.eps_model()'</span><span style=\"color: #800000; text-decoration-color: #800000\">is outside of     </span>\n",
       "<span style=\"color: #7fbfbf; text-decoration-color: #7fbfbf\">             </span><span style=\"color: #008000; text-decoration-color: #008000\">'Medium.frequency_range'</span><span style=\"color: #800000; text-decoration-color: #800000\"> = </span><span style=\"color: #800000; text-decoration-color: #800000; font-weight: bold\">(</span><span style=\"color: #008080; text-decoration-color: #008080; font-weight: bold\">206753419710997.8</span><span style=\"color: #800000; text-decoration-color: #800000\">, </span><span style=\"color: #008080; text-decoration-color: #008080; font-weight: bold\">1199169834323787.2</span><span style=\"color: #800000; text-decoration-color: #800000; font-weight: bold\">)</span><span style=\"color: #800000; text-decoration-color: #800000\"> </span>\n",
       "</pre>\n"
      ],
      "text/plain": [
       "\u001b[2;36m            \u001b[0m\u001b[2;36m \u001b[0m\u001b[31mWARNING: frequency passed to \u001b[0m\u001b[32m'Medium.eps_model\u001b[0m\u001b[32m(\u001b[0m\u001b[32m)\u001b[0m\u001b[32m'\u001b[0m\u001b[31mis outside of     \u001b[0m\n",
       "\u001b[2;36m             \u001b[0m\u001b[32m'Medium.frequency_range'\u001b[0m\u001b[31m = \u001b[0m\u001b[1;31m(\u001b[0m\u001b[1;36m206753419710997.8\u001b[0m\u001b[31m, \u001b[0m\u001b[1;36m1199169834323787.2\u001b[0m\u001b[1;31m)\u001b[0m\u001b[31m \u001b[0m\n"
      ]
     },
     "metadata": {},
     "output_type": "display_data"
    },
    {
     "data": {
      "text/html": [
       "<pre style=\"white-space:pre;overflow-x:auto;line-height:normal;font-family:Menlo,'DejaVu Sans Mono',consolas,'Courier New',monospace\"><span style=\"color: #7fbfbf; text-decoration-color: #7fbfbf\">             </span><span style=\"color: #800000; text-decoration-color: #800000\">WARNING: frequency passed to </span><span style=\"color: #008000; text-decoration-color: #008000\">'Medium.eps_model()'</span><span style=\"color: #800000; text-decoration-color: #800000\">is outside of     </span>\n",
       "<span style=\"color: #7fbfbf; text-decoration-color: #7fbfbf\">             </span><span style=\"color: #008000; text-decoration-color: #008000\">'Medium.frequency_range'</span><span style=\"color: #800000; text-decoration-color: #800000\"> = </span><span style=\"color: #800000; text-decoration-color: #800000; font-weight: bold\">(</span><span style=\"color: #008080; text-decoration-color: #008080; font-weight: bold\">206753419710997.8</span><span style=\"color: #800000; text-decoration-color: #800000\">, </span><span style=\"color: #008080; text-decoration-color: #008080; font-weight: bold\">1199169834323787.2</span><span style=\"color: #800000; text-decoration-color: #800000; font-weight: bold\">)</span><span style=\"color: #800000; text-decoration-color: #800000\"> </span>\n",
       "</pre>\n"
      ],
      "text/plain": [
       "\u001b[2;36m            \u001b[0m\u001b[2;36m \u001b[0m\u001b[31mWARNING: frequency passed to \u001b[0m\u001b[32m'Medium.eps_model\u001b[0m\u001b[32m(\u001b[0m\u001b[32m)\u001b[0m\u001b[32m'\u001b[0m\u001b[31mis outside of     \u001b[0m\n",
       "\u001b[2;36m             \u001b[0m\u001b[32m'Medium.frequency_range'\u001b[0m\u001b[31m = \u001b[0m\u001b[1;31m(\u001b[0m\u001b[1;36m206753419710997.8\u001b[0m\u001b[31m, \u001b[0m\u001b[1;36m1199169834323787.2\u001b[0m\u001b[1;31m)\u001b[0m\u001b[31m \u001b[0m\n"
      ]
     },
     "metadata": {},
     "output_type": "display_data"
    },
    {
     "data": {
      "text/html": [
       "<pre style=\"white-space:pre;overflow-x:auto;line-height:normal;font-family:Menlo,'DejaVu Sans Mono',consolas,'Courier New',monospace\"><span style=\"color: #7fbfbf; text-decoration-color: #7fbfbf\">             </span><span style=\"color: #800000; text-decoration-color: #800000\">WARNING: frequency passed to </span><span style=\"color: #008000; text-decoration-color: #008000\">'Medium.eps_model()'</span><span style=\"color: #800000; text-decoration-color: #800000\">is outside of     </span>\n",
       "<span style=\"color: #7fbfbf; text-decoration-color: #7fbfbf\">             </span><span style=\"color: #008000; text-decoration-color: #008000\">'Medium.frequency_range'</span><span style=\"color: #800000; text-decoration-color: #800000\"> = </span><span style=\"color: #800000; text-decoration-color: #800000; font-weight: bold\">(</span><span style=\"color: #008080; text-decoration-color: #008080; font-weight: bold\">206753419710997.8</span><span style=\"color: #800000; text-decoration-color: #800000\">, </span><span style=\"color: #008080; text-decoration-color: #008080; font-weight: bold\">1199169834323787.2</span><span style=\"color: #800000; text-decoration-color: #800000; font-weight: bold\">)</span><span style=\"color: #800000; text-decoration-color: #800000\"> </span>\n",
       "</pre>\n"
      ],
      "text/plain": [
       "\u001b[2;36m            \u001b[0m\u001b[2;36m \u001b[0m\u001b[31mWARNING: frequency passed to \u001b[0m\u001b[32m'Medium.eps_model\u001b[0m\u001b[32m(\u001b[0m\u001b[32m)\u001b[0m\u001b[32m'\u001b[0m\u001b[31mis outside of     \u001b[0m\n",
       "\u001b[2;36m             \u001b[0m\u001b[32m'Medium.frequency_range'\u001b[0m\u001b[31m = \u001b[0m\u001b[1;31m(\u001b[0m\u001b[1;36m206753419710997.8\u001b[0m\u001b[31m, \u001b[0m\u001b[1;36m1199169834323787.2\u001b[0m\u001b[1;31m)\u001b[0m\u001b[31m \u001b[0m\n"
      ]
     },
     "metadata": {},
     "output_type": "display_data"
    },
    {
     "data": {
      "text/html": [
       "<pre style=\"white-space:pre;overflow-x:auto;line-height:normal;font-family:Menlo,'DejaVu Sans Mono',consolas,'Courier New',monospace\"><span style=\"color: #7fbfbf; text-decoration-color: #7fbfbf\">             </span><span style=\"color: #800000; text-decoration-color: #800000\">WARNING: frequency passed to </span><span style=\"color: #008000; text-decoration-color: #008000\">'Medium.eps_model()'</span><span style=\"color: #800000; text-decoration-color: #800000\">is outside of     </span>\n",
       "<span style=\"color: #7fbfbf; text-decoration-color: #7fbfbf\">             </span><span style=\"color: #008000; text-decoration-color: #008000\">'Medium.frequency_range'</span><span style=\"color: #800000; text-decoration-color: #800000\"> = </span><span style=\"color: #800000; text-decoration-color: #800000; font-weight: bold\">(</span><span style=\"color: #008080; text-decoration-color: #008080; font-weight: bold\">206753419710997.8</span><span style=\"color: #800000; text-decoration-color: #800000\">, </span><span style=\"color: #008080; text-decoration-color: #008080; font-weight: bold\">1199169834323787.2</span><span style=\"color: #800000; text-decoration-color: #800000; font-weight: bold\">)</span><span style=\"color: #800000; text-decoration-color: #800000\"> </span>\n",
       "</pre>\n"
      ],
      "text/plain": [
       "\u001b[2;36m            \u001b[0m\u001b[2;36m \u001b[0m\u001b[31mWARNING: frequency passed to \u001b[0m\u001b[32m'Medium.eps_model\u001b[0m\u001b[32m(\u001b[0m\u001b[32m)\u001b[0m\u001b[32m'\u001b[0m\u001b[31mis outside of     \u001b[0m\n",
       "\u001b[2;36m             \u001b[0m\u001b[32m'Medium.frequency_range'\u001b[0m\u001b[31m = \u001b[0m\u001b[1;31m(\u001b[0m\u001b[1;36m206753419710997.8\u001b[0m\u001b[31m, \u001b[0m\u001b[1;36m1199169834323787.2\u001b[0m\u001b[1;31m)\u001b[0m\u001b[31m \u001b[0m\n"
      ]
     },
     "metadata": {},
     "output_type": "display_data"
    },
    {
     "data": {
      "text/html": [
       "<pre style=\"white-space:pre;overflow-x:auto;line-height:normal;font-family:Menlo,'DejaVu Sans Mono',consolas,'Courier New',monospace\"><span style=\"color: #7fbfbf; text-decoration-color: #7fbfbf\">             </span><span style=\"color: #800000; text-decoration-color: #800000\">WARNING: frequency passed to </span><span style=\"color: #008000; text-decoration-color: #008000\">'Medium.eps_model()'</span><span style=\"color: #800000; text-decoration-color: #800000\">is outside of     </span>\n",
       "<span style=\"color: #7fbfbf; text-decoration-color: #7fbfbf\">             </span><span style=\"color: #008000; text-decoration-color: #008000\">'Medium.frequency_range'</span><span style=\"color: #800000; text-decoration-color: #800000\"> = </span><span style=\"color: #800000; text-decoration-color: #800000; font-weight: bold\">(</span><span style=\"color: #008080; text-decoration-color: #008080; font-weight: bold\">206753419710997.8</span><span style=\"color: #800000; text-decoration-color: #800000\">, </span><span style=\"color: #008080; text-decoration-color: #008080; font-weight: bold\">1199169834323787.2</span><span style=\"color: #800000; text-decoration-color: #800000; font-weight: bold\">)</span><span style=\"color: #800000; text-decoration-color: #800000\"> </span>\n",
       "</pre>\n"
      ],
      "text/plain": [
       "\u001b[2;36m            \u001b[0m\u001b[2;36m \u001b[0m\u001b[31mWARNING: frequency passed to \u001b[0m\u001b[32m'Medium.eps_model\u001b[0m\u001b[32m(\u001b[0m\u001b[32m)\u001b[0m\u001b[32m'\u001b[0m\u001b[31mis outside of     \u001b[0m\n",
       "\u001b[2;36m             \u001b[0m\u001b[32m'Medium.frequency_range'\u001b[0m\u001b[31m = \u001b[0m\u001b[1;31m(\u001b[0m\u001b[1;36m206753419710997.8\u001b[0m\u001b[31m, \u001b[0m\u001b[1;36m1199169834323787.2\u001b[0m\u001b[1;31m)\u001b[0m\u001b[31m \u001b[0m\n"
      ]
     },
     "metadata": {},
     "output_type": "display_data"
    },
    {
     "data": {
      "text/html": [
       "<pre style=\"white-space:pre;overflow-x:auto;line-height:normal;font-family:Menlo,'DejaVu Sans Mono',consolas,'Courier New',monospace\"><span style=\"color: #7fbfbf; text-decoration-color: #7fbfbf\">             </span><span style=\"color: #800000; text-decoration-color: #800000\">WARNING: frequency passed to </span><span style=\"color: #008000; text-decoration-color: #008000\">'Medium.eps_model()'</span><span style=\"color: #800000; text-decoration-color: #800000\">is outside of     </span>\n",
       "<span style=\"color: #7fbfbf; text-decoration-color: #7fbfbf\">             </span><span style=\"color: #008000; text-decoration-color: #008000\">'Medium.frequency_range'</span><span style=\"color: #800000; text-decoration-color: #800000\"> = </span><span style=\"color: #800000; text-decoration-color: #800000; font-weight: bold\">(</span><span style=\"color: #008080; text-decoration-color: #008080; font-weight: bold\">206753419710997.8</span><span style=\"color: #800000; text-decoration-color: #800000\">, </span><span style=\"color: #008080; text-decoration-color: #008080; font-weight: bold\">1199169834323787.2</span><span style=\"color: #800000; text-decoration-color: #800000; font-weight: bold\">)</span><span style=\"color: #800000; text-decoration-color: #800000\"> </span>\n",
       "</pre>\n"
      ],
      "text/plain": [
       "\u001b[2;36m            \u001b[0m\u001b[2;36m \u001b[0m\u001b[31mWARNING: frequency passed to \u001b[0m\u001b[32m'Medium.eps_model\u001b[0m\u001b[32m(\u001b[0m\u001b[32m)\u001b[0m\u001b[32m'\u001b[0m\u001b[31mis outside of     \u001b[0m\n",
       "\u001b[2;36m             \u001b[0m\u001b[32m'Medium.frequency_range'\u001b[0m\u001b[31m = \u001b[0m\u001b[1;31m(\u001b[0m\u001b[1;36m206753419710997.8\u001b[0m\u001b[31m, \u001b[0m\u001b[1;36m1199169834323787.2\u001b[0m\u001b[1;31m)\u001b[0m\u001b[31m \u001b[0m\n"
      ]
     },
     "metadata": {},
     "output_type": "display_data"
    },
    {
     "data": {
      "text/html": [
       "<pre style=\"white-space:pre;overflow-x:auto;line-height:normal;font-family:Menlo,'DejaVu Sans Mono',consolas,'Courier New',monospace\"><span style=\"color: #7fbfbf; text-decoration-color: #7fbfbf\">             </span><span style=\"color: #800000; text-decoration-color: #800000\">WARNING: frequency passed to </span><span style=\"color: #008000; text-decoration-color: #008000\">'Medium.eps_model()'</span><span style=\"color: #800000; text-decoration-color: #800000\">is outside of     </span>\n",
       "<span style=\"color: #7fbfbf; text-decoration-color: #7fbfbf\">             </span><span style=\"color: #008000; text-decoration-color: #008000\">'Medium.frequency_range'</span><span style=\"color: #800000; text-decoration-color: #800000\"> = </span><span style=\"color: #800000; text-decoration-color: #800000; font-weight: bold\">(</span><span style=\"color: #008080; text-decoration-color: #008080; font-weight: bold\">206753419710997.8</span><span style=\"color: #800000; text-decoration-color: #800000\">, </span><span style=\"color: #008080; text-decoration-color: #008080; font-weight: bold\">1199169834323787.2</span><span style=\"color: #800000; text-decoration-color: #800000; font-weight: bold\">)</span><span style=\"color: #800000; text-decoration-color: #800000\"> </span>\n",
       "</pre>\n"
      ],
      "text/plain": [
       "\u001b[2;36m            \u001b[0m\u001b[2;36m \u001b[0m\u001b[31mWARNING: frequency passed to \u001b[0m\u001b[32m'Medium.eps_model\u001b[0m\u001b[32m(\u001b[0m\u001b[32m)\u001b[0m\u001b[32m'\u001b[0m\u001b[31mis outside of     \u001b[0m\n",
       "\u001b[2;36m             \u001b[0m\u001b[32m'Medium.frequency_range'\u001b[0m\u001b[31m = \u001b[0m\u001b[1;31m(\u001b[0m\u001b[1;36m206753419710997.8\u001b[0m\u001b[31m, \u001b[0m\u001b[1;36m1199169834323787.2\u001b[0m\u001b[1;31m)\u001b[0m\u001b[31m \u001b[0m\n"
      ]
     },
     "metadata": {},
     "output_type": "display_data"
    },
    {
     "data": {
      "text/html": [
       "<pre style=\"white-space:pre;overflow-x:auto;line-height:normal;font-family:Menlo,'DejaVu Sans Mono',consolas,'Courier New',monospace\"><span style=\"color: #7fbfbf; text-decoration-color: #7fbfbf\">             </span><span style=\"color: #800000; text-decoration-color: #800000\">WARNING: The medium associated with </span><span style=\"color: #008000; text-decoration-color: #008000\">'cSi_Green2008'</span><span style=\"color: #800000; text-decoration-color: #800000\">                </span>\n",
       "<span style=\"color: #7fbfbf; text-decoration-color: #7fbfbf\">             </span><span style=\"color: #800000; text-decoration-color: #800000; font-weight: bold\">(</span><span style=\"color: #800000; text-decoration-color: #800000\">simulation.mediums</span><span style=\"color: #800000; text-decoration-color: #800000; font-weight: bold\">[</span><span style=\"color: #008080; text-decoration-color: #008080; font-weight: bold\">1</span><span style=\"color: #800000; text-decoration-color: #800000; font-weight: bold\">])</span><span style=\"color: #800000; text-decoration-color: #800000\"> has a frequency range: </span><span style=\"color: #800000; text-decoration-color: #800000; font-weight: bold\">(</span><span style=\"color: #008080; text-decoration-color: #008080; font-weight: bold\">2.0675e14</span><span style=\"color: #800000; text-decoration-color: #800000\">,         </span>\n",
       "<span style=\"color: #7fbfbf; text-decoration-color: #7fbfbf\">             </span><span style=\"color: #008080; text-decoration-color: #008080; font-weight: bold\">11.9917e14</span><span style=\"color: #800000; text-decoration-color: #800000; font-weight: bold\">)</span><span style=\"color: #800000; text-decoration-color: #800000\"> </span><span style=\"color: #800000; text-decoration-color: #800000; font-weight: bold\">(</span><span style=\"color: #800000; text-decoration-color: #800000\">Hz</span><span style=\"color: #800000; text-decoration-color: #800000; font-weight: bold\">)</span><span style=\"color: #800000; text-decoration-color: #800000\"> that does not fully cover the frequencies         </span>\n",
       "<span style=\"color: #7fbfbf; text-decoration-color: #7fbfbf\">             </span><span style=\"color: #800000; text-decoration-color: #800000\">contained in </span><span style=\"color: #008000; text-decoration-color: #008000\">'flux_monitor'</span><span style=\"color: #800000; text-decoration-color: #800000\"> </span><span style=\"color: #800000; text-decoration-color: #800000; font-weight: bold\">(</span><span style=\"color: #800000; text-decoration-color: #800000\">simulation.monitors</span><span style=\"color: #800000; text-decoration-color: #800000; font-weight: bold\">[</span><span style=\"color: #008080; text-decoration-color: #008080; font-weight: bold\">0</span><span style=\"color: #800000; text-decoration-color: #800000; font-weight: bold\">])</span><span style=\"color: #800000; text-decoration-color: #800000\">.This can cause</span>\n",
       "<span style=\"color: #7fbfbf; text-decoration-color: #7fbfbf\">             </span><span style=\"color: #800000; text-decoration-color: #800000\">inaccuracies in the recorded results.                              </span>\n",
       "</pre>\n"
      ],
      "text/plain": [
       "\u001b[2;36m            \u001b[0m\u001b[2;36m \u001b[0m\u001b[31mWARNING: The medium associated with \u001b[0m\u001b[32m'cSi_Green2008'\u001b[0m\u001b[31m                \u001b[0m\n",
       "\u001b[2;36m             \u001b[0m\u001b[1;31m(\u001b[0m\u001b[31msimulation.mediums\u001b[0m\u001b[1;31m[\u001b[0m\u001b[1;36m1\u001b[0m\u001b[1;31m]\u001b[0m\u001b[1;31m)\u001b[0m\u001b[31m has a frequency range: \u001b[0m\u001b[1;31m(\u001b[0m\u001b[1;36m2.0675e14\u001b[0m\u001b[31m,         \u001b[0m\n",
       "\u001b[2;36m             \u001b[0m\u001b[1;36m11.9917e14\u001b[0m\u001b[1;31m)\u001b[0m\u001b[31m \u001b[0m\u001b[1;31m(\u001b[0m\u001b[31mHz\u001b[0m\u001b[1;31m)\u001b[0m\u001b[31m that does not fully cover the frequencies         \u001b[0m\n",
       "\u001b[2;36m             \u001b[0m\u001b[31mcontained in \u001b[0m\u001b[32m'flux_monitor'\u001b[0m\u001b[31m \u001b[0m\u001b[1;31m(\u001b[0m\u001b[31msimulation.monitors\u001b[0m\u001b[1;31m[\u001b[0m\u001b[1;36m0\u001b[0m\u001b[1;31m]\u001b[0m\u001b[1;31m)\u001b[0m\u001b[31m.This can cause\u001b[0m\n",
       "\u001b[2;36m             \u001b[0m\u001b[31minaccuracies in the recorded results.                              \u001b[0m\n"
      ]
     },
     "metadata": {},
     "output_type": "display_data"
    },
    {
     "data": {
      "text/html": [
       "<pre style=\"white-space:pre;overflow-x:auto;line-height:normal;font-family:Menlo,'DejaVu Sans Mono',consolas,'Courier New',monospace\"><span style=\"color: #7fbfbf; text-decoration-color: #7fbfbf\">13:18:06 EDT </span><span style=\"color: #800000; text-decoration-color: #800000\">WARNING: Suppressed </span><span style=\"color: #008080; text-decoration-color: #008080; font-weight: bold\">1</span><span style=\"color: #800000; text-decoration-color: #800000\"> WARNING message.                             </span>\n",
       "</pre>\n"
      ],
      "text/plain": [
       "\u001b[2;36m13:18:06 EDT\u001b[0m\u001b[2;36m \u001b[0m\u001b[31mWARNING: Suppressed \u001b[0m\u001b[1;36m1\u001b[0m\u001b[31m WARNING message.                             \u001b[0m\n"
      ]
     },
     "metadata": {},
     "output_type": "display_data"
    },
    {
     "data": {
      "text/html": [
       "<pre style=\"white-space:pre;overflow-x:auto;line-height:normal;font-family:Menlo,'DejaVu Sans Mono',consolas,'Courier New',monospace\"><span style=\"color: #7fbfbf; text-decoration-color: #7fbfbf\">             </span><span style=\"color: #800000; text-decoration-color: #800000\">WARNING: frequency passed to </span><span style=\"color: #008000; text-decoration-color: #008000\">'Medium.eps_model()'</span><span style=\"color: #800000; text-decoration-color: #800000\">is outside of     </span>\n",
       "<span style=\"color: #7fbfbf; text-decoration-color: #7fbfbf\">             </span><span style=\"color: #008000; text-decoration-color: #008000\">'Medium.frequency_range'</span><span style=\"color: #800000; text-decoration-color: #800000\"> = </span><span style=\"color: #800000; text-decoration-color: #800000; font-weight: bold\">(</span><span style=\"color: #008080; text-decoration-color: #008080; font-weight: bold\">206753419710997.8</span><span style=\"color: #800000; text-decoration-color: #800000\">, </span><span style=\"color: #008080; text-decoration-color: #008080; font-weight: bold\">1199169834323787.2</span><span style=\"color: #800000; text-decoration-color: #800000; font-weight: bold\">)</span><span style=\"color: #800000; text-decoration-color: #800000\"> </span>\n",
       "</pre>\n"
      ],
      "text/plain": [
       "\u001b[2;36m            \u001b[0m\u001b[2;36m \u001b[0m\u001b[31mWARNING: frequency passed to \u001b[0m\u001b[32m'Medium.eps_model\u001b[0m\u001b[32m(\u001b[0m\u001b[32m)\u001b[0m\u001b[32m'\u001b[0m\u001b[31mis outside of     \u001b[0m\n",
       "\u001b[2;36m             \u001b[0m\u001b[32m'Medium.frequency_range'\u001b[0m\u001b[31m = \u001b[0m\u001b[1;31m(\u001b[0m\u001b[1;36m206753419710997.8\u001b[0m\u001b[31m, \u001b[0m\u001b[1;36m1199169834323787.2\u001b[0m\u001b[1;31m)\u001b[0m\u001b[31m \u001b[0m\n"
      ]
     },
     "metadata": {},
     "output_type": "display_data"
    },
    {
     "data": {
      "text/html": [
       "<pre style=\"white-space:pre;overflow-x:auto;line-height:normal;font-family:Menlo,'DejaVu Sans Mono',consolas,'Courier New',monospace\"><span style=\"color: #7fbfbf; text-decoration-color: #7fbfbf\">             </span><span style=\"color: #800000; text-decoration-color: #800000\">WARNING: frequency passed to </span><span style=\"color: #008000; text-decoration-color: #008000\">'Medium.eps_model()'</span><span style=\"color: #800000; text-decoration-color: #800000\">is outside of     </span>\n",
       "<span style=\"color: #7fbfbf; text-decoration-color: #7fbfbf\">             </span><span style=\"color: #008000; text-decoration-color: #008000\">'Medium.frequency_range'</span><span style=\"color: #800000; text-decoration-color: #800000\"> = </span><span style=\"color: #800000; text-decoration-color: #800000; font-weight: bold\">(</span><span style=\"color: #008080; text-decoration-color: #008080; font-weight: bold\">206753419710997.8</span><span style=\"color: #800000; text-decoration-color: #800000\">, </span><span style=\"color: #008080; text-decoration-color: #008080; font-weight: bold\">1199169834323787.2</span><span style=\"color: #800000; text-decoration-color: #800000; font-weight: bold\">)</span><span style=\"color: #800000; text-decoration-color: #800000\"> </span>\n",
       "</pre>\n"
      ],
      "text/plain": [
       "\u001b[2;36m            \u001b[0m\u001b[2;36m \u001b[0m\u001b[31mWARNING: frequency passed to \u001b[0m\u001b[32m'Medium.eps_model\u001b[0m\u001b[32m(\u001b[0m\u001b[32m)\u001b[0m\u001b[32m'\u001b[0m\u001b[31mis outside of     \u001b[0m\n",
       "\u001b[2;36m             \u001b[0m\u001b[32m'Medium.frequency_range'\u001b[0m\u001b[31m = \u001b[0m\u001b[1;31m(\u001b[0m\u001b[1;36m206753419710997.8\u001b[0m\u001b[31m, \u001b[0m\u001b[1;36m1199169834323787.2\u001b[0m\u001b[1;31m)\u001b[0m\u001b[31m \u001b[0m\n"
      ]
     },
     "metadata": {},
     "output_type": "display_data"
    },
    {
     "data": {
      "text/html": [
       "<pre style=\"white-space:pre;overflow-x:auto;line-height:normal;font-family:Menlo,'DejaVu Sans Mono',consolas,'Courier New',monospace\"><span style=\"color: #7fbfbf; text-decoration-color: #7fbfbf\">             </span><span style=\"color: #800000; text-decoration-color: #800000\">WARNING: frequency passed to </span><span style=\"color: #008000; text-decoration-color: #008000\">'Medium.eps_model()'</span><span style=\"color: #800000; text-decoration-color: #800000\">is outside of     </span>\n",
       "<span style=\"color: #7fbfbf; text-decoration-color: #7fbfbf\">             </span><span style=\"color: #008000; text-decoration-color: #008000\">'Medium.frequency_range'</span><span style=\"color: #800000; text-decoration-color: #800000\"> = </span><span style=\"color: #800000; text-decoration-color: #800000; font-weight: bold\">(</span><span style=\"color: #008080; text-decoration-color: #008080; font-weight: bold\">206753419710997.8</span><span style=\"color: #800000; text-decoration-color: #800000\">, </span><span style=\"color: #008080; text-decoration-color: #008080; font-weight: bold\">1199169834323787.2</span><span style=\"color: #800000; text-decoration-color: #800000; font-weight: bold\">)</span><span style=\"color: #800000; text-decoration-color: #800000\"> </span>\n",
       "</pre>\n"
      ],
      "text/plain": [
       "\u001b[2;36m            \u001b[0m\u001b[2;36m \u001b[0m\u001b[31mWARNING: frequency passed to \u001b[0m\u001b[32m'Medium.eps_model\u001b[0m\u001b[32m(\u001b[0m\u001b[32m)\u001b[0m\u001b[32m'\u001b[0m\u001b[31mis outside of     \u001b[0m\n",
       "\u001b[2;36m             \u001b[0m\u001b[32m'Medium.frequency_range'\u001b[0m\u001b[31m = \u001b[0m\u001b[1;31m(\u001b[0m\u001b[1;36m206753419710997.8\u001b[0m\u001b[31m, \u001b[0m\u001b[1;36m1199169834323787.2\u001b[0m\u001b[1;31m)\u001b[0m\u001b[31m \u001b[0m\n"
      ]
     },
     "metadata": {},
     "output_type": "display_data"
    },
    {
     "data": {
      "text/html": [
       "<pre style=\"white-space:pre;overflow-x:auto;line-height:normal;font-family:Menlo,'DejaVu Sans Mono',consolas,'Courier New',monospace\"><span style=\"color: #7fbfbf; text-decoration-color: #7fbfbf\">             </span><span style=\"color: #800000; text-decoration-color: #800000\">WARNING: frequency passed to </span><span style=\"color: #008000; text-decoration-color: #008000\">'Medium.eps_model()'</span><span style=\"color: #800000; text-decoration-color: #800000\">is outside of     </span>\n",
       "<span style=\"color: #7fbfbf; text-decoration-color: #7fbfbf\">             </span><span style=\"color: #008000; text-decoration-color: #008000\">'Medium.frequency_range'</span><span style=\"color: #800000; text-decoration-color: #800000\"> = </span><span style=\"color: #800000; text-decoration-color: #800000; font-weight: bold\">(</span><span style=\"color: #008080; text-decoration-color: #008080; font-weight: bold\">206753419710997.8</span><span style=\"color: #800000; text-decoration-color: #800000\">, </span><span style=\"color: #008080; text-decoration-color: #008080; font-weight: bold\">1199169834323787.2</span><span style=\"color: #800000; text-decoration-color: #800000; font-weight: bold\">)</span><span style=\"color: #800000; text-decoration-color: #800000\"> </span>\n",
       "</pre>\n"
      ],
      "text/plain": [
       "\u001b[2;36m            \u001b[0m\u001b[2;36m \u001b[0m\u001b[31mWARNING: frequency passed to \u001b[0m\u001b[32m'Medium.eps_model\u001b[0m\u001b[32m(\u001b[0m\u001b[32m)\u001b[0m\u001b[32m'\u001b[0m\u001b[31mis outside of     \u001b[0m\n",
       "\u001b[2;36m             \u001b[0m\u001b[32m'Medium.frequency_range'\u001b[0m\u001b[31m = \u001b[0m\u001b[1;31m(\u001b[0m\u001b[1;36m206753419710997.8\u001b[0m\u001b[31m, \u001b[0m\u001b[1;36m1199169834323787.2\u001b[0m\u001b[1;31m)\u001b[0m\u001b[31m \u001b[0m\n"
      ]
     },
     "metadata": {},
     "output_type": "display_data"
    },
    {
     "data": {
      "text/html": [
       "<pre style=\"white-space:pre;overflow-x:auto;line-height:normal;font-family:Menlo,'DejaVu Sans Mono',consolas,'Courier New',monospace\"><span style=\"color: #7fbfbf; text-decoration-color: #7fbfbf\">             </span><span style=\"color: #800000; text-decoration-color: #800000\">WARNING: frequency passed to </span><span style=\"color: #008000; text-decoration-color: #008000\">'Medium.eps_model()'</span><span style=\"color: #800000; text-decoration-color: #800000\">is outside of     </span>\n",
       "<span style=\"color: #7fbfbf; text-decoration-color: #7fbfbf\">             </span><span style=\"color: #008000; text-decoration-color: #008000\">'Medium.frequency_range'</span><span style=\"color: #800000; text-decoration-color: #800000\"> = </span><span style=\"color: #800000; text-decoration-color: #800000; font-weight: bold\">(</span><span style=\"color: #008080; text-decoration-color: #008080; font-weight: bold\">206753419710997.8</span><span style=\"color: #800000; text-decoration-color: #800000\">, </span><span style=\"color: #008080; text-decoration-color: #008080; font-weight: bold\">1199169834323787.2</span><span style=\"color: #800000; text-decoration-color: #800000; font-weight: bold\">)</span><span style=\"color: #800000; text-decoration-color: #800000\"> </span>\n",
       "</pre>\n"
      ],
      "text/plain": [
       "\u001b[2;36m            \u001b[0m\u001b[2;36m \u001b[0m\u001b[31mWARNING: frequency passed to \u001b[0m\u001b[32m'Medium.eps_model\u001b[0m\u001b[32m(\u001b[0m\u001b[32m)\u001b[0m\u001b[32m'\u001b[0m\u001b[31mis outside of     \u001b[0m\n",
       "\u001b[2;36m             \u001b[0m\u001b[32m'Medium.frequency_range'\u001b[0m\u001b[31m = \u001b[0m\u001b[1;31m(\u001b[0m\u001b[1;36m206753419710997.8\u001b[0m\u001b[31m, \u001b[0m\u001b[1;36m1199169834323787.2\u001b[0m\u001b[1;31m)\u001b[0m\u001b[31m \u001b[0m\n"
      ]
     },
     "metadata": {},
     "output_type": "display_data"
    },
    {
     "data": {
      "text/html": [
       "<pre style=\"white-space:pre;overflow-x:auto;line-height:normal;font-family:Menlo,'DejaVu Sans Mono',consolas,'Courier New',monospace\"><span style=\"color: #7fbfbf; text-decoration-color: #7fbfbf\">             </span><span style=\"color: #800000; text-decoration-color: #800000\">WARNING: The medium associated with </span><span style=\"color: #008000; text-decoration-color: #008000\">'cSi_Green2008'</span><span style=\"color: #800000; text-decoration-color: #800000\">                </span>\n",
       "<span style=\"color: #7fbfbf; text-decoration-color: #7fbfbf\">             </span><span style=\"color: #800000; text-decoration-color: #800000; font-weight: bold\">(</span><span style=\"color: #800000; text-decoration-color: #800000\">simulation.mediums</span><span style=\"color: #800000; text-decoration-color: #800000; font-weight: bold\">[</span><span style=\"color: #008080; text-decoration-color: #008080; font-weight: bold\">1</span><span style=\"color: #800000; text-decoration-color: #800000; font-weight: bold\">])</span><span style=\"color: #800000; text-decoration-color: #800000\"> has a frequency range: </span><span style=\"color: #800000; text-decoration-color: #800000; font-weight: bold\">(</span><span style=\"color: #008080; text-decoration-color: #008080; font-weight: bold\">2.0675e14</span><span style=\"color: #800000; text-decoration-color: #800000\">,         </span>\n",
       "<span style=\"color: #7fbfbf; text-decoration-color: #7fbfbf\">             </span><span style=\"color: #008080; text-decoration-color: #008080; font-weight: bold\">11.9917e14</span><span style=\"color: #800000; text-decoration-color: #800000; font-weight: bold\">)</span><span style=\"color: #800000; text-decoration-color: #800000\"> </span><span style=\"color: #800000; text-decoration-color: #800000; font-weight: bold\">(</span><span style=\"color: #800000; text-decoration-color: #800000\">Hz</span><span style=\"color: #800000; text-decoration-color: #800000; font-weight: bold\">)</span><span style=\"color: #800000; text-decoration-color: #800000\"> that does not fully cover the frequencies         </span>\n",
       "<span style=\"color: #7fbfbf; text-decoration-color: #7fbfbf\">             </span><span style=\"color: #800000; text-decoration-color: #800000\">contained in </span><span style=\"color: #008000; text-decoration-color: #008000\">'flux_monitor'</span><span style=\"color: #800000; text-decoration-color: #800000\"> </span><span style=\"color: #800000; text-decoration-color: #800000; font-weight: bold\">(</span><span style=\"color: #800000; text-decoration-color: #800000\">simulation.monitors</span><span style=\"color: #800000; text-decoration-color: #800000; font-weight: bold\">[</span><span style=\"color: #008080; text-decoration-color: #008080; font-weight: bold\">0</span><span style=\"color: #800000; text-decoration-color: #800000; font-weight: bold\">])</span><span style=\"color: #800000; text-decoration-color: #800000\">.This can cause</span>\n",
       "<span style=\"color: #7fbfbf; text-decoration-color: #7fbfbf\">             </span><span style=\"color: #800000; text-decoration-color: #800000\">inaccuracies in the recorded results.                              </span>\n",
       "</pre>\n"
      ],
      "text/plain": [
       "\u001b[2;36m            \u001b[0m\u001b[2;36m \u001b[0m\u001b[31mWARNING: The medium associated with \u001b[0m\u001b[32m'cSi_Green2008'\u001b[0m\u001b[31m                \u001b[0m\n",
       "\u001b[2;36m             \u001b[0m\u001b[1;31m(\u001b[0m\u001b[31msimulation.mediums\u001b[0m\u001b[1;31m[\u001b[0m\u001b[1;36m1\u001b[0m\u001b[1;31m]\u001b[0m\u001b[1;31m)\u001b[0m\u001b[31m has a frequency range: \u001b[0m\u001b[1;31m(\u001b[0m\u001b[1;36m2.0675e14\u001b[0m\u001b[31m,         \u001b[0m\n",
       "\u001b[2;36m             \u001b[0m\u001b[1;36m11.9917e14\u001b[0m\u001b[1;31m)\u001b[0m\u001b[31m \u001b[0m\u001b[1;31m(\u001b[0m\u001b[31mHz\u001b[0m\u001b[1;31m)\u001b[0m\u001b[31m that does not fully cover the frequencies         \u001b[0m\n",
       "\u001b[2;36m             \u001b[0m\u001b[31mcontained in \u001b[0m\u001b[32m'flux_monitor'\u001b[0m\u001b[31m \u001b[0m\u001b[1;31m(\u001b[0m\u001b[31msimulation.monitors\u001b[0m\u001b[1;31m[\u001b[0m\u001b[1;36m0\u001b[0m\u001b[1;31m]\u001b[0m\u001b[1;31m)\u001b[0m\u001b[31m.This can cause\u001b[0m\n",
       "\u001b[2;36m             \u001b[0m\u001b[31minaccuracies in the recorded results.                              \u001b[0m\n"
      ]
     },
     "metadata": {},
     "output_type": "display_data"
    },
    {
     "data": {
      "text/html": [
       "<pre style=\"white-space:pre;overflow-x:auto;line-height:normal;font-family:Menlo,'DejaVu Sans Mono',consolas,'Courier New',monospace\"><span style=\"color: #7fbfbf; text-decoration-color: #7fbfbf\">             </span><span style=\"color: #800000; text-decoration-color: #800000\">WARNING: Suppressed </span><span style=\"color: #008080; text-decoration-color: #008080; font-weight: bold\">3</span><span style=\"color: #800000; text-decoration-color: #800000\"> WARNING messages.                            </span>\n",
       "</pre>\n"
      ],
      "text/plain": [
       "\u001b[2;36m            \u001b[0m\u001b[2;36m \u001b[0m\u001b[31mWARNING: Suppressed \u001b[0m\u001b[1;36m3\u001b[0m\u001b[31m WARNING messages.                            \u001b[0m\n"
      ]
     },
     "metadata": {},
     "output_type": "display_data"
    },
    {
     "data": {
      "text/html": [
       "<pre style=\"white-space:pre;overflow-x:auto;line-height:normal;font-family:Menlo,'DejaVu Sans Mono',consolas,'Courier New',monospace\"><span style=\"color: #7fbfbf; text-decoration-color: #7fbfbf\">             </span><span style=\"color: #800000; text-decoration-color: #800000\">WARNING: frequency passed to </span><span style=\"color: #008000; text-decoration-color: #008000\">'Medium.eps_model()'</span><span style=\"color: #800000; text-decoration-color: #800000\">is outside of     </span>\n",
       "<span style=\"color: #7fbfbf; text-decoration-color: #7fbfbf\">             </span><span style=\"color: #008000; text-decoration-color: #008000\">'Medium.frequency_range'</span><span style=\"color: #800000; text-decoration-color: #800000\"> = </span><span style=\"color: #800000; text-decoration-color: #800000; font-weight: bold\">(</span><span style=\"color: #008080; text-decoration-color: #008080; font-weight: bold\">206753419710997.8</span><span style=\"color: #800000; text-decoration-color: #800000\">, </span><span style=\"color: #008080; text-decoration-color: #008080; font-weight: bold\">1199169834323787.2</span><span style=\"color: #800000; text-decoration-color: #800000; font-weight: bold\">)</span><span style=\"color: #800000; text-decoration-color: #800000\"> </span>\n",
       "</pre>\n"
      ],
      "text/plain": [
       "\u001b[2;36m            \u001b[0m\u001b[2;36m \u001b[0m\u001b[31mWARNING: frequency passed to \u001b[0m\u001b[32m'Medium.eps_model\u001b[0m\u001b[32m(\u001b[0m\u001b[32m)\u001b[0m\u001b[32m'\u001b[0m\u001b[31mis outside of     \u001b[0m\n",
       "\u001b[2;36m             \u001b[0m\u001b[32m'Medium.frequency_range'\u001b[0m\u001b[31m = \u001b[0m\u001b[1;31m(\u001b[0m\u001b[1;36m206753419710997.8\u001b[0m\u001b[31m, \u001b[0m\u001b[1;36m1199169834323787.2\u001b[0m\u001b[1;31m)\u001b[0m\u001b[31m \u001b[0m\n"
      ]
     },
     "metadata": {},
     "output_type": "display_data"
    },
    {
     "data": {
      "text/html": [
       "<pre style=\"white-space:pre;overflow-x:auto;line-height:normal;font-family:Menlo,'DejaVu Sans Mono',consolas,'Courier New',monospace\"><span style=\"color: #7fbfbf; text-decoration-color: #7fbfbf\">             </span><span style=\"color: #800000; text-decoration-color: #800000\">WARNING: Suppressed </span><span style=\"color: #008080; text-decoration-color: #008080; font-weight: bold\">1</span><span style=\"color: #800000; text-decoration-color: #800000\"> WARNING message.                             </span>\n",
       "</pre>\n"
      ],
      "text/plain": [
       "\u001b[2;36m            \u001b[0m\u001b[2;36m \u001b[0m\u001b[31mWARNING: Suppressed \u001b[0m\u001b[1;36m1\u001b[0m\u001b[31m WARNING message.                             \u001b[0m\n"
      ]
     },
     "metadata": {},
     "output_type": "display_data"
    },
    {
     "data": {
      "text/html": [
       "<pre style=\"white-space:pre;overflow-x:auto;line-height:normal;font-family:Menlo,'DejaVu Sans Mono',consolas,'Courier New',monospace\"><span style=\"color: #7fbfbf; text-decoration-color: #7fbfbf\">             </span><span style=\"color: #800000; text-decoration-color: #800000\">WARNING: frequency passed to </span><span style=\"color: #008000; text-decoration-color: #008000\">'Medium.eps_model()'</span><span style=\"color: #800000; text-decoration-color: #800000\">is outside of     </span>\n",
       "<span style=\"color: #7fbfbf; text-decoration-color: #7fbfbf\">             </span><span style=\"color: #008000; text-decoration-color: #008000\">'Medium.frequency_range'</span><span style=\"color: #800000; text-decoration-color: #800000\"> = </span><span style=\"color: #800000; text-decoration-color: #800000; font-weight: bold\">(</span><span style=\"color: #008080; text-decoration-color: #008080; font-weight: bold\">206753419710997.8</span><span style=\"color: #800000; text-decoration-color: #800000\">, </span><span style=\"color: #008080; text-decoration-color: #008080; font-weight: bold\">1199169834323787.2</span><span style=\"color: #800000; text-decoration-color: #800000; font-weight: bold\">)</span><span style=\"color: #800000; text-decoration-color: #800000\"> </span>\n",
       "</pre>\n"
      ],
      "text/plain": [
       "\u001b[2;36m            \u001b[0m\u001b[2;36m \u001b[0m\u001b[31mWARNING: frequency passed to \u001b[0m\u001b[32m'Medium.eps_model\u001b[0m\u001b[32m(\u001b[0m\u001b[32m)\u001b[0m\u001b[32m'\u001b[0m\u001b[31mis outside of     \u001b[0m\n",
       "\u001b[2;36m             \u001b[0m\u001b[32m'Medium.frequency_range'\u001b[0m\u001b[31m = \u001b[0m\u001b[1;31m(\u001b[0m\u001b[1;36m206753419710997.8\u001b[0m\u001b[31m, \u001b[0m\u001b[1;36m1199169834323787.2\u001b[0m\u001b[1;31m)\u001b[0m\u001b[31m \u001b[0m\n"
      ]
     },
     "metadata": {},
     "output_type": "display_data"
    },
    {
     "data": {
      "text/html": [
       "<pre style=\"white-space:pre;overflow-x:auto;line-height:normal;font-family:Menlo,'DejaVu Sans Mono',consolas,'Courier New',monospace\"><span style=\"color: #7fbfbf; text-decoration-color: #7fbfbf\">             </span><span style=\"color: #800000; text-decoration-color: #800000\">WARNING: frequency passed to </span><span style=\"color: #008000; text-decoration-color: #008000\">'Medium.eps_model()'</span><span style=\"color: #800000; text-decoration-color: #800000\">is outside of     </span>\n",
       "<span style=\"color: #7fbfbf; text-decoration-color: #7fbfbf\">             </span><span style=\"color: #008000; text-decoration-color: #008000\">'Medium.frequency_range'</span><span style=\"color: #800000; text-decoration-color: #800000\"> = </span><span style=\"color: #800000; text-decoration-color: #800000; font-weight: bold\">(</span><span style=\"color: #008080; text-decoration-color: #008080; font-weight: bold\">206753419710997.8</span><span style=\"color: #800000; text-decoration-color: #800000\">, </span><span style=\"color: #008080; text-decoration-color: #008080; font-weight: bold\">1199169834323787.2</span><span style=\"color: #800000; text-decoration-color: #800000; font-weight: bold\">)</span><span style=\"color: #800000; text-decoration-color: #800000\"> </span>\n",
       "</pre>\n"
      ],
      "text/plain": [
       "\u001b[2;36m            \u001b[0m\u001b[2;36m \u001b[0m\u001b[31mWARNING: frequency passed to \u001b[0m\u001b[32m'Medium.eps_model\u001b[0m\u001b[32m(\u001b[0m\u001b[32m)\u001b[0m\u001b[32m'\u001b[0m\u001b[31mis outside of     \u001b[0m\n",
       "\u001b[2;36m             \u001b[0m\u001b[32m'Medium.frequency_range'\u001b[0m\u001b[31m = \u001b[0m\u001b[1;31m(\u001b[0m\u001b[1;36m206753419710997.8\u001b[0m\u001b[31m, \u001b[0m\u001b[1;36m1199169834323787.2\u001b[0m\u001b[1;31m)\u001b[0m\u001b[31m \u001b[0m\n"
      ]
     },
     "metadata": {},
     "output_type": "display_data"
    },
    {
     "data": {
      "text/html": [
       "<pre style=\"white-space:pre;overflow-x:auto;line-height:normal;font-family:Menlo,'DejaVu Sans Mono',consolas,'Courier New',monospace\"><span style=\"color: #7fbfbf; text-decoration-color: #7fbfbf\">             </span><span style=\"color: #800000; text-decoration-color: #800000\">WARNING: frequency passed to </span><span style=\"color: #008000; text-decoration-color: #008000\">'Medium.eps_model()'</span><span style=\"color: #800000; text-decoration-color: #800000\">is outside of     </span>\n",
       "<span style=\"color: #7fbfbf; text-decoration-color: #7fbfbf\">             </span><span style=\"color: #008000; text-decoration-color: #008000\">'Medium.frequency_range'</span><span style=\"color: #800000; text-decoration-color: #800000\"> = </span><span style=\"color: #800000; text-decoration-color: #800000; font-weight: bold\">(</span><span style=\"color: #008080; text-decoration-color: #008080; font-weight: bold\">206753419710997.8</span><span style=\"color: #800000; text-decoration-color: #800000\">, </span><span style=\"color: #008080; text-decoration-color: #008080; font-weight: bold\">1199169834323787.2</span><span style=\"color: #800000; text-decoration-color: #800000; font-weight: bold\">)</span><span style=\"color: #800000; text-decoration-color: #800000\"> </span>\n",
       "</pre>\n"
      ],
      "text/plain": [
       "\u001b[2;36m            \u001b[0m\u001b[2;36m \u001b[0m\u001b[31mWARNING: frequency passed to \u001b[0m\u001b[32m'Medium.eps_model\u001b[0m\u001b[32m(\u001b[0m\u001b[32m)\u001b[0m\u001b[32m'\u001b[0m\u001b[31mis outside of     \u001b[0m\n",
       "\u001b[2;36m             \u001b[0m\u001b[32m'Medium.frequency_range'\u001b[0m\u001b[31m = \u001b[0m\u001b[1;31m(\u001b[0m\u001b[1;36m206753419710997.8\u001b[0m\u001b[31m, \u001b[0m\u001b[1;36m1199169834323787.2\u001b[0m\u001b[1;31m)\u001b[0m\u001b[31m \u001b[0m\n"
      ]
     },
     "metadata": {},
     "output_type": "display_data"
    },
    {
     "data": {
      "text/html": [
       "<pre style=\"white-space:pre;overflow-x:auto;line-height:normal;font-family:Menlo,'DejaVu Sans Mono',consolas,'Courier New',monospace\"><span style=\"color: #7fbfbf; text-decoration-color: #7fbfbf\">             </span><span style=\"color: #800000; text-decoration-color: #800000\">WARNING: frequency passed to </span><span style=\"color: #008000; text-decoration-color: #008000\">'Medium.eps_model()'</span><span style=\"color: #800000; text-decoration-color: #800000\">is outside of     </span>\n",
       "<span style=\"color: #7fbfbf; text-decoration-color: #7fbfbf\">             </span><span style=\"color: #008000; text-decoration-color: #008000\">'Medium.frequency_range'</span><span style=\"color: #800000; text-decoration-color: #800000\"> = </span><span style=\"color: #800000; text-decoration-color: #800000; font-weight: bold\">(</span><span style=\"color: #008080; text-decoration-color: #008080; font-weight: bold\">206753419710997.8</span><span style=\"color: #800000; text-decoration-color: #800000\">, </span><span style=\"color: #008080; text-decoration-color: #008080; font-weight: bold\">1199169834323787.2</span><span style=\"color: #800000; text-decoration-color: #800000; font-weight: bold\">)</span><span style=\"color: #800000; text-decoration-color: #800000\"> </span>\n",
       "</pre>\n"
      ],
      "text/plain": [
       "\u001b[2;36m            \u001b[0m\u001b[2;36m \u001b[0m\u001b[31mWARNING: frequency passed to \u001b[0m\u001b[32m'Medium.eps_model\u001b[0m\u001b[32m(\u001b[0m\u001b[32m)\u001b[0m\u001b[32m'\u001b[0m\u001b[31mis outside of     \u001b[0m\n",
       "\u001b[2;36m             \u001b[0m\u001b[32m'Medium.frequency_range'\u001b[0m\u001b[31m = \u001b[0m\u001b[1;31m(\u001b[0m\u001b[1;36m206753419710997.8\u001b[0m\u001b[31m, \u001b[0m\u001b[1;36m1199169834323787.2\u001b[0m\u001b[1;31m)\u001b[0m\u001b[31m \u001b[0m\n"
      ]
     },
     "metadata": {},
     "output_type": "display_data"
    },
    {
     "data": {
      "text/html": [
       "<pre style=\"white-space:pre;overflow-x:auto;line-height:normal;font-family:Menlo,'DejaVu Sans Mono',consolas,'Courier New',monospace\"><span style=\"color: #7fbfbf; text-decoration-color: #7fbfbf\">             </span><span style=\"color: #800000; text-decoration-color: #800000\">WARNING: frequency passed to </span><span style=\"color: #008000; text-decoration-color: #008000\">'Medium.eps_model()'</span><span style=\"color: #800000; text-decoration-color: #800000\">is outside of     </span>\n",
       "<span style=\"color: #7fbfbf; text-decoration-color: #7fbfbf\">             </span><span style=\"color: #008000; text-decoration-color: #008000\">'Medium.frequency_range'</span><span style=\"color: #800000; text-decoration-color: #800000\"> = </span><span style=\"color: #800000; text-decoration-color: #800000; font-weight: bold\">(</span><span style=\"color: #008080; text-decoration-color: #008080; font-weight: bold\">206753419710997.8</span><span style=\"color: #800000; text-decoration-color: #800000\">, </span><span style=\"color: #008080; text-decoration-color: #008080; font-weight: bold\">1199169834323787.2</span><span style=\"color: #800000; text-decoration-color: #800000; font-weight: bold\">)</span><span style=\"color: #800000; text-decoration-color: #800000\"> </span>\n",
       "</pre>\n"
      ],
      "text/plain": [
       "\u001b[2;36m            \u001b[0m\u001b[2;36m \u001b[0m\u001b[31mWARNING: frequency passed to \u001b[0m\u001b[32m'Medium.eps_model\u001b[0m\u001b[32m(\u001b[0m\u001b[32m)\u001b[0m\u001b[32m'\u001b[0m\u001b[31mis outside of     \u001b[0m\n",
       "\u001b[2;36m             \u001b[0m\u001b[32m'Medium.frequency_range'\u001b[0m\u001b[31m = \u001b[0m\u001b[1;31m(\u001b[0m\u001b[1;36m206753419710997.8\u001b[0m\u001b[31m, \u001b[0m\u001b[1;36m1199169834323787.2\u001b[0m\u001b[1;31m)\u001b[0m\u001b[31m \u001b[0m\n"
      ]
     },
     "metadata": {},
     "output_type": "display_data"
    },
    {
     "data": {
      "text/html": [
       "<pre style=\"white-space:pre;overflow-x:auto;line-height:normal;font-family:Menlo,'DejaVu Sans Mono',consolas,'Courier New',monospace\"><span style=\"color: #7fbfbf; text-decoration-color: #7fbfbf\">             </span><span style=\"color: #800000; text-decoration-color: #800000\">WARNING: frequency passed to </span><span style=\"color: #008000; text-decoration-color: #008000\">'Medium.eps_model()'</span><span style=\"color: #800000; text-decoration-color: #800000\">is outside of     </span>\n",
       "<span style=\"color: #7fbfbf; text-decoration-color: #7fbfbf\">             </span><span style=\"color: #008000; text-decoration-color: #008000\">'Medium.frequency_range'</span><span style=\"color: #800000; text-decoration-color: #800000\"> = </span><span style=\"color: #800000; text-decoration-color: #800000; font-weight: bold\">(</span><span style=\"color: #008080; text-decoration-color: #008080; font-weight: bold\">206753419710997.8</span><span style=\"color: #800000; text-decoration-color: #800000\">, </span><span style=\"color: #008080; text-decoration-color: #008080; font-weight: bold\">1199169834323787.2</span><span style=\"color: #800000; text-decoration-color: #800000; font-weight: bold\">)</span><span style=\"color: #800000; text-decoration-color: #800000\"> </span>\n",
       "</pre>\n"
      ],
      "text/plain": [
       "\u001b[2;36m            \u001b[0m\u001b[2;36m \u001b[0m\u001b[31mWARNING: frequency passed to \u001b[0m\u001b[32m'Medium.eps_model\u001b[0m\u001b[32m(\u001b[0m\u001b[32m)\u001b[0m\u001b[32m'\u001b[0m\u001b[31mis outside of     \u001b[0m\n",
       "\u001b[2;36m             \u001b[0m\u001b[32m'Medium.frequency_range'\u001b[0m\u001b[31m = \u001b[0m\u001b[1;31m(\u001b[0m\u001b[1;36m206753419710997.8\u001b[0m\u001b[31m, \u001b[0m\u001b[1;36m1199169834323787.2\u001b[0m\u001b[1;31m)\u001b[0m\u001b[31m \u001b[0m\n"
      ]
     },
     "metadata": {},
     "output_type": "display_data"
    },
    {
     "data": {
      "text/html": [
       "<pre style=\"white-space:pre;overflow-x:auto;line-height:normal;font-family:Menlo,'DejaVu Sans Mono',consolas,'Courier New',monospace\"><span style=\"color: #7fbfbf; text-decoration-color: #7fbfbf\">             </span><span style=\"color: #800000; text-decoration-color: #800000\">WARNING: frequency passed to </span><span style=\"color: #008000; text-decoration-color: #008000\">'Medium.eps_model()'</span><span style=\"color: #800000; text-decoration-color: #800000\">is outside of     </span>\n",
       "<span style=\"color: #7fbfbf; text-decoration-color: #7fbfbf\">             </span><span style=\"color: #008000; text-decoration-color: #008000\">'Medium.frequency_range'</span><span style=\"color: #800000; text-decoration-color: #800000\"> = </span><span style=\"color: #800000; text-decoration-color: #800000; font-weight: bold\">(</span><span style=\"color: #008080; text-decoration-color: #008080; font-weight: bold\">206753419710997.8</span><span style=\"color: #800000; text-decoration-color: #800000\">, </span><span style=\"color: #008080; text-decoration-color: #008080; font-weight: bold\">1199169834323787.2</span><span style=\"color: #800000; text-decoration-color: #800000; font-weight: bold\">)</span><span style=\"color: #800000; text-decoration-color: #800000\"> </span>\n",
       "</pre>\n"
      ],
      "text/plain": [
       "\u001b[2;36m            \u001b[0m\u001b[2;36m \u001b[0m\u001b[31mWARNING: frequency passed to \u001b[0m\u001b[32m'Medium.eps_model\u001b[0m\u001b[32m(\u001b[0m\u001b[32m)\u001b[0m\u001b[32m'\u001b[0m\u001b[31mis outside of     \u001b[0m\n",
       "\u001b[2;36m             \u001b[0m\u001b[32m'Medium.frequency_range'\u001b[0m\u001b[31m = \u001b[0m\u001b[1;31m(\u001b[0m\u001b[1;36m206753419710997.8\u001b[0m\u001b[31m, \u001b[0m\u001b[1;36m1199169834323787.2\u001b[0m\u001b[1;31m)\u001b[0m\u001b[31m \u001b[0m\n"
      ]
     },
     "metadata": {},
     "output_type": "display_data"
    },
    {
     "data": {
      "text/html": [
       "<pre style=\"white-space:pre;overflow-x:auto;line-height:normal;font-family:Menlo,'DejaVu Sans Mono',consolas,'Courier New',monospace\"><span style=\"color: #7fbfbf; text-decoration-color: #7fbfbf\">             </span><span style=\"color: #800000; text-decoration-color: #800000\">WARNING: frequency passed to </span><span style=\"color: #008000; text-decoration-color: #008000\">'Medium.eps_model()'</span><span style=\"color: #800000; text-decoration-color: #800000\">is outside of     </span>\n",
       "<span style=\"color: #7fbfbf; text-decoration-color: #7fbfbf\">             </span><span style=\"color: #008000; text-decoration-color: #008000\">'Medium.frequency_range'</span><span style=\"color: #800000; text-decoration-color: #800000\"> = </span><span style=\"color: #800000; text-decoration-color: #800000; font-weight: bold\">(</span><span style=\"color: #008080; text-decoration-color: #008080; font-weight: bold\">206753419710997.8</span><span style=\"color: #800000; text-decoration-color: #800000\">, </span><span style=\"color: #008080; text-decoration-color: #008080; font-weight: bold\">1199169834323787.2</span><span style=\"color: #800000; text-decoration-color: #800000; font-weight: bold\">)</span><span style=\"color: #800000; text-decoration-color: #800000\"> </span>\n",
       "</pre>\n"
      ],
      "text/plain": [
       "\u001b[2;36m            \u001b[0m\u001b[2;36m \u001b[0m\u001b[31mWARNING: frequency passed to \u001b[0m\u001b[32m'Medium.eps_model\u001b[0m\u001b[32m(\u001b[0m\u001b[32m)\u001b[0m\u001b[32m'\u001b[0m\u001b[31mis outside of     \u001b[0m\n",
       "\u001b[2;36m             \u001b[0m\u001b[32m'Medium.frequency_range'\u001b[0m\u001b[31m = \u001b[0m\u001b[1;31m(\u001b[0m\u001b[1;36m206753419710997.8\u001b[0m\u001b[31m, \u001b[0m\u001b[1;36m1199169834323787.2\u001b[0m\u001b[1;31m)\u001b[0m\u001b[31m \u001b[0m\n"
      ]
     },
     "metadata": {},
     "output_type": "display_data"
    },
    {
     "data": {
      "text/html": [
       "<pre style=\"white-space:pre;overflow-x:auto;line-height:normal;font-family:Menlo,'DejaVu Sans Mono',consolas,'Courier New',monospace\"><span style=\"color: #7fbfbf; text-decoration-color: #7fbfbf\">             </span><span style=\"color: #800000; text-decoration-color: #800000\">WARNING: The medium associated with </span><span style=\"color: #008000; text-decoration-color: #008000\">'cSi_Green2008'</span><span style=\"color: #800000; text-decoration-color: #800000\">                </span>\n",
       "<span style=\"color: #7fbfbf; text-decoration-color: #7fbfbf\">             </span><span style=\"color: #800000; text-decoration-color: #800000; font-weight: bold\">(</span><span style=\"color: #800000; text-decoration-color: #800000\">simulation.mediums</span><span style=\"color: #800000; text-decoration-color: #800000; font-weight: bold\">[</span><span style=\"color: #008080; text-decoration-color: #008080; font-weight: bold\">1</span><span style=\"color: #800000; text-decoration-color: #800000; font-weight: bold\">])</span><span style=\"color: #800000; text-decoration-color: #800000\"> has a frequency range: </span><span style=\"color: #800000; text-decoration-color: #800000; font-weight: bold\">(</span><span style=\"color: #008080; text-decoration-color: #008080; font-weight: bold\">2.0675e14</span><span style=\"color: #800000; text-decoration-color: #800000\">,         </span>\n",
       "<span style=\"color: #7fbfbf; text-decoration-color: #7fbfbf\">             </span><span style=\"color: #008080; text-decoration-color: #008080; font-weight: bold\">11.9917e14</span><span style=\"color: #800000; text-decoration-color: #800000; font-weight: bold\">)</span><span style=\"color: #800000; text-decoration-color: #800000\"> </span><span style=\"color: #800000; text-decoration-color: #800000; font-weight: bold\">(</span><span style=\"color: #800000; text-decoration-color: #800000\">Hz</span><span style=\"color: #800000; text-decoration-color: #800000; font-weight: bold\">)</span><span style=\"color: #800000; text-decoration-color: #800000\"> that does not fully cover the frequencies         </span>\n",
       "<span style=\"color: #7fbfbf; text-decoration-color: #7fbfbf\">             </span><span style=\"color: #800000; text-decoration-color: #800000\">contained in </span><span style=\"color: #008000; text-decoration-color: #008000\">'flux_monitor'</span><span style=\"color: #800000; text-decoration-color: #800000\"> </span><span style=\"color: #800000; text-decoration-color: #800000; font-weight: bold\">(</span><span style=\"color: #800000; text-decoration-color: #800000\">simulation.monitors</span><span style=\"color: #800000; text-decoration-color: #800000; font-weight: bold\">[</span><span style=\"color: #008080; text-decoration-color: #008080; font-weight: bold\">0</span><span style=\"color: #800000; text-decoration-color: #800000; font-weight: bold\">])</span><span style=\"color: #800000; text-decoration-color: #800000\">.This can cause</span>\n",
       "<span style=\"color: #7fbfbf; text-decoration-color: #7fbfbf\">             </span><span style=\"color: #800000; text-decoration-color: #800000\">inaccuracies in the recorded results.                              </span>\n",
       "</pre>\n"
      ],
      "text/plain": [
       "\u001b[2;36m            \u001b[0m\u001b[2;36m \u001b[0m\u001b[31mWARNING: The medium associated with \u001b[0m\u001b[32m'cSi_Green2008'\u001b[0m\u001b[31m                \u001b[0m\n",
       "\u001b[2;36m             \u001b[0m\u001b[1;31m(\u001b[0m\u001b[31msimulation.mediums\u001b[0m\u001b[1;31m[\u001b[0m\u001b[1;36m1\u001b[0m\u001b[1;31m]\u001b[0m\u001b[1;31m)\u001b[0m\u001b[31m has a frequency range: \u001b[0m\u001b[1;31m(\u001b[0m\u001b[1;36m2.0675e14\u001b[0m\u001b[31m,         \u001b[0m\n",
       "\u001b[2;36m             \u001b[0m\u001b[1;36m11.9917e14\u001b[0m\u001b[1;31m)\u001b[0m\u001b[31m \u001b[0m\u001b[1;31m(\u001b[0m\u001b[31mHz\u001b[0m\u001b[1;31m)\u001b[0m\u001b[31m that does not fully cover the frequencies         \u001b[0m\n",
       "\u001b[2;36m             \u001b[0m\u001b[31mcontained in \u001b[0m\u001b[32m'flux_monitor'\u001b[0m\u001b[31m \u001b[0m\u001b[1;31m(\u001b[0m\u001b[31msimulation.monitors\u001b[0m\u001b[1;31m[\u001b[0m\u001b[1;36m0\u001b[0m\u001b[1;31m]\u001b[0m\u001b[1;31m)\u001b[0m\u001b[31m.This can cause\u001b[0m\n",
       "\u001b[2;36m             \u001b[0m\u001b[31minaccuracies in the recorded results.                              \u001b[0m\n"
      ]
     },
     "metadata": {},
     "output_type": "display_data"
    },
    {
     "data": {
      "text/html": [
       "<pre style=\"white-space:pre;overflow-x:auto;line-height:normal;font-family:Menlo,'DejaVu Sans Mono',consolas,'Courier New',monospace\"><span style=\"color: #7fbfbf; text-decoration-color: #7fbfbf\">             </span><span style=\"color: #800000; text-decoration-color: #800000\">WARNING: Suppressed </span><span style=\"color: #008080; text-decoration-color: #008080; font-weight: bold\">1</span><span style=\"color: #800000; text-decoration-color: #800000\"> WARNING message.                             </span>\n",
       "</pre>\n"
      ],
      "text/plain": [
       "\u001b[2;36m            \u001b[0m\u001b[2;36m \u001b[0m\u001b[31mWARNING: Suppressed \u001b[0m\u001b[1;36m1\u001b[0m\u001b[31m WARNING message.                             \u001b[0m\n"
      ]
     },
     "metadata": {},
     "output_type": "display_data"
    },
    {
     "data": {
      "text/html": [
       "<pre style=\"white-space:pre;overflow-x:auto;line-height:normal;font-family:Menlo,'DejaVu Sans Mono',consolas,'Courier New',monospace\"><span style=\"color: #7fbfbf; text-decoration-color: #7fbfbf\">             </span><span style=\"color: #800000; text-decoration-color: #800000\">WARNING: frequency passed to </span><span style=\"color: #008000; text-decoration-color: #008000\">'Medium.eps_model()'</span><span style=\"color: #800000; text-decoration-color: #800000\">is outside of     </span>\n",
       "<span style=\"color: #7fbfbf; text-decoration-color: #7fbfbf\">             </span><span style=\"color: #008000; text-decoration-color: #008000\">'Medium.frequency_range'</span><span style=\"color: #800000; text-decoration-color: #800000\"> = </span><span style=\"color: #800000; text-decoration-color: #800000; font-weight: bold\">(</span><span style=\"color: #008080; text-decoration-color: #008080; font-weight: bold\">206753419710997.8</span><span style=\"color: #800000; text-decoration-color: #800000\">, </span><span style=\"color: #008080; text-decoration-color: #008080; font-weight: bold\">1199169834323787.2</span><span style=\"color: #800000; text-decoration-color: #800000; font-weight: bold\">)</span><span style=\"color: #800000; text-decoration-color: #800000\"> </span>\n",
       "</pre>\n"
      ],
      "text/plain": [
       "\u001b[2;36m            \u001b[0m\u001b[2;36m \u001b[0m\u001b[31mWARNING: frequency passed to \u001b[0m\u001b[32m'Medium.eps_model\u001b[0m\u001b[32m(\u001b[0m\u001b[32m)\u001b[0m\u001b[32m'\u001b[0m\u001b[31mis outside of     \u001b[0m\n",
       "\u001b[2;36m             \u001b[0m\u001b[32m'Medium.frequency_range'\u001b[0m\u001b[31m = \u001b[0m\u001b[1;31m(\u001b[0m\u001b[1;36m206753419710997.8\u001b[0m\u001b[31m, \u001b[0m\u001b[1;36m1199169834323787.2\u001b[0m\u001b[1;31m)\u001b[0m\u001b[31m \u001b[0m\n"
      ]
     },
     "metadata": {},
     "output_type": "display_data"
    },
    {
     "data": {
      "text/html": [
       "<pre style=\"white-space:pre;overflow-x:auto;line-height:normal;font-family:Menlo,'DejaVu Sans Mono',consolas,'Courier New',monospace\"><span style=\"color: #7fbfbf; text-decoration-color: #7fbfbf\">             </span><span style=\"color: #800000; text-decoration-color: #800000\">WARNING: frequency passed to </span><span style=\"color: #008000; text-decoration-color: #008000\">'Medium.eps_model()'</span><span style=\"color: #800000; text-decoration-color: #800000\">is outside of     </span>\n",
       "<span style=\"color: #7fbfbf; text-decoration-color: #7fbfbf\">             </span><span style=\"color: #008000; text-decoration-color: #008000\">'Medium.frequency_range'</span><span style=\"color: #800000; text-decoration-color: #800000\"> = </span><span style=\"color: #800000; text-decoration-color: #800000; font-weight: bold\">(</span><span style=\"color: #008080; text-decoration-color: #008080; font-weight: bold\">206753419710997.8</span><span style=\"color: #800000; text-decoration-color: #800000\">, </span><span style=\"color: #008080; text-decoration-color: #008080; font-weight: bold\">1199169834323787.2</span><span style=\"color: #800000; text-decoration-color: #800000; font-weight: bold\">)</span><span style=\"color: #800000; text-decoration-color: #800000\"> </span>\n",
       "</pre>\n"
      ],
      "text/plain": [
       "\u001b[2;36m            \u001b[0m\u001b[2;36m \u001b[0m\u001b[31mWARNING: frequency passed to \u001b[0m\u001b[32m'Medium.eps_model\u001b[0m\u001b[32m(\u001b[0m\u001b[32m)\u001b[0m\u001b[32m'\u001b[0m\u001b[31mis outside of     \u001b[0m\n",
       "\u001b[2;36m             \u001b[0m\u001b[32m'Medium.frequency_range'\u001b[0m\u001b[31m = \u001b[0m\u001b[1;31m(\u001b[0m\u001b[1;36m206753419710997.8\u001b[0m\u001b[31m, \u001b[0m\u001b[1;36m1199169834323787.2\u001b[0m\u001b[1;31m)\u001b[0m\u001b[31m \u001b[0m\n"
      ]
     },
     "metadata": {},
     "output_type": "display_data"
    },
    {
     "data": {
      "text/html": [
       "<pre style=\"white-space:pre;overflow-x:auto;line-height:normal;font-family:Menlo,'DejaVu Sans Mono',consolas,'Courier New',monospace\"><span style=\"color: #7fbfbf; text-decoration-color: #7fbfbf\">             </span><span style=\"color: #800000; text-decoration-color: #800000\">WARNING: frequency passed to </span><span style=\"color: #008000; text-decoration-color: #008000\">'Medium.eps_model()'</span><span style=\"color: #800000; text-decoration-color: #800000\">is outside of     </span>\n",
       "<span style=\"color: #7fbfbf; text-decoration-color: #7fbfbf\">             </span><span style=\"color: #008000; text-decoration-color: #008000\">'Medium.frequency_range'</span><span style=\"color: #800000; text-decoration-color: #800000\"> = </span><span style=\"color: #800000; text-decoration-color: #800000; font-weight: bold\">(</span><span style=\"color: #008080; text-decoration-color: #008080; font-weight: bold\">206753419710997.8</span><span style=\"color: #800000; text-decoration-color: #800000\">, </span><span style=\"color: #008080; text-decoration-color: #008080; font-weight: bold\">1199169834323787.2</span><span style=\"color: #800000; text-decoration-color: #800000; font-weight: bold\">)</span><span style=\"color: #800000; text-decoration-color: #800000\"> </span>\n",
       "</pre>\n"
      ],
      "text/plain": [
       "\u001b[2;36m            \u001b[0m\u001b[2;36m \u001b[0m\u001b[31mWARNING: frequency passed to \u001b[0m\u001b[32m'Medium.eps_model\u001b[0m\u001b[32m(\u001b[0m\u001b[32m)\u001b[0m\u001b[32m'\u001b[0m\u001b[31mis outside of     \u001b[0m\n",
       "\u001b[2;36m             \u001b[0m\u001b[32m'Medium.frequency_range'\u001b[0m\u001b[31m = \u001b[0m\u001b[1;31m(\u001b[0m\u001b[1;36m206753419710997.8\u001b[0m\u001b[31m, \u001b[0m\u001b[1;36m1199169834323787.2\u001b[0m\u001b[1;31m)\u001b[0m\u001b[31m \u001b[0m\n"
      ]
     },
     "metadata": {},
     "output_type": "display_data"
    },
    {
     "data": {
      "text/html": [
       "<pre style=\"white-space:pre;overflow-x:auto;line-height:normal;font-family:Menlo,'DejaVu Sans Mono',consolas,'Courier New',monospace\"><span style=\"color: #7fbfbf; text-decoration-color: #7fbfbf\">             </span><span style=\"color: #800000; text-decoration-color: #800000\">WARNING: frequency passed to </span><span style=\"color: #008000; text-decoration-color: #008000\">'Medium.eps_model()'</span><span style=\"color: #800000; text-decoration-color: #800000\">is outside of     </span>\n",
       "<span style=\"color: #7fbfbf; text-decoration-color: #7fbfbf\">             </span><span style=\"color: #008000; text-decoration-color: #008000\">'Medium.frequency_range'</span><span style=\"color: #800000; text-decoration-color: #800000\"> = </span><span style=\"color: #800000; text-decoration-color: #800000; font-weight: bold\">(</span><span style=\"color: #008080; text-decoration-color: #008080; font-weight: bold\">206753419710997.8</span><span style=\"color: #800000; text-decoration-color: #800000\">, </span><span style=\"color: #008080; text-decoration-color: #008080; font-weight: bold\">1199169834323787.2</span><span style=\"color: #800000; text-decoration-color: #800000; font-weight: bold\">)</span><span style=\"color: #800000; text-decoration-color: #800000\"> </span>\n",
       "</pre>\n"
      ],
      "text/plain": [
       "\u001b[2;36m            \u001b[0m\u001b[2;36m \u001b[0m\u001b[31mWARNING: frequency passed to \u001b[0m\u001b[32m'Medium.eps_model\u001b[0m\u001b[32m(\u001b[0m\u001b[32m)\u001b[0m\u001b[32m'\u001b[0m\u001b[31mis outside of     \u001b[0m\n",
       "\u001b[2;36m             \u001b[0m\u001b[32m'Medium.frequency_range'\u001b[0m\u001b[31m = \u001b[0m\u001b[1;31m(\u001b[0m\u001b[1;36m206753419710997.8\u001b[0m\u001b[31m, \u001b[0m\u001b[1;36m1199169834323787.2\u001b[0m\u001b[1;31m)\u001b[0m\u001b[31m \u001b[0m\n"
      ]
     },
     "metadata": {},
     "output_type": "display_data"
    },
    {
     "data": {
      "text/html": [
       "<pre style=\"white-space:pre;overflow-x:auto;line-height:normal;font-family:Menlo,'DejaVu Sans Mono',consolas,'Courier New',monospace\"><span style=\"color: #7fbfbf; text-decoration-color: #7fbfbf\">             </span><span style=\"color: #800000; text-decoration-color: #800000\">WARNING: frequency passed to </span><span style=\"color: #008000; text-decoration-color: #008000\">'Medium.eps_model()'</span><span style=\"color: #800000; text-decoration-color: #800000\">is outside of     </span>\n",
       "<span style=\"color: #7fbfbf; text-decoration-color: #7fbfbf\">             </span><span style=\"color: #008000; text-decoration-color: #008000\">'Medium.frequency_range'</span><span style=\"color: #800000; text-decoration-color: #800000\"> = </span><span style=\"color: #800000; text-decoration-color: #800000; font-weight: bold\">(</span><span style=\"color: #008080; text-decoration-color: #008080; font-weight: bold\">206753419710997.8</span><span style=\"color: #800000; text-decoration-color: #800000\">, </span><span style=\"color: #008080; text-decoration-color: #008080; font-weight: bold\">1199169834323787.2</span><span style=\"color: #800000; text-decoration-color: #800000; font-weight: bold\">)</span><span style=\"color: #800000; text-decoration-color: #800000\"> </span>\n",
       "</pre>\n"
      ],
      "text/plain": [
       "\u001b[2;36m            \u001b[0m\u001b[2;36m \u001b[0m\u001b[31mWARNING: frequency passed to \u001b[0m\u001b[32m'Medium.eps_model\u001b[0m\u001b[32m(\u001b[0m\u001b[32m)\u001b[0m\u001b[32m'\u001b[0m\u001b[31mis outside of     \u001b[0m\n",
       "\u001b[2;36m             \u001b[0m\u001b[32m'Medium.frequency_range'\u001b[0m\u001b[31m = \u001b[0m\u001b[1;31m(\u001b[0m\u001b[1;36m206753419710997.8\u001b[0m\u001b[31m, \u001b[0m\u001b[1;36m1199169834323787.2\u001b[0m\u001b[1;31m)\u001b[0m\u001b[31m \u001b[0m\n"
      ]
     },
     "metadata": {},
     "output_type": "display_data"
    },
    {
     "data": {
      "text/html": [
       "<pre style=\"white-space:pre;overflow-x:auto;line-height:normal;font-family:Menlo,'DejaVu Sans Mono',consolas,'Courier New',monospace\"><span style=\"color: #7fbfbf; text-decoration-color: #7fbfbf\">13:18:07 EDT </span><span style=\"color: #800000; text-decoration-color: #800000\">WARNING: The medium associated with </span><span style=\"color: #008000; text-decoration-color: #008000\">'cSi_Green2008'</span><span style=\"color: #800000; text-decoration-color: #800000\">                </span>\n",
       "<span style=\"color: #7fbfbf; text-decoration-color: #7fbfbf\">             </span><span style=\"color: #800000; text-decoration-color: #800000; font-weight: bold\">(</span><span style=\"color: #800000; text-decoration-color: #800000\">simulation.mediums</span><span style=\"color: #800000; text-decoration-color: #800000; font-weight: bold\">[</span><span style=\"color: #008080; text-decoration-color: #008080; font-weight: bold\">1</span><span style=\"color: #800000; text-decoration-color: #800000; font-weight: bold\">])</span><span style=\"color: #800000; text-decoration-color: #800000\"> has a frequency range: </span><span style=\"color: #800000; text-decoration-color: #800000; font-weight: bold\">(</span><span style=\"color: #008080; text-decoration-color: #008080; font-weight: bold\">2.0675e14</span><span style=\"color: #800000; text-decoration-color: #800000\">,         </span>\n",
       "<span style=\"color: #7fbfbf; text-decoration-color: #7fbfbf\">             </span><span style=\"color: #008080; text-decoration-color: #008080; font-weight: bold\">11.9917e14</span><span style=\"color: #800000; text-decoration-color: #800000; font-weight: bold\">)</span><span style=\"color: #800000; text-decoration-color: #800000\"> </span><span style=\"color: #800000; text-decoration-color: #800000; font-weight: bold\">(</span><span style=\"color: #800000; text-decoration-color: #800000\">Hz</span><span style=\"color: #800000; text-decoration-color: #800000; font-weight: bold\">)</span><span style=\"color: #800000; text-decoration-color: #800000\"> that does not fully cover the frequencies         </span>\n",
       "<span style=\"color: #7fbfbf; text-decoration-color: #7fbfbf\">             </span><span style=\"color: #800000; text-decoration-color: #800000\">contained in </span><span style=\"color: #008000; text-decoration-color: #008000\">'flux_monitor'</span><span style=\"color: #800000; text-decoration-color: #800000\"> </span><span style=\"color: #800000; text-decoration-color: #800000; font-weight: bold\">(</span><span style=\"color: #800000; text-decoration-color: #800000\">simulation.monitors</span><span style=\"color: #800000; text-decoration-color: #800000; font-weight: bold\">[</span><span style=\"color: #008080; text-decoration-color: #008080; font-weight: bold\">0</span><span style=\"color: #800000; text-decoration-color: #800000; font-weight: bold\">])</span><span style=\"color: #800000; text-decoration-color: #800000\">.This can cause</span>\n",
       "<span style=\"color: #7fbfbf; text-decoration-color: #7fbfbf\">             </span><span style=\"color: #800000; text-decoration-color: #800000\">inaccuracies in the recorded results.                              </span>\n",
       "</pre>\n"
      ],
      "text/plain": [
       "\u001b[2;36m13:18:07 EDT\u001b[0m\u001b[2;36m \u001b[0m\u001b[31mWARNING: The medium associated with \u001b[0m\u001b[32m'cSi_Green2008'\u001b[0m\u001b[31m                \u001b[0m\n",
       "\u001b[2;36m             \u001b[0m\u001b[1;31m(\u001b[0m\u001b[31msimulation.mediums\u001b[0m\u001b[1;31m[\u001b[0m\u001b[1;36m1\u001b[0m\u001b[1;31m]\u001b[0m\u001b[1;31m)\u001b[0m\u001b[31m has a frequency range: \u001b[0m\u001b[1;31m(\u001b[0m\u001b[1;36m2.0675e14\u001b[0m\u001b[31m,         \u001b[0m\n",
       "\u001b[2;36m             \u001b[0m\u001b[1;36m11.9917e14\u001b[0m\u001b[1;31m)\u001b[0m\u001b[31m \u001b[0m\u001b[1;31m(\u001b[0m\u001b[31mHz\u001b[0m\u001b[1;31m)\u001b[0m\u001b[31m that does not fully cover the frequencies         \u001b[0m\n",
       "\u001b[2;36m             \u001b[0m\u001b[31mcontained in \u001b[0m\u001b[32m'flux_monitor'\u001b[0m\u001b[31m \u001b[0m\u001b[1;31m(\u001b[0m\u001b[31msimulation.monitors\u001b[0m\u001b[1;31m[\u001b[0m\u001b[1;36m0\u001b[0m\u001b[1;31m]\u001b[0m\u001b[1;31m)\u001b[0m\u001b[31m.This can cause\u001b[0m\n",
       "\u001b[2;36m             \u001b[0m\u001b[31minaccuracies in the recorded results.                              \u001b[0m\n"
      ]
     },
     "metadata": {},
     "output_type": "display_data"
    },
    {
     "data": {
      "text/html": [
       "<pre style=\"white-space:pre;overflow-x:auto;line-height:normal;font-family:Menlo,'DejaVu Sans Mono',consolas,'Courier New',monospace\"><span style=\"color: #7fbfbf; text-decoration-color: #7fbfbf\">             </span><span style=\"color: #800000; text-decoration-color: #800000\">WARNING: Suppressed </span><span style=\"color: #008080; text-decoration-color: #008080; font-weight: bold\">3</span><span style=\"color: #800000; text-decoration-color: #800000\"> WARNING messages.                            </span>\n",
       "</pre>\n"
      ],
      "text/plain": [
       "\u001b[2;36m            \u001b[0m\u001b[2;36m \u001b[0m\u001b[31mWARNING: Suppressed \u001b[0m\u001b[1;36m3\u001b[0m\u001b[31m WARNING messages.                            \u001b[0m\n"
      ]
     },
     "metadata": {},
     "output_type": "display_data"
    },
    {
     "data": {
      "text/html": [
       "<pre style=\"white-space:pre;overflow-x:auto;line-height:normal;font-family:Menlo,'DejaVu Sans Mono',consolas,'Courier New',monospace\"><span style=\"color: #7fbfbf; text-decoration-color: #7fbfbf\">             </span><span style=\"color: #800000; text-decoration-color: #800000\">WARNING: frequency passed to </span><span style=\"color: #008000; text-decoration-color: #008000\">'Medium.eps_model()'</span><span style=\"color: #800000; text-decoration-color: #800000\">is outside of     </span>\n",
       "<span style=\"color: #7fbfbf; text-decoration-color: #7fbfbf\">             </span><span style=\"color: #008000; text-decoration-color: #008000\">'Medium.frequency_range'</span><span style=\"color: #800000; text-decoration-color: #800000\"> = </span><span style=\"color: #800000; text-decoration-color: #800000; font-weight: bold\">(</span><span style=\"color: #008080; text-decoration-color: #008080; font-weight: bold\">206753419710997.8</span><span style=\"color: #800000; text-decoration-color: #800000\">, </span><span style=\"color: #008080; text-decoration-color: #008080; font-weight: bold\">1199169834323787.2</span><span style=\"color: #800000; text-decoration-color: #800000; font-weight: bold\">)</span><span style=\"color: #800000; text-decoration-color: #800000\"> </span>\n",
       "</pre>\n"
      ],
      "text/plain": [
       "\u001b[2;36m            \u001b[0m\u001b[2;36m \u001b[0m\u001b[31mWARNING: frequency passed to \u001b[0m\u001b[32m'Medium.eps_model\u001b[0m\u001b[32m(\u001b[0m\u001b[32m)\u001b[0m\u001b[32m'\u001b[0m\u001b[31mis outside of     \u001b[0m\n",
       "\u001b[2;36m             \u001b[0m\u001b[32m'Medium.frequency_range'\u001b[0m\u001b[31m = \u001b[0m\u001b[1;31m(\u001b[0m\u001b[1;36m206753419710997.8\u001b[0m\u001b[31m, \u001b[0m\u001b[1;36m1199169834323787.2\u001b[0m\u001b[1;31m)\u001b[0m\u001b[31m \u001b[0m\n"
      ]
     },
     "metadata": {},
     "output_type": "display_data"
    },
    {
     "data": {
      "text/html": [
       "<pre style=\"white-space:pre;overflow-x:auto;line-height:normal;font-family:Menlo,'DejaVu Sans Mono',consolas,'Courier New',monospace\"><span style=\"color: #7fbfbf; text-decoration-color: #7fbfbf\">             </span><span style=\"color: #800000; text-decoration-color: #800000\">WARNING: Suppressed </span><span style=\"color: #008080; text-decoration-color: #008080; font-weight: bold\">1</span><span style=\"color: #800000; text-decoration-color: #800000\"> WARNING message.                             </span>\n",
       "</pre>\n"
      ],
      "text/plain": [
       "\u001b[2;36m            \u001b[0m\u001b[2;36m \u001b[0m\u001b[31mWARNING: Suppressed \u001b[0m\u001b[1;36m1\u001b[0m\u001b[31m WARNING message.                             \u001b[0m\n"
      ]
     },
     "metadata": {},
     "output_type": "display_data"
    },
    {
     "data": {
      "text/html": [
       "<pre style=\"white-space:pre;overflow-x:auto;line-height:normal;font-family:Menlo,'DejaVu Sans Mono',consolas,'Courier New',monospace\"><span style=\"color: #7fbfbf; text-decoration-color: #7fbfbf\">             </span><span style=\"color: #800000; text-decoration-color: #800000\">WARNING: frequency passed to </span><span style=\"color: #008000; text-decoration-color: #008000\">'Medium.eps_model()'</span><span style=\"color: #800000; text-decoration-color: #800000\">is outside of     </span>\n",
       "<span style=\"color: #7fbfbf; text-decoration-color: #7fbfbf\">             </span><span style=\"color: #008000; text-decoration-color: #008000\">'Medium.frequency_range'</span><span style=\"color: #800000; text-decoration-color: #800000\"> = </span><span style=\"color: #800000; text-decoration-color: #800000; font-weight: bold\">(</span><span style=\"color: #008080; text-decoration-color: #008080; font-weight: bold\">206753419710997.8</span><span style=\"color: #800000; text-decoration-color: #800000\">, </span><span style=\"color: #008080; text-decoration-color: #008080; font-weight: bold\">1199169834323787.2</span><span style=\"color: #800000; text-decoration-color: #800000; font-weight: bold\">)</span><span style=\"color: #800000; text-decoration-color: #800000\"> </span>\n",
       "</pre>\n"
      ],
      "text/plain": [
       "\u001b[2;36m            \u001b[0m\u001b[2;36m \u001b[0m\u001b[31mWARNING: frequency passed to \u001b[0m\u001b[32m'Medium.eps_model\u001b[0m\u001b[32m(\u001b[0m\u001b[32m)\u001b[0m\u001b[32m'\u001b[0m\u001b[31mis outside of     \u001b[0m\n",
       "\u001b[2;36m             \u001b[0m\u001b[32m'Medium.frequency_range'\u001b[0m\u001b[31m = \u001b[0m\u001b[1;31m(\u001b[0m\u001b[1;36m206753419710997.8\u001b[0m\u001b[31m, \u001b[0m\u001b[1;36m1199169834323787.2\u001b[0m\u001b[1;31m)\u001b[0m\u001b[31m \u001b[0m\n"
      ]
     },
     "metadata": {},
     "output_type": "display_data"
    },
    {
     "data": {
      "text/html": [
       "<pre style=\"white-space:pre;overflow-x:auto;line-height:normal;font-family:Menlo,'DejaVu Sans Mono',consolas,'Courier New',monospace\"><span style=\"color: #7fbfbf; text-decoration-color: #7fbfbf\">             </span><span style=\"color: #800000; text-decoration-color: #800000\">WARNING: frequency passed to </span><span style=\"color: #008000; text-decoration-color: #008000\">'Medium.eps_model()'</span><span style=\"color: #800000; text-decoration-color: #800000\">is outside of     </span>\n",
       "<span style=\"color: #7fbfbf; text-decoration-color: #7fbfbf\">             </span><span style=\"color: #008000; text-decoration-color: #008000\">'Medium.frequency_range'</span><span style=\"color: #800000; text-decoration-color: #800000\"> = </span><span style=\"color: #800000; text-decoration-color: #800000; font-weight: bold\">(</span><span style=\"color: #008080; text-decoration-color: #008080; font-weight: bold\">206753419710997.8</span><span style=\"color: #800000; text-decoration-color: #800000\">, </span><span style=\"color: #008080; text-decoration-color: #008080; font-weight: bold\">1199169834323787.2</span><span style=\"color: #800000; text-decoration-color: #800000; font-weight: bold\">)</span><span style=\"color: #800000; text-decoration-color: #800000\"> </span>\n",
       "</pre>\n"
      ],
      "text/plain": [
       "\u001b[2;36m            \u001b[0m\u001b[2;36m \u001b[0m\u001b[31mWARNING: frequency passed to \u001b[0m\u001b[32m'Medium.eps_model\u001b[0m\u001b[32m(\u001b[0m\u001b[32m)\u001b[0m\u001b[32m'\u001b[0m\u001b[31mis outside of     \u001b[0m\n",
       "\u001b[2;36m             \u001b[0m\u001b[32m'Medium.frequency_range'\u001b[0m\u001b[31m = \u001b[0m\u001b[1;31m(\u001b[0m\u001b[1;36m206753419710997.8\u001b[0m\u001b[31m, \u001b[0m\u001b[1;36m1199169834323787.2\u001b[0m\u001b[1;31m)\u001b[0m\u001b[31m \u001b[0m\n"
      ]
     },
     "metadata": {},
     "output_type": "display_data"
    },
    {
     "data": {
      "text/html": [
       "<pre style=\"white-space:pre;overflow-x:auto;line-height:normal;font-family:Menlo,'DejaVu Sans Mono',consolas,'Courier New',monospace\"><span style=\"color: #7fbfbf; text-decoration-color: #7fbfbf\">             </span><span style=\"color: #800000; text-decoration-color: #800000\">WARNING: frequency passed to </span><span style=\"color: #008000; text-decoration-color: #008000\">'Medium.eps_model()'</span><span style=\"color: #800000; text-decoration-color: #800000\">is outside of     </span>\n",
       "<span style=\"color: #7fbfbf; text-decoration-color: #7fbfbf\">             </span><span style=\"color: #008000; text-decoration-color: #008000\">'Medium.frequency_range'</span><span style=\"color: #800000; text-decoration-color: #800000\"> = </span><span style=\"color: #800000; text-decoration-color: #800000; font-weight: bold\">(</span><span style=\"color: #008080; text-decoration-color: #008080; font-weight: bold\">206753419710997.8</span><span style=\"color: #800000; text-decoration-color: #800000\">, </span><span style=\"color: #008080; text-decoration-color: #008080; font-weight: bold\">1199169834323787.2</span><span style=\"color: #800000; text-decoration-color: #800000; font-weight: bold\">)</span><span style=\"color: #800000; text-decoration-color: #800000\"> </span>\n",
       "</pre>\n"
      ],
      "text/plain": [
       "\u001b[2;36m            \u001b[0m\u001b[2;36m \u001b[0m\u001b[31mWARNING: frequency passed to \u001b[0m\u001b[32m'Medium.eps_model\u001b[0m\u001b[32m(\u001b[0m\u001b[32m)\u001b[0m\u001b[32m'\u001b[0m\u001b[31mis outside of     \u001b[0m\n",
       "\u001b[2;36m             \u001b[0m\u001b[32m'Medium.frequency_range'\u001b[0m\u001b[31m = \u001b[0m\u001b[1;31m(\u001b[0m\u001b[1;36m206753419710997.8\u001b[0m\u001b[31m, \u001b[0m\u001b[1;36m1199169834323787.2\u001b[0m\u001b[1;31m)\u001b[0m\u001b[31m \u001b[0m\n"
      ]
     },
     "metadata": {},
     "output_type": "display_data"
    },
    {
     "data": {
      "text/html": [
       "<pre style=\"white-space:pre;overflow-x:auto;line-height:normal;font-family:Menlo,'DejaVu Sans Mono',consolas,'Courier New',monospace\"><span style=\"color: #7fbfbf; text-decoration-color: #7fbfbf\">             </span><span style=\"color: #800000; text-decoration-color: #800000\">WARNING: frequency passed to </span><span style=\"color: #008000; text-decoration-color: #008000\">'Medium.eps_model()'</span><span style=\"color: #800000; text-decoration-color: #800000\">is outside of     </span>\n",
       "<span style=\"color: #7fbfbf; text-decoration-color: #7fbfbf\">             </span><span style=\"color: #008000; text-decoration-color: #008000\">'Medium.frequency_range'</span><span style=\"color: #800000; text-decoration-color: #800000\"> = </span><span style=\"color: #800000; text-decoration-color: #800000; font-weight: bold\">(</span><span style=\"color: #008080; text-decoration-color: #008080; font-weight: bold\">206753419710997.8</span><span style=\"color: #800000; text-decoration-color: #800000\">, </span><span style=\"color: #008080; text-decoration-color: #008080; font-weight: bold\">1199169834323787.2</span><span style=\"color: #800000; text-decoration-color: #800000; font-weight: bold\">)</span><span style=\"color: #800000; text-decoration-color: #800000\"> </span>\n",
       "</pre>\n"
      ],
      "text/plain": [
       "\u001b[2;36m            \u001b[0m\u001b[2;36m \u001b[0m\u001b[31mWARNING: frequency passed to \u001b[0m\u001b[32m'Medium.eps_model\u001b[0m\u001b[32m(\u001b[0m\u001b[32m)\u001b[0m\u001b[32m'\u001b[0m\u001b[31mis outside of     \u001b[0m\n",
       "\u001b[2;36m             \u001b[0m\u001b[32m'Medium.frequency_range'\u001b[0m\u001b[31m = \u001b[0m\u001b[1;31m(\u001b[0m\u001b[1;36m206753419710997.8\u001b[0m\u001b[31m, \u001b[0m\u001b[1;36m1199169834323787.2\u001b[0m\u001b[1;31m)\u001b[0m\u001b[31m \u001b[0m\n"
      ]
     },
     "metadata": {},
     "output_type": "display_data"
    },
    {
     "data": {
      "text/html": [
       "<pre style=\"white-space:pre;overflow-x:auto;line-height:normal;font-family:Menlo,'DejaVu Sans Mono',consolas,'Courier New',monospace\"><span style=\"color: #7fbfbf; text-decoration-color: #7fbfbf\">             </span><span style=\"color: #800000; text-decoration-color: #800000\">WARNING: frequency passed to </span><span style=\"color: #008000; text-decoration-color: #008000\">'Medium.eps_model()'</span><span style=\"color: #800000; text-decoration-color: #800000\">is outside of     </span>\n",
       "<span style=\"color: #7fbfbf; text-decoration-color: #7fbfbf\">             </span><span style=\"color: #008000; text-decoration-color: #008000\">'Medium.frequency_range'</span><span style=\"color: #800000; text-decoration-color: #800000\"> = </span><span style=\"color: #800000; text-decoration-color: #800000; font-weight: bold\">(</span><span style=\"color: #008080; text-decoration-color: #008080; font-weight: bold\">206753419710997.8</span><span style=\"color: #800000; text-decoration-color: #800000\">, </span><span style=\"color: #008080; text-decoration-color: #008080; font-weight: bold\">1199169834323787.2</span><span style=\"color: #800000; text-decoration-color: #800000; font-weight: bold\">)</span><span style=\"color: #800000; text-decoration-color: #800000\"> </span>\n",
       "</pre>\n"
      ],
      "text/plain": [
       "\u001b[2;36m            \u001b[0m\u001b[2;36m \u001b[0m\u001b[31mWARNING: frequency passed to \u001b[0m\u001b[32m'Medium.eps_model\u001b[0m\u001b[32m(\u001b[0m\u001b[32m)\u001b[0m\u001b[32m'\u001b[0m\u001b[31mis outside of     \u001b[0m\n",
       "\u001b[2;36m             \u001b[0m\u001b[32m'Medium.frequency_range'\u001b[0m\u001b[31m = \u001b[0m\u001b[1;31m(\u001b[0m\u001b[1;36m206753419710997.8\u001b[0m\u001b[31m, \u001b[0m\u001b[1;36m1199169834323787.2\u001b[0m\u001b[1;31m)\u001b[0m\u001b[31m \u001b[0m\n"
      ]
     },
     "metadata": {},
     "output_type": "display_data"
    },
    {
     "data": {
      "text/html": [
       "<pre style=\"white-space:pre;overflow-x:auto;line-height:normal;font-family:Menlo,'DejaVu Sans Mono',consolas,'Courier New',monospace\"><span style=\"color: #7fbfbf; text-decoration-color: #7fbfbf\">             </span><span style=\"color: #800000; text-decoration-color: #800000\">WARNING: frequency passed to </span><span style=\"color: #008000; text-decoration-color: #008000\">'Medium.eps_model()'</span><span style=\"color: #800000; text-decoration-color: #800000\">is outside of     </span>\n",
       "<span style=\"color: #7fbfbf; text-decoration-color: #7fbfbf\">             </span><span style=\"color: #008000; text-decoration-color: #008000\">'Medium.frequency_range'</span><span style=\"color: #800000; text-decoration-color: #800000\"> = </span><span style=\"color: #800000; text-decoration-color: #800000; font-weight: bold\">(</span><span style=\"color: #008080; text-decoration-color: #008080; font-weight: bold\">206753419710997.8</span><span style=\"color: #800000; text-decoration-color: #800000\">, </span><span style=\"color: #008080; text-decoration-color: #008080; font-weight: bold\">1199169834323787.2</span><span style=\"color: #800000; text-decoration-color: #800000; font-weight: bold\">)</span><span style=\"color: #800000; text-decoration-color: #800000\"> </span>\n",
       "</pre>\n"
      ],
      "text/plain": [
       "\u001b[2;36m            \u001b[0m\u001b[2;36m \u001b[0m\u001b[31mWARNING: frequency passed to \u001b[0m\u001b[32m'Medium.eps_model\u001b[0m\u001b[32m(\u001b[0m\u001b[32m)\u001b[0m\u001b[32m'\u001b[0m\u001b[31mis outside of     \u001b[0m\n",
       "\u001b[2;36m             \u001b[0m\u001b[32m'Medium.frequency_range'\u001b[0m\u001b[31m = \u001b[0m\u001b[1;31m(\u001b[0m\u001b[1;36m206753419710997.8\u001b[0m\u001b[31m, \u001b[0m\u001b[1;36m1199169834323787.2\u001b[0m\u001b[1;31m)\u001b[0m\u001b[31m \u001b[0m\n"
      ]
     },
     "metadata": {},
     "output_type": "display_data"
    },
    {
     "data": {
      "text/html": [
       "<pre style=\"white-space:pre;overflow-x:auto;line-height:normal;font-family:Menlo,'DejaVu Sans Mono',consolas,'Courier New',monospace\"><span style=\"color: #7fbfbf; text-decoration-color: #7fbfbf\">             </span><span style=\"color: #800000; text-decoration-color: #800000\">WARNING: frequency passed to </span><span style=\"color: #008000; text-decoration-color: #008000\">'Medium.eps_model()'</span><span style=\"color: #800000; text-decoration-color: #800000\">is outside of     </span>\n",
       "<span style=\"color: #7fbfbf; text-decoration-color: #7fbfbf\">             </span><span style=\"color: #008000; text-decoration-color: #008000\">'Medium.frequency_range'</span><span style=\"color: #800000; text-decoration-color: #800000\"> = </span><span style=\"color: #800000; text-decoration-color: #800000; font-weight: bold\">(</span><span style=\"color: #008080; text-decoration-color: #008080; font-weight: bold\">206753419710997.8</span><span style=\"color: #800000; text-decoration-color: #800000\">, </span><span style=\"color: #008080; text-decoration-color: #008080; font-weight: bold\">1199169834323787.2</span><span style=\"color: #800000; text-decoration-color: #800000; font-weight: bold\">)</span><span style=\"color: #800000; text-decoration-color: #800000\"> </span>\n",
       "</pre>\n"
      ],
      "text/plain": [
       "\u001b[2;36m            \u001b[0m\u001b[2;36m \u001b[0m\u001b[31mWARNING: frequency passed to \u001b[0m\u001b[32m'Medium.eps_model\u001b[0m\u001b[32m(\u001b[0m\u001b[32m)\u001b[0m\u001b[32m'\u001b[0m\u001b[31mis outside of     \u001b[0m\n",
       "\u001b[2;36m             \u001b[0m\u001b[32m'Medium.frequency_range'\u001b[0m\u001b[31m = \u001b[0m\u001b[1;31m(\u001b[0m\u001b[1;36m206753419710997.8\u001b[0m\u001b[31m, \u001b[0m\u001b[1;36m1199169834323787.2\u001b[0m\u001b[1;31m)\u001b[0m\u001b[31m \u001b[0m\n"
      ]
     },
     "metadata": {},
     "output_type": "display_data"
    },
    {
     "data": {
      "text/html": [
       "<pre style=\"white-space:pre;overflow-x:auto;line-height:normal;font-family:Menlo,'DejaVu Sans Mono',consolas,'Courier New',monospace\"><span style=\"color: #7fbfbf; text-decoration-color: #7fbfbf\">             </span><span style=\"color: #800000; text-decoration-color: #800000\">WARNING: frequency passed to </span><span style=\"color: #008000; text-decoration-color: #008000\">'Medium.eps_model()'</span><span style=\"color: #800000; text-decoration-color: #800000\">is outside of     </span>\n",
       "<span style=\"color: #7fbfbf; text-decoration-color: #7fbfbf\">             </span><span style=\"color: #008000; text-decoration-color: #008000\">'Medium.frequency_range'</span><span style=\"color: #800000; text-decoration-color: #800000\"> = </span><span style=\"color: #800000; text-decoration-color: #800000; font-weight: bold\">(</span><span style=\"color: #008080; text-decoration-color: #008080; font-weight: bold\">206753419710997.8</span><span style=\"color: #800000; text-decoration-color: #800000\">, </span><span style=\"color: #008080; text-decoration-color: #008080; font-weight: bold\">1199169834323787.2</span><span style=\"color: #800000; text-decoration-color: #800000; font-weight: bold\">)</span><span style=\"color: #800000; text-decoration-color: #800000\"> </span>\n",
       "</pre>\n"
      ],
      "text/plain": [
       "\u001b[2;36m            \u001b[0m\u001b[2;36m \u001b[0m\u001b[31mWARNING: frequency passed to \u001b[0m\u001b[32m'Medium.eps_model\u001b[0m\u001b[32m(\u001b[0m\u001b[32m)\u001b[0m\u001b[32m'\u001b[0m\u001b[31mis outside of     \u001b[0m\n",
       "\u001b[2;36m             \u001b[0m\u001b[32m'Medium.frequency_range'\u001b[0m\u001b[31m = \u001b[0m\u001b[1;31m(\u001b[0m\u001b[1;36m206753419710997.8\u001b[0m\u001b[31m, \u001b[0m\u001b[1;36m1199169834323787.2\u001b[0m\u001b[1;31m)\u001b[0m\u001b[31m \u001b[0m\n"
      ]
     },
     "metadata": {},
     "output_type": "display_data"
    },
    {
     "data": {
      "text/html": [
       "<pre style=\"white-space:pre;overflow-x:auto;line-height:normal;font-family:Menlo,'DejaVu Sans Mono',consolas,'Courier New',monospace\"><span style=\"color: #7fbfbf; text-decoration-color: #7fbfbf\">             </span><span style=\"color: #800000; text-decoration-color: #800000\">WARNING: The medium associated with </span><span style=\"color: #008000; text-decoration-color: #008000\">'cSi_Green2008'</span><span style=\"color: #800000; text-decoration-color: #800000\">                </span>\n",
       "<span style=\"color: #7fbfbf; text-decoration-color: #7fbfbf\">             </span><span style=\"color: #800000; text-decoration-color: #800000; font-weight: bold\">(</span><span style=\"color: #800000; text-decoration-color: #800000\">simulation.mediums</span><span style=\"color: #800000; text-decoration-color: #800000; font-weight: bold\">[</span><span style=\"color: #008080; text-decoration-color: #008080; font-weight: bold\">1</span><span style=\"color: #800000; text-decoration-color: #800000; font-weight: bold\">])</span><span style=\"color: #800000; text-decoration-color: #800000\"> has a frequency range: </span><span style=\"color: #800000; text-decoration-color: #800000; font-weight: bold\">(</span><span style=\"color: #008080; text-decoration-color: #008080; font-weight: bold\">2.0675e14</span><span style=\"color: #800000; text-decoration-color: #800000\">,         </span>\n",
       "<span style=\"color: #7fbfbf; text-decoration-color: #7fbfbf\">             </span><span style=\"color: #008080; text-decoration-color: #008080; font-weight: bold\">11.9917e14</span><span style=\"color: #800000; text-decoration-color: #800000; font-weight: bold\">)</span><span style=\"color: #800000; text-decoration-color: #800000\"> </span><span style=\"color: #800000; text-decoration-color: #800000; font-weight: bold\">(</span><span style=\"color: #800000; text-decoration-color: #800000\">Hz</span><span style=\"color: #800000; text-decoration-color: #800000; font-weight: bold\">)</span><span style=\"color: #800000; text-decoration-color: #800000\"> that does not fully cover the frequencies         </span>\n",
       "<span style=\"color: #7fbfbf; text-decoration-color: #7fbfbf\">             </span><span style=\"color: #800000; text-decoration-color: #800000\">contained in </span><span style=\"color: #008000; text-decoration-color: #008000\">'flux_monitor'</span><span style=\"color: #800000; text-decoration-color: #800000\"> </span><span style=\"color: #800000; text-decoration-color: #800000; font-weight: bold\">(</span><span style=\"color: #800000; text-decoration-color: #800000\">simulation.monitors</span><span style=\"color: #800000; text-decoration-color: #800000; font-weight: bold\">[</span><span style=\"color: #008080; text-decoration-color: #008080; font-weight: bold\">0</span><span style=\"color: #800000; text-decoration-color: #800000; font-weight: bold\">])</span><span style=\"color: #800000; text-decoration-color: #800000\">.This can cause</span>\n",
       "<span style=\"color: #7fbfbf; text-decoration-color: #7fbfbf\">             </span><span style=\"color: #800000; text-decoration-color: #800000\">inaccuracies in the recorded results.                              </span>\n",
       "</pre>\n"
      ],
      "text/plain": [
       "\u001b[2;36m            \u001b[0m\u001b[2;36m \u001b[0m\u001b[31mWARNING: The medium associated with \u001b[0m\u001b[32m'cSi_Green2008'\u001b[0m\u001b[31m                \u001b[0m\n",
       "\u001b[2;36m             \u001b[0m\u001b[1;31m(\u001b[0m\u001b[31msimulation.mediums\u001b[0m\u001b[1;31m[\u001b[0m\u001b[1;36m1\u001b[0m\u001b[1;31m]\u001b[0m\u001b[1;31m)\u001b[0m\u001b[31m has a frequency range: \u001b[0m\u001b[1;31m(\u001b[0m\u001b[1;36m2.0675e14\u001b[0m\u001b[31m,         \u001b[0m\n",
       "\u001b[2;36m             \u001b[0m\u001b[1;36m11.9917e14\u001b[0m\u001b[1;31m)\u001b[0m\u001b[31m \u001b[0m\u001b[1;31m(\u001b[0m\u001b[31mHz\u001b[0m\u001b[1;31m)\u001b[0m\u001b[31m that does not fully cover the frequencies         \u001b[0m\n",
       "\u001b[2;36m             \u001b[0m\u001b[31mcontained in \u001b[0m\u001b[32m'flux_monitor'\u001b[0m\u001b[31m \u001b[0m\u001b[1;31m(\u001b[0m\u001b[31msimulation.monitors\u001b[0m\u001b[1;31m[\u001b[0m\u001b[1;36m0\u001b[0m\u001b[1;31m]\u001b[0m\u001b[1;31m)\u001b[0m\u001b[31m.This can cause\u001b[0m\n",
       "\u001b[2;36m             \u001b[0m\u001b[31minaccuracies in the recorded results.                              \u001b[0m\n"
      ]
     },
     "metadata": {},
     "output_type": "display_data"
    },
    {
     "data": {
      "text/html": [
       "<pre style=\"white-space:pre;overflow-x:auto;line-height:normal;font-family:Menlo,'DejaVu Sans Mono',consolas,'Courier New',monospace\"><span style=\"color: #7fbfbf; text-decoration-color: #7fbfbf\">             </span><span style=\"color: #800000; text-decoration-color: #800000\">WARNING: Suppressed </span><span style=\"color: #008080; text-decoration-color: #008080; font-weight: bold\">1</span><span style=\"color: #800000; text-decoration-color: #800000\"> WARNING message.                             </span>\n",
       "</pre>\n"
      ],
      "text/plain": [
       "\u001b[2;36m            \u001b[0m\u001b[2;36m \u001b[0m\u001b[31mWARNING: Suppressed \u001b[0m\u001b[1;36m1\u001b[0m\u001b[31m WARNING message.                             \u001b[0m\n"
      ]
     },
     "metadata": {},
     "output_type": "display_data"
    },
    {
     "data": {
      "text/html": [
       "<pre style=\"white-space:pre;overflow-x:auto;line-height:normal;font-family:Menlo,'DejaVu Sans Mono',consolas,'Courier New',monospace\"><span style=\"color: #7fbfbf; text-decoration-color: #7fbfbf\">             </span><span style=\"color: #800000; text-decoration-color: #800000\">WARNING: frequency passed to </span><span style=\"color: #008000; text-decoration-color: #008000\">'Medium.eps_model()'</span><span style=\"color: #800000; text-decoration-color: #800000\">is outside of     </span>\n",
       "<span style=\"color: #7fbfbf; text-decoration-color: #7fbfbf\">             </span><span style=\"color: #008000; text-decoration-color: #008000\">'Medium.frequency_range'</span><span style=\"color: #800000; text-decoration-color: #800000\"> = </span><span style=\"color: #800000; text-decoration-color: #800000; font-weight: bold\">(</span><span style=\"color: #008080; text-decoration-color: #008080; font-weight: bold\">206753419710997.8</span><span style=\"color: #800000; text-decoration-color: #800000\">, </span><span style=\"color: #008080; text-decoration-color: #008080; font-weight: bold\">1199169834323787.2</span><span style=\"color: #800000; text-decoration-color: #800000; font-weight: bold\">)</span><span style=\"color: #800000; text-decoration-color: #800000\"> </span>\n",
       "</pre>\n"
      ],
      "text/plain": [
       "\u001b[2;36m            \u001b[0m\u001b[2;36m \u001b[0m\u001b[31mWARNING: frequency passed to \u001b[0m\u001b[32m'Medium.eps_model\u001b[0m\u001b[32m(\u001b[0m\u001b[32m)\u001b[0m\u001b[32m'\u001b[0m\u001b[31mis outside of     \u001b[0m\n",
       "\u001b[2;36m             \u001b[0m\u001b[32m'Medium.frequency_range'\u001b[0m\u001b[31m = \u001b[0m\u001b[1;31m(\u001b[0m\u001b[1;36m206753419710997.8\u001b[0m\u001b[31m, \u001b[0m\u001b[1;36m1199169834323787.2\u001b[0m\u001b[1;31m)\u001b[0m\u001b[31m \u001b[0m\n"
      ]
     },
     "metadata": {},
     "output_type": "display_data"
    },
    {
     "data": {
      "text/html": [
       "<pre style=\"white-space:pre;overflow-x:auto;line-height:normal;font-family:Menlo,'DejaVu Sans Mono',consolas,'Courier New',monospace\"><span style=\"color: #7fbfbf; text-decoration-color: #7fbfbf\">             </span><span style=\"color: #800000; text-decoration-color: #800000\">WARNING: frequency passed to </span><span style=\"color: #008000; text-decoration-color: #008000\">'Medium.eps_model()'</span><span style=\"color: #800000; text-decoration-color: #800000\">is outside of     </span>\n",
       "<span style=\"color: #7fbfbf; text-decoration-color: #7fbfbf\">             </span><span style=\"color: #008000; text-decoration-color: #008000\">'Medium.frequency_range'</span><span style=\"color: #800000; text-decoration-color: #800000\"> = </span><span style=\"color: #800000; text-decoration-color: #800000; font-weight: bold\">(</span><span style=\"color: #008080; text-decoration-color: #008080; font-weight: bold\">206753419710997.8</span><span style=\"color: #800000; text-decoration-color: #800000\">, </span><span style=\"color: #008080; text-decoration-color: #008080; font-weight: bold\">1199169834323787.2</span><span style=\"color: #800000; text-decoration-color: #800000; font-weight: bold\">)</span><span style=\"color: #800000; text-decoration-color: #800000\"> </span>\n",
       "</pre>\n"
      ],
      "text/plain": [
       "\u001b[2;36m            \u001b[0m\u001b[2;36m \u001b[0m\u001b[31mWARNING: frequency passed to \u001b[0m\u001b[32m'Medium.eps_model\u001b[0m\u001b[32m(\u001b[0m\u001b[32m)\u001b[0m\u001b[32m'\u001b[0m\u001b[31mis outside of     \u001b[0m\n",
       "\u001b[2;36m             \u001b[0m\u001b[32m'Medium.frequency_range'\u001b[0m\u001b[31m = \u001b[0m\u001b[1;31m(\u001b[0m\u001b[1;36m206753419710997.8\u001b[0m\u001b[31m, \u001b[0m\u001b[1;36m1199169834323787.2\u001b[0m\u001b[1;31m)\u001b[0m\u001b[31m \u001b[0m\n"
      ]
     },
     "metadata": {},
     "output_type": "display_data"
    },
    {
     "data": {
      "text/html": [
       "<pre style=\"white-space:pre;overflow-x:auto;line-height:normal;font-family:Menlo,'DejaVu Sans Mono',consolas,'Courier New',monospace\"><span style=\"color: #7fbfbf; text-decoration-color: #7fbfbf\">             </span><span style=\"color: #800000; text-decoration-color: #800000\">WARNING: frequency passed to </span><span style=\"color: #008000; text-decoration-color: #008000\">'Medium.eps_model()'</span><span style=\"color: #800000; text-decoration-color: #800000\">is outside of     </span>\n",
       "<span style=\"color: #7fbfbf; text-decoration-color: #7fbfbf\">             </span><span style=\"color: #008000; text-decoration-color: #008000\">'Medium.frequency_range'</span><span style=\"color: #800000; text-decoration-color: #800000\"> = </span><span style=\"color: #800000; text-decoration-color: #800000; font-weight: bold\">(</span><span style=\"color: #008080; text-decoration-color: #008080; font-weight: bold\">206753419710997.8</span><span style=\"color: #800000; text-decoration-color: #800000\">, </span><span style=\"color: #008080; text-decoration-color: #008080; font-weight: bold\">1199169834323787.2</span><span style=\"color: #800000; text-decoration-color: #800000; font-weight: bold\">)</span><span style=\"color: #800000; text-decoration-color: #800000\"> </span>\n",
       "</pre>\n"
      ],
      "text/plain": [
       "\u001b[2;36m            \u001b[0m\u001b[2;36m \u001b[0m\u001b[31mWARNING: frequency passed to \u001b[0m\u001b[32m'Medium.eps_model\u001b[0m\u001b[32m(\u001b[0m\u001b[32m)\u001b[0m\u001b[32m'\u001b[0m\u001b[31mis outside of     \u001b[0m\n",
       "\u001b[2;36m             \u001b[0m\u001b[32m'Medium.frequency_range'\u001b[0m\u001b[31m = \u001b[0m\u001b[1;31m(\u001b[0m\u001b[1;36m206753419710997.8\u001b[0m\u001b[31m, \u001b[0m\u001b[1;36m1199169834323787.2\u001b[0m\u001b[1;31m)\u001b[0m\u001b[31m \u001b[0m\n"
      ]
     },
     "metadata": {},
     "output_type": "display_data"
    },
    {
     "data": {
      "text/html": [
       "<pre style=\"white-space:pre;overflow-x:auto;line-height:normal;font-family:Menlo,'DejaVu Sans Mono',consolas,'Courier New',monospace\"><span style=\"color: #7fbfbf; text-decoration-color: #7fbfbf\">             </span><span style=\"color: #800000; text-decoration-color: #800000\">WARNING: frequency passed to </span><span style=\"color: #008000; text-decoration-color: #008000\">'Medium.eps_model()'</span><span style=\"color: #800000; text-decoration-color: #800000\">is outside of     </span>\n",
       "<span style=\"color: #7fbfbf; text-decoration-color: #7fbfbf\">             </span><span style=\"color: #008000; text-decoration-color: #008000\">'Medium.frequency_range'</span><span style=\"color: #800000; text-decoration-color: #800000\"> = </span><span style=\"color: #800000; text-decoration-color: #800000; font-weight: bold\">(</span><span style=\"color: #008080; text-decoration-color: #008080; font-weight: bold\">206753419710997.8</span><span style=\"color: #800000; text-decoration-color: #800000\">, </span><span style=\"color: #008080; text-decoration-color: #008080; font-weight: bold\">1199169834323787.2</span><span style=\"color: #800000; text-decoration-color: #800000; font-weight: bold\">)</span><span style=\"color: #800000; text-decoration-color: #800000\"> </span>\n",
       "</pre>\n"
      ],
      "text/plain": [
       "\u001b[2;36m            \u001b[0m\u001b[2;36m \u001b[0m\u001b[31mWARNING: frequency passed to \u001b[0m\u001b[32m'Medium.eps_model\u001b[0m\u001b[32m(\u001b[0m\u001b[32m)\u001b[0m\u001b[32m'\u001b[0m\u001b[31mis outside of     \u001b[0m\n",
       "\u001b[2;36m             \u001b[0m\u001b[32m'Medium.frequency_range'\u001b[0m\u001b[31m = \u001b[0m\u001b[1;31m(\u001b[0m\u001b[1;36m206753419710997.8\u001b[0m\u001b[31m, \u001b[0m\u001b[1;36m1199169834323787.2\u001b[0m\u001b[1;31m)\u001b[0m\u001b[31m \u001b[0m\n"
      ]
     },
     "metadata": {},
     "output_type": "display_data"
    },
    {
     "data": {
      "text/html": [
       "<pre style=\"white-space:pre;overflow-x:auto;line-height:normal;font-family:Menlo,'DejaVu Sans Mono',consolas,'Courier New',monospace\"><span style=\"color: #7fbfbf; text-decoration-color: #7fbfbf\">             </span><span style=\"color: #800000; text-decoration-color: #800000\">WARNING: frequency passed to </span><span style=\"color: #008000; text-decoration-color: #008000\">'Medium.eps_model()'</span><span style=\"color: #800000; text-decoration-color: #800000\">is outside of     </span>\n",
       "<span style=\"color: #7fbfbf; text-decoration-color: #7fbfbf\">             </span><span style=\"color: #008000; text-decoration-color: #008000\">'Medium.frequency_range'</span><span style=\"color: #800000; text-decoration-color: #800000\"> = </span><span style=\"color: #800000; text-decoration-color: #800000; font-weight: bold\">(</span><span style=\"color: #008080; text-decoration-color: #008080; font-weight: bold\">206753419710997.8</span><span style=\"color: #800000; text-decoration-color: #800000\">, </span><span style=\"color: #008080; text-decoration-color: #008080; font-weight: bold\">1199169834323787.2</span><span style=\"color: #800000; text-decoration-color: #800000; font-weight: bold\">)</span><span style=\"color: #800000; text-decoration-color: #800000\"> </span>\n",
       "</pre>\n"
      ],
      "text/plain": [
       "\u001b[2;36m            \u001b[0m\u001b[2;36m \u001b[0m\u001b[31mWARNING: frequency passed to \u001b[0m\u001b[32m'Medium.eps_model\u001b[0m\u001b[32m(\u001b[0m\u001b[32m)\u001b[0m\u001b[32m'\u001b[0m\u001b[31mis outside of     \u001b[0m\n",
       "\u001b[2;36m             \u001b[0m\u001b[32m'Medium.frequency_range'\u001b[0m\u001b[31m = \u001b[0m\u001b[1;31m(\u001b[0m\u001b[1;36m206753419710997.8\u001b[0m\u001b[31m, \u001b[0m\u001b[1;36m1199169834323787.2\u001b[0m\u001b[1;31m)\u001b[0m\u001b[31m \u001b[0m\n"
      ]
     },
     "metadata": {},
     "output_type": "display_data"
    },
    {
     "data": {
      "application/vnd.jupyter.widget-view+json": {
       "model_id": "641b589971dd4a1280d3e4e65bdcc0a8",
       "version_major": 2,
       "version_minor": 0
      },
      "text/plain": [
       "Output()"
      ]
     },
     "metadata": {},
     "output_type": "display_data"
    },
    {
     "data": {
      "text/html": [
       "<pre style=\"white-space:pre;overflow-x:auto;line-height:normal;font-family:Menlo,'DejaVu Sans Mono',consolas,'Courier New',monospace\"></pre>\n"
      ],
      "text/plain": []
     },
     "metadata": {},
     "output_type": "display_data"
    }
   ],
   "source": [
    "batch = web.Batch(simulations=sims, verbose=True)\n",
    "batch_data = batch.run(path_dir=\"data/geom_perp\")"
   ]
  },
  {
   "cell_type": "code",
   "execution_count": 35,
   "id": "a5dcdccb",
   "metadata": {},
   "outputs": [
    {
     "data": {
      "text/html": [
       "<pre style=\"white-space:pre;overflow-x:auto;line-height:normal;font-family:Menlo,'DejaVu Sans Mono',consolas,'Courier New',monospace\"><span style=\"color: #7fbfbf; text-decoration-color: #7fbfbf\">13:24:34 EDT </span><span style=\"color: #800000; text-decoration-color: #800000\">WARNING: The medium associated with </span><span style=\"color: #008000; text-decoration-color: #008000\">'cSi_Green2008'</span><span style=\"color: #800000; text-decoration-color: #800000\">                </span>\n",
       "<span style=\"color: #7fbfbf; text-decoration-color: #7fbfbf\">             </span><span style=\"color: #800000; text-decoration-color: #800000; font-weight: bold\">(</span><span style=\"color: #800000; text-decoration-color: #800000\">simulation.mediums</span><span style=\"color: #800000; text-decoration-color: #800000; font-weight: bold\">[</span><span style=\"color: #008080; text-decoration-color: #008080; font-weight: bold\">1</span><span style=\"color: #800000; text-decoration-color: #800000; font-weight: bold\">])</span><span style=\"color: #800000; text-decoration-color: #800000\"> has a frequency range: </span><span style=\"color: #800000; text-decoration-color: #800000; font-weight: bold\">(</span><span style=\"color: #008080; text-decoration-color: #008080; font-weight: bold\">2.0675e14</span><span style=\"color: #800000; text-decoration-color: #800000\">,         </span>\n",
       "<span style=\"color: #7fbfbf; text-decoration-color: #7fbfbf\">             </span><span style=\"color: #008080; text-decoration-color: #008080; font-weight: bold\">11.9917e14</span><span style=\"color: #800000; text-decoration-color: #800000; font-weight: bold\">)</span><span style=\"color: #800000; text-decoration-color: #800000\"> </span><span style=\"color: #800000; text-decoration-color: #800000; font-weight: bold\">(</span><span style=\"color: #800000; text-decoration-color: #800000\">Hz</span><span style=\"color: #800000; text-decoration-color: #800000; font-weight: bold\">)</span><span style=\"color: #800000; text-decoration-color: #800000\"> that does not fully cover the frequencies         </span>\n",
       "<span style=\"color: #7fbfbf; text-decoration-color: #7fbfbf\">             </span><span style=\"color: #800000; text-decoration-color: #800000\">contained in </span><span style=\"color: #008000; text-decoration-color: #008000\">'flux_monitor'</span><span style=\"color: #800000; text-decoration-color: #800000\"> </span><span style=\"color: #800000; text-decoration-color: #800000; font-weight: bold\">(</span><span style=\"color: #800000; text-decoration-color: #800000\">simulation.monitors</span><span style=\"color: #800000; text-decoration-color: #800000; font-weight: bold\">[</span><span style=\"color: #008080; text-decoration-color: #008080; font-weight: bold\">0</span><span style=\"color: #800000; text-decoration-color: #800000; font-weight: bold\">])</span><span style=\"color: #800000; text-decoration-color: #800000\">.This can cause</span>\n",
       "<span style=\"color: #7fbfbf; text-decoration-color: #7fbfbf\">             </span><span style=\"color: #800000; text-decoration-color: #800000\">inaccuracies in the recorded results.                              </span>\n",
       "</pre>\n"
      ],
      "text/plain": [
       "\u001b[2;36m13:24:34 EDT\u001b[0m\u001b[2;36m \u001b[0m\u001b[31mWARNING: The medium associated with \u001b[0m\u001b[32m'cSi_Green2008'\u001b[0m\u001b[31m                \u001b[0m\n",
       "\u001b[2;36m             \u001b[0m\u001b[1;31m(\u001b[0m\u001b[31msimulation.mediums\u001b[0m\u001b[1;31m[\u001b[0m\u001b[1;36m1\u001b[0m\u001b[1;31m]\u001b[0m\u001b[1;31m)\u001b[0m\u001b[31m has a frequency range: \u001b[0m\u001b[1;31m(\u001b[0m\u001b[1;36m2.0675e14\u001b[0m\u001b[31m,         \u001b[0m\n",
       "\u001b[2;36m             \u001b[0m\u001b[1;36m11.9917e14\u001b[0m\u001b[1;31m)\u001b[0m\u001b[31m \u001b[0m\u001b[1;31m(\u001b[0m\u001b[31mHz\u001b[0m\u001b[1;31m)\u001b[0m\u001b[31m that does not fully cover the frequencies         \u001b[0m\n",
       "\u001b[2;36m             \u001b[0m\u001b[31mcontained in \u001b[0m\u001b[32m'flux_monitor'\u001b[0m\u001b[31m \u001b[0m\u001b[1;31m(\u001b[0m\u001b[31msimulation.monitors\u001b[0m\u001b[1;31m[\u001b[0m\u001b[1;36m0\u001b[0m\u001b[1;31m]\u001b[0m\u001b[1;31m)\u001b[0m\u001b[31m.This can cause\u001b[0m\n",
       "\u001b[2;36m             \u001b[0m\u001b[31minaccuracies in the recorded results.                              \u001b[0m\n"
      ]
     },
     "metadata": {},
     "output_type": "display_data"
    },
    {
     "data": {
      "text/html": [
       "<pre style=\"white-space:pre;overflow-x:auto;line-height:normal;font-family:Menlo,'DejaVu Sans Mono',consolas,'Courier New',monospace\"><span style=\"color: #7fbfbf; text-decoration-color: #7fbfbf\">             </span><span style=\"color: #800000; text-decoration-color: #800000\">WARNING: Suppressed </span><span style=\"color: #008080; text-decoration-color: #008080; font-weight: bold\">3</span><span style=\"color: #800000; text-decoration-color: #800000\"> WARNING messages.                            </span>\n",
       "</pre>\n"
      ],
      "text/plain": [
       "\u001b[2;36m            \u001b[0m\u001b[2;36m \u001b[0m\u001b[31mWARNING: Suppressed \u001b[0m\u001b[1;36m3\u001b[0m\u001b[31m WARNING messages.                            \u001b[0m\n"
      ]
     },
     "metadata": {},
     "output_type": "display_data"
    },
    {
     "data": {
      "text/html": [
       "<pre style=\"white-space:pre;overflow-x:auto;line-height:normal;font-family:Menlo,'DejaVu Sans Mono',consolas,'Courier New',monospace\"><span style=\"color: #7fbfbf; text-decoration-color: #7fbfbf\">             </span><span style=\"color: #800000; text-decoration-color: #800000\">WARNING: frequency passed to </span><span style=\"color: #008000; text-decoration-color: #008000\">'Medium.eps_model()'</span><span style=\"color: #800000; text-decoration-color: #800000\">is outside of     </span>\n",
       "<span style=\"color: #7fbfbf; text-decoration-color: #7fbfbf\">             </span><span style=\"color: #008000; text-decoration-color: #008000\">'Medium.frequency_range'</span><span style=\"color: #800000; text-decoration-color: #800000\"> = </span><span style=\"color: #800000; text-decoration-color: #800000; font-weight: bold\">(</span><span style=\"color: #008080; text-decoration-color: #008080; font-weight: bold\">206753419710997.8</span><span style=\"color: #800000; text-decoration-color: #800000\">, </span><span style=\"color: #008080; text-decoration-color: #008080; font-weight: bold\">1199169834323787.2</span><span style=\"color: #800000; text-decoration-color: #800000; font-weight: bold\">)</span><span style=\"color: #800000; text-decoration-color: #800000\"> </span>\n",
       "</pre>\n"
      ],
      "text/plain": [
       "\u001b[2;36m            \u001b[0m\u001b[2;36m \u001b[0m\u001b[31mWARNING: frequency passed to \u001b[0m\u001b[32m'Medium.eps_model\u001b[0m\u001b[32m(\u001b[0m\u001b[32m)\u001b[0m\u001b[32m'\u001b[0m\u001b[31mis outside of     \u001b[0m\n",
       "\u001b[2;36m             \u001b[0m\u001b[32m'Medium.frequency_range'\u001b[0m\u001b[31m = \u001b[0m\u001b[1;31m(\u001b[0m\u001b[1;36m206753419710997.8\u001b[0m\u001b[31m, \u001b[0m\u001b[1;36m1199169834323787.2\u001b[0m\u001b[1;31m)\u001b[0m\u001b[31m \u001b[0m\n"
      ]
     },
     "metadata": {},
     "output_type": "display_data"
    },
    {
     "data": {
      "text/html": [
       "<pre style=\"white-space:pre;overflow-x:auto;line-height:normal;font-family:Menlo,'DejaVu Sans Mono',consolas,'Courier New',monospace\"><span style=\"color: #7fbfbf; text-decoration-color: #7fbfbf\">             </span><span style=\"color: #800000; text-decoration-color: #800000\">WARNING: Suppressed </span><span style=\"color: #008080; text-decoration-color: #008080; font-weight: bold\">1</span><span style=\"color: #800000; text-decoration-color: #800000\"> WARNING message.                             </span>\n",
       "</pre>\n"
      ],
      "text/plain": [
       "\u001b[2;36m            \u001b[0m\u001b[2;36m \u001b[0m\u001b[31mWARNING: Suppressed \u001b[0m\u001b[1;36m1\u001b[0m\u001b[31m WARNING message.                             \u001b[0m\n"
      ]
     },
     "metadata": {},
     "output_type": "display_data"
    },
    {
     "data": {
      "text/html": [
       "<pre style=\"white-space:pre;overflow-x:auto;line-height:normal;font-family:Menlo,'DejaVu Sans Mono',consolas,'Courier New',monospace\"><span style=\"color: #7fbfbf; text-decoration-color: #7fbfbf\">             </span><span style=\"color: #800000; text-decoration-color: #800000\">WARNING: frequency passed to </span><span style=\"color: #008000; text-decoration-color: #008000\">'Medium.eps_model()'</span><span style=\"color: #800000; text-decoration-color: #800000\">is outside of     </span>\n",
       "<span style=\"color: #7fbfbf; text-decoration-color: #7fbfbf\">             </span><span style=\"color: #008000; text-decoration-color: #008000\">'Medium.frequency_range'</span><span style=\"color: #800000; text-decoration-color: #800000\"> = </span><span style=\"color: #800000; text-decoration-color: #800000; font-weight: bold\">(</span><span style=\"color: #008080; text-decoration-color: #008080; font-weight: bold\">206753419710997.8</span><span style=\"color: #800000; text-decoration-color: #800000\">, </span><span style=\"color: #008080; text-decoration-color: #008080; font-weight: bold\">1199169834323787.2</span><span style=\"color: #800000; text-decoration-color: #800000; font-weight: bold\">)</span><span style=\"color: #800000; text-decoration-color: #800000\"> </span>\n",
       "</pre>\n"
      ],
      "text/plain": [
       "\u001b[2;36m            \u001b[0m\u001b[2;36m \u001b[0m\u001b[31mWARNING: frequency passed to \u001b[0m\u001b[32m'Medium.eps_model\u001b[0m\u001b[32m(\u001b[0m\u001b[32m)\u001b[0m\u001b[32m'\u001b[0m\u001b[31mis outside of     \u001b[0m\n",
       "\u001b[2;36m             \u001b[0m\u001b[32m'Medium.frequency_range'\u001b[0m\u001b[31m = \u001b[0m\u001b[1;31m(\u001b[0m\u001b[1;36m206753419710997.8\u001b[0m\u001b[31m, \u001b[0m\u001b[1;36m1199169834323787.2\u001b[0m\u001b[1;31m)\u001b[0m\u001b[31m \u001b[0m\n"
      ]
     },
     "metadata": {},
     "output_type": "display_data"
    },
    {
     "data": {
      "text/html": [
       "<pre style=\"white-space:pre;overflow-x:auto;line-height:normal;font-family:Menlo,'DejaVu Sans Mono',consolas,'Courier New',monospace\"><span style=\"color: #7fbfbf; text-decoration-color: #7fbfbf\">             </span><span style=\"color: #800000; text-decoration-color: #800000\">WARNING: frequency passed to </span><span style=\"color: #008000; text-decoration-color: #008000\">'Medium.eps_model()'</span><span style=\"color: #800000; text-decoration-color: #800000\">is outside of     </span>\n",
       "<span style=\"color: #7fbfbf; text-decoration-color: #7fbfbf\">             </span><span style=\"color: #008000; text-decoration-color: #008000\">'Medium.frequency_range'</span><span style=\"color: #800000; text-decoration-color: #800000\"> = </span><span style=\"color: #800000; text-decoration-color: #800000; font-weight: bold\">(</span><span style=\"color: #008080; text-decoration-color: #008080; font-weight: bold\">206753419710997.8</span><span style=\"color: #800000; text-decoration-color: #800000\">, </span><span style=\"color: #008080; text-decoration-color: #008080; font-weight: bold\">1199169834323787.2</span><span style=\"color: #800000; text-decoration-color: #800000; font-weight: bold\">)</span><span style=\"color: #800000; text-decoration-color: #800000\"> </span>\n",
       "</pre>\n"
      ],
      "text/plain": [
       "\u001b[2;36m            \u001b[0m\u001b[2;36m \u001b[0m\u001b[31mWARNING: frequency passed to \u001b[0m\u001b[32m'Medium.eps_model\u001b[0m\u001b[32m(\u001b[0m\u001b[32m)\u001b[0m\u001b[32m'\u001b[0m\u001b[31mis outside of     \u001b[0m\n",
       "\u001b[2;36m             \u001b[0m\u001b[32m'Medium.frequency_range'\u001b[0m\u001b[31m = \u001b[0m\u001b[1;31m(\u001b[0m\u001b[1;36m206753419710997.8\u001b[0m\u001b[31m, \u001b[0m\u001b[1;36m1199169834323787.2\u001b[0m\u001b[1;31m)\u001b[0m\u001b[31m \u001b[0m\n"
      ]
     },
     "metadata": {},
     "output_type": "display_data"
    },
    {
     "data": {
      "text/html": [
       "<pre style=\"white-space:pre;overflow-x:auto;line-height:normal;font-family:Menlo,'DejaVu Sans Mono',consolas,'Courier New',monospace\"><span style=\"color: #7fbfbf; text-decoration-color: #7fbfbf\">13:24:35 EDT </span><span style=\"color: #800000; text-decoration-color: #800000\">WARNING: frequency passed to </span><span style=\"color: #008000; text-decoration-color: #008000\">'Medium.eps_model()'</span><span style=\"color: #800000; text-decoration-color: #800000\">is outside of     </span>\n",
       "<span style=\"color: #7fbfbf; text-decoration-color: #7fbfbf\">             </span><span style=\"color: #008000; text-decoration-color: #008000\">'Medium.frequency_range'</span><span style=\"color: #800000; text-decoration-color: #800000\"> = </span><span style=\"color: #800000; text-decoration-color: #800000; font-weight: bold\">(</span><span style=\"color: #008080; text-decoration-color: #008080; font-weight: bold\">206753419710997.8</span><span style=\"color: #800000; text-decoration-color: #800000\">, </span><span style=\"color: #008080; text-decoration-color: #008080; font-weight: bold\">1199169834323787.2</span><span style=\"color: #800000; text-decoration-color: #800000; font-weight: bold\">)</span><span style=\"color: #800000; text-decoration-color: #800000\"> </span>\n",
       "</pre>\n"
      ],
      "text/plain": [
       "\u001b[2;36m13:24:35 EDT\u001b[0m\u001b[2;36m \u001b[0m\u001b[31mWARNING: frequency passed to \u001b[0m\u001b[32m'Medium.eps_model\u001b[0m\u001b[32m(\u001b[0m\u001b[32m)\u001b[0m\u001b[32m'\u001b[0m\u001b[31mis outside of     \u001b[0m\n",
       "\u001b[2;36m             \u001b[0m\u001b[32m'Medium.frequency_range'\u001b[0m\u001b[31m = \u001b[0m\u001b[1;31m(\u001b[0m\u001b[1;36m206753419710997.8\u001b[0m\u001b[31m, \u001b[0m\u001b[1;36m1199169834323787.2\u001b[0m\u001b[1;31m)\u001b[0m\u001b[31m \u001b[0m\n"
      ]
     },
     "metadata": {},
     "output_type": "display_data"
    },
    {
     "data": {
      "text/html": [
       "<pre style=\"white-space:pre;overflow-x:auto;line-height:normal;font-family:Menlo,'DejaVu Sans Mono',consolas,'Courier New',monospace\"><span style=\"color: #7fbfbf; text-decoration-color: #7fbfbf\">             </span><span style=\"color: #800000; text-decoration-color: #800000\">WARNING: frequency passed to </span><span style=\"color: #008000; text-decoration-color: #008000\">'Medium.eps_model()'</span><span style=\"color: #800000; text-decoration-color: #800000\">is outside of     </span>\n",
       "<span style=\"color: #7fbfbf; text-decoration-color: #7fbfbf\">             </span><span style=\"color: #008000; text-decoration-color: #008000\">'Medium.frequency_range'</span><span style=\"color: #800000; text-decoration-color: #800000\"> = </span><span style=\"color: #800000; text-decoration-color: #800000; font-weight: bold\">(</span><span style=\"color: #008080; text-decoration-color: #008080; font-weight: bold\">206753419710997.8</span><span style=\"color: #800000; text-decoration-color: #800000\">, </span><span style=\"color: #008080; text-decoration-color: #008080; font-weight: bold\">1199169834323787.2</span><span style=\"color: #800000; text-decoration-color: #800000; font-weight: bold\">)</span><span style=\"color: #800000; text-decoration-color: #800000\"> </span>\n",
       "</pre>\n"
      ],
      "text/plain": [
       "\u001b[2;36m            \u001b[0m\u001b[2;36m \u001b[0m\u001b[31mWARNING: frequency passed to \u001b[0m\u001b[32m'Medium.eps_model\u001b[0m\u001b[32m(\u001b[0m\u001b[32m)\u001b[0m\u001b[32m'\u001b[0m\u001b[31mis outside of     \u001b[0m\n",
       "\u001b[2;36m             \u001b[0m\u001b[32m'Medium.frequency_range'\u001b[0m\u001b[31m = \u001b[0m\u001b[1;31m(\u001b[0m\u001b[1;36m206753419710997.8\u001b[0m\u001b[31m, \u001b[0m\u001b[1;36m1199169834323787.2\u001b[0m\u001b[1;31m)\u001b[0m\u001b[31m \u001b[0m\n"
      ]
     },
     "metadata": {},
     "output_type": "display_data"
    },
    {
     "data": {
      "text/html": [
       "<pre style=\"white-space:pre;overflow-x:auto;line-height:normal;font-family:Menlo,'DejaVu Sans Mono',consolas,'Courier New',monospace\"><span style=\"color: #7fbfbf; text-decoration-color: #7fbfbf\">             </span><span style=\"color: #800000; text-decoration-color: #800000\">WARNING: frequency passed to </span><span style=\"color: #008000; text-decoration-color: #008000\">'Medium.eps_model()'</span><span style=\"color: #800000; text-decoration-color: #800000\">is outside of     </span>\n",
       "<span style=\"color: #7fbfbf; text-decoration-color: #7fbfbf\">             </span><span style=\"color: #008000; text-decoration-color: #008000\">'Medium.frequency_range'</span><span style=\"color: #800000; text-decoration-color: #800000\"> = </span><span style=\"color: #800000; text-decoration-color: #800000; font-weight: bold\">(</span><span style=\"color: #008080; text-decoration-color: #008080; font-weight: bold\">206753419710997.8</span><span style=\"color: #800000; text-decoration-color: #800000\">, </span><span style=\"color: #008080; text-decoration-color: #008080; font-weight: bold\">1199169834323787.2</span><span style=\"color: #800000; text-decoration-color: #800000; font-weight: bold\">)</span><span style=\"color: #800000; text-decoration-color: #800000\"> </span>\n",
       "</pre>\n"
      ],
      "text/plain": [
       "\u001b[2;36m            \u001b[0m\u001b[2;36m \u001b[0m\u001b[31mWARNING: frequency passed to \u001b[0m\u001b[32m'Medium.eps_model\u001b[0m\u001b[32m(\u001b[0m\u001b[32m)\u001b[0m\u001b[32m'\u001b[0m\u001b[31mis outside of     \u001b[0m\n",
       "\u001b[2;36m             \u001b[0m\u001b[32m'Medium.frequency_range'\u001b[0m\u001b[31m = \u001b[0m\u001b[1;31m(\u001b[0m\u001b[1;36m206753419710997.8\u001b[0m\u001b[31m, \u001b[0m\u001b[1;36m1199169834323787.2\u001b[0m\u001b[1;31m)\u001b[0m\u001b[31m \u001b[0m\n"
      ]
     },
     "metadata": {},
     "output_type": "display_data"
    },
    {
     "data": {
      "text/html": [
       "<pre style=\"white-space:pre;overflow-x:auto;line-height:normal;font-family:Menlo,'DejaVu Sans Mono',consolas,'Courier New',monospace\"><span style=\"color: #7fbfbf; text-decoration-color: #7fbfbf\">             </span><span style=\"color: #800000; text-decoration-color: #800000\">WARNING: frequency passed to </span><span style=\"color: #008000; text-decoration-color: #008000\">'Medium.eps_model()'</span><span style=\"color: #800000; text-decoration-color: #800000\">is outside of     </span>\n",
       "<span style=\"color: #7fbfbf; text-decoration-color: #7fbfbf\">             </span><span style=\"color: #008000; text-decoration-color: #008000\">'Medium.frequency_range'</span><span style=\"color: #800000; text-decoration-color: #800000\"> = </span><span style=\"color: #800000; text-decoration-color: #800000; font-weight: bold\">(</span><span style=\"color: #008080; text-decoration-color: #008080; font-weight: bold\">206753419710997.8</span><span style=\"color: #800000; text-decoration-color: #800000\">, </span><span style=\"color: #008080; text-decoration-color: #008080; font-weight: bold\">1199169834323787.2</span><span style=\"color: #800000; text-decoration-color: #800000; font-weight: bold\">)</span><span style=\"color: #800000; text-decoration-color: #800000\"> </span>\n",
       "</pre>\n"
      ],
      "text/plain": [
       "\u001b[2;36m            \u001b[0m\u001b[2;36m \u001b[0m\u001b[31mWARNING: frequency passed to \u001b[0m\u001b[32m'Medium.eps_model\u001b[0m\u001b[32m(\u001b[0m\u001b[32m)\u001b[0m\u001b[32m'\u001b[0m\u001b[31mis outside of     \u001b[0m\n",
       "\u001b[2;36m             \u001b[0m\u001b[32m'Medium.frequency_range'\u001b[0m\u001b[31m = \u001b[0m\u001b[1;31m(\u001b[0m\u001b[1;36m206753419710997.8\u001b[0m\u001b[31m, \u001b[0m\u001b[1;36m1199169834323787.2\u001b[0m\u001b[1;31m)\u001b[0m\u001b[31m \u001b[0m\n"
      ]
     },
     "metadata": {},
     "output_type": "display_data"
    },
    {
     "data": {
      "text/html": [
       "<pre style=\"white-space:pre;overflow-x:auto;line-height:normal;font-family:Menlo,'DejaVu Sans Mono',consolas,'Courier New',monospace\"><span style=\"color: #7fbfbf; text-decoration-color: #7fbfbf\">             </span><span style=\"color: #800000; text-decoration-color: #800000\">WARNING: frequency passed to </span><span style=\"color: #008000; text-decoration-color: #008000\">'Medium.eps_model()'</span><span style=\"color: #800000; text-decoration-color: #800000\">is outside of     </span>\n",
       "<span style=\"color: #7fbfbf; text-decoration-color: #7fbfbf\">             </span><span style=\"color: #008000; text-decoration-color: #008000\">'Medium.frequency_range'</span><span style=\"color: #800000; text-decoration-color: #800000\"> = </span><span style=\"color: #800000; text-decoration-color: #800000; font-weight: bold\">(</span><span style=\"color: #008080; text-decoration-color: #008080; font-weight: bold\">206753419710997.8</span><span style=\"color: #800000; text-decoration-color: #800000\">, </span><span style=\"color: #008080; text-decoration-color: #008080; font-weight: bold\">1199169834323787.2</span><span style=\"color: #800000; text-decoration-color: #800000; font-weight: bold\">)</span><span style=\"color: #800000; text-decoration-color: #800000\"> </span>\n",
       "</pre>\n"
      ],
      "text/plain": [
       "\u001b[2;36m            \u001b[0m\u001b[2;36m \u001b[0m\u001b[31mWARNING: frequency passed to \u001b[0m\u001b[32m'Medium.eps_model\u001b[0m\u001b[32m(\u001b[0m\u001b[32m)\u001b[0m\u001b[32m'\u001b[0m\u001b[31mis outside of     \u001b[0m\n",
       "\u001b[2;36m             \u001b[0m\u001b[32m'Medium.frequency_range'\u001b[0m\u001b[31m = \u001b[0m\u001b[1;31m(\u001b[0m\u001b[1;36m206753419710997.8\u001b[0m\u001b[31m, \u001b[0m\u001b[1;36m1199169834323787.2\u001b[0m\u001b[1;31m)\u001b[0m\u001b[31m \u001b[0m\n"
      ]
     },
     "metadata": {},
     "output_type": "display_data"
    },
    {
     "data": {
      "text/html": [
       "<pre style=\"white-space:pre;overflow-x:auto;line-height:normal;font-family:Menlo,'DejaVu Sans Mono',consolas,'Courier New',monospace\"><span style=\"color: #7fbfbf; text-decoration-color: #7fbfbf\">             </span><span style=\"color: #800000; text-decoration-color: #800000\">WARNING: frequency passed to </span><span style=\"color: #008000; text-decoration-color: #008000\">'Medium.eps_model()'</span><span style=\"color: #800000; text-decoration-color: #800000\">is outside of     </span>\n",
       "<span style=\"color: #7fbfbf; text-decoration-color: #7fbfbf\">             </span><span style=\"color: #008000; text-decoration-color: #008000\">'Medium.frequency_range'</span><span style=\"color: #800000; text-decoration-color: #800000\"> = </span><span style=\"color: #800000; text-decoration-color: #800000; font-weight: bold\">(</span><span style=\"color: #008080; text-decoration-color: #008080; font-weight: bold\">206753419710997.8</span><span style=\"color: #800000; text-decoration-color: #800000\">, </span><span style=\"color: #008080; text-decoration-color: #008080; font-weight: bold\">1199169834323787.2</span><span style=\"color: #800000; text-decoration-color: #800000; font-weight: bold\">)</span><span style=\"color: #800000; text-decoration-color: #800000\"> </span>\n",
       "</pre>\n"
      ],
      "text/plain": [
       "\u001b[2;36m            \u001b[0m\u001b[2;36m \u001b[0m\u001b[31mWARNING: frequency passed to \u001b[0m\u001b[32m'Medium.eps_model\u001b[0m\u001b[32m(\u001b[0m\u001b[32m)\u001b[0m\u001b[32m'\u001b[0m\u001b[31mis outside of     \u001b[0m\n",
       "\u001b[2;36m             \u001b[0m\u001b[32m'Medium.frequency_range'\u001b[0m\u001b[31m = \u001b[0m\u001b[1;31m(\u001b[0m\u001b[1;36m206753419710997.8\u001b[0m\u001b[31m, \u001b[0m\u001b[1;36m1199169834323787.2\u001b[0m\u001b[1;31m)\u001b[0m\u001b[31m \u001b[0m\n"
      ]
     },
     "metadata": {},
     "output_type": "display_data"
    },
    {
     "data": {
      "text/html": [
       "<pre style=\"white-space:pre;overflow-x:auto;line-height:normal;font-family:Menlo,'DejaVu Sans Mono',consolas,'Courier New',monospace\"><span style=\"color: #7fbfbf; text-decoration-color: #7fbfbf\">             </span><span style=\"color: #800000; text-decoration-color: #800000\">WARNING: Warning messages were found in the solver log. For more   </span>\n",
       "<span style=\"color: #7fbfbf; text-decoration-color: #7fbfbf\">             </span><span style=\"color: #800000; text-decoration-color: #800000\">information, check </span><span style=\"color: #008000; text-decoration-color: #008000\">'SimulationData.log'</span><span style=\"color: #800000; text-decoration-color: #800000\"> or use                     </span>\n",
       "<span style=\"color: #7fbfbf; text-decoration-color: #7fbfbf\">             </span><span style=\"color: #008000; text-decoration-color: #008000\">'web.download_log(task_id)'</span><span style=\"color: #800000; text-decoration-color: #800000\">.                                       </span>\n",
       "</pre>\n"
      ],
      "text/plain": [
       "\u001b[2;36m            \u001b[0m\u001b[2;36m \u001b[0m\u001b[31mWARNING: Warning messages were found in the solver log. For more   \u001b[0m\n",
       "\u001b[2;36m             \u001b[0m\u001b[31minformation, check \u001b[0m\u001b[32m'SimulationData.log'\u001b[0m\u001b[31m or use                     \u001b[0m\n",
       "\u001b[2;36m             \u001b[0m\u001b[32m'web.download_log\u001b[0m\u001b[32m(\u001b[0m\u001b[32mtask_id\u001b[0m\u001b[32m)\u001b[0m\u001b[32m'\u001b[0m\u001b[31m.                                       \u001b[0m\n"
      ]
     },
     "metadata": {},
     "output_type": "display_data"
    },
    {
     "data": {
      "text/html": [
       "<pre style=\"white-space:pre;overflow-x:auto;line-height:normal;font-family:Menlo,'DejaVu Sans Mono',consolas,'Courier New',monospace\"><span style=\"color: #7fbfbf; text-decoration-color: #7fbfbf\">             </span><span style=\"color: #800000; text-decoration-color: #800000\">WARNING: frequency passed to </span><span style=\"color: #008000; text-decoration-color: #008000\">'Medium.eps_model()'</span><span style=\"color: #800000; text-decoration-color: #800000\">is outside of     </span>\n",
       "<span style=\"color: #7fbfbf; text-decoration-color: #7fbfbf\">             </span><span style=\"color: #008000; text-decoration-color: #008000\">'Medium.frequency_range'</span><span style=\"color: #800000; text-decoration-color: #800000\"> = </span><span style=\"color: #800000; text-decoration-color: #800000; font-weight: bold\">(</span><span style=\"color: #008080; text-decoration-color: #008080; font-weight: bold\">206753419710997.8</span><span style=\"color: #800000; text-decoration-color: #800000\">, </span><span style=\"color: #008080; text-decoration-color: #008080; font-weight: bold\">1199169834323787.2</span><span style=\"color: #800000; text-decoration-color: #800000; font-weight: bold\">)</span><span style=\"color: #800000; text-decoration-color: #800000\"> </span>\n",
       "</pre>\n"
      ],
      "text/plain": [
       "\u001b[2;36m            \u001b[0m\u001b[2;36m \u001b[0m\u001b[31mWARNING: frequency passed to \u001b[0m\u001b[32m'Medium.eps_model\u001b[0m\u001b[32m(\u001b[0m\u001b[32m)\u001b[0m\u001b[32m'\u001b[0m\u001b[31mis outside of     \u001b[0m\n",
       "\u001b[2;36m             \u001b[0m\u001b[32m'Medium.frequency_range'\u001b[0m\u001b[31m = \u001b[0m\u001b[1;31m(\u001b[0m\u001b[1;36m206753419710997.8\u001b[0m\u001b[31m, \u001b[0m\u001b[1;36m1199169834323787.2\u001b[0m\u001b[1;31m)\u001b[0m\u001b[31m \u001b[0m\n"
      ]
     },
     "metadata": {},
     "output_type": "display_data"
    },
    {
     "data": {
      "text/html": [
       "<pre style=\"white-space:pre;overflow-x:auto;line-height:normal;font-family:Menlo,'DejaVu Sans Mono',consolas,'Courier New',monospace\"><span style=\"color: #7fbfbf; text-decoration-color: #7fbfbf\">             </span><span style=\"color: #800000; text-decoration-color: #800000\">WARNING: frequency passed to </span><span style=\"color: #008000; text-decoration-color: #008000\">'Medium.eps_model()'</span><span style=\"color: #800000; text-decoration-color: #800000\">is outside of     </span>\n",
       "<span style=\"color: #7fbfbf; text-decoration-color: #7fbfbf\">             </span><span style=\"color: #008000; text-decoration-color: #008000\">'Medium.frequency_range'</span><span style=\"color: #800000; text-decoration-color: #800000\"> = </span><span style=\"color: #800000; text-decoration-color: #800000; font-weight: bold\">(</span><span style=\"color: #008080; text-decoration-color: #008080; font-weight: bold\">206753419710997.8</span><span style=\"color: #800000; text-decoration-color: #800000\">, </span><span style=\"color: #008080; text-decoration-color: #008080; font-weight: bold\">1199169834323787.2</span><span style=\"color: #800000; text-decoration-color: #800000; font-weight: bold\">)</span><span style=\"color: #800000; text-decoration-color: #800000\"> </span>\n",
       "</pre>\n"
      ],
      "text/plain": [
       "\u001b[2;36m            \u001b[0m\u001b[2;36m \u001b[0m\u001b[31mWARNING: frequency passed to \u001b[0m\u001b[32m'Medium.eps_model\u001b[0m\u001b[32m(\u001b[0m\u001b[32m)\u001b[0m\u001b[32m'\u001b[0m\u001b[31mis outside of     \u001b[0m\n",
       "\u001b[2;36m             \u001b[0m\u001b[32m'Medium.frequency_range'\u001b[0m\u001b[31m = \u001b[0m\u001b[1;31m(\u001b[0m\u001b[1;36m206753419710997.8\u001b[0m\u001b[31m, \u001b[0m\u001b[1;36m1199169834323787.2\u001b[0m\u001b[1;31m)\u001b[0m\u001b[31m \u001b[0m\n"
      ]
     },
     "metadata": {},
     "output_type": "display_data"
    },
    {
     "data": {
      "text/html": [
       "<pre style=\"white-space:pre;overflow-x:auto;line-height:normal;font-family:Menlo,'DejaVu Sans Mono',consolas,'Courier New',monospace\"><span style=\"color: #7fbfbf; text-decoration-color: #7fbfbf\">             </span><span style=\"color: #800000; text-decoration-color: #800000\">WARNING: frequency passed to </span><span style=\"color: #008000; text-decoration-color: #008000\">'Medium.eps_model()'</span><span style=\"color: #800000; text-decoration-color: #800000\">is outside of     </span>\n",
       "<span style=\"color: #7fbfbf; text-decoration-color: #7fbfbf\">             </span><span style=\"color: #008000; text-decoration-color: #008000\">'Medium.frequency_range'</span><span style=\"color: #800000; text-decoration-color: #800000\"> = </span><span style=\"color: #800000; text-decoration-color: #800000; font-weight: bold\">(</span><span style=\"color: #008080; text-decoration-color: #008080; font-weight: bold\">206753419710997.8</span><span style=\"color: #800000; text-decoration-color: #800000\">, </span><span style=\"color: #008080; text-decoration-color: #008080; font-weight: bold\">1199169834323787.2</span><span style=\"color: #800000; text-decoration-color: #800000; font-weight: bold\">)</span><span style=\"color: #800000; text-decoration-color: #800000\"> </span>\n",
       "</pre>\n"
      ],
      "text/plain": [
       "\u001b[2;36m            \u001b[0m\u001b[2;36m \u001b[0m\u001b[31mWARNING: frequency passed to \u001b[0m\u001b[32m'Medium.eps_model\u001b[0m\u001b[32m(\u001b[0m\u001b[32m)\u001b[0m\u001b[32m'\u001b[0m\u001b[31mis outside of     \u001b[0m\n",
       "\u001b[2;36m             \u001b[0m\u001b[32m'Medium.frequency_range'\u001b[0m\u001b[31m = \u001b[0m\u001b[1;31m(\u001b[0m\u001b[1;36m206753419710997.8\u001b[0m\u001b[31m, \u001b[0m\u001b[1;36m1199169834323787.2\u001b[0m\u001b[1;31m)\u001b[0m\u001b[31m \u001b[0m\n"
      ]
     },
     "metadata": {},
     "output_type": "display_data"
    },
    {
     "data": {
      "text/html": [
       "<pre style=\"white-space:pre;overflow-x:auto;line-height:normal;font-family:Menlo,'DejaVu Sans Mono',consolas,'Courier New',monospace\"><span style=\"color: #7fbfbf; text-decoration-color: #7fbfbf\">             </span><span style=\"color: #800000; text-decoration-color: #800000\">WARNING: frequency passed to </span><span style=\"color: #008000; text-decoration-color: #008000\">'Medium.eps_model()'</span><span style=\"color: #800000; text-decoration-color: #800000\">is outside of     </span>\n",
       "<span style=\"color: #7fbfbf; text-decoration-color: #7fbfbf\">             </span><span style=\"color: #008000; text-decoration-color: #008000\">'Medium.frequency_range'</span><span style=\"color: #800000; text-decoration-color: #800000\"> = </span><span style=\"color: #800000; text-decoration-color: #800000; font-weight: bold\">(</span><span style=\"color: #008080; text-decoration-color: #008080; font-weight: bold\">206753419710997.8</span><span style=\"color: #800000; text-decoration-color: #800000\">, </span><span style=\"color: #008080; text-decoration-color: #008080; font-weight: bold\">1199169834323787.2</span><span style=\"color: #800000; text-decoration-color: #800000; font-weight: bold\">)</span><span style=\"color: #800000; text-decoration-color: #800000\"> </span>\n",
       "</pre>\n"
      ],
      "text/plain": [
       "\u001b[2;36m            \u001b[0m\u001b[2;36m \u001b[0m\u001b[31mWARNING: frequency passed to \u001b[0m\u001b[32m'Medium.eps_model\u001b[0m\u001b[32m(\u001b[0m\u001b[32m)\u001b[0m\u001b[32m'\u001b[0m\u001b[31mis outside of     \u001b[0m\n",
       "\u001b[2;36m             \u001b[0m\u001b[32m'Medium.frequency_range'\u001b[0m\u001b[31m = \u001b[0m\u001b[1;31m(\u001b[0m\u001b[1;36m206753419710997.8\u001b[0m\u001b[31m, \u001b[0m\u001b[1;36m1199169834323787.2\u001b[0m\u001b[1;31m)\u001b[0m\u001b[31m \u001b[0m\n"
      ]
     },
     "metadata": {},
     "output_type": "display_data"
    },
    {
     "data": {
      "image/png": "[encoded data removed]",
      "text/plain": [
       "<Figure size 640x480 with 2 Axes>"
      ]
     },
     "metadata": {},
     "output_type": "display_data"
    }
   ],
   "source": [
    "batch_data[\"actual\"].plot_field(field_monitor_name=\"field\", field_name=\"E\", val=\"abs^2\")\n",
    "plt.savefig(\"field_profile.png\", dpi=300)\n",
    "plt.show()"
   ]
  },
  {
   "cell_type": "code",
   "execution_count": 30,
   "id": "bcebbf30",
   "metadata": {},
   "outputs": [
    {
     "data": {
      "text/html": [
       "<pre style=\"white-space:pre;overflow-x:auto;line-height:normal;font-family:Menlo,'DejaVu Sans Mono',consolas,'Courier New',monospace\"><span style=\"color: #7fbfbf; text-decoration-color: #7fbfbf\">13:21:55 EDT </span><span style=\"color: #800000; text-decoration-color: #800000\">WARNING: The medium associated with </span><span style=\"color: #008000; text-decoration-color: #008000\">'cSi_Green2008'</span><span style=\"color: #800000; text-decoration-color: #800000\">                </span>\n",
       "<span style=\"color: #7fbfbf; text-decoration-color: #7fbfbf\">             </span><span style=\"color: #800000; text-decoration-color: #800000; font-weight: bold\">(</span><span style=\"color: #800000; text-decoration-color: #800000\">simulation.mediums</span><span style=\"color: #800000; text-decoration-color: #800000; font-weight: bold\">[</span><span style=\"color: #008080; text-decoration-color: #008080; font-weight: bold\">1</span><span style=\"color: #800000; text-decoration-color: #800000; font-weight: bold\">])</span><span style=\"color: #800000; text-decoration-color: #800000\"> has a frequency range: </span><span style=\"color: #800000; text-decoration-color: #800000; font-weight: bold\">(</span><span style=\"color: #008080; text-decoration-color: #008080; font-weight: bold\">2.0675e14</span><span style=\"color: #800000; text-decoration-color: #800000\">,         </span>\n",
       "<span style=\"color: #7fbfbf; text-decoration-color: #7fbfbf\">             </span><span style=\"color: #008080; text-decoration-color: #008080; font-weight: bold\">11.9917e14</span><span style=\"color: #800000; text-decoration-color: #800000; font-weight: bold\">)</span><span style=\"color: #800000; text-decoration-color: #800000\"> </span><span style=\"color: #800000; text-decoration-color: #800000; font-weight: bold\">(</span><span style=\"color: #800000; text-decoration-color: #800000\">Hz</span><span style=\"color: #800000; text-decoration-color: #800000; font-weight: bold\">)</span><span style=\"color: #800000; text-decoration-color: #800000\"> that does not fully cover the frequencies         </span>\n",
       "<span style=\"color: #7fbfbf; text-decoration-color: #7fbfbf\">             </span><span style=\"color: #800000; text-decoration-color: #800000\">contained in </span><span style=\"color: #008000; text-decoration-color: #008000\">'flux_monitor'</span><span style=\"color: #800000; text-decoration-color: #800000\"> </span><span style=\"color: #800000; text-decoration-color: #800000; font-weight: bold\">(</span><span style=\"color: #800000; text-decoration-color: #800000\">simulation.monitors</span><span style=\"color: #800000; text-decoration-color: #800000; font-weight: bold\">[</span><span style=\"color: #008080; text-decoration-color: #008080; font-weight: bold\">0</span><span style=\"color: #800000; text-decoration-color: #800000; font-weight: bold\">])</span><span style=\"color: #800000; text-decoration-color: #800000\">.This can cause</span>\n",
       "<span style=\"color: #7fbfbf; text-decoration-color: #7fbfbf\">             </span><span style=\"color: #800000; text-decoration-color: #800000\">inaccuracies in the recorded results.                              </span>\n",
       "</pre>\n"
      ],
      "text/plain": [
       "\u001b[2;36m13:21:55 EDT\u001b[0m\u001b[2;36m \u001b[0m\u001b[31mWARNING: The medium associated with \u001b[0m\u001b[32m'cSi_Green2008'\u001b[0m\u001b[31m                \u001b[0m\n",
       "\u001b[2;36m             \u001b[0m\u001b[1;31m(\u001b[0m\u001b[31msimulation.mediums\u001b[0m\u001b[1;31m[\u001b[0m\u001b[1;36m1\u001b[0m\u001b[1;31m]\u001b[0m\u001b[1;31m)\u001b[0m\u001b[31m has a frequency range: \u001b[0m\u001b[1;31m(\u001b[0m\u001b[1;36m2.0675e14\u001b[0m\u001b[31m,         \u001b[0m\n",
       "\u001b[2;36m             \u001b[0m\u001b[1;36m11.9917e14\u001b[0m\u001b[1;31m)\u001b[0m\u001b[31m \u001b[0m\u001b[1;31m(\u001b[0m\u001b[31mHz\u001b[0m\u001b[1;31m)\u001b[0m\u001b[31m that does not fully cover the frequencies         \u001b[0m\n",
       "\u001b[2;36m             \u001b[0m\u001b[31mcontained in \u001b[0m\u001b[32m'flux_monitor'\u001b[0m\u001b[31m \u001b[0m\u001b[1;31m(\u001b[0m\u001b[31msimulation.monitors\u001b[0m\u001b[1;31m[\u001b[0m\u001b[1;36m0\u001b[0m\u001b[1;31m]\u001b[0m\u001b[1;31m)\u001b[0m\u001b[31m.This can cause\u001b[0m\n",
       "\u001b[2;36m             \u001b[0m\u001b[31minaccuracies in the recorded results.                              \u001b[0m\n"
      ]
     },
     "metadata": {},
     "output_type": "display_data"
    },
    {
     "data": {
      "text/html": [
       "<pre style=\"white-space:pre;overflow-x:auto;line-height:normal;font-family:Menlo,'DejaVu Sans Mono',consolas,'Courier New',monospace\"><span style=\"color: #7fbfbf; text-decoration-color: #7fbfbf\">             </span><span style=\"color: #800000; text-decoration-color: #800000\">WARNING: Suppressed </span><span style=\"color: #008080; text-decoration-color: #008080; font-weight: bold\">3</span><span style=\"color: #800000; text-decoration-color: #800000\"> WARNING messages.                            </span>\n",
       "</pre>\n"
      ],
      "text/plain": [
       "\u001b[2;36m            \u001b[0m\u001b[2;36m \u001b[0m\u001b[31mWARNING: Suppressed \u001b[0m\u001b[1;36m3\u001b[0m\u001b[31m WARNING messages.                            \u001b[0m\n"
      ]
     },
     "metadata": {},
     "output_type": "display_data"
    },
    {
     "data": {
      "text/html": [
       "<pre style=\"white-space:pre;overflow-x:auto;line-height:normal;font-family:Menlo,'DejaVu Sans Mono',consolas,'Courier New',monospace\"><span style=\"color: #7fbfbf; text-decoration-color: #7fbfbf\">             </span><span style=\"color: #800000; text-decoration-color: #800000\">WARNING: frequency passed to </span><span style=\"color: #008000; text-decoration-color: #008000\">'Medium.eps_model()'</span><span style=\"color: #800000; text-decoration-color: #800000\">is outside of     </span>\n",
       "<span style=\"color: #7fbfbf; text-decoration-color: #7fbfbf\">             </span><span style=\"color: #008000; text-decoration-color: #008000\">'Medium.frequency_range'</span><span style=\"color: #800000; text-decoration-color: #800000\"> = </span><span style=\"color: #800000; text-decoration-color: #800000; font-weight: bold\">(</span><span style=\"color: #008080; text-decoration-color: #008080; font-weight: bold\">206753419710997.8</span><span style=\"color: #800000; text-decoration-color: #800000\">, </span><span style=\"color: #008080; text-decoration-color: #008080; font-weight: bold\">1199169834323787.2</span><span style=\"color: #800000; text-decoration-color: #800000; font-weight: bold\">)</span><span style=\"color: #800000; text-decoration-color: #800000\"> </span>\n",
       "</pre>\n"
      ],
      "text/plain": [
       "\u001b[2;36m            \u001b[0m\u001b[2;36m \u001b[0m\u001b[31mWARNING: frequency passed to \u001b[0m\u001b[32m'Medium.eps_model\u001b[0m\u001b[32m(\u001b[0m\u001b[32m)\u001b[0m\u001b[32m'\u001b[0m\u001b[31mis outside of     \u001b[0m\n",
       "\u001b[2;36m             \u001b[0m\u001b[32m'Medium.frequency_range'\u001b[0m\u001b[31m = \u001b[0m\u001b[1;31m(\u001b[0m\u001b[1;36m206753419710997.8\u001b[0m\u001b[31m, \u001b[0m\u001b[1;36m1199169834323787.2\u001b[0m\u001b[1;31m)\u001b[0m\u001b[31m \u001b[0m\n"
      ]
     },
     "metadata": {},
     "output_type": "display_data"
    },
    {
     "data": {
      "text/html": [
       "<pre style=\"white-space:pre;overflow-x:auto;line-height:normal;font-family:Menlo,'DejaVu Sans Mono',consolas,'Courier New',monospace\"><span style=\"color: #7fbfbf; text-decoration-color: #7fbfbf\">             </span><span style=\"color: #800000; text-decoration-color: #800000\">WARNING: Suppressed </span><span style=\"color: #008080; text-decoration-color: #008080; font-weight: bold\">1</span><span style=\"color: #800000; text-decoration-color: #800000\"> WARNING message.                             </span>\n",
       "</pre>\n"
      ],
      "text/plain": [
       "\u001b[2;36m            \u001b[0m\u001b[2;36m \u001b[0m\u001b[31mWARNING: Suppressed \u001b[0m\u001b[1;36m1\u001b[0m\u001b[31m WARNING message.                             \u001b[0m\n"
      ]
     },
     "metadata": {},
     "output_type": "display_data"
    },
    {
     "data": {
      "text/html": [
       "<pre style=\"white-space:pre;overflow-x:auto;line-height:normal;font-family:Menlo,'DejaVu Sans Mono',consolas,'Courier New',monospace\"><span style=\"color: #7fbfbf; text-decoration-color: #7fbfbf\">             </span><span style=\"color: #800000; text-decoration-color: #800000\">WARNING: frequency passed to </span><span style=\"color: #008000; text-decoration-color: #008000\">'Medium.eps_model()'</span><span style=\"color: #800000; text-decoration-color: #800000\">is outside of     </span>\n",
       "<span style=\"color: #7fbfbf; text-decoration-color: #7fbfbf\">             </span><span style=\"color: #008000; text-decoration-color: #008000\">'Medium.frequency_range'</span><span style=\"color: #800000; text-decoration-color: #800000\"> = </span><span style=\"color: #800000; text-decoration-color: #800000; font-weight: bold\">(</span><span style=\"color: #008080; text-decoration-color: #008080; font-weight: bold\">206753419710997.8</span><span style=\"color: #800000; text-decoration-color: #800000\">, </span><span style=\"color: #008080; text-decoration-color: #008080; font-weight: bold\">1199169834323787.2</span><span style=\"color: #800000; text-decoration-color: #800000; font-weight: bold\">)</span><span style=\"color: #800000; text-decoration-color: #800000\"> </span>\n",
       "</pre>\n"
      ],
      "text/plain": [
       "\u001b[2;36m            \u001b[0m\u001b[2;36m \u001b[0m\u001b[31mWARNING: frequency passed to \u001b[0m\u001b[32m'Medium.eps_model\u001b[0m\u001b[32m(\u001b[0m\u001b[32m)\u001b[0m\u001b[32m'\u001b[0m\u001b[31mis outside of     \u001b[0m\n",
       "\u001b[2;36m             \u001b[0m\u001b[32m'Medium.frequency_range'\u001b[0m\u001b[31m = \u001b[0m\u001b[1;31m(\u001b[0m\u001b[1;36m206753419710997.8\u001b[0m\u001b[31m, \u001b[0m\u001b[1;36m1199169834323787.2\u001b[0m\u001b[1;31m)\u001b[0m\u001b[31m \u001b[0m\n"
      ]
     },
     "metadata": {},
     "output_type": "display_data"
    },
    {
     "data": {
      "text/html": [
       "<pre style=\"white-space:pre;overflow-x:auto;line-height:normal;font-family:Menlo,'DejaVu Sans Mono',consolas,'Courier New',monospace\"><span style=\"color: #7fbfbf; text-decoration-color: #7fbfbf\">             </span><span style=\"color: #800000; text-decoration-color: #800000\">WARNING: frequency passed to </span><span style=\"color: #008000; text-decoration-color: #008000\">'Medium.eps_model()'</span><span style=\"color: #800000; text-decoration-color: #800000\">is outside of     </span>\n",
       "<span style=\"color: #7fbfbf; text-decoration-color: #7fbfbf\">             </span><span style=\"color: #008000; text-decoration-color: #008000\">'Medium.frequency_range'</span><span style=\"color: #800000; text-decoration-color: #800000\"> = </span><span style=\"color: #800000; text-decoration-color: #800000; font-weight: bold\">(</span><span style=\"color: #008080; text-decoration-color: #008080; font-weight: bold\">206753419710997.8</span><span style=\"color: #800000; text-decoration-color: #800000\">, </span><span style=\"color: #008080; text-decoration-color: #008080; font-weight: bold\">1199169834323787.2</span><span style=\"color: #800000; text-decoration-color: #800000; font-weight: bold\">)</span><span style=\"color: #800000; text-decoration-color: #800000\"> </span>\n",
       "</pre>\n"
      ],
      "text/plain": [
       "\u001b[2;36m            \u001b[0m\u001b[2;36m \u001b[0m\u001b[31mWARNING: frequency passed to \u001b[0m\u001b[32m'Medium.eps_model\u001b[0m\u001b[32m(\u001b[0m\u001b[32m)\u001b[0m\u001b[32m'\u001b[0m\u001b[31mis outside of     \u001b[0m\n",
       "\u001b[2;36m             \u001b[0m\u001b[32m'Medium.frequency_range'\u001b[0m\u001b[31m = \u001b[0m\u001b[1;31m(\u001b[0m\u001b[1;36m206753419710997.8\u001b[0m\u001b[31m, \u001b[0m\u001b[1;36m1199169834323787.2\u001b[0m\u001b[1;31m)\u001b[0m\u001b[31m \u001b[0m\n"
      ]
     },
     "metadata": {},
     "output_type": "display_data"
    },
    {
     "data": {
      "text/html": [
       "<pre style=\"white-space:pre;overflow-x:auto;line-height:normal;font-family:Menlo,'DejaVu Sans Mono',consolas,'Courier New',monospace\"><span style=\"color: #7fbfbf; text-decoration-color: #7fbfbf\">             </span><span style=\"color: #800000; text-decoration-color: #800000\">WARNING: frequency passed to </span><span style=\"color: #008000; text-decoration-color: #008000\">'Medium.eps_model()'</span><span style=\"color: #800000; text-decoration-color: #800000\">is outside of     </span>\n",
       "<span style=\"color: #7fbfbf; text-decoration-color: #7fbfbf\">             </span><span style=\"color: #008000; text-decoration-color: #008000\">'Medium.frequency_range'</span><span style=\"color: #800000; text-decoration-color: #800000\"> = </span><span style=\"color: #800000; text-decoration-color: #800000; font-weight: bold\">(</span><span style=\"color: #008080; text-decoration-color: #008080; font-weight: bold\">206753419710997.8</span><span style=\"color: #800000; text-decoration-color: #800000\">, </span><span style=\"color: #008080; text-decoration-color: #008080; font-weight: bold\">1199169834323787.2</span><span style=\"color: #800000; text-decoration-color: #800000; font-weight: bold\">)</span><span style=\"color: #800000; text-decoration-color: #800000\"> </span>\n",
       "</pre>\n"
      ],
      "text/plain": [
       "\u001b[2;36m            \u001b[0m\u001b[2;36m \u001b[0m\u001b[31mWARNING: frequency passed to \u001b[0m\u001b[32m'Medium.eps_model\u001b[0m\u001b[32m(\u001b[0m\u001b[32m)\u001b[0m\u001b[32m'\u001b[0m\u001b[31mis outside of     \u001b[0m\n",
       "\u001b[2;36m             \u001b[0m\u001b[32m'Medium.frequency_range'\u001b[0m\u001b[31m = \u001b[0m\u001b[1;31m(\u001b[0m\u001b[1;36m206753419710997.8\u001b[0m\u001b[31m, \u001b[0m\u001b[1;36m1199169834323787.2\u001b[0m\u001b[1;31m)\u001b[0m\u001b[31m \u001b[0m\n"
      ]
     },
     "metadata": {},
     "output_type": "display_data"
    },
    {
     "data": {
      "text/html": [
       "<pre style=\"white-space:pre;overflow-x:auto;line-height:normal;font-family:Menlo,'DejaVu Sans Mono',consolas,'Courier New',monospace\"><span style=\"color: #7fbfbf; text-decoration-color: #7fbfbf\">             </span><span style=\"color: #800000; text-decoration-color: #800000\">WARNING: frequency passed to </span><span style=\"color: #008000; text-decoration-color: #008000\">'Medium.eps_model()'</span><span style=\"color: #800000; text-decoration-color: #800000\">is outside of     </span>\n",
       "<span style=\"color: #7fbfbf; text-decoration-color: #7fbfbf\">             </span><span style=\"color: #008000; text-decoration-color: #008000\">'Medium.frequency_range'</span><span style=\"color: #800000; text-decoration-color: #800000\"> = </span><span style=\"color: #800000; text-decoration-color: #800000; font-weight: bold\">(</span><span style=\"color: #008080; text-decoration-color: #008080; font-weight: bold\">206753419710997.8</span><span style=\"color: #800000; text-decoration-color: #800000\">, </span><span style=\"color: #008080; text-decoration-color: #008080; font-weight: bold\">1199169834323787.2</span><span style=\"color: #800000; text-decoration-color: #800000; font-weight: bold\">)</span><span style=\"color: #800000; text-decoration-color: #800000\"> </span>\n",
       "</pre>\n"
      ],
      "text/plain": [
       "\u001b[2;36m            \u001b[0m\u001b[2;36m \u001b[0m\u001b[31mWARNING: frequency passed to \u001b[0m\u001b[32m'Medium.eps_model\u001b[0m\u001b[32m(\u001b[0m\u001b[32m)\u001b[0m\u001b[32m'\u001b[0m\u001b[31mis outside of     \u001b[0m\n",
       "\u001b[2;36m             \u001b[0m\u001b[32m'Medium.frequency_range'\u001b[0m\u001b[31m = \u001b[0m\u001b[1;31m(\u001b[0m\u001b[1;36m206753419710997.8\u001b[0m\u001b[31m, \u001b[0m\u001b[1;36m1199169834323787.2\u001b[0m\u001b[1;31m)\u001b[0m\u001b[31m \u001b[0m\n"
      ]
     },
     "metadata": {},
     "output_type": "display_data"
    },
    {
     "data": {
      "text/html": [
       "<pre style=\"white-space:pre;overflow-x:auto;line-height:normal;font-family:Menlo,'DejaVu Sans Mono',consolas,'Courier New',monospace\"><span style=\"color: #7fbfbf; text-decoration-color: #7fbfbf\">             </span><span style=\"color: #800000; text-decoration-color: #800000\">WARNING: frequency passed to </span><span style=\"color: #008000; text-decoration-color: #008000\">'Medium.eps_model()'</span><span style=\"color: #800000; text-decoration-color: #800000\">is outside of     </span>\n",
       "<span style=\"color: #7fbfbf; text-decoration-color: #7fbfbf\">             </span><span style=\"color: #008000; text-decoration-color: #008000\">'Medium.frequency_range'</span><span style=\"color: #800000; text-decoration-color: #800000\"> = </span><span style=\"color: #800000; text-decoration-color: #800000; font-weight: bold\">(</span><span style=\"color: #008080; text-decoration-color: #008080; font-weight: bold\">206753419710997.8</span><span style=\"color: #800000; text-decoration-color: #800000\">, </span><span style=\"color: #008080; text-decoration-color: #008080; font-weight: bold\">1199169834323787.2</span><span style=\"color: #800000; text-decoration-color: #800000; font-weight: bold\">)</span><span style=\"color: #800000; text-decoration-color: #800000\"> </span>\n",
       "</pre>\n"
      ],
      "text/plain": [
       "\u001b[2;36m            \u001b[0m\u001b[2;36m \u001b[0m\u001b[31mWARNING: frequency passed to \u001b[0m\u001b[32m'Medium.eps_model\u001b[0m\u001b[32m(\u001b[0m\u001b[32m)\u001b[0m\u001b[32m'\u001b[0m\u001b[31mis outside of     \u001b[0m\n",
       "\u001b[2;36m             \u001b[0m\u001b[32m'Medium.frequency_range'\u001b[0m\u001b[31m = \u001b[0m\u001b[1;31m(\u001b[0m\u001b[1;36m206753419710997.8\u001b[0m\u001b[31m, \u001b[0m\u001b[1;36m1199169834323787.2\u001b[0m\u001b[1;31m)\u001b[0m\u001b[31m \u001b[0m\n"
      ]
     },
     "metadata": {},
     "output_type": "display_data"
    },
    {
     "data": {
      "text/html": [
       "<pre style=\"white-space:pre;overflow-x:auto;line-height:normal;font-family:Menlo,'DejaVu Sans Mono',consolas,'Courier New',monospace\"><span style=\"color: #7fbfbf; text-decoration-color: #7fbfbf\">13:21:56 EDT </span><span style=\"color: #800000; text-decoration-color: #800000\">WARNING: frequency passed to </span><span style=\"color: #008000; text-decoration-color: #008000\">'Medium.eps_model()'</span><span style=\"color: #800000; text-decoration-color: #800000\">is outside of     </span>\n",
       "<span style=\"color: #7fbfbf; text-decoration-color: #7fbfbf\">             </span><span style=\"color: #008000; text-decoration-color: #008000\">'Medium.frequency_range'</span><span style=\"color: #800000; text-decoration-color: #800000\"> = </span><span style=\"color: #800000; text-decoration-color: #800000; font-weight: bold\">(</span><span style=\"color: #008080; text-decoration-color: #008080; font-weight: bold\">206753419710997.8</span><span style=\"color: #800000; text-decoration-color: #800000\">, </span><span style=\"color: #008080; text-decoration-color: #008080; font-weight: bold\">1199169834323787.2</span><span style=\"color: #800000; text-decoration-color: #800000; font-weight: bold\">)</span><span style=\"color: #800000; text-decoration-color: #800000\"> </span>\n",
       "</pre>\n"
      ],
      "text/plain": [
       "\u001b[2;36m13:21:56 EDT\u001b[0m\u001b[2;36m \u001b[0m\u001b[31mWARNING: frequency passed to \u001b[0m\u001b[32m'Medium.eps_model\u001b[0m\u001b[32m(\u001b[0m\u001b[32m)\u001b[0m\u001b[32m'\u001b[0m\u001b[31mis outside of     \u001b[0m\n",
       "\u001b[2;36m             \u001b[0m\u001b[32m'Medium.frequency_range'\u001b[0m\u001b[31m = \u001b[0m\u001b[1;31m(\u001b[0m\u001b[1;36m206753419710997.8\u001b[0m\u001b[31m, \u001b[0m\u001b[1;36m1199169834323787.2\u001b[0m\u001b[1;31m)\u001b[0m\u001b[31m \u001b[0m\n"
      ]
     },
     "metadata": {},
     "output_type": "display_data"
    },
    {
     "data": {
      "text/html": [
       "<pre style=\"white-space:pre;overflow-x:auto;line-height:normal;font-family:Menlo,'DejaVu Sans Mono',consolas,'Courier New',monospace\"><span style=\"color: #7fbfbf; text-decoration-color: #7fbfbf\">             </span><span style=\"color: #800000; text-decoration-color: #800000\">WARNING: frequency passed to </span><span style=\"color: #008000; text-decoration-color: #008000\">'Medium.eps_model()'</span><span style=\"color: #800000; text-decoration-color: #800000\">is outside of     </span>\n",
       "<span style=\"color: #7fbfbf; text-decoration-color: #7fbfbf\">             </span><span style=\"color: #008000; text-decoration-color: #008000\">'Medium.frequency_range'</span><span style=\"color: #800000; text-decoration-color: #800000\"> = </span><span style=\"color: #800000; text-decoration-color: #800000; font-weight: bold\">(</span><span style=\"color: #008080; text-decoration-color: #008080; font-weight: bold\">206753419710997.8</span><span style=\"color: #800000; text-decoration-color: #800000\">, </span><span style=\"color: #008080; text-decoration-color: #008080; font-weight: bold\">1199169834323787.2</span><span style=\"color: #800000; text-decoration-color: #800000; font-weight: bold\">)</span><span style=\"color: #800000; text-decoration-color: #800000\"> </span>\n",
       "</pre>\n"
      ],
      "text/plain": [
       "\u001b[2;36m            \u001b[0m\u001b[2;36m \u001b[0m\u001b[31mWARNING: frequency passed to \u001b[0m\u001b[32m'Medium.eps_model\u001b[0m\u001b[32m(\u001b[0m\u001b[32m)\u001b[0m\u001b[32m'\u001b[0m\u001b[31mis outside of     \u001b[0m\n",
       "\u001b[2;36m             \u001b[0m\u001b[32m'Medium.frequency_range'\u001b[0m\u001b[31m = \u001b[0m\u001b[1;31m(\u001b[0m\u001b[1;36m206753419710997.8\u001b[0m\u001b[31m, \u001b[0m\u001b[1;36m1199169834323787.2\u001b[0m\u001b[1;31m)\u001b[0m\u001b[31m \u001b[0m\n"
      ]
     },
     "metadata": {},
     "output_type": "display_data"
    },
    {
     "data": {
      "text/html": [
       "<pre style=\"white-space:pre;overflow-x:auto;line-height:normal;font-family:Menlo,'DejaVu Sans Mono',consolas,'Courier New',monospace\"><span style=\"color: #7fbfbf; text-decoration-color: #7fbfbf\">             </span><span style=\"color: #800000; text-decoration-color: #800000\">WARNING: frequency passed to </span><span style=\"color: #008000; text-decoration-color: #008000\">'Medium.eps_model()'</span><span style=\"color: #800000; text-decoration-color: #800000\">is outside of     </span>\n",
       "<span style=\"color: #7fbfbf; text-decoration-color: #7fbfbf\">             </span><span style=\"color: #008000; text-decoration-color: #008000\">'Medium.frequency_range'</span><span style=\"color: #800000; text-decoration-color: #800000\"> = </span><span style=\"color: #800000; text-decoration-color: #800000; font-weight: bold\">(</span><span style=\"color: #008080; text-decoration-color: #008080; font-weight: bold\">206753419710997.8</span><span style=\"color: #800000; text-decoration-color: #800000\">, </span><span style=\"color: #008080; text-decoration-color: #008080; font-weight: bold\">1199169834323787.2</span><span style=\"color: #800000; text-decoration-color: #800000; font-weight: bold\">)</span><span style=\"color: #800000; text-decoration-color: #800000\"> </span>\n",
       "</pre>\n"
      ],
      "text/plain": [
       "\u001b[2;36m            \u001b[0m\u001b[2;36m \u001b[0m\u001b[31mWARNING: frequency passed to \u001b[0m\u001b[32m'Medium.eps_model\u001b[0m\u001b[32m(\u001b[0m\u001b[32m)\u001b[0m\u001b[32m'\u001b[0m\u001b[31mis outside of     \u001b[0m\n",
       "\u001b[2;36m             \u001b[0m\u001b[32m'Medium.frequency_range'\u001b[0m\u001b[31m = \u001b[0m\u001b[1;31m(\u001b[0m\u001b[1;36m206753419710997.8\u001b[0m\u001b[31m, \u001b[0m\u001b[1;36m1199169834323787.2\u001b[0m\u001b[1;31m)\u001b[0m\u001b[31m \u001b[0m\n"
      ]
     },
     "metadata": {},
     "output_type": "display_data"
    },
    {
     "data": {
      "text/html": [
       "<pre style=\"white-space:pre;overflow-x:auto;line-height:normal;font-family:Menlo,'DejaVu Sans Mono',consolas,'Courier New',monospace\"><span style=\"color: #7fbfbf; text-decoration-color: #7fbfbf\">             </span><span style=\"color: #800000; text-decoration-color: #800000\">WARNING: Warning messages were found in the solver log. For more   </span>\n",
       "<span style=\"color: #7fbfbf; text-decoration-color: #7fbfbf\">             </span><span style=\"color: #800000; text-decoration-color: #800000\">information, check </span><span style=\"color: #008000; text-decoration-color: #008000\">'SimulationData.log'</span><span style=\"color: #800000; text-decoration-color: #800000\"> or use                     </span>\n",
       "<span style=\"color: #7fbfbf; text-decoration-color: #7fbfbf\">             </span><span style=\"color: #008000; text-decoration-color: #008000\">'web.download_log(task_id)'</span><span style=\"color: #800000; text-decoration-color: #800000\">.                                       </span>\n",
       "</pre>\n"
      ],
      "text/plain": [
       "\u001b[2;36m            \u001b[0m\u001b[2;36m \u001b[0m\u001b[31mWARNING: Warning messages were found in the solver log. For more   \u001b[0m\n",
       "\u001b[2;36m             \u001b[0m\u001b[31minformation, check \u001b[0m\u001b[32m'SimulationData.log'\u001b[0m\u001b[31m or use                     \u001b[0m\n",
       "\u001b[2;36m             \u001b[0m\u001b[32m'web.download_log\u001b[0m\u001b[32m(\u001b[0m\u001b[32mtask_id\u001b[0m\u001b[32m)\u001b[0m\u001b[32m'\u001b[0m\u001b[31m.                                       \u001b[0m\n"
      ]
     },
     "metadata": {},
     "output_type": "display_data"
    },
    {
     "data": {
      "text/html": [
       "<pre style=\"white-space:pre;overflow-x:auto;line-height:normal;font-family:Menlo,'DejaVu Sans Mono',consolas,'Courier New',monospace\"><span style=\"color: #7fbfbf; text-decoration-color: #7fbfbf\">13:21:58 EDT </span><span style=\"color: #800000; text-decoration-color: #800000\">WARNING: The medium associated with </span><span style=\"color: #008000; text-decoration-color: #008000\">'cSi_Green2008'</span><span style=\"color: #800000; text-decoration-color: #800000\">                </span>\n",
       "<span style=\"color: #7fbfbf; text-decoration-color: #7fbfbf\">             </span><span style=\"color: #800000; text-decoration-color: #800000; font-weight: bold\">(</span><span style=\"color: #800000; text-decoration-color: #800000\">simulation.mediums</span><span style=\"color: #800000; text-decoration-color: #800000; font-weight: bold\">[</span><span style=\"color: #008080; text-decoration-color: #008080; font-weight: bold\">1</span><span style=\"color: #800000; text-decoration-color: #800000; font-weight: bold\">])</span><span style=\"color: #800000; text-decoration-color: #800000\"> has a frequency range: </span><span style=\"color: #800000; text-decoration-color: #800000; font-weight: bold\">(</span><span style=\"color: #008080; text-decoration-color: #008080; font-weight: bold\">2.0675e14</span><span style=\"color: #800000; text-decoration-color: #800000\">,         </span>\n",
       "<span style=\"color: #7fbfbf; text-decoration-color: #7fbfbf\">             </span><span style=\"color: #008080; text-decoration-color: #008080; font-weight: bold\">11.9917e14</span><span style=\"color: #800000; text-decoration-color: #800000; font-weight: bold\">)</span><span style=\"color: #800000; text-decoration-color: #800000\"> </span><span style=\"color: #800000; text-decoration-color: #800000; font-weight: bold\">(</span><span style=\"color: #800000; text-decoration-color: #800000\">Hz</span><span style=\"color: #800000; text-decoration-color: #800000; font-weight: bold\">)</span><span style=\"color: #800000; text-decoration-color: #800000\"> that does not fully cover the frequencies         </span>\n",
       "<span style=\"color: #7fbfbf; text-decoration-color: #7fbfbf\">             </span><span style=\"color: #800000; text-decoration-color: #800000\">contained in </span><span style=\"color: #008000; text-decoration-color: #008000\">'flux_monitor'</span><span style=\"color: #800000; text-decoration-color: #800000\"> </span><span style=\"color: #800000; text-decoration-color: #800000; font-weight: bold\">(</span><span style=\"color: #800000; text-decoration-color: #800000\">simulation.monitors</span><span style=\"color: #800000; text-decoration-color: #800000; font-weight: bold\">[</span><span style=\"color: #008080; text-decoration-color: #008080; font-weight: bold\">0</span><span style=\"color: #800000; text-decoration-color: #800000; font-weight: bold\">])</span><span style=\"color: #800000; text-decoration-color: #800000\">.This can cause</span>\n",
       "<span style=\"color: #7fbfbf; text-decoration-color: #7fbfbf\">             </span><span style=\"color: #800000; text-decoration-color: #800000\">inaccuracies in the recorded results.                              </span>\n",
       "</pre>\n"
      ],
      "text/plain": [
       "\u001b[2;36m13:21:58 EDT\u001b[0m\u001b[2;36m \u001b[0m\u001b[31mWARNING: The medium associated with \u001b[0m\u001b[32m'cSi_Green2008'\u001b[0m\u001b[31m                \u001b[0m\n",
       "\u001b[2;36m             \u001b[0m\u001b[1;31m(\u001b[0m\u001b[31msimulation.mediums\u001b[0m\u001b[1;31m[\u001b[0m\u001b[1;36m1\u001b[0m\u001b[1;31m]\u001b[0m\u001b[1;31m)\u001b[0m\u001b[31m has a frequency range: \u001b[0m\u001b[1;31m(\u001b[0m\u001b[1;36m2.0675e14\u001b[0m\u001b[31m,         \u001b[0m\n",
       "\u001b[2;36m             \u001b[0m\u001b[1;36m11.9917e14\u001b[0m\u001b[1;31m)\u001b[0m\u001b[31m \u001b[0m\u001b[1;31m(\u001b[0m\u001b[31mHz\u001b[0m\u001b[1;31m)\u001b[0m\u001b[31m that does not fully cover the frequencies         \u001b[0m\n",
       "\u001b[2;36m             \u001b[0m\u001b[31mcontained in \u001b[0m\u001b[32m'flux_monitor'\u001b[0m\u001b[31m \u001b[0m\u001b[1;31m(\u001b[0m\u001b[31msimulation.monitors\u001b[0m\u001b[1;31m[\u001b[0m\u001b[1;36m0\u001b[0m\u001b[1;31m]\u001b[0m\u001b[1;31m)\u001b[0m\u001b[31m.This can cause\u001b[0m\n",
       "\u001b[2;36m             \u001b[0m\u001b[31minaccuracies in the recorded results.                              \u001b[0m\n"
      ]
     },
     "metadata": {},
     "output_type": "display_data"
    },
    {
     "data": {
      "text/html": [
       "<pre style=\"white-space:pre;overflow-x:auto;line-height:normal;font-family:Menlo,'DejaVu Sans Mono',consolas,'Courier New',monospace\"><span style=\"color: #7fbfbf; text-decoration-color: #7fbfbf\">             </span><span style=\"color: #800000; text-decoration-color: #800000\">WARNING: Suppressed </span><span style=\"color: #008080; text-decoration-color: #008080; font-weight: bold\">1</span><span style=\"color: #800000; text-decoration-color: #800000\"> WARNING message.                             </span>\n",
       "</pre>\n"
      ],
      "text/plain": [
       "\u001b[2;36m            \u001b[0m\u001b[2;36m \u001b[0m\u001b[31mWARNING: Suppressed \u001b[0m\u001b[1;36m1\u001b[0m\u001b[31m WARNING message.                             \u001b[0m\n"
      ]
     },
     "metadata": {},
     "output_type": "display_data"
    },
    {
     "data": {
      "text/html": [
       "<pre style=\"white-space:pre;overflow-x:auto;line-height:normal;font-family:Menlo,'DejaVu Sans Mono',consolas,'Courier New',monospace\"><span style=\"color: #7fbfbf; text-decoration-color: #7fbfbf\">             </span><span style=\"color: #800000; text-decoration-color: #800000\">WARNING: frequency passed to </span><span style=\"color: #008000; text-decoration-color: #008000\">'Medium.eps_model()'</span><span style=\"color: #800000; text-decoration-color: #800000\">is outside of     </span>\n",
       "<span style=\"color: #7fbfbf; text-decoration-color: #7fbfbf\">             </span><span style=\"color: #008000; text-decoration-color: #008000\">'Medium.frequency_range'</span><span style=\"color: #800000; text-decoration-color: #800000\"> = </span><span style=\"color: #800000; text-decoration-color: #800000; font-weight: bold\">(</span><span style=\"color: #008080; text-decoration-color: #008080; font-weight: bold\">206753419710997.8</span><span style=\"color: #800000; text-decoration-color: #800000\">, </span><span style=\"color: #008080; text-decoration-color: #008080; font-weight: bold\">1199169834323787.2</span><span style=\"color: #800000; text-decoration-color: #800000; font-weight: bold\">)</span><span style=\"color: #800000; text-decoration-color: #800000\"> </span>\n",
       "</pre>\n"
      ],
      "text/plain": [
       "\u001b[2;36m            \u001b[0m\u001b[2;36m \u001b[0m\u001b[31mWARNING: frequency passed to \u001b[0m\u001b[32m'Medium.eps_model\u001b[0m\u001b[32m(\u001b[0m\u001b[32m)\u001b[0m\u001b[32m'\u001b[0m\u001b[31mis outside of     \u001b[0m\n",
       "\u001b[2;36m             \u001b[0m\u001b[32m'Medium.frequency_range'\u001b[0m\u001b[31m = \u001b[0m\u001b[1;31m(\u001b[0m\u001b[1;36m206753419710997.8\u001b[0m\u001b[31m, \u001b[0m\u001b[1;36m1199169834323787.2\u001b[0m\u001b[1;31m)\u001b[0m\u001b[31m \u001b[0m\n"
      ]
     },
     "metadata": {},
     "output_type": "display_data"
    },
    {
     "data": {
      "text/html": [
       "<pre style=\"white-space:pre;overflow-x:auto;line-height:normal;font-family:Menlo,'DejaVu Sans Mono',consolas,'Courier New',monospace\"><span style=\"color: #7fbfbf; text-decoration-color: #7fbfbf\">             </span><span style=\"color: #800000; text-decoration-color: #800000\">WARNING: frequency passed to </span><span style=\"color: #008000; text-decoration-color: #008000\">'Medium.eps_model()'</span><span style=\"color: #800000; text-decoration-color: #800000\">is outside of     </span>\n",
       "<span style=\"color: #7fbfbf; text-decoration-color: #7fbfbf\">             </span><span style=\"color: #008000; text-decoration-color: #008000\">'Medium.frequency_range'</span><span style=\"color: #800000; text-decoration-color: #800000\"> = </span><span style=\"color: #800000; text-decoration-color: #800000; font-weight: bold\">(</span><span style=\"color: #008080; text-decoration-color: #008080; font-weight: bold\">206753419710997.8</span><span style=\"color: #800000; text-decoration-color: #800000\">, </span><span style=\"color: #008080; text-decoration-color: #008080; font-weight: bold\">1199169834323787.2</span><span style=\"color: #800000; text-decoration-color: #800000; font-weight: bold\">)</span><span style=\"color: #800000; text-decoration-color: #800000\"> </span>\n",
       "</pre>\n"
      ],
      "text/plain": [
       "\u001b[2;36m            \u001b[0m\u001b[2;36m \u001b[0m\u001b[31mWARNING: frequency passed to \u001b[0m\u001b[32m'Medium.eps_model\u001b[0m\u001b[32m(\u001b[0m\u001b[32m)\u001b[0m\u001b[32m'\u001b[0m\u001b[31mis outside of     \u001b[0m\n",
       "\u001b[2;36m             \u001b[0m\u001b[32m'Medium.frequency_range'\u001b[0m\u001b[31m = \u001b[0m\u001b[1;31m(\u001b[0m\u001b[1;36m206753419710997.8\u001b[0m\u001b[31m, \u001b[0m\u001b[1;36m1199169834323787.2\u001b[0m\u001b[1;31m)\u001b[0m\u001b[31m \u001b[0m\n"
      ]
     },
     "metadata": {},
     "output_type": "display_data"
    },
    {
     "data": {
      "text/html": [
       "<pre style=\"white-space:pre;overflow-x:auto;line-height:normal;font-family:Menlo,'DejaVu Sans Mono',consolas,'Courier New',monospace\"><span style=\"color: #7fbfbf; text-decoration-color: #7fbfbf\">             </span><span style=\"color: #800000; text-decoration-color: #800000\">WARNING: frequency passed to </span><span style=\"color: #008000; text-decoration-color: #008000\">'Medium.eps_model()'</span><span style=\"color: #800000; text-decoration-color: #800000\">is outside of     </span>\n",
       "<span style=\"color: #7fbfbf; text-decoration-color: #7fbfbf\">             </span><span style=\"color: #008000; text-decoration-color: #008000\">'Medium.frequency_range'</span><span style=\"color: #800000; text-decoration-color: #800000\"> = </span><span style=\"color: #800000; text-decoration-color: #800000; font-weight: bold\">(</span><span style=\"color: #008080; text-decoration-color: #008080; font-weight: bold\">206753419710997.8</span><span style=\"color: #800000; text-decoration-color: #800000\">, </span><span style=\"color: #008080; text-decoration-color: #008080; font-weight: bold\">1199169834323787.2</span><span style=\"color: #800000; text-decoration-color: #800000; font-weight: bold\">)</span><span style=\"color: #800000; text-decoration-color: #800000\"> </span>\n",
       "</pre>\n"
      ],
      "text/plain": [
       "\u001b[2;36m            \u001b[0m\u001b[2;36m \u001b[0m\u001b[31mWARNING: frequency passed to \u001b[0m\u001b[32m'Medium.eps_model\u001b[0m\u001b[32m(\u001b[0m\u001b[32m)\u001b[0m\u001b[32m'\u001b[0m\u001b[31mis outside of     \u001b[0m\n",
       "\u001b[2;36m             \u001b[0m\u001b[32m'Medium.frequency_range'\u001b[0m\u001b[31m = \u001b[0m\u001b[1;31m(\u001b[0m\u001b[1;36m206753419710997.8\u001b[0m\u001b[31m, \u001b[0m\u001b[1;36m1199169834323787.2\u001b[0m\u001b[1;31m)\u001b[0m\u001b[31m \u001b[0m\n"
      ]
     },
     "metadata": {},
     "output_type": "display_data"
    },
    {
     "data": {
      "text/html": [
       "<pre style=\"white-space:pre;overflow-x:auto;line-height:normal;font-family:Menlo,'DejaVu Sans Mono',consolas,'Courier New',monospace\"><span style=\"color: #7fbfbf; text-decoration-color: #7fbfbf\">             </span><span style=\"color: #800000; text-decoration-color: #800000\">WARNING: frequency passed to </span><span style=\"color: #008000; text-decoration-color: #008000\">'Medium.eps_model()'</span><span style=\"color: #800000; text-decoration-color: #800000\">is outside of     </span>\n",
       "<span style=\"color: #7fbfbf; text-decoration-color: #7fbfbf\">             </span><span style=\"color: #008000; text-decoration-color: #008000\">'Medium.frequency_range'</span><span style=\"color: #800000; text-decoration-color: #800000\"> = </span><span style=\"color: #800000; text-decoration-color: #800000; font-weight: bold\">(</span><span style=\"color: #008080; text-decoration-color: #008080; font-weight: bold\">206753419710997.8</span><span style=\"color: #800000; text-decoration-color: #800000\">, </span><span style=\"color: #008080; text-decoration-color: #008080; font-weight: bold\">1199169834323787.2</span><span style=\"color: #800000; text-decoration-color: #800000; font-weight: bold\">)</span><span style=\"color: #800000; text-decoration-color: #800000\"> </span>\n",
       "</pre>\n"
      ],
      "text/plain": [
       "\u001b[2;36m            \u001b[0m\u001b[2;36m \u001b[0m\u001b[31mWARNING: frequency passed to \u001b[0m\u001b[32m'Medium.eps_model\u001b[0m\u001b[32m(\u001b[0m\u001b[32m)\u001b[0m\u001b[32m'\u001b[0m\u001b[31mis outside of     \u001b[0m\n",
       "\u001b[2;36m             \u001b[0m\u001b[32m'Medium.frequency_range'\u001b[0m\u001b[31m = \u001b[0m\u001b[1;31m(\u001b[0m\u001b[1;36m206753419710997.8\u001b[0m\u001b[31m, \u001b[0m\u001b[1;36m1199169834323787.2\u001b[0m\u001b[1;31m)\u001b[0m\u001b[31m \u001b[0m\n"
      ]
     },
     "metadata": {},
     "output_type": "display_data"
    },
    {
     "data": {
      "text/html": [
       "<pre style=\"white-space:pre;overflow-x:auto;line-height:normal;font-family:Menlo,'DejaVu Sans Mono',consolas,'Courier New',monospace\"><span style=\"color: #7fbfbf; text-decoration-color: #7fbfbf\">             </span><span style=\"color: #800000; text-decoration-color: #800000\">WARNING: frequency passed to </span><span style=\"color: #008000; text-decoration-color: #008000\">'Medium.eps_model()'</span><span style=\"color: #800000; text-decoration-color: #800000\">is outside of     </span>\n",
       "<span style=\"color: #7fbfbf; text-decoration-color: #7fbfbf\">             </span><span style=\"color: #008000; text-decoration-color: #008000\">'Medium.frequency_range'</span><span style=\"color: #800000; text-decoration-color: #800000\"> = </span><span style=\"color: #800000; text-decoration-color: #800000; font-weight: bold\">(</span><span style=\"color: #008080; text-decoration-color: #008080; font-weight: bold\">206753419710997.8</span><span style=\"color: #800000; text-decoration-color: #800000\">, </span><span style=\"color: #008080; text-decoration-color: #008080; font-weight: bold\">1199169834323787.2</span><span style=\"color: #800000; text-decoration-color: #800000; font-weight: bold\">)</span><span style=\"color: #800000; text-decoration-color: #800000\"> </span>\n",
       "</pre>\n"
      ],
      "text/plain": [
       "\u001b[2;36m            \u001b[0m\u001b[2;36m \u001b[0m\u001b[31mWARNING: frequency passed to \u001b[0m\u001b[32m'Medium.eps_model\u001b[0m\u001b[32m(\u001b[0m\u001b[32m)\u001b[0m\u001b[32m'\u001b[0m\u001b[31mis outside of     \u001b[0m\n",
       "\u001b[2;36m             \u001b[0m\u001b[32m'Medium.frequency_range'\u001b[0m\u001b[31m = \u001b[0m\u001b[1;31m(\u001b[0m\u001b[1;36m206753419710997.8\u001b[0m\u001b[31m, \u001b[0m\u001b[1;36m1199169834323787.2\u001b[0m\u001b[1;31m)\u001b[0m\u001b[31m \u001b[0m\n"
      ]
     },
     "metadata": {},
     "output_type": "display_data"
    },
    {
     "data": {
      "text/html": [
       "<pre style=\"white-space:pre;overflow-x:auto;line-height:normal;font-family:Menlo,'DejaVu Sans Mono',consolas,'Courier New',monospace\"><span style=\"color: #7fbfbf; text-decoration-color: #7fbfbf\">             </span><span style=\"color: #800000; text-decoration-color: #800000\">WARNING: Warning messages were found in the solver log. For more   </span>\n",
       "<span style=\"color: #7fbfbf; text-decoration-color: #7fbfbf\">             </span><span style=\"color: #800000; text-decoration-color: #800000\">information, check </span><span style=\"color: #008000; text-decoration-color: #008000\">'SimulationData.log'</span><span style=\"color: #800000; text-decoration-color: #800000\"> or use                     </span>\n",
       "<span style=\"color: #7fbfbf; text-decoration-color: #7fbfbf\">             </span><span style=\"color: #008000; text-decoration-color: #008000\">'web.download_log(task_id)'</span><span style=\"color: #800000; text-decoration-color: #800000\">.                                       </span>\n",
       "</pre>\n"
      ],
      "text/plain": [
       "\u001b[2;36m            \u001b[0m\u001b[2;36m \u001b[0m\u001b[31mWARNING: Warning messages were found in the solver log. For more   \u001b[0m\n",
       "\u001b[2;36m             \u001b[0m\u001b[31minformation, check \u001b[0m\u001b[32m'SimulationData.log'\u001b[0m\u001b[31m or use                     \u001b[0m\n",
       "\u001b[2;36m             \u001b[0m\u001b[32m'web.download_log\u001b[0m\u001b[32m(\u001b[0m\u001b[32mtask_id\u001b[0m\u001b[32m)\u001b[0m\u001b[32m'\u001b[0m\u001b[31m.                                       \u001b[0m\n"
      ]
     },
     "metadata": {},
     "output_type": "display_data"
    }
   ],
   "source": [
    "T = batch_data[\"actual\"][\"flux_monitor\"].flux / batch_data[\"norm\"][\"flux_monitor\"].flux"
   ]
  },
  {
   "cell_type": "code",
   "execution_count": 32,
   "id": "86689afc",
   "metadata": {},
   "outputs": [
    {
     "data": {
      "image/png": "[encoded data removed]",
      "text/plain": [
       "<Figure size 600x450 with 1 Axes>"
      ]
     },
     "metadata": {},
     "output_type": "display_data"
    }
   ],
   "source": [
    "# plot transmission, compare to paper results, look similar\n",
    "fig, ax = plt.subplots(1, 1, figsize=(6, 4.5))\n",
    "plt.plot(td.C_0 / fr.freqs(N) * 1000, T, \"r\", lw=1, label=\"T\")\n",
    "plt.xlabel(r\"wavelength ($nm$)\")\n",
    "plt.ylabel(\"Power\")\n",
    "plt.ylim(0, 1)\n",
    "plt.legend()\n",
    "plt.savefig(\"power\", dpi=300)\n",
    "plt.show()"
   ]
  },
  {
   "cell_type": "code",
   "execution_count": 23,
   "id": "e02078f2",
   "metadata": {},
   "outputs": [],
   "source": [
    "T_lcp_actual = batch_data[\"LCP_actual\"][\"flux_monitor\"].flux\n",
    "T_lcp_norm = batch_data[\"LCP_norm\"][\"flux_monitor\"].flux\n",
    "T_lcp = T_lcp_actual / T_lcp_norm\n",
    "# plot transmission, compare to paper results, look similar"
   ]
  },
  {
   "cell_type": "code",
   "execution_count": 24,
   "id": "a52858f2",
   "metadata": {},
   "outputs": [
    {
     "data": {
      "image/png": "[encoded data removed]",
      "text/plain": [
       "<Figure size 600x450 with 1 Axes>"
      ]
     },
     "metadata": {},
     "output_type": "display_data"
    }
   ],
   "source": [
    "fig, ax = plt.subplots(1, 1, figsize=(6, 4.5))\n",
    "plt.plot(td.C_0 / fr.freqs(N) * 1000, T_lcp, \"r\", lw=1, label=\"T\")\n",
    "plt.xlabel(r\"wavelength ($nm$)\")\n",
    "plt.ylabel(\"Transmittance\")\n",
    "plt.ylim(0, 1)\n",
    "plt.legend()\n",
    "plt.show()"
   ]
  },
  {
   "cell_type": "code",
   "execution_count": 25,
   "id": "a9e00a96",
   "metadata": {},
   "outputs": [],
   "source": [
    "T_rcp = batch_data[\"RCP_actual\"][\"flux_monitor\"].flux / batch_data[\"RCP_norm\"][\"flux_monitor\"].flux "
   ]
  },
  {
   "cell_type": "code",
   "execution_count": 26,
   "id": "4a75886e",
   "metadata": {},
   "outputs": [
    {
     "data": {
      "image/png": "[encoded data removed]",
      "text/plain": [
       "<Figure size 600x450 with 1 Axes>"
      ]
     },
     "metadata": {},
     "output_type": "display_data"
    }
   ],
   "source": [
    "# plot transmission, compare to paper results, look similar\n",
    "fig, ax = plt.subplots(1, 1, figsize=(6, 4.5))\n",
    "plt.plot(td.C_0 / fr.freqs(N) * 1000, T_rcp, \"r\", lw=1, label=\"T\")\n",
    "plt.xlabel(r\"wavelength ($nm$)\")\n",
    "plt.ylabel(\"Transmittance\")\n",
    "plt.ylim(0, 1)\n",
    "plt.legend()\n",
    "plt.show()"
   ]
  },
  {
   "cell_type": "code",
   "execution_count": null,
   "id": "a27fc909",
   "metadata": {},
   "outputs": [],
   "source": []
  }
 ],
 "metadata": {
  "kernelspec": {
   "display_name": "ai",
   "language": "python",
   "name": "python3"
  },
  "language_info": {
   "codemirror_mode": {
    "name": "ipython",
    "version": 3
   },
   "file_extension": ".py",
   "mimetype": "text/x-python",
   "name": "python",
   "nbconvert_exporter": "python",
   "pygments_lexer": "ipython3",
   "version": "3.11.13"
  }
 },
 "nbformat": 4,
 "nbformat_minor": 5
}
