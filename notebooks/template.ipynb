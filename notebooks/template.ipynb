{
 "cells": [
  {
   "cell_type": "markdown",
   "id": "b2c8c0e7",
   "metadata": {},
   "source": [
    "# Simulation Template for any tidy3D Simulation"
   ]
  },
  {
   "cell_type": "markdown",
   "id": "eb586ddc",
   "metadata": {},
   "source": [
    "## Initialization"
   ]
  },
  {
   "cell_type": "code",
   "execution_count": null,
   "id": "6ffaa1a3",
   "metadata": {},
   "outputs": [],
   "source": [
    "import matplotlib.pyplot as plt\n",
    "import numpy as np\n",
    "import tidy3d as td\n",
    "import tidy3d.web as web\n",
    "import scienceplots"
   ]
  },
  {
   "cell_type": "markdown",
   "id": "adcb8ff4",
   "metadata": {},
   "source": [
    "### 0 Define FreqRange Object"
   ]
  },
  {
   "cell_type": "code",
   "execution_count": null,
   "id": "e8c959b0",
   "metadata": {},
   "outputs": [],
   "source": [
    "freq0 = # TODO: center frequency (td.C_0 / center_wavelength)\n",
    "fwidth = # TODO: bandwidth\n",
    "fr = td.FreqRange(freq0=freq0, fwidth=fwidth)"
   ]
  },
  {
   "cell_type": "markdown",
   "id": "a487e1fd",
   "metadata": {},
   "source": [
    "### 1 Define Computational domain size"
   ]
  },
  {
   "cell_type": "code",
   "execution_count": null,
   "id": "3226d2bf",
   "metadata": {},
   "outputs": [],
   "source": []
  },
  {
   "cell_type": "markdown",
   "id": "0eb6b141",
   "metadata": {},
   "source": [
    "## Loop Assignment"
   ]
  },
  {
   "cell_type": "markdown",
   "id": "ebb5d09b",
   "metadata": {},
   "source": [
    "## PostProcessing"
   ]
  }
 ],
 "metadata": {
  "kernelspec": {
   "display_name": "ai",
   "language": "python",
   "name": "python3"
  },
  "language_info": {
   "name": "python",
   "version": "3.11.13"
  }
 },
 "nbformat": 4,
 "nbformat_minor": 5
}
