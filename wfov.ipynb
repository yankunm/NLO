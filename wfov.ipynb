{
 "cells": [
  {
   "cell_type": "code",
   "execution_count": 1,
   "id": "9fad3416",
   "metadata": {},
   "outputs": [],
   "source": [
    "# Import the necessary packages\n",
    "import matplotlib.pyplot as plt\n",
    "import numpy as np\n",
    "import tidy3d as td\n",
    "import tidy3d.web as web\n",
    "import scienceplots"
   ]
  },
  {
   "cell_type": "markdown",
   "id": "e1cc3ff8",
   "metadata": {},
   "source": [
    "This is reproduction of the results in 1(b) using Diffraction Monitor. Parameters from [the paper](https://duke.box.com/s/xvysh66ew21g9o9e5pjcd11o11bzo73t):\n",
    "\n",
    "$$P= 190nm$$\n",
    "$$h= 230nm$$\n",
    "$$D= [60, 135]nm$$\n",
    "$$\\lambda = 532nm$$"
   ]
  },
  {
   "cell_type": "code",
   "execution_count": 43,
   "id": "0d3e65b2",
   "metadata": {},
   "outputs": [
    {
     "name": "stdout",
     "output_type": "stream",
     "text": [
      "5.635197E+14\n"
     ]
    }
   ],
   "source": [
    "# 0 Define a FreqRange object with desired wavelengths\n",
    "lda0 = 0.532\n",
    "freq0 = td.C_0 / lda0\n",
    "print(\"%E\" % freq0)"
   ]
  },
  {
   "cell_type": "code",
   "execution_count": 44,
   "id": "6273986e",
   "metadata": {},
   "outputs": [],
   "source": [
    "# 1 Computational Domain Size\n",
    "h = 0.230  # Height of cylinder\n",
    "spc = 8\n",
    "Lz = spc + h + h + spc\n",
    "\n",
    "Px = Py = P = 0.190 # periodicity\n",
    "sim_size = [Px, Py, Lz]"
   ]
  },
  {
   "cell_type": "code",
   "execution_count": 45,
   "id": "5fa39ffc",
   "metadata": {},
   "outputs": [],
   "source": [
    "# 2 Grid Resolution\n",
    "dl = P / 32\n",
    "horizontal_grid = td.UniformGrid(dl=dl)\n",
    "vertical_grid = td.AutoGrid(min_steps_per_wvl=32)\n",
    "grid_spec=td.GridSpec(\n",
    "    grid_x=horizontal_grid,\n",
    "    grid_y=horizontal_grid,\n",
    "    grid_z=vertical_grid,\n",
    ")"
   ]
  },
  {
   "cell_type": "code",
   "execution_count": 46,
   "id": "4abfa7bf",
   "metadata": {},
   "outputs": [],
   "source": [
    "sap = td.material_library['Sapphire']['Horiba']\n",
    "si = td.material_library['cSi']['Green2008']\n",
    "\n",
    "h = 0.230\n",
    "\n",
    "substrate = td.Structure(\n",
    "    geometry=td.Box(\n",
    "        center=(0,0,-Lz/2),\n",
    "        size=(td.inf,td.inf,2 * (spc+h))\n",
    "    ),\n",
    "    medium=sap,\n",
    "    name='substrate'\n",
    ")"
   ]
  },
  {
   "cell_type": "code",
   "execution_count": 47,
   "id": "05ed4fdb",
   "metadata": {},
   "outputs": [],
   "source": [
    "source = td.PlaneWave(\n",
    "    source_time=td.GaussianPulse(freq0=freq0, fwidth=20e12),\n",
    "    size=(td.inf, td.inf,0),\n",
    "    center=(0, 0, Lz/2 - spc + 0.5 * lda0),\n",
    "    direction=\"-\",\n",
    "    pol_angle=0\n",
    ")"
   ]
  },
  {
   "cell_type": "code",
   "execution_count": 48,
   "id": "a4282adb",
   "metadata": {},
   "outputs": [],
   "source": [
    "monitor = td.DiffractionMonitor(\n",
    "    center=(0, 0, -Lz/2 + spc - 0.5 * lda0),\n",
    "    size=(td.inf,td.inf,0),\n",
    "    freqs=[freq0],\n",
    "    name='diffraction_monitor',\n",
    "    normal_dir='-', # away from structure\n",
    ")"
   ]
  },
  {
   "cell_type": "code",
   "execution_count": 49,
   "id": "464dde22",
   "metadata": {},
   "outputs": [],
   "source": [
    "bc = td.BoundarySpec(\n",
    "    x=td.Boundary.periodic(), \n",
    "    y=td.Boundary.periodic(), \n",
    "    z=td.Boundary.pml()\n",
    ")"
   ]
  },
  {
   "cell_type": "code",
   "execution_count": 67,
   "id": "9e78caf7",
   "metadata": {},
   "outputs": [
    {
     "name": "stdout",
     "output_type": "stream",
     "text": [
      "[0.06 0.07 0.08 0.09 0.1  0.11 0.12 0.13 0.14]\n"
     ]
    }
   ],
   "source": [
    "D = np.arange(0.060, 0.140, 0.010)\n",
    "print(D)\n",
    "sims = {}\n",
    "run_time = 50\n",
    "\n",
    "def simulate(D):\n",
    "    for i, diameter in enumerate(D):\n",
    "        cylinder = td.Structure(\n",
    "            geometry=td.Cylinder(\n",
    "                center=[0, 0, h / 2], \n",
    "                radius=diameter/2, \n",
    "                length=h, \n",
    "            axis=2), \n",
    "            medium=si\n",
    "        )\n",
    "        \n",
    "        sim = td.Simulation(\n",
    "            size = sim_size,\n",
    "            grid_spec = grid_spec,\n",
    "            structures = [cylinder, substrate],\n",
    "            sources=[source],\n",
    "            monitors=[monitor],\n",
    "            run_time= run_time / freq0,\n",
    "            boundary_spec=bc\n",
    "        )\n",
    "\n",
    "        sims[f\"d{i}\"] = sim"
   ]
  },
  {
   "cell_type": "code",
   "execution_count": 68,
   "id": "3a26e3c9",
   "metadata": {},
   "outputs": [
    {
     "name": "stdout",
     "output_type": "stream",
     "text": [
      "dict_keys(['d0', 'd1', 'd2', 'd3', 'd4', 'd5', 'd6', 'd7', 'd8'])\n"
     ]
    }
   ],
   "source": [
    "simulate(D)\n",
    "print(sims.keys())"
   ]
  },
  {
   "cell_type": "code",
   "execution_count": null,
   "id": "fc7d146a",
   "metadata": {},
   "outputs": [],
   "source": []
  }
 ],
 "metadata": {
  "kernelspec": {
   "display_name": "ai",
   "language": "python",
   "name": "python3"
  },
  "language_info": {
   "codemirror_mode": {
    "name": "ipython",
    "version": 3
   },
   "file_extension": ".py",
   "mimetype": "text/x-python",
   "name": "python",
   "nbconvert_exporter": "python",
   "pygments_lexer": "ipython3",
   "version": "3.11.13"
  }
 },
 "nbformat": 4,
 "nbformat_minor": 5
}
